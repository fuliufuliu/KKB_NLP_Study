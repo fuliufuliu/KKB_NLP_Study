{
 "cells": [
  {
   "cell_type": "code",
   "source": [
    "## 使用 ResNet 来尝试训练解决 CIFAR10  的分类问题。"
   ],
   "metadata": {
    "collapsed": false,
    "pycharm": {
     "name": "#%% md \n"
    }
   },
   "execution_count": null,
   "outputs": []
  },
  {
   "cell_type": "code",
   "execution_count": 20,
   "metadata": {
    "collapsed": true,
    "pycharm": {
     "is_executing": false
    }
   },
   "outputs": [],
   "source": [
    "import torch\n",
    "from torch.utils.data import random_split\n",
    "import torchvision\n",
    "import torch.nn as nn\n",
    "import torch.optim as optim\n",
    "import numpy\n",
    "import numpy as np\n",
    "import torchvision.transforms as transforms\n",
    "import torch.nn.functional as F\n",
    "from PIL import Image"
   ]
  },
  {
   "cell_type": "code",
   "execution_count": 4,
   "outputs": [
    {
     "name": "stdout",
     "text": [
      "<class 'torchvision.datasets.cifar.CIFAR10'>\n",
      "50000\n"
     ],
     "output_type": "stream"
    }
   ],
   "source": [
    "# 数据处理\n",
    "\n",
    "transform_train = torchvision.transforms.Compose(\n",
    "    [\n",
    "        torchvision.transforms.RandomCrop(32, padding=2),\n",
    "        torchvision.transforms.RandomHorizontalFlip(),\n",
    "        torchvision.transforms.RandomGrayscale(),\n",
    "        torchvision.transforms.ToTensor(),\n",
    "        torchvision.transforms.Normalize([0.5, 0.5, 0.5], [0.25, 0.25, 0.25])\n",
    "    ]\n",
    ")\n",
    "\n",
    "transform_test = torchvision.transforms.Compose(\n",
    "    [\n",
    "        torchvision.transforms.ToTensor(),\n",
    "        torchvision.transforms.Normalize([0.5, 0.5, 0.5], [0.25, 0.25, 0.25])\n",
    "    ]\n",
    ")\n",
    "\n",
    "train_set = torchvision.datasets.CIFAR10(root='./data', train=True, transform=transform_train) #训练数据集\n",
    "print(type(train_set))\n",
    "print(len(train_set))\n",
    "test_set = torchvision.datasets.CIFAR10(root='./data', train=False, transform=transform_test)\n",
    "\n",
    "train_loader = torch.utils.data.DataLoader(train_set, batch_size=32, shuffle=True, num_workers=4)   #生成一个个batch进行批训练，组成batch的时候顺序打乱取\n",
    "test_loader = torch.utils.data.DataLoader(test_set, batch_size=32, shuffle=False, num_workers=4)"
   ],
   "metadata": {
    "collapsed": false,
    "pycharm": {
     "name": "#%%\n",
     "is_executing": false
    }
   }
  },
  {
   "cell_type": "markdown",
   "source": [
    "##### ResNet 实现\n",
    "参考：\n",
    "1. https://blog.csdn.net/winycg/article/details/86709991\n",
    "2. https://blog.csdn.net/sunqiande88/article/details/80100891"
   ],
   "metadata": {
    "collapsed": false,
    "pycharm": {
     "name": "#%% md\n"
    }
   }
  },
  {
   "cell_type": "code",
   "execution_count": 4,
   "outputs": [
    {
     "name": "stderr",
     "text": [
      "'[jupyter]' 不是内部或外部命令，也不是可运行的程序\n",
      "或批处理文件。\n"
     ],
     "output_type": "stream"
    }
   ],
   "source": [
    "![jupyter](./20180426215052446.png)"
   ],
   "metadata": {
    "collapsed": false,
    "pycharm": {
     "name": "#%% md \n",
     "is_executing": false
    }
   }
  },
  {
   "cell_type": "code",
   "execution_count": 5,
   "outputs": [],
   "source": [
    "# 用于ResNet18和34的残差块，用的是2个3x3的卷积\n",
    "class BasicBlock(nn.Module):\n",
    "    expansion = 1\n",
    "\n",
    "    def __init__(self, inChannelCount, outChannelCount, stride=1):\n",
    "        super(BasicBlock, self).__init__()\n",
    "        self.conv1 = nn.Conv2d(inChannelCount, outChannelCount, kernel_size=3,\n",
    "                               stride=stride, padding=1, bias=False)\n",
    "        self.bn1 = nn.BatchNorm2d(outChannelCount)\n",
    "        self.conv2 = nn.Conv2d(outChannelCount, outChannelCount, kernel_size=3,\n",
    "                               stride=1, padding=1, bias=False)\n",
    "        self.bn2 = nn.BatchNorm2d(outChannelCount)\n",
    "        self.shortcut = nn.Sequential()\n",
    "        # 经过处理后的x要与x的维度相同(尺寸和深度)\n",
    "        # 如果不相同，需要添加卷积+BN来变换为同一维度\n",
    "        if stride != 1 or inChannelCount != self.expansion*outChannelCount:\n",
    "            self.shortcut = nn.Sequential(\n",
    "                nn.Conv2d(inChannelCount, self.expansion*outChannelCount,\n",
    "                          kernel_size=1, stride=stride, bias=False),\n",
    "                nn.BatchNorm2d(self.expansion*outChannelCount)\n",
    "            )\n",
    "\n",
    "    def forward(self, x):\n",
    "        out = F.relu(self.bn1(self.conv1(x)))\n",
    "        out = self.bn2(self.conv2(out))\n",
    "        out += self.shortcut(x)\n",
    "        out = F.relu(out)\n",
    "        return out\n",
    "\n",
    "\n",
    "class ResNet(nn.Module):\n",
    "    def __init__(self, block, num_blocks, num_classes=10):\n",
    "        super(ResNet, self).__init__()\n",
    "        self.inChannelCount = 64\n",
    "\n",
    "        self.conv1 = nn.Conv2d(3, 64, kernel_size=3,\n",
    "                               stride=1, padding=1, bias=False)\n",
    "        self.bn1 = nn.BatchNorm2d(64)\n",
    "        \n",
    "        self.layer1 = self._sequential(block, 64, num_blocks[0], stride=1)\n",
    "        self.layer2 = self._sequential(block, 128, num_blocks[1], stride=2)\n",
    "        self.layer3 = self._sequential(block, 256, num_blocks[2], stride=2)\n",
    "        self.layer4 = self._sequential(block, 512, num_blocks[3], stride=2)\n",
    "        self.linear = nn.Linear(512*block.expansion, num_classes)\n",
    "\n",
    "    def _sequential(self, block, outChannelCount, num_blocks, stride):\n",
    "        strides = [stride] + [1]*(num_blocks-1)\n",
    "        layers = []\n",
    "        for stride in strides:\n",
    "            layers.append(block(self.inChannelCount, outChannelCount, stride))\n",
    "            self.inChannelCount = outChannelCount * block.expansion\n",
    "        return nn.Sequential(*layers)\n",
    "\n",
    "    def forward(self, x):\n",
    "        out = F.relu(self.bn1(self.conv1(x)))\n",
    "        out = self.layer1(out)\n",
    "        out = self.layer2(out)\n",
    "        out = self.layer3(out)\n",
    "        out = self.layer4(out)\n",
    "        out = F.avg_pool2d(out, 4)\n",
    "        out = out.view(out.size(0), -1)\n",
    "        out = self.linear(out)\n",
    "        return out\n",
    "\n",
    "\n",
    "def createResNet18():\n",
    "    return ResNet(BasicBlock, [2,2,2,2])"
   ],
   "metadata": {
    "collapsed": false,
    "pycharm": {
     "name": "#%%\n",
     "is_executing": false
    }
   }
  },
  {
   "cell_type": "code",
   "execution_count": 4,
   "outputs": [
    {
     "name": "stdout",
     "text": [
      "ResNet(\n",
      "  (conv1): Conv2d(3, 64, kernel_size=(3, 3), stride=(1, 1), padding=(1, 1), bias=False)\n",
      "  (bn1): BatchNorm2d(64, eps=1e-05, momentum=0.1, affine=True, track_running_stats=True)\n",
      "  (layer1): Sequential(\n",
      "    (0): BasicBlock(\n",
      "      (conv1): Conv2d(64, 64, kernel_size=(3, 3), stride=(1, 1), padding=(1, 1), bias=False)\n",
      "      (bn1): BatchNorm2d(64, eps=1e-05, momentum=0.1, affine=True, track_running_stats=True)\n",
      "      (conv2): Conv2d(64, 64, kernel_size=(3, 3), stride=(1, 1), padding=(1, 1), bias=False)\n",
      "      (bn2): BatchNorm2d(64, eps=1e-05, momentum=0.1, affine=True, track_running_stats=True)\n",
      "      (shortcut): Sequential()\n",
      "    )\n",
      "    (1): BasicBlock(\n",
      "      (conv1): Conv2d(64, 64, kernel_size=(3, 3), stride=(1, 1), padding=(1, 1), bias=False)\n",
      "      (bn1): BatchNorm2d(64, eps=1e-05, momentum=0.1, affine=True, track_running_stats=True)\n",
      "      (conv2): Conv2d(64, 64, kernel_size=(3, 3), stride=(1, 1), padding=(1, 1), bias=False)\n",
      "      (bn2): BatchNorm2d(64, eps=1e-05, momentum=0.1, affine=True, track_running_stats=True)\n",
      "      (shortcut): Sequential()\n",
      "    )\n",
      "  )\n",
      "  (layer2): Sequential(\n",
      "    (0): BasicBlock(\n",
      "      (conv1): Conv2d(64, 128, kernel_size=(3, 3), stride=(2, 2), padding=(1, 1), bias=False)\n",
      "      (bn1): BatchNorm2d(128, eps=1e-05, momentum=0.1, affine=True, track_running_stats=True)\n",
      "      (conv2): Conv2d(128, 128, kernel_size=(3, 3), stride=(1, 1), padding=(1, 1), bias=False)\n",
      "      (bn2): BatchNorm2d(128, eps=1e-05, momentum=0.1, affine=True, track_running_stats=True)\n",
      "      (shortcut): Sequential(\n",
      "        (0): Conv2d(64, 128, kernel_size=(1, 1), stride=(2, 2), bias=False)\n",
      "        (1): BatchNorm2d(128, eps=1e-05, momentum=0.1, affine=True, track_running_stats=True)\n",
      "      )\n",
      "    )\n",
      "    (1): BasicBlock(\n",
      "      (conv1): Conv2d(128, 128, kernel_size=(3, 3), stride=(1, 1), padding=(1, 1), bias=False)\n",
      "      (bn1): BatchNorm2d(128, eps=1e-05, momentum=0.1, affine=True, track_running_stats=True)\n",
      "      (conv2): Conv2d(128, 128, kernel_size=(3, 3), stride=(1, 1), padding=(1, 1), bias=False)\n",
      "      (bn2): BatchNorm2d(128, eps=1e-05, momentum=0.1, affine=True, track_running_stats=True)\n",
      "      (shortcut): Sequential()\n",
      "    )\n",
      "  )\n",
      "  (layer3): Sequential(\n",
      "    (0): BasicBlock(\n",
      "      (conv1): Conv2d(128, 256, kernel_size=(3, 3), stride=(2, 2), padding=(1, 1), bias=False)\n",
      "      (bn1): BatchNorm2d(256, eps=1e-05, momentum=0.1, affine=True, track_running_stats=True)\n",
      "      (conv2): Conv2d(256, 256, kernel_size=(3, 3), stride=(1, 1), padding=(1, 1), bias=False)\n",
      "      (bn2): BatchNorm2d(256, eps=1e-05, momentum=0.1, affine=True, track_running_stats=True)\n",
      "      (shortcut): Sequential(\n",
      "        (0): Conv2d(128, 256, kernel_size=(1, 1), stride=(2, 2), bias=False)\n",
      "        (1): BatchNorm2d(256, eps=1e-05, momentum=0.1, affine=True, track_running_stats=True)\n",
      "      )\n",
      "    )\n",
      "    (1): BasicBlock(\n",
      "      (conv1): Conv2d(256, 256, kernel_size=(3, 3), stride=(1, 1), padding=(1, 1), bias=False)\n",
      "      (bn1): BatchNorm2d(256, eps=1e-05, momentum=0.1, affine=True, track_running_stats=True)\n",
      "      (conv2): Conv2d(256, 256, kernel_size=(3, 3), stride=(1, 1), padding=(1, 1), bias=False)\n",
      "      (bn2): BatchNorm2d(256, eps=1e-05, momentum=0.1, affine=True, track_running_stats=True)\n",
      "      (shortcut): Sequential()\n",
      "    )\n",
      "  )\n",
      "  (layer4): Sequential(\n",
      "    (0): BasicBlock(\n",
      "      (conv1): Conv2d(256, 512, kernel_size=(3, 3), stride=(2, 2), padding=(1, 1), bias=False)\n",
      "      (bn1): BatchNorm2d(512, eps=1e-05, momentum=0.1, affine=True, track_running_stats=True)\n",
      "      (conv2): Conv2d(512, 512, kernel_size=(3, 3), stride=(1, 1), padding=(1, 1), bias=False)\n",
      "      (bn2): BatchNorm2d(512, eps=1e-05, momentum=0.1, affine=True, track_running_stats=True)\n",
      "      (shortcut): Sequential(\n",
      "        (0): Conv2d(256, 512, kernel_size=(1, 1), stride=(2, 2), bias=False)\n",
      "        (1): BatchNorm2d(512, eps=1e-05, momentum=0.1, affine=True, track_running_stats=True)\n",
      "      )\n",
      "    )\n",
      "    (1): BasicBlock(\n",
      "      (conv1): Conv2d(512, 512, kernel_size=(3, 3), stride=(1, 1), padding=(1, 1), bias=False)\n",
      "      (bn1): BatchNorm2d(512, eps=1e-05, momentum=0.1, affine=True, track_running_stats=True)\n",
      "      (conv2): Conv2d(512, 512, kernel_size=(3, 3), stride=(1, 1), padding=(1, 1), bias=False)\n",
      "      (bn2): BatchNorm2d(512, eps=1e-05, momentum=0.1, affine=True, track_running_stats=True)\n",
      "      (shortcut): Sequential()\n",
      "    )\n",
      "  )\n",
      "  (linear): Linear(in_features=512, out_features=10, bias=True)\n",
      ")\n"
     ],
     "output_type": "stream"
    }
   ],
   "source": [
    "net = createResNet18()\n",
    "print(net)"
   ],
   "metadata": {
    "collapsed": false,
    "pycharm": {
     "name": "#%%\n",
     "is_executing": false
    }
   }
  },
  {
   "cell_type": "code",
   "execution_count": 7,
   "outputs": [
    {
     "name": "stdout",
     "text": [
      "0 0 ----loss 1.4291242\n",
      "----val loss 1.4997045\n",
      "0 10 ----loss 1.3706359\n",
      "----val loss 1.369659\n",
      "0 20 ----loss 1.4619173\n",
      "----val loss 1.3378009\n",
      "0 30 ----loss 1.3787068\n",
      "----val loss 1.3228652\n",
      "0 40 ----loss 1.2302798\n",
      "----val loss 1.3309627\n",
      "0 50 ----loss 1.2665075\n",
      "----val loss 1.3160684\n",
      "0 60 ----loss 1.2292455\n",
      "----val loss 1.3547552\n",
      "0 70 ----loss 1.3158573\n",
      "----val loss 1.2963223\n",
      "0 80 ----loss 1.3623327\n",
      "----val loss 1.2849746\n",
      "0 90 ----loss 1.266409\n",
      "----val loss 1.2763331\n",
      "0 100 ----loss 1.3504081\n",
      "----val loss 1.2935337\n",
      "0 110 ----loss 1.5139548\n",
      "----val loss 1.2861918\n",
      "0 120 ----loss 1.2713747\n",
      "----val loss 1.2604018\n",
      "0 130 ----loss 1.2545682\n",
      "----val loss 1.2443454\n",
      "0 140 ----loss 1.2344018\n",
      "----val loss 1.214889\n",
      "0 150 ----loss 1.3083956\n",
      "----val loss 1.2475243\n",
      "0 160 ----loss 1.4304171\n",
      "----val loss 1.2704363\n",
      "0 170 ----loss 1.3596852\n",
      "----val loss 1.1601884\n",
      "0 180 ----loss 1.1267571\n",
      "----val loss 1.2447544\n",
      "0 190 ----loss 1.3172306\n",
      "----val loss 1.176367\n",
      "0 200 ----loss 1.3930887\n",
      "----val loss 1.1591133\n",
      "0 210 ----loss 1.2326874\n",
      "----val loss 1.2052923\n",
      "0 220 ----loss 1.0187069\n",
      "----val loss 1.1546957\n",
      "0 230 ----loss 1.3078173\n",
      "----val loss 1.1669225\n",
      "0 240 ----loss 1.2381138\n",
      "----val loss 1.1348338\n",
      "0 250 ----loss 1.1214054\n",
      "----val loss 1.131537\n",
      "0 260 ----loss 1.0822382\n",
      "----val loss 1.1211028\n",
      "0 270 ----loss 1.3739262\n",
      "----val loss 1.1511728\n",
      "0 280 ----loss 1.2406034\n",
      "----val loss 1.0951465\n",
      "0 290 ----loss 1.2161798\n",
      "----val loss 1.0901891\n",
      "0 300 ----loss 1.1285995\n",
      "----val loss 1.1115608\n",
      "0 310 ----loss 1.2134411\n",
      "----val loss 1.0778993\n",
      "0 320 ----loss 1.4085177\n",
      "----val loss 1.0541439\n",
      "0 330 ----loss 1.200271\n",
      "----val loss 1.0591516\n",
      "0 340 ----loss 1.1791481\n",
      "----val loss 1.0574745\n",
      "0 350 ----loss 1.0906992\n",
      "----val loss 1.0583453\n",
      "0 360 ----loss 1.1722738\n",
      "----val loss 1.0237331\n",
      "0 370 ----loss 1.1520582\n",
      "----val loss 1.0496469\n",
      "0 380 ----loss 1.2144253\n",
      "----val loss 1.1144828\n",
      "0 390 ----loss 1.1172136\n",
      "----val loss 1.0608126\n"
     ],
     "output_type": "stream"
    }
   ],
   "source": [
    "# 从学习率 = 0.01开始训练1个epoch， loss： 1.402，val_loss: 1.499\n",
    "optimizer = torch.optim.Adam(net.parameters(), lr=0.001) \n",
    "\n",
    "lossFunc = torch.nn.CrossEntropyLoss()\n",
    "\n",
    "net.train()\n",
    "\n",
    "losses = []\n",
    "losses_val = []\n",
    "for epoch in range(1):\n",
    "    for i, data in enumerate(train_loader, 0):\n",
    "        x_batch, y_batch = data\n",
    "        predictData = net(x_batch)\n",
    "            \n",
    "        loss = lossFunc(predictData, y_batch)\n",
    "        losses.append(loss.data.numpy())\n",
    "        \n",
    "        if i % 10 == 0:\n",
    "            print(epoch, i, \"----loss\", loss.data.numpy())\n",
    "            val_data = [data for i, data in enumerate(test_loader, 0) if i == 0][0]\n",
    "            y_val = net(val_data[0])\n",
    "            loss_val = lossFunc(y_val, val_data[1])\n",
    "            print(\"----val loss\", loss_val.data.numpy())\n",
    "            losses_val.append(loss_val.data.numpy())\n",
    "        \n",
    "        optimizer.zero_grad()\n",
    "        loss.backward()\n",
    "        optimizer.step()"
   ],
   "metadata": {
    "collapsed": false,
    "pycharm": {
     "name": "#%%\n",
     "is_executing": false
    }
   }
  },
  {
   "cell_type": "code",
   "execution_count": 14,
   "outputs": [
    {
     "name": "stderr",
     "text": [
      "d:\\ProgramData\\Anaconda3\\envs\\Pytorch-gpu\\lib\\site-packages\\torch\\serialization.py:360: UserWarning: Couldn't retrieve source code for container of type ResNet. It won't be checked for correctness upon loading.\n",
      "  \"type \" + obj.__name__ + \". It won't be checked \"\n",
      "d:\\ProgramData\\Anaconda3\\envs\\Pytorch-gpu\\lib\\site-packages\\torch\\serialization.py:360: UserWarning: Couldn't retrieve source code for container of type BasicBlock. It won't be checked for correctness upon loading.\n",
      "  \"type \" + obj.__name__ + \". It won't be checked \"\n"
     ],
     "output_type": "stream"
    }
   ],
   "source": [
    "torch.save(net, \"Touch_ResNot_Model\")"
   ],
   "metadata": {
    "collapsed": false,
    "pycharm": {
     "name": "#%%\n",
     "is_executing": false
    }
   }
  },
  {
   "cell_type": "code",
   "execution_count": 6,
   "outputs": [
    {
     "data": {
      "text/plain": "ResNet(\n  (conv1): Conv2d(3, 64, kernel_size=(3, 3), stride=(1, 1), padding=(1, 1), bias=False)\n  (bn1): BatchNorm2d(64, eps=1e-05, momentum=0.1, affine=True, track_running_stats=True)\n  (layer1): Sequential(\n    (0): BasicBlock(\n      (conv1): Conv2d(64, 64, kernel_size=(3, 3), stride=(1, 1), padding=(1, 1), bias=False)\n      (bn1): BatchNorm2d(64, eps=1e-05, momentum=0.1, affine=True, track_running_stats=True)\n      (conv2): Conv2d(64, 64, kernel_size=(3, 3), stride=(1, 1), padding=(1, 1), bias=False)\n      (bn2): BatchNorm2d(64, eps=1e-05, momentum=0.1, affine=True, track_running_stats=True)\n      (shortcut): Sequential()\n    )\n    (1): BasicBlock(\n      (conv1): Conv2d(64, 64, kernel_size=(3, 3), stride=(1, 1), padding=(1, 1), bias=False)\n      (bn1): BatchNorm2d(64, eps=1e-05, momentum=0.1, affine=True, track_running_stats=True)\n      (conv2): Conv2d(64, 64, kernel_size=(3, 3), stride=(1, 1), padding=(1, 1), bias=False)\n      (bn2): BatchNorm2d(64, eps=1e-05, momentum=0.1, affine=True, track_running_stats=True)\n      (shortcut): Sequential()\n    )\n  )\n  (layer2): Sequential(\n    (0): BasicBlock(\n      (conv1): Conv2d(64, 128, kernel_size=(3, 3), stride=(2, 2), padding=(1, 1), bias=False)\n      (bn1): BatchNorm2d(128, eps=1e-05, momentum=0.1, affine=True, track_running_stats=True)\n      (conv2): Conv2d(128, 128, kernel_size=(3, 3), stride=(1, 1), padding=(1, 1), bias=False)\n      (bn2): BatchNorm2d(128, eps=1e-05, momentum=0.1, affine=True, track_running_stats=True)\n      (shortcut): Sequential(\n        (0): Conv2d(64, 128, kernel_size=(1, 1), stride=(2, 2), bias=False)\n        (1): BatchNorm2d(128, eps=1e-05, momentum=0.1, affine=True, track_running_stats=True)\n      )\n    )\n    (1): BasicBlock(\n      (conv1): Conv2d(128, 128, kernel_size=(3, 3), stride=(1, 1), padding=(1, 1), bias=False)\n      (bn1): BatchNorm2d(128, eps=1e-05, momentum=0.1, affine=True, track_running_stats=True)\n      (conv2): Conv2d(128, 128, kernel_size=(3, 3), stride=(1, 1), padding=(1, 1), bias=False)\n      (bn2): BatchNorm2d(128, eps=1e-05, momentum=0.1, affine=True, track_running_stats=True)\n      (shortcut): Sequential()\n    )\n  )\n  (layer3): Sequential(\n    (0): BasicBlock(\n      (conv1): Conv2d(128, 256, kernel_size=(3, 3), stride=(2, 2), padding=(1, 1), bias=False)\n      (bn1): BatchNorm2d(256, eps=1e-05, momentum=0.1, affine=True, track_running_stats=True)\n      (conv2): Conv2d(256, 256, kernel_size=(3, 3), stride=(1, 1), padding=(1, 1), bias=False)\n      (bn2): BatchNorm2d(256, eps=1e-05, momentum=0.1, affine=True, track_running_stats=True)\n      (shortcut): Sequential(\n        (0): Conv2d(128, 256, kernel_size=(1, 1), stride=(2, 2), bias=False)\n        (1): BatchNorm2d(256, eps=1e-05, momentum=0.1, affine=True, track_running_stats=True)\n      )\n    )\n    (1): BasicBlock(\n      (conv1): Conv2d(256, 256, kernel_size=(3, 3), stride=(1, 1), padding=(1, 1), bias=False)\n      (bn1): BatchNorm2d(256, eps=1e-05, momentum=0.1, affine=True, track_running_stats=True)\n      (conv2): Conv2d(256, 256, kernel_size=(3, 3), stride=(1, 1), padding=(1, 1), bias=False)\n      (bn2): BatchNorm2d(256, eps=1e-05, momentum=0.1, affine=True, track_running_stats=True)\n      (shortcut): Sequential()\n    )\n  )\n  (layer4): Sequential(\n    (0): BasicBlock(\n      (conv1): Conv2d(256, 512, kernel_size=(3, 3), stride=(2, 2), padding=(1, 1), bias=False)\n      (bn1): BatchNorm2d(512, eps=1e-05, momentum=0.1, affine=True, track_running_stats=True)\n      (conv2): Conv2d(512, 512, kernel_size=(3, 3), stride=(1, 1), padding=(1, 1), bias=False)\n      (bn2): BatchNorm2d(512, eps=1e-05, momentum=0.1, affine=True, track_running_stats=True)\n      (shortcut): Sequential(\n        (0): Conv2d(256, 512, kernel_size=(1, 1), stride=(2, 2), bias=False)\n        (1): BatchNorm2d(512, eps=1e-05, momentum=0.1, affine=True, track_running_stats=True)\n      )\n    )\n    (1): BasicBlock(\n      (conv1): Conv2d(512, 512, kernel_size=(3, 3), stride=(1, 1), padding=(1, 1), bias=False)\n      (bn1): BatchNorm2d(512, eps=1e-05, momentum=0.1, affine=True, track_running_stats=True)\n      (conv2): Conv2d(512, 512, kernel_size=(3, 3), stride=(1, 1), padding=(1, 1), bias=False)\n      (bn2): BatchNorm2d(512, eps=1e-05, momentum=0.1, affine=True, track_running_stats=True)\n      (shortcut): Sequential()\n    )\n  )\n  (linear): Linear(in_features=512, out_features=10, bias=True)\n)"
     },
     "metadata": {},
     "output_type": "execute_result",
     "execution_count": 6
    }
   ],
   "source": [
    "net = torch.load(\"Touch_ResNot_Model\")\n",
    "net.eval()"
   ],
   "metadata": {
    "collapsed": false,
    "pycharm": {
     "name": "#%%\n",
     "is_executing": false
    }
   }
  },
  {
   "cell_type": "markdown",
   "source": [
    "CPU 训练太慢！尝试用GPU训练\n",
    "参考： https://blog.csdn.net/sunqiande88/article/details/80100891"
   ],
   "metadata": {
    "collapsed": false,
    "pycharm": {
     "name": "#%% md\n"
    }
   }
  },
  {
   "cell_type": "code",
   "execution_count": 7,
   "outputs": [
    {
     "name": "stdout",
     "text": [
      "True\n",
      "isGPU: cuda\n"
     ],
     "output_type": "stream"
    }
   ],
   "source": [
    "print(torch.cuda.is_available())\n",
    "isGPU = \"cuda\" if torch.cuda.is_available() else \"cpu\"\n",
    "print(\"isGPU:\",isGPU)\n",
    "device = torch.device(isGPU)"
   ],
   "metadata": {
    "collapsed": false,
    "pycharm": {
     "name": "#%%\n",
     "is_executing": false
    }
   }
  },
  {
   "cell_type": "code",
   "execution_count": 62,
   "outputs": [
    {
     "name": "stdout",
     "text": [
      "0 0 ----loss 0.013466835\n",
      "----val loss 0.09394743\n",
      "0 100 ----loss 0.018141162\n",
      "----val loss 0.09010394\n",
      "0 200 ----loss 0.029390499\n",
      "----val loss 0.08786837\n",
      "0 300 ----loss 0.026858374\n",
      "----val loss 0.08720815\n",
      "0 400 ----loss 0.0019487292\n",
      "----val loss 0.08673365\n",
      "0 500 ----loss 0.01373975\n",
      "----val loss 0.08656998\n",
      "0 600 ----loss 0.0016061366\n",
      "----val loss 0.087283626\n",
      "0 700 ----loss 0.16323161\n",
      "----val loss 0.08598429\n",
      "0 800 ----loss 0.022502668\n",
      "----val loss 0.08340755\n",
      "0 900 ----loss 0.017051801\n",
      "----val loss 0.08185616\n",
      "0 1000 ----loss 0.04474077\n",
      "----val loss 0.08048892\n",
      "0 1100 ----loss 0.03222434\n",
      "----val loss 0.07883976\n",
      "0 1200 ----loss 0.005310029\n",
      "----val loss 0.07920504\n",
      "0 1300 ----loss 0.022887707\n",
      "----val loss 0.07922832\n",
      "0 1400 ----loss 0.004542604\n",
      "----val loss 0.07796458\n",
      "0 1500 ----loss 0.007854499\n",
      "----val loss 0.077598765\n",
      "1 0 ----loss 0.0025566816\n",
      "----val loss 0.07922113\n",
      "1 100 ----loss 0.08459351\n",
      "----val loss 0.07668294\n",
      "1 200 ----loss 0.010074815\n",
      "----val loss 0.07434646\n",
      "1 300 ----loss 0.02917073\n",
      "----val loss 0.07150187\n",
      "1 400 ----loss 0.05107303\n",
      "----val loss 0.06765087\n",
      "1 500 ----loss 0.08726634\n",
      "----val loss 0.06803457\n",
      "1 600 ----loss 0.051671725\n",
      "----val loss 0.06627101\n",
      "1 700 ----loss 0.005704537\n",
      "----val loss 0.06599702\n",
      "1 800 ----loss 0.021079633\n",
      "----val loss 0.064639494\n",
      "1 900 ----loss 0.0066021904\n",
      "----val loss 0.06749397\n",
      "1 1000 ----loss 0.09603918\n",
      "----val loss 0.068516046\n",
      "1 1100 ----loss 0.00032559037\n",
      "----val loss 0.0674236\n",
      "1 1200 ----loss 0.03658809\n",
      "----val loss 0.06577361\n",
      "1 1300 ----loss 0.11337149\n",
      "----val loss 0.068136044\n",
      "1 1400 ----loss 0.18376157\n",
      "----val loss 0.06705599\n",
      "1 1500 ----loss 0.06403704\n",
      "----val loss 0.06897386\n",
      "2 0 ----loss 0.053036086\n",
      "----val loss 0.06940885\n",
      "2 100 ----loss 0.0030770898\n",
      "----val loss 0.06811009\n",
      "2 200 ----loss 0.003304556\n",
      "----val loss 0.06927542\n",
      "2 300 ----loss 0.019458704\n",
      "----val loss 0.07021638\n",
      "2 400 ----loss 0.011101477\n",
      "----val loss 0.06681679\n",
      "2 500 ----loss 0.085514456\n",
      "----val loss 0.06839774\n",
      "2 600 ----loss 0.025566742\n",
      "----val loss 0.070316896\n",
      "2 700 ----loss 0.0036723763\n",
      "----val loss 0.06903194\n",
      "2 800 ----loss 0.015764885\n",
      "----val loss 0.06711297\n",
      "2 900 ----loss 0.0033514649\n",
      "----val loss 0.06554475\n",
      "2 1000 ----loss 0.003803715\n",
      "----val loss 0.06638187\n",
      "2 1100 ----loss 0.0014901012\n",
      "----val loss 0.06624733\n",
      "2 1200 ----loss 0.012218133\n",
      "----val loss 0.06512193\n",
      "2 1300 ----loss 0.000612244\n",
      "----val loss 0.06883359\n",
      "2 1400 ----loss 0.010423288\n",
      "----val loss 0.06925451\n",
      "2 1500 ----loss 0.014030922\n",
      "----val loss 0.06807195\n",
      "3 0 ----loss 0.0034370273\n",
      "----val loss 0.06832404\n",
      "3 100 ----loss 0.006501615\n",
      "----val loss 0.068873495\n",
      "3 200 ----loss 0.015245959\n",
      "----val loss 0.06737358\n",
      "3 300 ----loss 0.022428667\n",
      "----val loss 0.0676579\n",
      "3 400 ----loss 0.040234767\n",
      "----val loss 0.07068506\n",
      "3 500 ----loss 0.011202455\n",
      "----val loss 0.07189153\n",
      "3 600 ----loss 0.022825267\n",
      "----val loss 0.069011286\n",
      "3 700 ----loss 0.009788826\n",
      "----val loss 0.06489302\n",
      "3 800 ----loss 0.0018322766\n",
      "----val loss 0.06535548\n",
      "3 900 ----loss 0.0149078965\n",
      "----val loss 0.06326261\n",
      "3 1000 ----loss 0.015515335\n",
      "----val loss 0.06414491\n",
      "3 1100 ----loss 0.00035482645\n",
      "----val loss 0.06485268\n",
      "3 1200 ----loss 0.026705349\n",
      "----val loss 0.06512582\n",
      "3 1300 ----loss 0.009487025\n",
      "----val loss 0.066521525\n",
      "3 1400 ----loss 0.07893275\n",
      "----val loss 0.06861669\n",
      "3 1500 ----loss 0.03259226\n",
      "----val loss 0.06903055\n",
      "4 0 ----loss 0.040246733\n",
      "----val loss 0.06922718\n",
      "4 100 ----loss 0.030867636\n",
      "----val loss 0.070362866\n",
      "4 200 ----loss 0.004590437\n",
      "----val loss 0.070933595\n",
      "4 300 ----loss 0.06291249\n",
      "----val loss 0.06961299\n",
      "4 400 ----loss 0.008634031\n",
      "----val loss 0.06839691\n",
      "4 500 ----loss 0.044881478\n",
      "----val loss 0.0671976\n",
      "4 600 ----loss 0.0012145638\n",
      "----val loss 0.066437215\n",
      "4 700 ----loss 0.008924723\n",
      "----val loss 0.06881713\n",
      "4 800 ----loss 0.013282597\n",
      "----val loss 0.06713984\n",
      "4 900 ----loss 0.049463883\n",
      "----val loss 0.06676689\n",
      "4 1000 ----loss 0.039155755\n",
      "----val loss 0.06356977\n",
      "4 1100 ----loss 0.0045293346\n",
      "----val loss 0.06357716\n",
      "4 1200 ----loss 0.09284258\n",
      "----val loss 0.0625979\n",
      "4 1300 ----loss 0.016491666\n",
      "----val loss 0.06198685\n",
      "4 1400 ----loss 0.030674987\n",
      "----val loss 0.06333345\n",
      "4 1500 ----loss 0.024521068\n",
      "----val loss 0.061020333\n"
     ],
     "output_type": "stream"
    }
   ],
   "source": [
    "net = net.to(device)\n",
    "# 训练过程\n",
    "# lr = 0.001 训练多次后准确率达到 88.7%\n",
    "# lr = 0.0002 训练3 epoch 后准确率达到 90.7%\n",
    "# lr = 0.0001 训练3 epoch 后准确率达到 91.17%\n",
    "# lr = 0.0001 训练3 epoch 后准确率达到 91.23%\n",
    "# lr = 0.0001 训练10 epoch 后准确率达到 91.16% 经过这10 epoch 并没有让模型提升，反而下降了。重新读取之前的文档重新训练\n",
    "# lr = 0.00001 训练5 epoch 后准确率达到 91.22%\n",
    "optimizer = torch.optim.Adam(net.parameters(), lr=0.00001) \n",
    "\n",
    "lossFunc = torch.nn.CrossEntropyLoss()\n",
    "                                                                           \n",
    "net.train()\n",
    "\n",
    "losses = []\n",
    "losses_val = []\n",
    "for epoch in range(5):\n",
    "    val_data = [data for i, data in enumerate(test_loader, 0) if i == 0][0]\n",
    "    for i, data in enumerate(train_loader, 0):\n",
    "        x_batch, y_batch = data\n",
    "        x_batch, y_batch = x_batch.to(device), y_batch.to(device)\n",
    "        predictData = net(x_batch)\n",
    "            \n",
    "        loss = lossFunc(predictData, y_batch)\n",
    "        losses.append(loss.data.cpu().numpy())\n",
    "        \n",
    "        if i % 100 == 0:\n",
    "            print(epoch, i, \"----loss\", loss.data.cpu().numpy())\n",
    "            y_val = net(val_data[0].to(device))\n",
    "            loss_val = lossFunc(y_val.to(device), val_data[1].to(device))\n",
    "            print(\"----val loss\", loss_val.data.cpu().numpy())\n",
    "            losses_val.append(loss_val.data.cpu().numpy())\n",
    "        \n",
    "        optimizer.zero_grad()\n",
    "        loss.backward()\n",
    "        optimizer.step()"
   ],
   "metadata": {
    "collapsed": false,
    "pycharm": {
     "name": "#%%\n",
     "is_executing": false
    }
   }
  },
  {
   "cell_type": "code",
   "execution_count": 65,
   "outputs": [],
   "source": [
    "torch.save(net, \"Touch_ResNot_Model2\")"
   ],
   "metadata": {
    "collapsed": false,
    "pycharm": {
     "name": "#%%\n",
     "is_executing": false
    }
   }
  },
  {
   "cell_type": "code",
   "execution_count": 61,
   "outputs": [
    {
     "data": {
      "text/plain": "ResNet(\n  (conv1): Conv2d(3, 64, kernel_size=(3, 3), stride=(1, 1), padding=(1, 1), bias=False)\n  (bn1): BatchNorm2d(64, eps=1e-05, momentum=0.1, affine=True, track_running_stats=True)\n  (layer1): Sequential(\n    (0): BasicBlock(\n      (conv1): Conv2d(64, 64, kernel_size=(3, 3), stride=(1, 1), padding=(1, 1), bias=False)\n      (bn1): BatchNorm2d(64, eps=1e-05, momentum=0.1, affine=True, track_running_stats=True)\n      (conv2): Conv2d(64, 64, kernel_size=(3, 3), stride=(1, 1), padding=(1, 1), bias=False)\n      (bn2): BatchNorm2d(64, eps=1e-05, momentum=0.1, affine=True, track_running_stats=True)\n      (shortcut): Sequential()\n    )\n    (1): BasicBlock(\n      (conv1): Conv2d(64, 64, kernel_size=(3, 3), stride=(1, 1), padding=(1, 1), bias=False)\n      (bn1): BatchNorm2d(64, eps=1e-05, momentum=0.1, affine=True, track_running_stats=True)\n      (conv2): Conv2d(64, 64, kernel_size=(3, 3), stride=(1, 1), padding=(1, 1), bias=False)\n      (bn2): BatchNorm2d(64, eps=1e-05, momentum=0.1, affine=True, track_running_stats=True)\n      (shortcut): Sequential()\n    )\n  )\n  (layer2): Sequential(\n    (0): BasicBlock(\n      (conv1): Conv2d(64, 128, kernel_size=(3, 3), stride=(2, 2), padding=(1, 1), bias=False)\n      (bn1): BatchNorm2d(128, eps=1e-05, momentum=0.1, affine=True, track_running_stats=True)\n      (conv2): Conv2d(128, 128, kernel_size=(3, 3), stride=(1, 1), padding=(1, 1), bias=False)\n      (bn2): BatchNorm2d(128, eps=1e-05, momentum=0.1, affine=True, track_running_stats=True)\n      (shortcut): Sequential(\n        (0): Conv2d(64, 128, kernel_size=(1, 1), stride=(2, 2), bias=False)\n        (1): BatchNorm2d(128, eps=1e-05, momentum=0.1, affine=True, track_running_stats=True)\n      )\n    )\n    (1): BasicBlock(\n      (conv1): Conv2d(128, 128, kernel_size=(3, 3), stride=(1, 1), padding=(1, 1), bias=False)\n      (bn1): BatchNorm2d(128, eps=1e-05, momentum=0.1, affine=True, track_running_stats=True)\n      (conv2): Conv2d(128, 128, kernel_size=(3, 3), stride=(1, 1), padding=(1, 1), bias=False)\n      (bn2): BatchNorm2d(128, eps=1e-05, momentum=0.1, affine=True, track_running_stats=True)\n      (shortcut): Sequential()\n    )\n  )\n  (layer3): Sequential(\n    (0): BasicBlock(\n      (conv1): Conv2d(128, 256, kernel_size=(3, 3), stride=(2, 2), padding=(1, 1), bias=False)\n      (bn1): BatchNorm2d(256, eps=1e-05, momentum=0.1, affine=True, track_running_stats=True)\n      (conv2): Conv2d(256, 256, kernel_size=(3, 3), stride=(1, 1), padding=(1, 1), bias=False)\n      (bn2): BatchNorm2d(256, eps=1e-05, momentum=0.1, affine=True, track_running_stats=True)\n      (shortcut): Sequential(\n        (0): Conv2d(128, 256, kernel_size=(1, 1), stride=(2, 2), bias=False)\n        (1): BatchNorm2d(256, eps=1e-05, momentum=0.1, affine=True, track_running_stats=True)\n      )\n    )\n    (1): BasicBlock(\n      (conv1): Conv2d(256, 256, kernel_size=(3, 3), stride=(1, 1), padding=(1, 1), bias=False)\n      (bn1): BatchNorm2d(256, eps=1e-05, momentum=0.1, affine=True, track_running_stats=True)\n      (conv2): Conv2d(256, 256, kernel_size=(3, 3), stride=(1, 1), padding=(1, 1), bias=False)\n      (bn2): BatchNorm2d(256, eps=1e-05, momentum=0.1, affine=True, track_running_stats=True)\n      (shortcut): Sequential()\n    )\n  )\n  (layer4): Sequential(\n    (0): BasicBlock(\n      (conv1): Conv2d(256, 512, kernel_size=(3, 3), stride=(2, 2), padding=(1, 1), bias=False)\n      (bn1): BatchNorm2d(512, eps=1e-05, momentum=0.1, affine=True, track_running_stats=True)\n      (conv2): Conv2d(512, 512, kernel_size=(3, 3), stride=(1, 1), padding=(1, 1), bias=False)\n      (bn2): BatchNorm2d(512, eps=1e-05, momentum=0.1, affine=True, track_running_stats=True)\n      (shortcut): Sequential(\n        (0): Conv2d(256, 512, kernel_size=(1, 1), stride=(2, 2), bias=False)\n        (1): BatchNorm2d(512, eps=1e-05, momentum=0.1, affine=True, track_running_stats=True)\n      )\n    )\n    (1): BasicBlock(\n      (conv1): Conv2d(512, 512, kernel_size=(3, 3), stride=(1, 1), padding=(1, 1), bias=False)\n      (bn1): BatchNorm2d(512, eps=1e-05, momentum=0.1, affine=True, track_running_stats=True)\n      (conv2): Conv2d(512, 512, kernel_size=(3, 3), stride=(1, 1), padding=(1, 1), bias=False)\n      (bn2): BatchNorm2d(512, eps=1e-05, momentum=0.1, affine=True, track_running_stats=True)\n      (shortcut): Sequential()\n    )\n  )\n  (linear): Linear(in_features=512, out_features=10, bias=True)\n)"
     },
     "metadata": {},
     "output_type": "execute_result",
     "execution_count": 61
    }
   ],
   "source": [
    "net = torch.load(\"Touch_ResNot_Model2\")\n",
    "net.eval()"
   ],
   "metadata": {
    "collapsed": false,
    "pycharm": {
     "name": "#%%\n",
     "is_executing": false
    }
   }
  },
  {
   "cell_type": "markdown",
   "source": [
    "## 下面测试模型准确率"
   ],
   "metadata": {
    "collapsed": false
   }
  },
  {
   "cell_type": "code",
   "execution_count": 30,
   "outputs": [],
   "source": [
    "from collections import Counter\n",
    "import numpy"
   ],
   "metadata": {
    "collapsed": false,
    "pycharm": {
     "name": "#%%\n",
     "is_executing": false
    }
   }
  },
  {
   "cell_type": "code",
   "execution_count": 31,
   "outputs": [],
   "source": [
    "cpu_device = torch.device('cpu')\n",
    "device = torch.device('cuda')\n",
    "net = net.to(cpu_device)"
   ],
   "metadata": {
    "collapsed": false,
    "pycharm": {
     "name": "#%% \n",
     "is_executing": false
    }
   }
  },
  {
   "cell_type": "code",
   "execution_count": 66,
   "outputs": [
    {
     "name": "stdout",
     "text": [
      "完成！\n"
     ],
     "output_type": "stream"
    }
   ],
   "source": [
    "net = net.to(device)\n",
    "test_loader2 = torch.utils.data.DataLoader(test_set, batch_size=32, shuffle=False, num_workers=4)\n",
    "# 取一次数据\n",
    "test_datas = [data for i, data in enumerate(test_loader2, 0)]\n",
    "x_test = []\n",
    "y_test = []\n",
    "y_predict = []\n",
    "for test_data in test_datas:\n",
    "    x_test_temp = test_data[0].to(device)\n",
    "    y_test_temp = test_data[1]\n",
    "    net.eval()\n",
    "    y_predict_temp = net(x_test_temp)\n",
    "    x_test += list(test_data[0].data.numpy())\n",
    "    y_test += list(y_test_temp.data.numpy())\n",
    "    y_predict += list(y_predict_temp.data.cpu().numpy())\n",
    "    # break\n",
    "    \n",
    "print('完成！')"
   ],
   "metadata": {
    "collapsed": false,
    "pycharm": {
     "name": "#%%\n",
     "is_executing": false
    }
   }
  },
  {
   "cell_type": "code",
   "execution_count": 64,
   "outputs": [
    {
     "name": "stdout",
     "text": [
      "Counter({True: 9122, False: 878})\n",
      "accuracy: 0.9122\n",
      "y 类型对应的数量： Counter({3: 1000, 8: 1000, 0: 1000, 6: 1000, 1: 1000, 9: 1000, 5: 1000, 7: 1000, 4: 1000, 2: 1000})\n",
      "\n"
     ],
     "output_type": "stream"
    }
   ],
   "source": [
    "def see_result(y, y_predict):\n",
    "    Y_Result = []\n",
    "    for i in range(y_predict.shape[0]):\n",
    "        Y_Result.append( numpy.argmax(y_predict[i]) )\n",
    "    Y_Result = numpy.array(Y_Result)\n",
    "    counter = Counter(list((Y_Result == y.reshape(-1))))\n",
    "    print(counter)\n",
    "    print(\"accuracy:\",  counter[True]/len(y))\n",
    "    yTypeCountor = Counter(y.reshape(-1))\n",
    "    print(\"y 类型对应的数量：\", yTypeCountor)\n",
    "    print()\n",
    "    \n",
    "see_result(numpy.array(y_test), numpy.array(y_predict))"
   ],
   "metadata": {
    "collapsed": false,
    "pycharm": {
     "name": "#%%\n",
     "is_executing": false
    }
   }
  },
  {
   "cell_type": "code",
   "execution_count": 89,
   "outputs": [],
   "source": [
    "# 显示判断错误的图片\n",
    "# import matplotlib.pyplot as plt\n",
    "# \n",
    "# Y_Result = []\n",
    "# _y_predict = numpy.array(y_predict)\n",
    "# for i in range(_y_predict.shape[0]):\n",
    "#     Y_Result.append( numpy.argmax(_y_predict[i]) )\n",
    "# Y_Result = numpy.array(Y_Result)\n",
    "# \n",
    "# def toImage(imageData):\n",
    "#     (n_c, n_w, n_h) = imageData.shape\n",
    "#     image = numpy.zeros((n_w, n_h, n_c))\n",
    "#     for c in range(n_c):\n",
    "#         for w in range(n_w):\n",
    "#             for h in range(n_h):\n",
    "#                 image[w, h, c] = int((imageData[c, w, h] + 0.1)/0.9)\n",
    "#                 \n",
    "#     return image\n",
    "# \n",
    "# i = 0\n",
    "# for x, y_, y in zip(x_test, Y_Result, y_test):\n",
    "#     if y_ == y :\n",
    "#         i += 1\n",
    "#         plt.subplot(2, 5, i)\n",
    "#         plt.imshow(toImage(x))\n",
    "#         plt.text(10,40,str(y))\n",
    "#         plt.xticks([])\n",
    "#         plt.yticks([])\n",
    "#         if i > 10:\n",
    "\n",
    "#             break\n",
    "# plt.show()"
   ],
   "metadata": {
    "collapsed": false,
    "pycharm": {
     "name": "#%%\n",
     "is_executing": false
    }
   }
  },
  {
   "cell_type": "markdown",
   "source": [
    "经过上面的练习，对 Pytorch 和 ResNet 有了更深的了解，可以看出 ResNet 确实比 简单的 CNN 准确率高很多！相应的CPU训练很慢。\n",
    "用GPU训练能提速几倍，\n",
    "\n",
    "\n",
    "\n"
   ],
   "metadata": {
    "collapsed": false,
    "pycharm": {
     "name": "#%% md\n"
    }
   }
  }
 ],
 "metadata": {
  "kernelspec": {
   "display_name": "Python 3",
   "language": "python",
   "name": "python3"
  },
  "language_info": {
   "codemirror_mode": {
    "name": "ipython",
    "version": 2
   },
   "file_extension": ".py",
   "mimetype": "text/x-python",
   "name": "python",
   "nbconvert_exporter": "python",
   "pygments_lexer": "ipython2",
   "version": "2.7.6"
  },
  "pycharm": {
   "stem_cell": {
    "cell_type": "raw",
    "source": [],
    "metadata": {
     "collapsed": false
    }
   }
  }
 },
 "nbformat": 4,
 "nbformat_minor": 0
}