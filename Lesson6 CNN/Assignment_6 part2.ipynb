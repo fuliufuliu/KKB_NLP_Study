{
 "cells": [
  {
   "cell_type": "code",
   "source": [
    "## 使用 ResNet 来尝试训练解决 CIFAR10  的分类问题。"
   ],
   "metadata": {
    "collapsed": false,
    "pycharm": {
     "name": "#%% md \n"
    }
   },
   "execution_count": null,
   "outputs": []
  },
  {
   "cell_type": "code",
   "execution_count": 1,
   "metadata": {
    "collapsed": true,
    "pycharm": {
     "is_executing": false
    }
   },
   "outputs": [],
   "source": [
    "import torch\n",
    "from torch.utils.data import random_split\n",
    "import torchvision\n",
    "import torch.nn as nn\n",
    "import torch.optim as optim\n",
    "import numpy as np\n",
    "import torchvision.transforms as transforms\n",
    "import torch.nn.functional as F\n",
    "from PIL import Image"
   ]
  },
  {
   "cell_type": "code",
   "execution_count": 2,
   "outputs": [
    {
     "name": "stdout",
     "text": [
      "<class 'torchvision.datasets.cifar.CIFAR10'>\n",
      "50000\n"
     ],
     "output_type": "stream"
    }
   ],
   "source": [
    "# 数据处理\n",
    "\n",
    "transform_train = torchvision.transforms.Compose(\n",
    "    [\n",
    "        torchvision.transforms.RandomCrop(32, padding=2),\n",
    "        torchvision.transforms.RandomHorizontalFlip(),\n",
    "        torchvision.transforms.RandomGrayscale(),\n",
    "        torchvision.transforms.ToTensor(),\n",
    "        torchvision.transforms.Normalize([0.5, 0.5, 0.5], [0.25, 0.25, 0.25])\n",
    "    ]\n",
    ")\n",
    "\n",
    "transform_test = torchvision.transforms.Compose(\n",
    "    [\n",
    "        torchvision.transforms.ToTensor(),\n",
    "        torchvision.transforms.Normalize([0.5, 0.5, 0.5], [0.25, 0.25, 0.25])\n",
    "    ]\n",
    ")\n",
    "\n",
    "train_set = torchvision.datasets.CIFAR10(root='./data', train=True, transform=transform_train) #训练数据集\n",
    "print(type(train_set))\n",
    "print(len(train_set))\n",
    "# train_set, val_set = random_split(train_set, [45000, 5000]) # 将训练集划分为训练集和验证集\n",
    "# print(type(train_set))\n",
    "# print(type(val_set))\n",
    "test_set = torchvision.datasets.CIFAR10(root='./data', train=False, transform=transform_test)\n",
    "\n",
    "# train_set = [[Image.fromarray(image), target] for image, target in train_set]\n",
    "# val_set = [[Image.fromarray(image), target] for image, target in val_set]\n",
    "\n",
    "train_loader = torch.utils.data.DataLoader(train_set, batch_size=128, shuffle=True, num_workers=4)   #生成一个个batch进行批训练，组成batch的时候顺序打乱取\n",
    "# val_loader = torch.utils.data.DataLoader(val_set, batch_size=1000, shuffle = False, num_workers=4) \n",
    "test_loader = torch.utils.data.DataLoader(test_set, batch_size=128, shuffle=False, num_workers=4)"
   ],
   "metadata": {
    "collapsed": false,
    "pycharm": {
     "name": "#%%\n",
     "is_executing": false
    }
   }
  },
  {
   "cell_type": "markdown",
   "source": [
    "##### ResNet 实现\n",
    "参考：\n",
    "1. https://blog.csdn.net/winycg/article/details/86709991\n",
    "2. https://blog.csdn.net/sunqiande88/article/details/80100891"
   ],
   "metadata": {
    "collapsed": false,
    "pycharm": {
     "name": "#%% md\n"
    }
   }
  },
  {
   "cell_type": "code",
   "execution_count": 3,
   "outputs": [],
   "source": [
    "![jupyter](./20180426215052446.png)"
   ],
   "metadata": {
    "collapsed": false,
    "pycharm": {
     "name": "#%% md \n",
     "is_executing": false
    }
   }
  },
  {
   "cell_type": "code",
   "execution_count": null,
   "outputs": [],
   "source": [
    "# 用于ResNet18和34的残差块，用的是2个3x3的卷积\n",
    "class BasicBlock(nn.Module):\n",
    "    expansion = 1\n",
    "\n",
    "    def __init__(self, inChannelCount, outChannelCount, stride=1):\n",
    "        super(BasicBlock, self).__init__()\n",
    "        self.conv1 = nn.Conv2d(inChannelCount, outChannelCount, kernel_size=3,\n",
    "                               stride=stride, padding=1, bias=False)\n",
    "        self.bn1 = nn.BatchNorm2d(outChannelCount)\n",
    "        self.conv2 = nn.Conv2d(outChannelCount, outChannelCount, kernel_size=3,\n",
    "                               stride=1, padding=1, bias=False)\n",
    "        self.bn2 = nn.BatchNorm2d(outChannelCount)\n",
    "        self.shortcut = nn.Sequential()\n",
    "        # 经过处理后的x要与x的维度相同(尺寸和深度)\n",
    "        # 如果不相同，需要添加卷积+BN来变换为同一维度\n",
    "        if stride != 1 or inChannelCount != self.expansion*outChannelCount:\n",
    "            self.shortcut = nn.Sequential(\n",
    "                nn.Conv2d(inChannelCount, self.expansion*outChannelCount,\n",
    "                          kernel_size=1, stride=stride, bias=False),\n",
    "                nn.BatchNorm2d(self.expansion*outChannelCount)\n",
    "            )\n",
    "\n",
    "    def forward(self, x):\n",
    "        out = F.relu(self.bn1(self.conv1(x)))\n",
    "        out = self.bn2(self.conv2(out))\n",
    "        out += self.shortcut(x)\n",
    "        out = F.relu(out)\n",
    "        return out\n",
    "\n",
    "\n",
    "class ResNet(nn.Module):\n",
    "    def __init__(self, block, num_blocks, num_classes=10):\n",
    "        super(ResNet, self).__init__()\n",
    "        self.inChannelCount = 64\n",
    "\n",
    "        self.conv1 = nn.Conv2d(3, 64, kernel_size=3,\n",
    "                               stride=1, padding=1, bias=False)\n",
    "        self.bn1 = nn.BatchNorm2d(64)\n",
    "        \n",
    "        self.layer1 = self._sequential(block, 64, num_blocks[0], stride=1)\n",
    "        self.layer2 = self._sequential(block, 128, num_blocks[1], stride=2)\n",
    "        self.layer3 = self._sequential(block, 256, num_blocks[2], stride=2)\n",
    "        self.layer4 = self._sequential(block, 512, num_blocks[3], stride=2)\n",
    "        self.linear = nn.Linear(512*block.expansion, num_classes)\n",
    "\n",
    "    def _sequential(self, block, outChannelCount, num_blocks, stride):\n",
    "        strides = [stride] + [1]*(num_blocks-1)\n",
    "        layers = []\n",
    "        for stride in strides:\n",
    "            layers.append(block(self.inChannelCount, outChannelCount, stride))\n",
    "            self.inChannelCount = outChannelCount * block.expansion\n",
    "        return nn.Sequential(*layers)\n",
    "\n",
    "    def forward(self, x):\n",
    "        out = F.relu(self.bn1(self.conv1(x)))\n",
    "        out = self.layer1(out)\n",
    "        out = self.layer2(out)\n",
    "        out = self.layer3(out)\n",
    "        out = self.layer4(out)\n",
    "        out = F.avg_pool2d(out, 4)\n",
    "        out = out.view(out.size(0), -1)\n",
    "        out = self.linear(out)\n",
    "        return out\n",
    "\n",
    "\n",
    "def createResNet18():\n",
    "    return ResNet(BasicBlock, [2,2,2,2])"
   ],
   "metadata": {
    "collapsed": false,
    "pycharm": {
     "name": "#%%\n"
    }
   }
  },
  {
   "cell_type": "code",
   "execution_count": 4,
   "outputs": [
    {
     "name": "stdout",
     "text": [
      "ResNet(\n",
      "  (conv1): Conv2d(3, 64, kernel_size=(3, 3), stride=(1, 1), padding=(1, 1), bias=False)\n",
      "  (bn1): BatchNorm2d(64, eps=1e-05, momentum=0.1, affine=True, track_running_stats=True)\n",
      "  (layer1): Sequential(\n",
      "    (0): BasicBlock(\n",
      "      (conv1): Conv2d(64, 64, kernel_size=(3, 3), stride=(1, 1), padding=(1, 1), bias=False)\n",
      "      (bn1): BatchNorm2d(64, eps=1e-05, momentum=0.1, affine=True, track_running_stats=True)\n",
      "      (conv2): Conv2d(64, 64, kernel_size=(3, 3), stride=(1, 1), padding=(1, 1), bias=False)\n",
      "      (bn2): BatchNorm2d(64, eps=1e-05, momentum=0.1, affine=True, track_running_stats=True)\n",
      "      (shortcut): Sequential()\n",
      "    )\n",
      "    (1): BasicBlock(\n",
      "      (conv1): Conv2d(64, 64, kernel_size=(3, 3), stride=(1, 1), padding=(1, 1), bias=False)\n",
      "      (bn1): BatchNorm2d(64, eps=1e-05, momentum=0.1, affine=True, track_running_stats=True)\n",
      "      (conv2): Conv2d(64, 64, kernel_size=(3, 3), stride=(1, 1), padding=(1, 1), bias=False)\n",
      "      (bn2): BatchNorm2d(64, eps=1e-05, momentum=0.1, affine=True, track_running_stats=True)\n",
      "      (shortcut): Sequential()\n",
      "    )\n",
      "  )\n",
      "  (layer2): Sequential(\n",
      "    (0): BasicBlock(\n",
      "      (conv1): Conv2d(64, 128, kernel_size=(3, 3), stride=(2, 2), padding=(1, 1), bias=False)\n",
      "      (bn1): BatchNorm2d(128, eps=1e-05, momentum=0.1, affine=True, track_running_stats=True)\n",
      "      (conv2): Conv2d(128, 128, kernel_size=(3, 3), stride=(1, 1), padding=(1, 1), bias=False)\n",
      "      (bn2): BatchNorm2d(128, eps=1e-05, momentum=0.1, affine=True, track_running_stats=True)\n",
      "      (shortcut): Sequential(\n",
      "        (0): Conv2d(64, 128, kernel_size=(1, 1), stride=(2, 2), bias=False)\n",
      "        (1): BatchNorm2d(128, eps=1e-05, momentum=0.1, affine=True, track_running_stats=True)\n",
      "      )\n",
      "    )\n",
      "    (1): BasicBlock(\n",
      "      (conv1): Conv2d(128, 128, kernel_size=(3, 3), stride=(1, 1), padding=(1, 1), bias=False)\n",
      "      (bn1): BatchNorm2d(128, eps=1e-05, momentum=0.1, affine=True, track_running_stats=True)\n",
      "      (conv2): Conv2d(128, 128, kernel_size=(3, 3), stride=(1, 1), padding=(1, 1), bias=False)\n",
      "      (bn2): BatchNorm2d(128, eps=1e-05, momentum=0.1, affine=True, track_running_stats=True)\n",
      "      (shortcut): Sequential()\n",
      "    )\n",
      "  )\n",
      "  (layer3): Sequential(\n",
      "    (0): BasicBlock(\n",
      "      (conv1): Conv2d(128, 256, kernel_size=(3, 3), stride=(2, 2), padding=(1, 1), bias=False)\n",
      "      (bn1): BatchNorm2d(256, eps=1e-05, momentum=0.1, affine=True, track_running_stats=True)\n",
      "      (conv2): Conv2d(256, 256, kernel_size=(3, 3), stride=(1, 1), padding=(1, 1), bias=False)\n",
      "      (bn2): BatchNorm2d(256, eps=1e-05, momentum=0.1, affine=True, track_running_stats=True)\n",
      "      (shortcut): Sequential(\n",
      "        (0): Conv2d(128, 256, kernel_size=(1, 1), stride=(2, 2), bias=False)\n",
      "        (1): BatchNorm2d(256, eps=1e-05, momentum=0.1, affine=True, track_running_stats=True)\n",
      "      )\n",
      "    )\n",
      "    (1): BasicBlock(\n",
      "      (conv1): Conv2d(256, 256, kernel_size=(3, 3), stride=(1, 1), padding=(1, 1), bias=False)\n",
      "      (bn1): BatchNorm2d(256, eps=1e-05, momentum=0.1, affine=True, track_running_stats=True)\n",
      "      (conv2): Conv2d(256, 256, kernel_size=(3, 3), stride=(1, 1), padding=(1, 1), bias=False)\n",
      "      (bn2): BatchNorm2d(256, eps=1e-05, momentum=0.1, affine=True, track_running_stats=True)\n",
      "      (shortcut): Sequential()\n",
      "    )\n",
      "  )\n",
      "  (layer4): Sequential(\n",
      "    (0): BasicBlock(\n",
      "      (conv1): Conv2d(256, 512, kernel_size=(3, 3), stride=(2, 2), padding=(1, 1), bias=False)\n",
      "      (bn1): BatchNorm2d(512, eps=1e-05, momentum=0.1, affine=True, track_running_stats=True)\n",
      "      (conv2): Conv2d(512, 512, kernel_size=(3, 3), stride=(1, 1), padding=(1, 1), bias=False)\n",
      "      (bn2): BatchNorm2d(512, eps=1e-05, momentum=0.1, affine=True, track_running_stats=True)\n",
      "      (shortcut): Sequential(\n",
      "        (0): Conv2d(256, 512, kernel_size=(1, 1), stride=(2, 2), bias=False)\n",
      "        (1): BatchNorm2d(512, eps=1e-05, momentum=0.1, affine=True, track_running_stats=True)\n",
      "      )\n",
      "    )\n",
      "    (1): BasicBlock(\n",
      "      (conv1): Conv2d(512, 512, kernel_size=(3, 3), stride=(1, 1), padding=(1, 1), bias=False)\n",
      "      (bn1): BatchNorm2d(512, eps=1e-05, momentum=0.1, affine=True, track_running_stats=True)\n",
      "      (conv2): Conv2d(512, 512, kernel_size=(3, 3), stride=(1, 1), padding=(1, 1), bias=False)\n",
      "      (bn2): BatchNorm2d(512, eps=1e-05, momentum=0.1, affine=True, track_running_stats=True)\n",
      "      (shortcut): Sequential()\n",
      "    )\n",
      "  )\n",
      "  (linear): Linear(in_features=512, out_features=10, bias=True)\n",
      ")\n"
     ],
     "output_type": "stream"
    }
   ],
   "source": [
    "net = createResNet18()\n",
    "print(net)"
   ],
   "metadata": {
    "collapsed": false,
    "pycharm": {
     "name": "#%%\n",
     "is_executing": false
    }
   }
  },
  {
   "cell_type": "code",
   "execution_count": 7,
   "outputs": [
    {
     "name": "stdout",
     "text": [
      "0 0 ----loss 1.4291242\n",
      "----val loss 1.4997045\n",
      "0 10 ----loss 1.3706359\n",
      "----val loss 1.369659\n",
      "0 20 ----loss 1.4619173\n",
      "----val loss 1.3378009\n",
      "0 30 ----loss 1.3787068\n",
      "----val loss 1.3228652\n",
      "0 40 ----loss 1.2302798\n",
      "----val loss 1.3309627\n",
      "0 50 ----loss 1.2665075\n",
      "----val loss 1.3160684\n",
      "0 60 ----loss 1.2292455\n",
      "----val loss 1.3547552\n",
      "0 70 ----loss 1.3158573\n",
      "----val loss 1.2963223\n",
      "0 80 ----loss 1.3623327\n",
      "----val loss 1.2849746\n",
      "0 90 ----loss 1.266409\n",
      "----val loss 1.2763331\n",
      "0 100 ----loss 1.3504081\n",
      "----val loss 1.2935337\n",
      "0 110 ----loss 1.5139548\n",
      "----val loss 1.2861918\n",
      "0 120 ----loss 1.2713747\n",
      "----val loss 1.2604018\n",
      "0 130 ----loss 1.2545682\n",
      "----val loss 1.2443454\n",
      "0 140 ----loss 1.2344018\n",
      "----val loss 1.214889\n",
      "0 150 ----loss 1.3083956\n",
      "----val loss 1.2475243\n",
      "0 160 ----loss 1.4304171\n",
      "----val loss 1.2704363\n",
      "0 170 ----loss 1.3596852\n",
      "----val loss 1.1601884\n",
      "0 180 ----loss 1.1267571\n",
      "----val loss 1.2447544\n",
      "0 190 ----loss 1.3172306\n",
      "----val loss 1.176367\n",
      "0 200 ----loss 1.3930887\n",
      "----val loss 1.1591133\n",
      "0 210 ----loss 1.2326874\n",
      "----val loss 1.2052923\n",
      "0 220 ----loss 1.0187069\n",
      "----val loss 1.1546957\n",
      "0 230 ----loss 1.3078173\n",
      "----val loss 1.1669225\n",
      "0 240 ----loss 1.2381138\n",
      "----val loss 1.1348338\n",
      "0 250 ----loss 1.1214054\n",
      "----val loss 1.131537\n",
      "0 260 ----loss 1.0822382\n",
      "----val loss 1.1211028\n",
      "0 270 ----loss 1.3739262\n",
      "----val loss 1.1511728\n",
      "0 280 ----loss 1.2406034\n",
      "----val loss 1.0951465\n",
      "0 290 ----loss 1.2161798\n",
      "----val loss 1.0901891\n",
      "0 300 ----loss 1.1285995\n",
      "----val loss 1.1115608\n",
      "0 310 ----loss 1.2134411\n",
      "----val loss 1.0778993\n",
      "0 320 ----loss 1.4085177\n",
      "----val loss 1.0541439\n",
      "0 330 ----loss 1.200271\n",
      "----val loss 1.0591516\n",
      "0 340 ----loss 1.1791481\n",
      "----val loss 1.0574745\n",
      "0 350 ----loss 1.0906992\n",
      "----val loss 1.0583453\n",
      "0 360 ----loss 1.1722738\n",
      "----val loss 1.0237331\n",
      "0 370 ----loss 1.1520582\n",
      "----val loss 1.0496469\n",
      "0 380 ----loss 1.2144253\n",
      "----val loss 1.1144828\n",
      "0 390 ----loss 1.1172136\n",
      "----val loss 1.0608126\n"
     ],
     "output_type": "stream"
    }
   ],
   "source": [
    "# 从学习率 = 0.01开始训练1个epoch， loss： 1.402，val_loss: 1.499\n",
    "optimizer = torch.optim.Adam(net.parameters(), lr=0.001) \n",
    "\n",
    "lossFunc = torch.nn.CrossEntropyLoss()\n",
    "\n",
    "net.train()\n",
    "\n",
    "losses = []\n",
    "losses_val = []\n",
    "for epoch in range(1):\n",
    "    for i, data in enumerate(train_loader, 0):\n",
    "        x_batch, y_batch = data\n",
    "        predictData = net(x_batch)\n",
    "            \n",
    "        loss = lossFunc(predictData, y_batch)\n",
    "        losses.append(loss.data.numpy())\n",
    "        \n",
    "        if i % 10 == 0:\n",
    "            print(epoch, i, \"----loss\", loss.data.numpy())\n",
    "            val_data = [data for i, data in enumerate(test_loader, 0) if i == 0][0]\n",
    "            y_val = net(val_data[0])\n",
    "            loss_val = lossFunc(y_val, val_data[1])\n",
    "            print(\"----val loss\", loss_val.data.numpy())\n",
    "            losses_val.append(loss_val.data.numpy())\n",
    "        \n",
    "        optimizer.zero_grad()\n",
    "        loss.backward()\n",
    "        optimizer.step()"
   ],
   "metadata": {
    "collapsed": false,
    "pycharm": {
     "name": "#%%\n",
     "is_executing": false
    }
   }
  },
  {
   "cell_type": "code",
   "execution_count": 9,
   "outputs": [
    {
     "name": "stderr",
     "text": [
      "d:\\ProgramData\\Anaconda3\\lib\\site-packages\\torch\\serialization.py:360: UserWarning: Couldn't retrieve source code for container of type ResNet. It won't be checked for correctness upon loading.\n",
      "  \"type \" + obj.__name__ + \". It won't be checked \"\n",
      "d:\\ProgramData\\Anaconda3\\lib\\site-packages\\torch\\serialization.py:360: UserWarning: Couldn't retrieve source code for container of type BasicBlock. It won't be checked for correctness upon loading.\n",
      "  \"type \" + obj.__name__ + \". It won't be checked \"\n"
     ],
     "output_type": "stream"
    }
   ],
   "source": [
    "torch.save(net, \"Touch_ResNot_Model2\")"
   ],
   "metadata": {
    "collapsed": false,
    "pycharm": {
     "name": "#%%\n",
     "is_executing": false
    }
   }
  },
  {
   "cell_type": "code",
   "execution_count": 4,
   "outputs": [
    {
     "data": {
      "text/plain": "ResNet(\n  (conv1): Conv2d(3, 64, kernel_size=(3, 3), stride=(1, 1), padding=(1, 1), bias=False)\n  (bn1): BatchNorm2d(64, eps=1e-05, momentum=0.1, affine=True, track_running_stats=True)\n  (layer1): Sequential(\n    (0): BasicBlock(\n      (conv1): Conv2d(64, 64, kernel_size=(3, 3), stride=(1, 1), padding=(1, 1), bias=False)\n      (bn1): BatchNorm2d(64, eps=1e-05, momentum=0.1, affine=True, track_running_stats=True)\n      (conv2): Conv2d(64, 64, kernel_size=(3, 3), stride=(1, 1), padding=(1, 1), bias=False)\n      (bn2): BatchNorm2d(64, eps=1e-05, momentum=0.1, affine=True, track_running_stats=True)\n      (shortcut): Sequential()\n    )\n    (1): BasicBlock(\n      (conv1): Conv2d(64, 64, kernel_size=(3, 3), stride=(1, 1), padding=(1, 1), bias=False)\n      (bn1): BatchNorm2d(64, eps=1e-05, momentum=0.1, affine=True, track_running_stats=True)\n      (conv2): Conv2d(64, 64, kernel_size=(3, 3), stride=(1, 1), padding=(1, 1), bias=False)\n      (bn2): BatchNorm2d(64, eps=1e-05, momentum=0.1, affine=True, track_running_stats=True)\n      (shortcut): Sequential()\n    )\n  )\n  (layer2): Sequential(\n    (0): BasicBlock(\n      (conv1): Conv2d(64, 128, kernel_size=(3, 3), stride=(2, 2), padding=(1, 1), bias=False)\n      (bn1): BatchNorm2d(128, eps=1e-05, momentum=0.1, affine=True, track_running_stats=True)\n      (conv2): Conv2d(128, 128, kernel_size=(3, 3), stride=(1, 1), padding=(1, 1), bias=False)\n      (bn2): BatchNorm2d(128, eps=1e-05, momentum=0.1, affine=True, track_running_stats=True)\n      (shortcut): Sequential(\n        (0): Conv2d(64, 128, kernel_size=(1, 1), stride=(2, 2), bias=False)\n        (1): BatchNorm2d(128, eps=1e-05, momentum=0.1, affine=True, track_running_stats=True)\n      )\n    )\n    (1): BasicBlock(\n      (conv1): Conv2d(128, 128, kernel_size=(3, 3), stride=(1, 1), padding=(1, 1), bias=False)\n      (bn1): BatchNorm2d(128, eps=1e-05, momentum=0.1, affine=True, track_running_stats=True)\n      (conv2): Conv2d(128, 128, kernel_size=(3, 3), stride=(1, 1), padding=(1, 1), bias=False)\n      (bn2): BatchNorm2d(128, eps=1e-05, momentum=0.1, affine=True, track_running_stats=True)\n      (shortcut): Sequential()\n    )\n  )\n  (layer3): Sequential(\n    (0): BasicBlock(\n      (conv1): Conv2d(128, 256, kernel_size=(3, 3), stride=(2, 2), padding=(1, 1), bias=False)\n      (bn1): BatchNorm2d(256, eps=1e-05, momentum=0.1, affine=True, track_running_stats=True)\n      (conv2): Conv2d(256, 256, kernel_size=(3, 3), stride=(1, 1), padding=(1, 1), bias=False)\n      (bn2): BatchNorm2d(256, eps=1e-05, momentum=0.1, affine=True, track_running_stats=True)\n      (shortcut): Sequential(\n        (0): Conv2d(128, 256, kernel_size=(1, 1), stride=(2, 2), bias=False)\n        (1): BatchNorm2d(256, eps=1e-05, momentum=0.1, affine=True, track_running_stats=True)\n      )\n    )\n    (1): BasicBlock(\n      (conv1): Conv2d(256, 256, kernel_size=(3, 3), stride=(1, 1), padding=(1, 1), bias=False)\n      (bn1): BatchNorm2d(256, eps=1e-05, momentum=0.1, affine=True, track_running_stats=True)\n      (conv2): Conv2d(256, 256, kernel_size=(3, 3), stride=(1, 1), padding=(1, 1), bias=False)\n      (bn2): BatchNorm2d(256, eps=1e-05, momentum=0.1, affine=True, track_running_stats=True)\n      (shortcut): Sequential()\n    )\n  )\n  (layer4): Sequential(\n    (0): BasicBlock(\n      (conv1): Conv2d(256, 512, kernel_size=(3, 3), stride=(2, 2), padding=(1, 1), bias=False)\n      (bn1): BatchNorm2d(512, eps=1e-05, momentum=0.1, affine=True, track_running_stats=True)\n      (conv2): Conv2d(512, 512, kernel_size=(3, 3), stride=(1, 1), padding=(1, 1), bias=False)\n      (bn2): BatchNorm2d(512, eps=1e-05, momentum=0.1, affine=True, track_running_stats=True)\n      (shortcut): Sequential(\n        (0): Conv2d(256, 512, kernel_size=(1, 1), stride=(2, 2), bias=False)\n        (1): BatchNorm2d(512, eps=1e-05, momentum=0.1, affine=True, track_running_stats=True)\n      )\n    )\n    (1): BasicBlock(\n      (conv1): Conv2d(512, 512, kernel_size=(3, 3), stride=(1, 1), padding=(1, 1), bias=False)\n      (bn1): BatchNorm2d(512, eps=1e-05, momentum=0.1, affine=True, track_running_stats=True)\n      (conv2): Conv2d(512, 512, kernel_size=(3, 3), stride=(1, 1), padding=(1, 1), bias=False)\n      (bn2): BatchNorm2d(512, eps=1e-05, momentum=0.1, affine=True, track_running_stats=True)\n      (shortcut): Sequential()\n    )\n  )\n  (linear): Linear(in_features=512, out_features=10, bias=True)\n)"
     },
     "metadata": {},
     "output_type": "execute_result",
     "execution_count": 4
    }
   ],
   "source": [
    "net = torch.load(\"Touch_ResNot_Model2\")\n",
    "net.eval()"
   ],
   "metadata": {
    "collapsed": false,
    "pycharm": {
     "name": "#%%\n",
     "is_executing": false
    }
   }
  },
  {
   "cell_type": "code",
   "execution_count": 7,
   "outputs": [],
   "source": [
    "from collections import Counter\n",
    "import numpy\n",
    "\n",
    "    "
   ],
   "metadata": {
    "collapsed": false,
    "pycharm": {
     "name": "#%%\n",
     "is_executing": false
    }
   }
  },
  {
   "cell_type": "code",
   "execution_count": 16,
   "outputs": [
    {
     "name": "stdout",
     "text": [
      "-\n"
     ],
     "output_type": "stream"
    }
   ],
   "source": [
    "test_loader2 = torch.utils.data.DataLoader(test_set, batch_size=128, shuffle=False, num_workers=4)\n",
    "# 取一次数据\n",
    "test_datas = [data for i, data in enumerate(test_loader2, 0)]\n",
    "y_test = []\n",
    "y_predict = []\n",
    "for test_data in test_datas:\n",
    "    x_test_temp = test_data[0]\n",
    "    y_test_temp = test_data[1]\n",
    "    y_predict_temp = net(x_test_temp)\n",
    "    y_test += list(y_test_temp.data.numpy())\n",
    "    y_predict += list(y_predict_temp.data.numpy())\n",
    "    print('-')\n",
    "    break"
   ],
   "metadata": {
    "collapsed": false,
    "pycharm": {
     "name": "#%% \n",
     "is_executing": false
    }
   }
  },
  {
   "cell_type": "code",
   "execution_count": 17,
   "outputs": [
    {
     "name": "stdout",
     "text": [
      "Counter({True: 113, False: 15})\n",
      "accuracy: 0.8828125\n",
      "y 类型对应的数量： Counter({6: 19, 8: 17, 3: 15, 0: 13, 7: 13, 9: 11, 2: 11, 1: 10, 4: 10, 5: 9})\n",
      "\n"
     ],
     "output_type": "stream"
    }
   ],
   "source": [
    "\n",
    "def see_result(y, y_predict):\n",
    "    Y_Result = []\n",
    "    for i in range(y_predict.shape[0]):\n",
    "        Y_Result.append( numpy.argmax(y_predict[i]) )\n",
    "    Y_Result = numpy.array(Y_Result)\n",
    "    counter = Counter(list((Y_Result == y.reshape(-1))))\n",
    "    print(counter)\n",
    "    print(\"accuracy:\",  counter[True]/len(y))\n",
    "    yTypeCountor = Counter(y.reshape(-1))\n",
    "    print(\"y 类型对应的数量：\", yTypeCountor)\n",
    "    print()\n",
    "    \n",
    "see_result(numpy.array(y_test), numpy.array(y_predict))\n",
    "# see_result(y_train, net(x_train))"
   ],
   "metadata": {
    "collapsed": false,
    "pycharm": {
     "name": "#%%\n",
     "is_executing": false
    }
   }
  },
  {
   "cell_type": "markdown",
   "source": [
    "CPU 训练太慢！尝试用GPU训练"
   ],
   "metadata": {
    "collapsed": false,
    "pycharm": {
     "name": "#%% md\n"
    }
   }
  },
  {
   "cell_type": "code",
   "execution_count": 10,
   "outputs": [
    {
     "name": "stdout",
     "text": [
      "isGPU: cpu\n"
     ],
     "output_type": "stream"
    }
   ],
   "source": [
    "isGPU = \"cuda\" if torch.cuda.is_available() else \"cpu\"\n",
    "print(\"isGPU:\",isGPU)\n",
    "device = torch.device(isGPU)"
   ],
   "metadata": {
    "collapsed": false,
    "pycharm": {
     "name": "#%%\n",
     "is_executing": false
    }
   }
  },
  {
   "cell_type": "code",
   "execution_count": null,
   "outputs": [],
   "source": [
    "net = net.to(device)\n",
    "\n",
    "optimizer = torch.optim.Adam(net.parameters(), lr=0.001) \n",
    "\n",
    "lossFunc = torch.nn.CrossEntropyLoss()\n",
    "\n",
    "net.train()\n",
    "\n",
    "losses = []\n",
    "losses_val = []\n",
    "for epoch in range(1):\n",
    "    for i, data in enumerate(train_loader, 0):\n",
    "        x_batch, y_batch = data\n",
    "        x_batch, y_batch = x_batch.to(device), y_batch.to(device)\n",
    "        predictData = net(x_batch)\n",
    "            \n",
    "        loss = lossFunc(predictData, y_batch)\n",
    "        losses.append(loss.data.numpy())\n",
    "        \n",
    "        if i % 10 == 0:\n",
    "            print(epoch, i, \"----loss\", loss.data.numpy())\n",
    "            val_data = [data for i, data in enumerate(test_loader, 0) if i == 0][0]\n",
    "            y_val = net(val_data[0].to(device))\n",
    "            loss_val = lossFunc(y_val, val_data[1])\n",
    "            print(\"----val loss\", loss_val.data.numpy())\n",
    "            losses_val.append(loss_val.data.numpy())\n",
    "        \n",
    "        optimizer.zero_grad()\n",
    "        loss.backward()\n",
    "        optimizer.step()\n",
    "\n",
    "\n",
    "\n",
    "\n",
    "\n",
    "\n",
    "\n",
    "\n",
    "\n",
    "\n",
    "\n"
   ],
   "metadata": {
    "collapsed": false,
    "pycharm": {
     "name": "#%%\n"
    }
   }
  }
 ],
 "metadata": {
  "kernelspec": {
   "display_name": "Python 3",
   "language": "python",
   "name": "python3"
  },
  "language_info": {
   "codemirror_mode": {
    "name": "ipython",
    "version": 2
   },
   "file_extension": ".py",
   "mimetype": "text/x-python",
   "name": "python",
   "nbconvert_exporter": "python",
   "pygments_lexer": "ipython2",
   "version": "2.7.6"
  },
  "pycharm": {
   "stem_cell": {
    "cell_type": "raw",
    "source": [],
    "metadata": {
     "collapsed": false
    }
   }
  }
 },
 "nbformat": 4,
 "nbformat_minor": 0
}