{
 "cells": [
  {
   "cell_type": "markdown",
   "metadata": {
    "collapsed": true,
    "pycharm": {
     "name": "#%% md\n"
    }
   },
   "source": [
    "## 1. 写一个方法，实现从一个字串经过哪些操作后能得到另一个字串？"
   ]
  },
  {
   "cell_type": "code",
   "execution_count": 22,
   "outputs": [],
   "source": [
    "from functools import lru_cache\n",
    "import copy"
   ],
   "metadata": {
    "collapsed": false,
    "pycharm": {
     "name": "#%%\n",
     "is_executing": false
    }
   }
  },
  {
   "cell_type": "code",
   "execution_count": 37,
   "outputs": [],
   "source": [
    "@lru_cache(maxsize=2**10) # 调用下面的函数时，若找到相同的输入，那么直接返回相同的输出结果\n",
    "def edit_distance(string1, string2):\n",
    "    \n",
    "    if len(string1) == 0: return len(string2), []\n",
    "    if len(string2) == 0: return len(string1), []\n",
    "    \n",
    "    tail_s1 = string1[-1]\n",
    "    tail_s2 = string2[-1]\n",
    "    \n",
    "    min_distance1, operations1 = edit_distance(string1[:-1], string2)\n",
    "    min_distance1 += 1\n",
    "    operations1 = copy.copy(operations1)\n",
    "    operations1.append('DEL p{}_{}'.format(len(string1) - 1 , tail_s1),)  \n",
    "    \n",
    "    min_distance2, operations2 = edit_distance(string1, string2[:-1])\n",
    "    operations2 = copy.copy(operations2)\n",
    "    operations2.append('ADD p{}_{}'.format(len(string2) - 1 , tail_s2), )  \n",
    "    min_distance2 += 1\n",
    "    \n",
    "    if tail_s1 == tail_s2:\n",
    "        min_distance3, operations3 = edit_distance(string1[:-1], string2[:-1])\n",
    "    else:\n",
    "        min_distance3, operations3 = edit_distance(string1[:-1], string2[:-1])\n",
    "        min_distance3 += 1\n",
    "        operations3 = copy.copy(operations3)\n",
    "        operations3.append('SUB p{}_{} => p{}_{}'.format(len(string1) - 1 ,tail_s1, len(string2) - 1, tail_s2))\n",
    "    \n",
    "    candidates = [\n",
    "        (min_distance1, operations1),\n",
    "        (min_distance2, operations2),\n",
    "        (min_distance3, operations3),\n",
    "    ] \n",
    "    \n",
    "    min_distance, operations = min(candidates, key=lambda x: x[0])\n",
    "    \n",
    "    return min_distance, operations\n"
   ],
   "metadata": {
    "collapsed": false,
    "pycharm": {
     "name": "#%%\n",
     "is_executing": false
    }
   }
  },
  {
   "cell_type": "code",
   "execution_count": 38,
   "outputs": [
    {
     "data": {
      "text/plain": "(3, ['SUB p3_D => p3_C', 'SUB p5_C => p5_F', 'DEL p6_G'])"
     },
     "metadata": {},
     "output_type": "execute_result",
     "execution_count": 38
    }
   ],
   "source": [
    "edit_distance('ABCDECG','ABCCEF')"
   ],
   "metadata": {
    "collapsed": false,
    "pycharm": {
     "name": "#%%\n",
     "is_executing": false
    }
   }
  },
  {
   "cell_type": "code",
   "execution_count": 39,
   "outputs": [
    {
     "data": {
      "text/plain": "(7,\n ['SUB p3_称 => p3_说',\n  'DEL p4_来',\n  'DEL p5_自',\n  'SUB p10_非 => p8_都',\n  'SUB p11_常 => p9_是',\n  'SUB p12_好 => p10_垃',\n  'ADD p11_圾'])"
     },
     "metadata": {},
     "output_type": "execute_result",
     "execution_count": 39
    }
   ],
   "source": [
    "edit_distance('特朗普称来自中国物资非常好','特朗普说中国物资都是垃圾')"
   ],
   "metadata": {
    "collapsed": false,
    "pycharm": {
     "name": "#%%\n",
     "is_executing": false
    }
   }
  },
  {
   "cell_type": "markdown",
   "source": [
    "## 2. 如何让输入法输入字符串后在不带空格的时候完成修正？如何完成拼音的自动分割？\n",
    "\n",
    "提示：使用第一节课提到的语言模型。"
   ],
   "metadata": {
    "collapsed": false,
    "pycharm": {
     "name": "#%% md\n",
     "is_executing": false
    }
   }
  },
  {
   "cell_type": "code",
   "execution_count": 2,
   "outputs": [],
   "source": [
    "# import pinyin # 不知道为什么，安装后不能使用"
   ],
   "metadata": {
    "collapsed": false,
    "pycharm": {
     "name": "#%%\n",
     "is_executing": false
    }
   }
  },
  {
   "cell_type": "markdown",
   "source": [
    "先找个好用的拼音库："
   ],
   "metadata": {
    "collapsed": false,
    "pycharm": {
     "name": "#%% md\n"
    }
   }
  },
  {
   "cell_type": "code",
   "execution_count": null,
   "outputs": [],
   "source": [
    "from xpinyin import Pinyin\n",
    "pinyin = Pinyin()"
   ],
   "metadata": {
    "collapsed": false,
    "pycharm": {
     "name": "#%%\n"
    }
   }
  },
  {
   "cell_type": "code",
   "execution_count": 11,
   "outputs": [
    {
     "name": "stdout",
     "text": [
      "shang-hai\n",
      "shàng-hǎi\n",
      "shang4-hai3\n",
      "shanghai\n",
      "shang hai\n",
      "S\n",
      "S-H\n",
      "SH\n",
      "S H\n",
      "sh\n",
      "zhong4\n",
      "he2\n"
     ],
     "output_type": "stream"
    }
   ],
   "source": [
    "pinyin.get_pinyin('我们是共产主义接班人')\n",
    "\n",
    "# 默认以'-'为分割符\n",
    "a = pinyin.get_pinyin(u\"上海\")\n",
    "print(a)\n",
    "\n",
    "# 默认以'-'分割,显示音调\n",
    "b = pinyin.get_pinyin(u'上海', tone_marks='marks')\n",
    "print(b)\n",
    "\n",
    "# 默认以'-'分割,显示音调\n",
    "b = pinyin.get_pinyin(u'上海', tone_marks='numbers')\n",
    "print(b)\n",
    "\n",
    "# 删除分割符\n",
    "c = pinyin.get_pinyin(u'上海', '')\n",
    "print(c)\n",
    "\n",
    "# 设置空白格为分割符\n",
    "d = pinyin.get_pinyin(u'上海', ' ')\n",
    "print(d)\n",
    "\n",
    "d1 = pinyin.get_initial(u'上')\n",
    "print(d1)\n",
    "\n",
    "d2 = pinyin.get_initials(u'上海')\n",
    "print(d2)\n",
    "\n",
    "d3 = pinyin.get_initials(u'上海', u'')\n",
    "print(d3)\n",
    "\n",
    "d4 = pinyin.get_initials(u'上海', u' ')\n",
    "print(d4)\n",
    "\n",
    "wordvalue = '上海'\n",
    "s = pinyin.get_initials(wordvalue, u'').lower()\n",
    "print(s)\n",
    "\n",
    "# 多音字\n",
    "print(pinyin.get_pinyin('重', tone_marks='numbers'))\n",
    "print(pinyin.get_pinyin('和', tone_marks='numbers'))"
   ],
   "metadata": {
    "collapsed": false,
    "pycharm": {
     "name": "#%%\n",
     "is_executing": false
    }
   }
  },
  {
   "cell_type": "code",
   "execution_count": 1,
   "outputs": [],
   "source": [
    "from pypinyin import pinyin, lazy_pinyin, Style, load_phrases_dict, load_single_dict\n",
    "from pypinyin.style import register"
   ],
   "metadata": {
    "collapsed": false,
    "pycharm": {
     "name": "#%%\n",
     "is_executing": false
    }
   }
  },
  {
   "cell_type": "code",
   "execution_count": 15,
   "outputs": [
    {
     "name": "stdout",
     "text": [
      "[['nǐ'], ['hǎo']]\n",
      "[['zhōng', 'zhòng'], ['xīn'], ['zhōng', 'zhòng'], ['xīn']]\n",
      "[['z'], ['x'], ['z'], ['x']]\n",
      "[['zho1ng', 'zho4ng'], ['xi1n'], ['zho1ng', 'zho4ng'], ['xi1n']]\n",
      "['zhong', 'xin']\n"
     ],
     "output_type": "stream"
    }
   ],
   "source": [
    "print(pinyin('你好'))  # [['nǐ'], ['hǎo']]\n",
    "print(pinyin('中心中心', heteronym=True))  # 启用多音字模式  # [['zhōng', 'zhòng'], ['xīn']]\n",
    "print(pinyin('中心中心', style=Style.FIRST_LETTER))  # 设置拼音风格，第一个字母 [['z'], ['x']]\n",
    "print(pinyin('中心中心', style=Style.TONE2, heteronym=True))  # [['zho1ng', 'zho4ng'], ['xi1n']]\n",
    "print(lazy_pinyin('中心'))  # 不考虑多音字的情况 # ['zhong', 'xin']"
   ],
   "metadata": {
    "collapsed": false,
    "pycharm": {
     "name": "#%%\n",
     "is_executing": false
    }
   }
  },
  {
   "cell_type": "code",
   "execution_count": 18,
   "outputs": [
    {
     "name": "stdout",
     "text": [
      "['ni', 'hao', '☆d☆', 'ni', 'hao']\n",
      "['ni', 'hao', 'ni', 'hao']\n",
      "['ni', 'hao', '2606622606', 'ni', 'hao']\n",
      "['ni', 'hao', 'star', 'ni', 'hao']\n",
      "['ha2i', 'me2i']\n",
      "['ju2', 'zi3']\n",
      "['ha2i', 'me2i']\n",
      "['😘 me', '😘 me', '😘 dá']\n",
      "['me', 'me', 'da']\n"
     ],
     "output_type": "stream"
    }
   ],
   "source": [
    "##########处理不包含拼音的字符\n",
    "# default (默认行为): 不做任何处理，原样返回:\n",
    "print(lazy_pinyin('你好☆d☆你好'))  # ['ni', 'hao', '☆☆']\n",
    "# ignore : 忽略该字符\n",
    "print(lazy_pinyin('你好☆c☆你好', errors='ignore'))  # ['ni', 'hao']\n",
    "# replace : 替换为去掉 \\u 的 unicode 编码\n",
    "print(lazy_pinyin('你好☆b☆你好', errors='replace'))  # ['ni', 'hao', '26062606']\n",
    "# callable 对象 : 提供一个回调函数，接受无拼音字符(串)作为参数, 支持的返回值类型: unicode 或 list ([unicode, …]) 或 None 。\n",
    "print(lazy_pinyin('你好☆a☆你好', errors=lambda x: 'star'))  # ['ni', 'hao', 'star']\n",
    "\n",
    "########### 自定义拼音库\n",
    "print(lazy_pinyin('还没', style=Style.TONE2))\n",
    "load_phrases_dict({'桔子': [['jú'], ['zǐ']]})  # 增加 \"桔子\" 词组，可以自己定义\n",
    "print(lazy_pinyin('桔子', style=Style.TONE2))\n",
    "\n",
    "load_single_dict({ord('还'): 'hái,huán'})  # 调整 \"还\" 字的拼音顺序\n",
    "print(lazy_pinyin('还没', style=Style.TONE2))"
   ],
   "metadata": {
    "collapsed": false,
    "pycharm": {
     "name": "#%%\n",
     "is_executing": false
    }
   }
  },
  {
   "cell_type": "code",
   "execution_count": null,
   "outputs": [],
   "source": [
    "###########自定义拼音风格\n",
    "@register('kiss')\n",
    "def kiss(mypinyin, **kwargs):\n",
    "    return '😘 {0}'.format(mypinyin)\n",
    "\n",
    "print(lazy_pinyin('么么哒', style='kiss'))\n",
    "print(lazy_pinyin('么么哒'))"
   ],
   "metadata": {
    "collapsed": false,
    "pycharm": {
     "name": "#%%\n"
    }
   }
  },
  {
   "cell_type": "markdown",
   "source": [
    "还是pypinyin比较好，功能齐全！\n",
    "\n",
    "接下来实现功能：\n",
    "\n",
    "思路一： 训练时目标是构建一个字典，key是拼音，value是子字典（key是可能的词，value是 词库词频和用户输入次数等的数据对象），\n",
    "训练时进行容错处理，应用时词选取根据词频和用户数据等信息计算后进行排序并显示给用户。\n",
    "\n",
    "训练过程：\n",
    "\n",
    "1. 用分词工具把语料切割成词，然后去重并统计每个词出现的次数。\n",
    "\n",
    "2. 循环所有字和词的拼音以及容错性处理的拼音，建立这样一个字典。\n",
    "\n",
    "3. 字典的持久化保存。\n",
    "\n",
    "推理过程：\n",
    "\n",
    "1. 如果用户输入的拼音能在字典中找到则直接计算出结果显示。\n",
    "\n",
    "2. 如果用户输入的拼音太长则使用动态规划对拼音进行切割后执行1再拼接。\n",
    "\n",
    "这一思路是本学生感觉最容易实现的一种方式。训练过程容易实现，容错容易处理，推理阶段计算实时高效，但内存可能消耗较大。"
   ],
   "metadata": {
    "collapsed": false,
    "pycharm": {
     "name": "#%% md\n"
    }
   }
  },
  {
   "cell_type": "code",
   "execution_count": null,
   "outputs": [],
   "source": [],
   "metadata": {
    "collapsed": false,
    "pycharm": {
     "name": "#%%\n"
    }
   }
  }
 ],
 "metadata": {
  "kernelspec": {
   "display_name": "Python 3",
   "language": "python",
   "name": "python3"
  },
  "language_info": {
   "codemirror_mode": {
    "name": "ipython",
    "version": 2
   },
   "file_extension": ".py",
   "mimetype": "text/x-python",
   "name": "python",
   "nbconvert_exporter": "python",
   "pygments_lexer": "ipython2",
   "version": "2.7.6"
  },
  "pycharm": {
   "stem_cell": {
    "cell_type": "raw",
    "source": [],
    "metadata": {
     "collapsed": false
    }
   }
  }
 },
 "nbformat": 4,
 "nbformat_minor": 0
}