{
 "cells": [
  {
   "cell_type": "markdown",
   "metadata": {
    "collapsed": true,
    "pycharm": {
     "name": "#%% md\n"
    }
   },
   "source": [
    "## 1. 写一个方法，实现从一个字串经过哪些操作后能得到另一个字串？"
   ]
  },
  {
   "cell_type": "code",
   "execution_count": 2,
   "outputs": [],
   "source": [
    "from functools import lru_cache\n",
    "import copy"
   ],
   "metadata": {
    "collapsed": false,
    "pycharm": {
     "name": "#%%\n",
     "is_executing": false
    }
   }
  },
  {
   "cell_type": "code",
   "execution_count": 3,
   "outputs": [],
   "source": [
    "@lru_cache(maxsize=2**10) # 调用下面的函数时，若找到相同的输入，那么直接返回相同的输出结果\n",
    "def edit_distance(string1, string2):\n",
    "    \n",
    "    if len(string1) == 0: return len(string2), []\n",
    "    if len(string2) == 0: return len(string1), []\n",
    "    \n",
    "    tail_s1 = string1[-1]\n",
    "    tail_s2 = string2[-1]\n",
    "    \n",
    "    min_distance1, operations1 = edit_distance(string1[:-1], string2)\n",
    "    min_distance1 += 1\n",
    "    operations1 = copy.copy(operations1)\n",
    "    operations1.append('DEL p{}_{}'.format(len(string1) - 1 , tail_s1),)  \n",
    "    \n",
    "    min_distance2, operations2 = edit_distance(string1, string2[:-1])\n",
    "    operations2 = copy.copy(operations2)\n",
    "    operations2.append('ADD p{}_{}'.format(len(string2) - 1 , tail_s2), )  \n",
    "    min_distance2 += 1\n",
    "    \n",
    "    if tail_s1 == tail_s2:\n",
    "        min_distance3, operations3 = edit_distance(string1[:-1], string2[:-1])\n",
    "    else:\n",
    "        min_distance3, operations3 = edit_distance(string1[:-1], string2[:-1])\n",
    "        min_distance3 += 1\n",
    "        operations3 = copy.copy(operations3)\n",
    "        operations3.append('SUB p{}_{} => p{}_{}'.format(len(string1) - 1 ,tail_s1, len(string2) - 1, tail_s2))\n",
    "    \n",
    "    candidates = [\n",
    "        (min_distance1, operations1),\n",
    "        (min_distance2, operations2),\n",
    "        (min_distance3, operations3),\n",
    "    ] \n",
    "    \n",
    "    min_distance, operations = min(candidates, key=lambda x: x[0])\n",
    "    \n",
    "    return min_distance, operations\n"
   ],
   "metadata": {
    "collapsed": false,
    "pycharm": {
     "name": "#%%\n",
     "is_executing": false
    }
   }
  },
  {
   "cell_type": "code",
   "execution_count": 4,
   "outputs": [
    {
     "data": {
      "text/plain": "(3, ['SUB p3_D => p3_C', 'SUB p5_C => p5_F', 'DEL p6_G'])"
     },
     "metadata": {},
     "output_type": "execute_result",
     "execution_count": 4
    }
   ],
   "source": [
    "edit_distance('ABCDECG','ABCCEF')"
   ],
   "metadata": {
    "collapsed": false,
    "pycharm": {
     "name": "#%%\n",
     "is_executing": false
    }
   }
  },
  {
   "cell_type": "code",
   "execution_count": 5,
   "outputs": [
    {
     "data": {
      "text/plain": "(7,\n ['SUB p3_称 => p3_说',\n  'DEL p4_来',\n  'DEL p5_自',\n  'SUB p10_非 => p8_都',\n  'SUB p11_常 => p9_是',\n  'SUB p12_好 => p10_垃',\n  'ADD p11_圾'])"
     },
     "metadata": {},
     "output_type": "execute_result",
     "execution_count": 5
    }
   ],
   "source": [
    "edit_distance('特朗普称来自中国物资非常好','特朗普说中国物资都是垃圾')"
   ],
   "metadata": {
    "collapsed": false,
    "pycharm": {
     "name": "#%%\n",
     "is_executing": false
    }
   }
  },
  {
   "cell_type": "markdown",
   "source": [
    "## 2. 如何让输入法输入字符串后在不带空格的时候完成修正？如何完成拼音的自动分割？\n",
    "\n",
    "提示：使用第一节课提到的语言模型。"
   ],
   "metadata": {
    "collapsed": false,
    "pycharm": {
     "name": "#%% md\n",
     "is_executing": false
    }
   }
  },
  {
   "cell_type": "code",
   "execution_count": 6,
   "outputs": [],
   "source": [
    "# import pinyin # 不知道为什么，安装后不能使用"
   ],
   "metadata": {
    "collapsed": false,
    "pycharm": {
     "name": "#%%\n",
     "is_executing": false
    }
   }
  },
  {
   "cell_type": "markdown",
   "source": [
    "先找个好用的拼音库："
   ],
   "metadata": {
    "collapsed": false,
    "pycharm": {
     "name": "#%% md\n"
    }
   }
  },
  {
   "cell_type": "code",
   "execution_count": 6,
   "outputs": [],
   "source": [
    "from xpinyin import Pinyin\n",
    "pinyin = Pinyin()"
   ],
   "metadata": {
    "collapsed": false,
    "pycharm": {
     "name": "#%%\n",
     "is_executing": false
    }
   }
  },
  {
   "cell_type": "code",
   "execution_count": 7,
   "outputs": [
    {
     "name": "stdout",
     "text": [
      "shang-hai\n",
      "shàng-hǎi\n",
      "shang4-hai3\n",
      "shanghai\n",
      "shang hai\n",
      "S\n",
      "S-H\n",
      "SH\n",
      "S H\n",
      "sh\n",
      "zhong4\n",
      "he2\n"
     ],
     "output_type": "stream"
    }
   ],
   "source": [
    "pinyin.get_pinyin('我们是共产主义接班人')\n",
    "\n",
    "# 默认以'-'为分割符\n",
    "a = pinyin.get_pinyin(u\"上海\")\n",
    "print(a)\n",
    "\n",
    "# 默认以'-'分割,显示音调\n",
    "b = pinyin.get_pinyin(u'上海', tone_marks='marks')\n",
    "print(b)\n",
    "\n",
    "# 默认以'-'分割,显示音调\n",
    "b = pinyin.get_pinyin(u'上海', tone_marks='numbers')\n",
    "print(b)\n",
    "\n",
    "# 删除分割符\n",
    "c = pinyin.get_pinyin(u'上海', '')\n",
    "print(c)\n",
    "\n",
    "# 设置空白格为分割符\n",
    "d = pinyin.get_pinyin(u'上海', ' ')\n",
    "print(d)\n",
    "\n",
    "d1 = pinyin.get_initial(u'上')\n",
    "print(d1)\n",
    "\n",
    "d2 = pinyin.get_initials(u'上海')\n",
    "print(d2)\n",
    "\n",
    "d3 = pinyin.get_initials(u'上海', u'')\n",
    "print(d3)\n",
    "\n",
    "d4 = pinyin.get_initials(u'上海', u' ')\n",
    "print(d4)\n",
    "\n",
    "wordvalue = '上海'\n",
    "s = pinyin.get_initials(wordvalue, u'').lower()\n",
    "print(s)\n",
    "\n",
    "# 多音字\n",
    "print(pinyin.get_pinyin('重', tone_marks='numbers'))\n",
    "print(pinyin.get_pinyin('和', tone_marks='numbers'))"
   ],
   "metadata": {
    "collapsed": false,
    "pycharm": {
     "name": "#%%\n",
     "is_executing": false
    }
   }
  },
  {
   "cell_type": "code",
   "execution_count": 8,
   "outputs": [],
   "source": [
    "from pypinyin import pinyin, lazy_pinyin, Style, load_phrases_dict, load_single_dict\n",
    "from pypinyin.style import register"
   ],
   "metadata": {
    "collapsed": false,
    "pycharm": {
     "name": "#%%\n",
     "is_executing": false
    }
   }
  },
  {
   "cell_type": "code",
   "execution_count": 9,
   "outputs": [
    {
     "name": "stdout",
     "text": [
      "[['nǐ'], ['hǎo']]\n",
      "[['zhōng', 'zhòng'], ['xīn'], ['zhōng', 'zhòng'], ['xīn']]\n",
      "[['z'], ['x'], ['z'], ['x']]\n",
      "[['zho1ng', 'zho4ng'], ['xi1n'], ['zho1ng', 'zho4ng'], ['xi1n']]\n",
      "['zhong', 'xin']\n"
     ],
     "output_type": "stream"
    }
   ],
   "source": [
    "print(pinyin('你好'))  # [['nǐ'], ['hǎo']]\n",
    "print(pinyin('中心中心', heteronym=True))  # 启用多音字模式  # [['zhōng', 'zhòng'], ['xīn']]\n",
    "print(pinyin('中心中心', style=Style.FIRST_LETTER))  # 设置拼音风格，第一个字母 [['z'], ['x']]\n",
    "print(pinyin('中心中心', style=Style.TONE2, heteronym=True))  # [['zho1ng', 'zho4ng'], ['xi1n']]\n",
    "print(lazy_pinyin('中心'))  # 不考虑多音字的情况 # ['zhong', 'xin']"
   ],
   "metadata": {
    "collapsed": false,
    "pycharm": {
     "name": "#%%\n",
     "is_executing": false
    }
   }
  },
  {
   "cell_type": "code",
   "execution_count": 10,
   "outputs": [
    {
     "name": "stdout",
     "text": [
      "['ni', 'hao', '☆d☆', 'ni', 'hao']\n",
      "['ni', 'hao', 'ni', 'hao']\n",
      "['ni', 'hao', '2606622606', 'ni', 'hao']\n",
      "['ni', 'hao', 'star', 'ni', 'hao']\n",
      "['ha2i', 'me2i']\n",
      "['ju2', 'zi3']\n",
      "['ha2i', 'me2i']\n"
     ],
     "output_type": "stream"
    }
   ],
   "source": [
    "##########处理不包含拼音的字符\n",
    "# default (默认行为): 不做任何处理，原样返回:\n",
    "print(lazy_pinyin('你好☆d☆你好'))  # ['ni', 'hao', '☆☆']\n",
    "# ignore : 忽略该字符\n",
    "print(lazy_pinyin('你好☆c☆你好', errors='ignore'))  # ['ni', 'hao']\n",
    "# replace : 替换为去掉 \\u 的 unicode 编码\n",
    "print(lazy_pinyin('你好☆b☆你好', errors='replace'))  # ['ni', 'hao', '26062606']\n",
    "# callable 对象 : 提供一个回调函数，接受无拼音字符(串)作为参数, 支持的返回值类型: unicode 或 list ([unicode, …]) 或 None 。\n",
    "print(lazy_pinyin('你好☆a☆你好', errors=lambda x: 'star'))  # ['ni', 'hao', 'star']\n",
    "\n",
    "########### 自定义拼音库\n",
    "print(lazy_pinyin('还没', style=Style.TONE2))\n",
    "load_phrases_dict({'桔子': [['jú'], ['zǐ']]})  # 增加 \"桔子\" 词组，可以自己定义\n",
    "print(lazy_pinyin('桔子', style=Style.TONE2))\n",
    "\n",
    "load_single_dict({ord('还'): 'hái,huán'})  # 调整 \"还\" 字的拼音顺序\n",
    "print(lazy_pinyin('还没', style=Style.TONE2))"
   ],
   "metadata": {
    "collapsed": false,
    "pycharm": {
     "name": "#%%\n",
     "is_executing": false
    }
   }
  },
  {
   "cell_type": "code",
   "execution_count": 11,
   "outputs": [
    {
     "name": "stdout",
     "text": [
      "['😘 me', '😘 me', '😘 dá']\n",
      "['me', 'me', 'da']\n"
     ],
     "output_type": "stream"
    }
   ],
   "source": [
    "###########自定义拼音风格\n",
    "@register('kiss')\n",
    "def kiss(mypinyin, **kwargs):\n",
    "    return '😘 {0}'.format(mypinyin)\n",
    "\n",
    "print(lazy_pinyin('么么哒', style='kiss'))\n",
    "print(lazy_pinyin('么么哒'))"
   ],
   "metadata": {
    "collapsed": false,
    "pycharm": {
     "name": "#%%\n",
     "is_executing": false
    }
   }
  },
  {
   "cell_type": "markdown",
   "source": [
    "还是pypinyin比较好，功能齐全！\n",
    "\n",
    "接下来实现功能：\n",
    "\n",
    "思路一： 训练时目标是构建一个字典，key是拼音，value是子字典（key是可能的词，value是 词库词频和用户输入次数等的数据对象），\n",
    "训练时进行容错处理，应用时词选取根据词频和用户数据等信息计算后进行排序并显示给用户。\n",
    "\n",
    "训练过程：\n",
    "\n",
    "1. 用分词工具把语料切割成词，然后去重并统计每个词出现的次数。\n",
    "\n",
    "2. 过滤掉非汉字字符。\n",
    "\n",
    "3. 循环所有字和词的拼音以及容错性处理的拼音及它们的声母，建立这样一个字典。\n",
    "\n",
    "4*. 字典的持久化保存。\n",
    "\n",
    "推理过程：\n",
    "\n",
    "1. 如果用户输入的拼音能在字典中找到则直接计算出结果显示。\n",
    "\n",
    "2. 如果用户输入的拼音太长则使用动态规划对拼音进行切割后执行1再拼接。\n",
    "\n",
    "思路二：建立一个Seq2Seq的深度神经网络模型\n",
    "训练过程：\n",
    "1. 用分词工具把语料切割成词，然后去重并统计每个词出现的次数。\n",
    "2. 过滤掉非汉字字符。\n",
    "3. 循环所有字和词的拼音以及容错性处理的拼音及它们的声母，输入为拼音，输出为词向量。\n",
    "推理过程：\n",
    "输入拼音通过模型得到结果\n",
    "\n",
    "这思路一较容易实现。训练过程容易实现，容错容易处理，推理阶段计算实时高效，但内存可能消耗较大。\n",
    "思路二的Seq2Seq模型本学生还没学会，不知道具体训练过程，悲剧！\n",
    "\n",
    "所以下面使用思路一来实现："
   ],
   "metadata": {
    "collapsed": false,
    "pycharm": {
     "name": "#%% md\n"
    }
   }
  },
  {
   "cell_type": "code",
   "execution_count": 12,
   "outputs": [
    {
     "name": "stdout",
     "text": [
      "Model loaded succeed\n"
     ],
     "output_type": "stream"
    }
   ],
   "source": [
    "# 分词\n",
    "import thulac\n",
    "import pandas as pd\n",
    "from collections import Counter\n",
    "import numpy as np\n",
    "import re\n",
    "import math\n",
    "\n",
    "wordCuter = thulac.thulac(seg_only=True)"
   ],
   "metadata": {
    "collapsed": false,
    "pycharm": {
     "name": "#%%\n",
     "is_executing": false
    }
   }
  },
  {
   "cell_type": "code",
   "execution_count": 4,
   "outputs": [],
   "source": [
    "def getCsvArticles(filename, contentColName, encoding='gb18030'):\n",
    "    content = pd.read_csv(filename, encoding=encoding)\n",
    "    articles = content[contentColName].tolist()\n",
    "    return articles\n",
    "\n",
    "content = pd.read_csv('../Lesson10/Data/新华社数据.csv', encoding='gb18030')\n",
    "articles = content['content'].tolist()"
   ],
   "metadata": {
    "collapsed": false,
    "pycharm": {
     "name": "#%%\n",
     "is_executing": false
    }
   }
  },
  {
   "cell_type": "code",
   "execution_count": 38,
   "outputs": [
    {
     "name": "stdout",
     "text": [
      "1000/89611\n",
      "2000/89611\n",
      "3000/89611\n",
      "4000/89611\n",
      "5000/89611\n",
      "6000/89611\n",
      "7000/89611\n",
      "8000/89611\n",
      "12000/89611\n",
      "13000/89611\n",
      "14000/89611\n",
      "15000/89611\n",
      "16000/89611\n",
      "17000/89611\n",
      "18000/89611\n",
      "19000/89611\n",
      "20000/89611\n",
      "21000/89611\n",
      "22000/89611\n",
      "23000/89611\n",
      "24000/89611\n",
      "25000/89611\n",
      "26000/89611\n",
      "27000/89611\n",
      "28000/89611\n",
      "29000/89611\n",
      "30000/89611\n",
      "31000/89611\n",
      "32000/89611\n",
      "33000/89611\n",
      "34000/89611\n",
      "35000/89611\n",
      "36000/89611\n",
      "37000/89611\n",
      "38000/89611\n",
      "39000/89611\n",
      "40000/89611\n",
      "41000/89611\n",
      "42000/89611\n",
      "43000/89611\n",
      "44000/89611\n",
      "45000/89611\n",
      "46000/89611\n",
      "47000/89611\n",
      "48000/89611\n",
      "49000/89611\n",
      "50000/89611\n",
      "51000/89611\n",
      "52000/89611\n",
      "53000/89611\n",
      "54000/89611\n",
      "55000/89611\n",
      "56000/89611\n",
      "57000/89611\n",
      "58000/89611\n",
      "59000/89611\n",
      "60000/89611\n",
      "61000/89611\n",
      "62000/89611\n",
      "63000/89611\n",
      "64000/89611\n",
      "65000/89611\n",
      "66000/89611\n",
      "67000/89611\n",
      "68000/89611\n",
      "69000/89611\n",
      "70000/89611\n",
      "71000/89611\n",
      "72000/89611\n",
      "73000/89611\n",
      "74000/89611\n",
      "75000/89611\n",
      "76000/89611\n",
      "77000/89611\n",
      "78000/89611\n",
      "79000/89611\n",
      "80000/89611\n",
      "81000/89611\n",
      "82000/89611\n",
      "83000/89611\n",
      "84000/89611\n",
      "85000/89611\n",
      "86000/89611\n",
      "87000/89611\n",
      "88000/89611\n",
      "89000/89611\n"
     ],
     "output_type": "stream"
    },
    {
     "name": "stderr",
     "text": [
      "IOPub data rate exceeded.\n",
      "The notebook server will temporarily stop sending output\n",
      "to the client in order to avoid crashing it.\n",
      "To change this limit, set the config variable\n",
      "`--NotebookApp.iopub_data_rate_limit`.\n",
      "\n",
      "Current values:\n",
      "NotebookApp.iopub_data_rate_limit=1000000.0 (bytes/sec)\n",
      "NotebookApp.rate_limit_window=3.0 (secs)\n",
      "\n"
     ],
     "output_type": "stream"
    }
   ],
   "source": [
    "# 分词过程\n",
    "words = []\n",
    "for i, article in enumerate(articles):\n",
    "    if not isinstance(article, str):\n",
    "        continue\n",
    "    if i % 1000 == 999:\n",
    "        print('{0}/{1}'.format(i + 1, len(articles)))\n",
    "    _words = [ t1  for t1,t2 in wordCuter.cut(article, text=False)] \n",
    "    words += _words\n",
    "    \n",
    "wordsCounter = Counter(words)\n",
    "print(wordsCounter)"
   ],
   "metadata": {
    "collapsed": false,
    "pycharm": {
     "name": "#%%\n",
     "is_executing": false
    }
   }
  },
  {
   "cell_type": "code",
   "execution_count": 39,
   "outputs": [
    {
     "name": "stdout",
     "text": [
      "1000/296844\n",
      "2000/296844\n",
      "3000/296844\n",
      "4000/296844\n",
      "5000/296844\n",
      "6000/296844\n",
      "7000/296844\n",
      "8000/296844\n",
      "9000/296844\n",
      "10000/296844\n",
      "11000/296844\n",
      "12000/296844\n",
      "13000/296844\n",
      "14000/296844\n",
      "15000/296844\n",
      "16000/296844\n",
      "17000/296844\n",
      "18000/296844\n",
      "19000/296844\n",
      "20000/296844\n",
      "21000/296844\n",
      "22000/296844\n",
      "23000/296844\n",
      "24000/296844\n",
      "25000/296844\n",
      "26000/296844\n",
      "27000/296844\n",
      "28000/296844\n",
      "29000/296844\n",
      "30000/296844\n",
      "31000/296844\n",
      "32000/296844\n",
      "33000/296844\n",
      "34000/296844\n",
      "35000/296844\n",
      "36000/296844\n",
      "37000/296844\n",
      "38000/296844\n",
      "39000/296844\n",
      "40000/296844\n",
      "41000/296844\n",
      "42000/296844\n",
      "43000/296844\n",
      "44000/296844\n",
      "45000/296844\n",
      "46000/296844\n",
      "47000/296844\n",
      "48000/296844\n",
      "49000/296844\n",
      "50000/296844\n",
      "51000/296844\n",
      "52000/296844\n",
      "53000/296844\n",
      "54000/296844\n",
      "55000/296844\n",
      "56000/296844\n",
      "57000/296844\n",
      "58000/296844\n",
      "59000/296844\n",
      "60000/296844\n",
      "61000/296844\n",
      "62000/296844\n",
      "63000/296844\n",
      "64000/296844\n",
      "65000/296844\n",
      "66000/296844\n",
      "67000/296844\n",
      "68000/296844\n",
      "69000/296844\n",
      "70000/296844\n",
      "71000/296844\n",
      "72000/296844\n",
      "73000/296844\n",
      "74000/296844\n",
      "75000/296844\n",
      "76000/296844\n",
      "77000/296844\n",
      "78000/296844\n",
      "79000/296844\n",
      "80000/296844\n",
      "81000/296844\n",
      "82000/296844\n",
      "83000/296844\n",
      "84000/296844\n",
      "85000/296844\n",
      "86000/296844\n",
      "87000/296844\n",
      "88000/296844\n",
      "89000/296844\n",
      "90000/296844\n",
      "91000/296844\n",
      "92000/296844\n",
      "93000/296844\n",
      "94000/296844\n",
      "95000/296844\n",
      "96000/296844\n",
      "97000/296844\n",
      "98000/296844\n",
      "99000/296844\n",
      "100000/296844\n",
      "101000/296844\n",
      "102000/296844\n",
      "103000/296844\n",
      "104000/296844\n",
      "105000/296844\n",
      "106000/296844\n",
      "107000/296844\n",
      "108000/296844\n",
      "109000/296844\n",
      "110000/296844\n",
      "111000/296844\n",
      "112000/296844\n",
      "113000/296844\n",
      "114000/296844\n",
      "115000/296844\n",
      "116000/296844\n",
      "117000/296844\n",
      "118000/296844\n",
      "119000/296844\n",
      "120000/296844\n",
      "121000/296844\n",
      "122000/296844\n",
      "123000/296844\n",
      "124000/296844\n",
      "125000/296844\n",
      "126000/296844\n",
      "127000/296844\n",
      "128000/296844\n",
      "129000/296844\n",
      "130000/296844\n",
      "131000/296844\n",
      "132000/296844\n",
      "133000/296844\n",
      "134000/296844\n",
      "135000/296844\n",
      "136000/296844\n",
      "137000/296844\n",
      "138000/296844\n",
      "139000/296844\n",
      "140000/296844\n",
      "141000/296844\n",
      "142000/296844\n",
      "143000/296844\n",
      "144000/296844\n",
      "145000/296844\n",
      "146000/296844\n",
      "147000/296844\n",
      "148000/296844\n",
      "149000/296844\n",
      "150000/296844\n",
      "151000/296844\n",
      "152000/296844\n",
      "153000/296844\n",
      "154000/296844\n",
      "155000/296844\n",
      "156000/296844\n",
      "157000/296844\n",
      "158000/296844\n",
      "159000/296844\n",
      "160000/296844\n",
      "161000/296844\n",
      "162000/296844\n",
      "163000/296844\n",
      "164000/296844\n",
      "165000/296844\n",
      "166000/296844\n",
      "167000/296844\n",
      "168000/296844\n",
      "169000/296844\n",
      "170000/296844\n",
      "171000/296844\n",
      "172000/296844\n",
      "173000/296844\n",
      "174000/296844\n",
      "175000/296844\n",
      "176000/296844\n",
      "177000/296844\n",
      "178000/296844\n",
      "179000/296844\n",
      "180000/296844\n",
      "181000/296844\n",
      "182000/296844\n",
      "183000/296844\n",
      "184000/296844\n",
      "185000/296844\n",
      "186000/296844\n",
      "187000/296844\n",
      "188000/296844\n",
      "189000/296844\n",
      "190000/296844\n",
      "191000/296844\n",
      "192000/296844\n",
      "193000/296844\n",
      "194000/296844\n",
      "195000/296844\n",
      "196000/296844\n",
      "197000/296844\n",
      "198000/296844\n",
      "199000/296844\n",
      "200000/296844\n",
      "201000/296844\n",
      "202000/296844\n",
      "203000/296844\n",
      "204000/296844\n",
      "205000/296844\n",
      "206000/296844\n",
      "207000/296844\n",
      "208000/296844\n",
      "209000/296844\n",
      "210000/296844\n",
      "211000/296844\n",
      "212000/296844\n",
      "213000/296844\n",
      "214000/296844\n",
      "215000/296844\n",
      "216000/296844\n",
      "217000/296844\n",
      "218000/296844\n",
      "219000/296844\n",
      "220000/296844\n",
      "221000/296844\n",
      "222000/296844\n",
      "223000/296844\n",
      "224000/296844\n",
      "225000/296844\n",
      "226000/296844\n",
      "227000/296844\n",
      "228000/296844\n",
      "229000/296844\n",
      "230000/296844\n",
      "231000/296844\n",
      "232000/296844\n",
      "233000/296844\n",
      "234000/296844\n",
      "235000/296844\n",
      "236000/296844\n",
      "237000/296844\n",
      "238000/296844\n",
      "239000/296844\n",
      "240000/296844\n",
      "241000/296844\n",
      "242000/296844\n",
      "243000/296844\n",
      "244000/296844\n",
      "245000/296844\n",
      "246000/296844\n",
      "247000/296844\n",
      "248000/296844\n",
      "249000/296844\n",
      "250000/296844\n",
      "251000/296844\n",
      "252000/296844\n",
      "253000/296844\n",
      "254000/296844\n",
      "255000/296844\n",
      "256000/296844\n",
      "257000/296844\n",
      "258000/296844\n",
      "259000/296844\n",
      "260000/296844\n",
      "261000/296844\n",
      "262000/296844\n",
      "263000/296844\n",
      "264000/296844\n",
      "265000/296844\n",
      "266000/296844\n",
      "267000/296844\n",
      "268000/296844\n",
      "269000/296844\n",
      "270000/296844\n",
      "271000/296844\n",
      "272000/296844\n",
      "273000/296844\n",
      "274000/296844\n",
      "275000/296844\n",
      "276000/296844\n",
      "277000/296844\n",
      "278000/296844\n",
      "279000/296844\n",
      "280000/296844\n",
      "281000/296844\n",
      "282000/296844\n",
      "283000/296844\n",
      "284000/296844\n",
      "285000/296844\n",
      "286000/296844\n",
      "287000/296844\n",
      "288000/296844\n",
      "289000/296844\n",
      "290000/296844\n",
      "291000/296844\n",
      "292000/296844\n",
      "293000/296844\n",
      "294000/296844\n",
      "295000/296844\n",
      "296000/296844\n"
     ],
     "output_type": "stream"
    },
    {
     "name": "stderr",
     "text": [
      "IOPub data rate exceeded.\n",
      "The notebook server will temporarily stop sending output\n",
      "to the client in order to avoid crashing it.\n",
      "To change this limit, set the config variable\n",
      "`--NotebookApp.iopub_data_rate_limit`.\n",
      "\n",
      "Current values:\n",
      "NotebookApp.iopub_data_rate_limit=1000000.0 (bytes/sec)\n",
      "NotebookApp.rate_limit_window=3.0 (secs)\n",
      "\n"
     ],
     "output_type": "stream"
    }
   ],
   "source": [
    "# 过滤掉非汉字字符\n",
    "\n",
    "newWordsCounter = {}\n",
    "for i, (word, wCount) in enumerate(wordsCounter.items()):\n",
    "    if i % 1000 == 999:\n",
    "        print('{0}/{1}'.format(i + 1, len(wordsCounter)))\n",
    "\n",
    "    _words = re.findall('[\\u4e00-\\u9fa5]+', word)\n",
    "    if len(_words) == 0 : continue \n",
    "    for _word in _words:\n",
    "        if _word != '':\n",
    "            if _word in newWordsCounter:\n",
    "                newWordsCounter[_word] += wCount\n",
    "            else:\n",
    "                newWordsCounter[_word] = wCount\n",
    "            \n",
    "print(newWordsCounter)"
   ],
   "metadata": {
    "collapsed": false,
    "pycharm": {
     "name": "#%%\n",
     "is_executing": false
    }
   }
  },
  {
   "cell_type": "code",
   "execution_count": 13,
   "outputs": [],
   "source": [
    "import json"
   ],
   "metadata": {
    "collapsed": false,
    "pycharm": {
     "name": "#%%\n",
     "is_executing": false
    }
   }
  },
  {
   "cell_type": "code",
   "execution_count": 41,
   "outputs": [],
   "source": [
    "# 写入 JSON 数据\n",
    "with open('data.json', 'w') as f:\n",
    "    json.dump(newWordsCounter, f)\n",
    "    "
   ],
   "metadata": {
    "collapsed": false,
    "pycharm": {
     "name": "#%%\n",
     "is_executing": false
    }
   }
  },
  {
   "cell_type": "code",
   "execution_count": 14,
   "outputs": [],
   "source": [
    "# 读取数据\n",
    "with open('data.json', 'r') as f:\n",
    "    newWordsCounter = json.load(f)"
   ],
   "metadata": {
    "collapsed": false,
    "pycharm": {
     "name": "#%%\n",
     "is_executing": false
    }
   }
  },
  {
   "cell_type": "code",
   "execution_count": 15,
   "outputs": [],
   "source": [
    "# 容错表, key1: 正确的拼音，key2：可能的错误的拼音，value：权重值\n",
    "faultTolerantMap = {\n",
    "    'ShengMu':{ # 声母\n",
    "        'z':{'zh':0.6},\n",
    "        'c':{'ch':0.6},\n",
    "        's':{'sh':0.6},\n",
    "        'zh':{'z':0.6},\n",
    "        'ch':{'c':0.6},\n",
    "        'sh':{'s':0.6},\n",
    "        'x':{'th':0.5},\n",
    "        'q':{'th':0.4},\n",
    "        'k':{'q':0.5},\n",
    "        'j':{'g':0.5},\n",
    "        'g':{'j':0.5},\n",
    "    },\n",
    "    'YunMu':{ # 韵母\n",
    "        'ong':{'on':0.7, 'og':0.5, 'o':0.3},\n",
    "        'ang':{'an':0.7, 'ag':0.5},\n",
    "        'an':{'ong':0.7, 'a':0.3},\n",
    "        'ing':{'in':0.7, 'i':0.3},\n",
    "        'iang':{'ian':0.7, 'iag':0.5, 'ia':0.3},\n",
    "        'iong':{'ion':0.7, 'iog':0.5, 'io':0.5},\n",
    "        'in':{'ing':0.7, 'i':0.3},\n",
    "        'eng':{'en':0.7, 'eg':0.5},\n",
    "        'en':{'eng':0.7},\n",
    "    },\n",
    "}"
   ],
   "metadata": {
    "collapsed": false,
    "pycharm": {
     "name": "#%%\n",
     "is_executing": false
    }
   }
  },
  {
   "cell_type": "code",
   "execution_count": 16,
   "outputs": [
    {
     "name": "stdout",
     "text": [
      "0\n",
      "3\n",
      "3\n",
      "12\n",
      "9\n",
      "9\n",
      "6\n",
      "4\n",
      "5\n",
      "12\n",
      "11\n",
      "10\n",
      "['jjj', 'jjj']\n",
      "<callable_iterator object at 0x00000248956187C8>\n"
     ],
     "output_type": "stream"
    }
   ],
   "source": [
    "print(str.find('jjjsssjjjiiie', 'jjj'))\n",
    "print(str.find('jjjsssjjjiiie', 'ss'))\n",
    "print(str.find('jjjsssjjjiiie', 's'))\n",
    "print(str.find('jjjsssjjjiiie', 'e'))\n",
    "print(str.find('jjjsssjjjiiie', 'i'))\n",
    "print(str.find('jjjsssjjjiiie', 'ii'))\n",
    "print(str.rfind('jjjsssjjjiiie', 'jjj'))\n",
    "print(str.rfind('jjjsssjjjiiie', 'ss'))\n",
    "print(str.rfind('jjjsssjjjiiie', 's'))\n",
    "print(str.rfind('jjjsssjjjiiie', 'e'))\n",
    "print(str.rfind('jjjsssjjjiiie', 'i'))\n",
    "print(str.rfind('jjjsssjjjiiie', 'ii'))\n",
    "print(re.findall('jjj', 'jjjsssjjjiiie'))\n",
    "print(re.finditer('jjj', 'jjjsssjjjiiie'))"
   ],
   "metadata": {
    "collapsed": false,
    "pycharm": {
     "name": "#%%\n",
     "is_executing": false
    }
   }
  },
  {
   "cell_type": "code",
   "execution_count": 17,
   "outputs": [
    {
     "name": "stdout",
     "text": [
      "-1\n",
      "1\n",
      "False\n",
      "False\n"
     ],
     "output_type": "stream"
    }
   ],
   "source": [
    "# for i, (word, wCount) in enumerate(newWordsCounter.items()):\n",
    "#     if i >5000 and i < 6000:\n",
    "#         print(word)\n",
    "\n",
    "print(str.rfind('z', 'hh'))\n",
    "print(str.rfind('zhh', 'hh'))\n",
    "print(not str.rfind('z', 'hh'))\n",
    "print(not str.rfind('zhh', 'hh'))"
   ],
   "metadata": {
    "collapsed": false,
    "pycharm": {
     "name": "#%%\n",
     "is_executing": false
    }
   }
  },
  {
   "cell_type": "code",
   "execution_count": 18,
   "outputs": [
    {
     "name": "stdout",
     "text": [
      "newWordsCounter length :  247150\n",
      "1000/247150\n",
      "2000/247150\n",
      "3000/247150\n",
      "4000/247150\n",
      "5000/247150\n",
      "6000/247150\n",
      "7000/247150\n",
      "8000/247150\n",
      "9000/247150\n",
      "10000/247150\n",
      "11000/247150\n",
      "12000/247150\n",
      "13000/247150\n",
      "14000/247150\n",
      "15000/247150\n",
      "16000/247150\n",
      "17000/247150\n",
      "18000/247150\n",
      "19000/247150\n",
      "20000/247150\n",
      "21000/247150\n",
      "22000/247150\n",
      "23000/247150\n",
      "24000/247150\n",
      "25000/247150\n",
      "26000/247150\n",
      "27000/247150\n",
      "28000/247150\n",
      "29000/247150\n",
      "30000/247150\n",
      "31000/247150\n",
      "32000/247150\n",
      "33000/247150\n",
      "34000/247150\n",
      "35000/247150\n",
      "36000/247150\n",
      "37000/247150\n",
      "38000/247150\n",
      "39000/247150\n",
      "40000/247150\n",
      "41000/247150\n",
      "42000/247150\n",
      "43000/247150\n",
      "44000/247150\n",
      "45000/247150\n",
      "46000/247150\n",
      "47000/247150\n",
      "48000/247150\n",
      "49000/247150\n",
      "50000/247150\n",
      "51000/247150\n",
      "52000/247150\n",
      "53000/247150\n",
      "54000/247150\n",
      "55000/247150\n",
      "56000/247150\n",
      "57000/247150\n",
      "58000/247150\n",
      "59000/247150\n",
      "60000/247150\n",
      "61000/247150\n",
      "62000/247150\n",
      "63000/247150\n",
      "64000/247150\n",
      "65000/247150\n",
      "66000/247150\n",
      "67000/247150\n",
      "68000/247150\n",
      "69000/247150\n",
      "70000/247150\n",
      "71000/247150\n",
      "72000/247150\n",
      "73000/247150\n",
      "74000/247150\n",
      "75000/247150\n",
      "76000/247150\n",
      "77000/247150\n",
      "78000/247150\n",
      "79000/247150\n",
      "80000/247150\n",
      "81000/247150\n",
      "82000/247150\n",
      "83000/247150\n",
      "84000/247150\n",
      "85000/247150\n",
      "86000/247150\n",
      "87000/247150\n",
      "88000/247150\n",
      "89000/247150\n",
      "90000/247150\n",
      "91000/247150\n",
      "92000/247150\n",
      "93000/247150\n",
      "94000/247150\n",
      "95000/247150\n",
      "96000/247150\n",
      "97000/247150\n",
      "98000/247150\n",
      "99000/247150\n",
      "100000/247150\n",
      "101000/247150\n",
      "102000/247150\n",
      "103000/247150\n",
      "104000/247150\n",
      "105000/247150\n",
      "106000/247150\n",
      "107000/247150\n",
      "108000/247150\n",
      "109000/247150\n",
      "110000/247150\n",
      "111000/247150\n",
      "112000/247150\n",
      "113000/247150\n",
      "114000/247150\n",
      "115000/247150\n",
      "116000/247150\n",
      "117000/247150\n",
      "118000/247150\n",
      "119000/247150\n",
      "120000/247150\n",
      "121000/247150\n",
      "122000/247150\n",
      "123000/247150\n",
      "124000/247150\n",
      "125000/247150\n",
      "126000/247150\n",
      "127000/247150\n",
      "128000/247150\n",
      "129000/247150\n",
      "130000/247150\n",
      "131000/247150\n",
      "132000/247150\n",
      "133000/247150\n",
      "134000/247150\n",
      "135000/247150\n",
      "136000/247150\n",
      "137000/247150\n",
      "138000/247150\n",
      "139000/247150\n",
      "140000/247150\n",
      "141000/247150\n",
      "142000/247150\n",
      "143000/247150\n",
      "144000/247150\n",
      "145000/247150\n",
      "146000/247150\n",
      "147000/247150\n",
      "148000/247150\n",
      "149000/247150\n",
      "150000/247150\n",
      "151000/247150\n",
      "152000/247150\n",
      "153000/247150\n",
      "154000/247150\n",
      "155000/247150\n",
      "156000/247150\n",
      "157000/247150\n",
      "158000/247150\n",
      "159000/247150\n",
      "160000/247150\n",
      "161000/247150\n",
      "162000/247150\n",
      "163000/247150\n",
      "164000/247150\n",
      "165000/247150\n",
      "166000/247150\n",
      "167000/247150\n",
      "168000/247150\n",
      "169000/247150\n",
      "170000/247150\n",
      "171000/247150\n",
      "172000/247150\n",
      "173000/247150\n",
      "174000/247150\n",
      "175000/247150\n",
      "176000/247150\n",
      "177000/247150\n",
      "178000/247150\n",
      "179000/247150\n",
      "180000/247150\n",
      "181000/247150\n",
      "182000/247150\n",
      "183000/247150\n",
      "184000/247150\n",
      "185000/247150\n",
      "186000/247150\n",
      "187000/247150\n",
      "188000/247150\n",
      "189000/247150\n",
      "190000/247150\n",
      "191000/247150\n",
      "192000/247150\n",
      "193000/247150\n",
      "194000/247150\n",
      "195000/247150\n",
      "196000/247150\n",
      "197000/247150\n",
      "198000/247150\n",
      "199000/247150\n",
      "200000/247150\n",
      "201000/247150\n",
      "202000/247150\n",
      "203000/247150\n",
      "204000/247150\n",
      "205000/247150\n",
      "206000/247150\n",
      "207000/247150\n",
      "208000/247150\n",
      "209000/247150\n",
      "210000/247150\n",
      "211000/247150\n",
      "212000/247150\n",
      "213000/247150\n",
      "214000/247150\n",
      "215000/247150\n",
      "216000/247150\n",
      "217000/247150\n",
      "218000/247150\n",
      "219000/247150\n",
      "220000/247150\n",
      "221000/247150\n",
      "222000/247150\n",
      "223000/247150\n",
      "224000/247150\n",
      "225000/247150\n",
      "226000/247150\n",
      "227000/247150\n",
      "228000/247150\n",
      "229000/247150\n",
      "230000/247150\n",
      "231000/247150\n",
      "232000/247150\n",
      "233000/247150\n",
      "234000/247150\n",
      "235000/247150\n",
      "236000/247150\n",
      "237000/247150\n",
      "238000/247150\n",
      "239000/247150\n",
      "240000/247150\n",
      "241000/247150\n",
      "242000/247150\n",
      "243000/247150\n",
      "244000/247150\n",
      "245000/247150\n",
      "246000/247150\n",
      "247000/247150\n",
      "训练完成\n"
     ],
     "output_type": "stream"
    }
   ],
   "source": [
    "# 建立输入法模型\n",
    "model = {}\n",
    "\n",
    "# 添加子项到模型中\n",
    "def addItemToModel(model, pinyinStr, word, wCount, weight = 1):\n",
    "    if pinyinStr not in model:\n",
    "        model[pinyinStr] = {word: [weight, wCount]} #[[wordData, weight]]\n",
    "    elif word in model[pinyinStr]:\n",
    "        wordData = model[pinyinStr][word]\n",
    "        wordData[1] += wCount \n",
    "        if len(wordData) == 2: wordData.append(1)\n",
    "        wordData[0] = (wordData[0] * wordData[2] + weight) / (wordData[2] + 1) # 求平均值\n",
    "        wordData[2] += 1\n",
    "    else:\n",
    "        # model['pinyin'][pinyinStr].append([wordData, weight])\n",
    "        model[pinyinStr][word] = [weight, wCount]\n",
    "        \n",
    "def isComplete(allPY, indexes):\n",
    "    for __i, pys1 in enumerate(allPY):\n",
    "        if indexes[__i] != len(allPY[__i]) - 1:\n",
    "            return False\n",
    "    return True\n",
    "\n",
    "def addOne(allPY, indexes):\n",
    "    for __i, pys1 in enumerate(allPY):\n",
    "        if indexes[__i] < len(allPY[__i]) - 1:\n",
    "            indexes[__i] += 1\n",
    "            for _j in range(__i):\n",
    "                indexes[_j] = 0\n",
    "            break\n",
    "            \n",
    "def compineWeight(weight1, weight2):\n",
    "    return (weight1 + weight2) * 0.5\n",
    "\n",
    "print(\"newWordsCounter length : \", len(newWordsCounter))\n",
    "for i, (word, wCount) in enumerate(newWordsCounter.items()):\n",
    "    if i % 1000 == 999:\n",
    "        print('{0}/{1}'.format(i + 1, len(newWordsCounter)))\n",
    "        # break\n",
    "    wordPYs = lazy_pinyin(word, errors='ignore')\n",
    "    # https://pypi.org/project/pypinyin/  strict=False 可以让 y, w, u 成为声母\n",
    "    wordPYs_initial = lazy_pinyin(word, errors='ignore', style=Style.INITIALS, strict=False)\n",
    "    wordPYs_finals = lazy_pinyin(word, errors='ignore', style=Style.FINALS, strict=False)\n",
    "    # 先将所有可能性都记录下来\n",
    "    allPY = []\n",
    "    allPyWeight = []\n",
    "    for j, w in enumerate(word):\n",
    "        # 原拼音\n",
    "        allPY.append([wordPYs[j]])\n",
    "        allPyWeight.append([1])\n",
    "        # 原声母 (注意：可能没有声母，没有声母是，字符串为''字符串)\n",
    "        if wordPYs_initial[j] != '':\n",
    "            allPY[j].append(wordPYs_initial[j]) \n",
    "            allPyWeight[j].append(1)\n",
    "        \n",
    "        if len(word) <= 3: # 长度大于等于4的词就不处理了太费内存了。\n",
    "            if wordPYs_initial[j] != '':\n",
    "                for rpy, ftpys in faultTolerantMap['ShengMu'].items():\n",
    "                    for ftpy, weight in ftpys.items():\n",
    "                        newShmu = str.replace(wordPYs_initial[j], rpy, ftpy, 1)\n",
    "                        if newShmu != wordPYs_initial[j] and str.rfind(newShmu, 'hh') < 0:\n",
    "                            # 新声母\n",
    "                            # print('新声母', newShmu)\n",
    "                            allPY[j].append(newShmu)\n",
    "                            allPyWeight[j].append(weight)\n",
    "                            # 新声母 + 原韵母\n",
    "                            # print('新声母 + 原韵母', newShmu + wordPYs_finals[j])\n",
    "                            allPY[j].append(newShmu + wordPYs_finals[j])\n",
    "                            allPyWeight[j].append(weight)\n",
    "                            for rpy2, ftpys2 in faultTolerantMap['YunMu'].items():\n",
    "                                for ftpy2, weight2 in ftpys2.items(): \n",
    "                                    newYunMu = str.replace(wordPYs_finals[j], rpy2, ftpy2, 1)\n",
    "                                    if newYunMu != wordPYs_finals[j]:\n",
    "                                        # print('韵母', 'new:', newYunMu, 'old:',  wordPYs_finals[j], rpy2, ftpy2)\n",
    "                                        # 新声母 + 新韵母\n",
    "                                        # print('新声母 + 新韵母', newShmu + newYunMu)\n",
    "                                        allPY[j].append(newShmu + newYunMu)\n",
    "                                        allPyWeight[j].append(compineWeight(weight, weight2))\n",
    "                for rpy2, ftpys2 in faultTolerantMap['YunMu'].items():\n",
    "                    for ftpy2, weight2 in ftpys2.items(): \n",
    "                        newYunMu = str.replace(wordPYs_finals[j], rpy2, ftpy2, 1)\n",
    "                        if newYunMu != wordPYs_finals[j]:\n",
    "                            # 原声母 + 新韵母\n",
    "                            # print('原声母 + 新韵母', wordPYs_initial[j] + newYunMu)\n",
    "                            allPY[j].append(wordPYs_initial[j] + newYunMu)\n",
    "                            allPyWeight[j].append(compineWeight(1, weight2))\n",
    "            else:\n",
    "                for rpy2, ftpys2 in faultTolerantMap['YunMu'].items():\n",
    "                    for ftpy2, weight2 in ftpys2.items(): \n",
    "                        newYunMu = str.replace(wordPYs_finals[j], rpy2, ftpy2, 1)\n",
    "                        if newYunMu != wordPYs_finals[j]:\n",
    "                            allPY[j].append(newYunMu)\n",
    "                            allPyWeight[j].append(weight2)\n",
    "    # 将所有可能性组合起来\n",
    "    indexes = np.zeros(len(allPY)).astype('int').tolist()\n",
    "\n",
    "    while not isComplete(allPY, indexes):\n",
    "        newPy = ''\n",
    "        newWeights = []\n",
    "        for _i, pys in enumerate(allPY):\n",
    "            newPy += pys[indexes[_i]]\n",
    "            newWeights.append(allPyWeight[_i][indexes[_i]])\n",
    "            \n",
    "        addItemToModel(model, newPy, word, wCount, min(newWeights)) # word 越长权重越大\n",
    "            \n",
    "        addOne(allPY, indexes)\n",
    "print('训练完成')"
   ],
   "metadata": {
    "collapsed": false,
    "pycharm": {
     "name": "#%%\n",
     "is_executing": false
    }
   }
  },
  {
   "cell_type": "code",
   "execution_count": 19,
   "outputs": [],
   "source": [
    "# 写入 JSON 数据\n",
    "with open('model.json', 'w') as f:\n",
    "    json.dump(model, f)\n",
    "    "
   ],
   "metadata": {
    "collapsed": false,
    "pycharm": {
     "name": "#%%\n",
     "is_executing": false
    }
   }
  },
  {
   "cell_type": "code",
   "execution_count": null,
   "outputs": [],
   "source": [
    "# 读取数据\n",
    "with open('model.json', 'r') as f:\n",
    "    model = json.load(f)"
   ],
   "metadata": {
    "collapsed": false,
    "pycharm": {
     "name": "#%%\n"
    }
   }
  },
  {
   "cell_type": "markdown",
   "source": [
    "推理过程："
   ],
   "metadata": {
    "collapsed": false
   }
  },
  {
   "cell_type": "code",
   "execution_count": 20,
   "outputs": [
    {
     "name": "stdout",
     "text": [
      "['工程师']\n",
      "['工程师', '古茶树', '金昌市', '监察室', '接触式']\n",
      "['米', '密', '迷', '谜', '汨']\n",
      "['手机', '收集', '手记', '首季', '收紧']\n",
      "['Shouji']\n",
      "['']\n",
      "['甜城', '天成', '天城', '天宸', '添乘']\n",
      "[('工程师', 0.6, 0.8754395537002694), ('古茶树', 0.6, 0.5176059527728786), ('金昌市', 0.5, 0.5720165571822058), ('监察室', 0.5, 0.5564224449337241), ('接触式', 0.5, 0.49267802097139796)]\n"
     ],
     "output_type": "stream"
    }
   ],
   "source": [
    "# 用户输入的拼音能在字典中找到则直接计算出结果显示。\n",
    "def getWordsByPinYin(model:dict, pinyinStr, wordCount = 5, isIgnoreCase = False, hasWeight = False):\n",
    "    if isIgnoreCase: pinyinStr = str.lower(pinyinStr)\n",
    "    if pinyinStr not in model:\n",
    "        return [pinyinStr]\n",
    "    else:\n",
    "        allWords : dict = model[pinyinStr]\n",
    "        wordData = [[key, value[0], math.tanh(math.log(value[1], 100))]  for key,value in allWords.items()]\n",
    "        res = sorted(wordData, key=lambda x:x[1] * x[2], reverse=True)\n",
    "        if hasWeight:\n",
    "            return [(wordData[0], wordData[1], wordData[2]) for i, wordData in enumerate(res) if i < wordCount]\n",
    "        else:\n",
    "            return [wordData[0] for i, wordData in enumerate(res) if i < wordCount]\n",
    "        \n",
    "print(getWordsByPinYin(model, 'gongchengshi'))\n",
    "print(getWordsByPinYin(model, 'gcs'))\n",
    "print(getWordsByPinYin(model, 'mi'))\n",
    "print(getWordsByPinYin(model, 'shouji'))\n",
    "print(getWordsByPinYin(model, 'Shouji'))\n",
    "print(getWordsByPinYin(model, ''))\n",
    "print(getWordsByPinYin(model, 'tianceng'))\n",
    "print(getWordsByPinYin(model, 'gcs', hasWeight = True))"
   ],
   "metadata": {
    "collapsed": false,
    "pycharm": {
     "name": "#%% \n",
     "is_executing": false
    }
   }
  },
  {
   "cell_type": "markdown",
   "source": [
    "## 如果用户输入的拼音太长则使用动态规划对拼音进行切割后执行1再拼接。"
   ],
   "metadata": {
    "collapsed": false,
    "pycharm": {
     "name": "#%% md\n",
     "is_executing": false
    }
   }
  },
  {
   "cell_type": "code",
   "execution_count": 21,
   "outputs": [
    {
     "name": "stdout",
     "text": [
      "pin yinStr\n"
     ],
     "output_type": "stream"
    }
   ],
   "source": [
    "i = 3\n",
    "leftPinYin = 'pinyinStr'[:i]\n",
    "rightPinYin = 'pinyinStr'[i:]\n",
    "print(leftPinYin, rightPinYin)"
   ],
   "metadata": {
    "collapsed": false,
    "pycharm": {
     "name": "#%%\n",
     "is_executing": false
    }
   }
  },
  {
   "cell_type": "code",
   "execution_count": 22,
   "outputs": [],
   "source": [
    "# 在res中找出最好的搭配, weight 相乘，找出最大的几个（wordCount 个）\n",
    "def findRes(res, wordCount):\n",
    "    if isinstance(res, list) and len(res) > 0:\n",
    "        if isinstance(res[0], tuple):\n",
    "            return res\n",
    "        else:\n",
    "            subRess = []\n",
    "            for r in res:\n",
    "                subRess += findRes(r, wordCount)\n",
    "            subRess = sorted(subRess, key=lambda x:x[1] * x[2], reverse=True)\n",
    "            return [wordData for i, wordData in enumerate(subRess) if i < wordCount]\n",
    "    elif isinstance(res, dict):\n",
    "        leftSubRes = findRes(res['l'], wordCount)\n",
    "        rightSubRes = findRes(res['r'], wordCount)\n",
    "        if isinstance(leftSubRes, str) : leftSubRes = [(leftSubRes, 0.1)]\n",
    "        if isinstance(rightSubRes, str) : rightSubRes = [(rightSubRes, 0.1)]\n",
    "        mul = []\n",
    "        for sub in leftSubRes:\n",
    "            for sub1 in rightSubRes:\n",
    "                mul.append((sub[0] + sub1[0], sub[1] * sub1[1], sub[2] * sub1[2]))\n",
    "                mul = sorted(mul, key=lambda x:x[1] * x[2], reverse=True) \n",
    "                if len(mul) > wordCount:mul.pop()\n",
    "        return mul\n",
    "    else:\n",
    "        return res\n",
    "\n",
    "def getWordsByMultiPinYin(model, pinyinStr, wordCount = 5, isIgnoreCase = False):\n",
    "    @lru_cache(maxsize=2**10) \n",
    "    def _getWordsByMultiPinYin(pinyinStr, wordCount = 5, isIgnoreCase = False):\n",
    "        res = getWordsByPinYin(model, pinyinStr, wordCount = wordCount, isIgnoreCase = isIgnoreCase, hasWeight=True)\n",
    "        if res[0] == pinyinStr:\n",
    "            res = []\n",
    "            for i in range(1, len(pinyinStr)):\n",
    "                leftPinYin = pinyinStr[:i]\n",
    "                rightPinYin = pinyinStr[i:]\n",
    "                # print(leftPinYin, rightPinYin)\n",
    "                leftRes = _getWordsByMultiPinYin(leftPinYin, wordCount, isIgnoreCase)\n",
    "                rightRes = _getWordsByMultiPinYin(rightPinYin, wordCount, isIgnoreCase)\n",
    "                pair = {}\n",
    "                if leftRes is not None: pair['l'] = leftRes \n",
    "                else: pair['l'] = leftPinYin \n",
    "                if rightRes is not None: pair['r'] = rightRes\n",
    "                else: pair['r'] = rightPinYin \n",
    "                res.append(pair)\n",
    "            # 在res中找出最好的搭配\n",
    "            # print(type(res), res)\n",
    "            res = findRes(res, wordCount)\n",
    "            # print('----> ', res)\n",
    "        return res\n",
    "    \n",
    "    return _getWordsByMultiPinYin(pinyinStr, wordCount, isIgnoreCase)"
   ],
   "metadata": {
    "collapsed": false,
    "pycharm": {
     "name": "#%%\n",
     "is_executing": false
    }
   }
  },
  {
   "cell_type": "code",
   "execution_count": 23,
   "outputs": [
    {
     "name": "stdout",
     "text": [
      "[('中人美国韩国', 1, 0.9054606253899814), ('这人美国韩国', 1, 0.9020675887046665), ('中让美国韩国', 1, 0.8979146469065314), ('这让美国韩国', 1, 0.8945498873004214), ('着人美国韩国', 1, 0.8925495251945472)]\n",
      "[('工程师', 1, 0.8754395537002694)]\n",
      "[('从', 1, 0.9782765561100467), ('次', 1, 0.9750495222659167), ('曾', 1, 0.958318652381411), ('才', 1, 0.9578490815814544), ('此', 1, 0.9558105513465622)]\n",
      "[('工程师从', 1, 0.8564219916764159), ('工程师次', 1, 0.8535969186081349), ('工程师曾', 1, 0.8389500533434261), ('工程师才', 1, 0.8385389724918814), ('工程师此', 1, 0.8367543624928429)]\n"
     ],
     "output_type": "stream"
    }
   ],
   "source": [
    "s = 'zhrmghg'\n",
    "print(getWordsByMultiPinYin(model, s))   \n",
    "s = 'gongchengshi'\n",
    "print(getWordsByMultiPinYin(model, s))   \n",
    "s = 'c'\n",
    "print(getWordsByMultiPinYin(model, s)) \n",
    "s = 'gongchengshic'\n",
    "print(getWordsByMultiPinYin(model, s)) "
   ],
   "metadata": {
    "collapsed": false,
    "pycharm": {
     "name": "#%%\n",
     "is_executing": false
    }
   }
  },
  {
   "cell_type": "code",
   "execution_count": 24,
   "outputs": [],
   "source": [
    "# 打印出用户输入字符串打字过程中会分别显示哪些字给用户选择\n",
    "def printTypeWordPro(ss:str):\n",
    "    if len(ss) >= 1:\n",
    "        for i in range(1, len(ss) + 1):\n",
    "            print(ss[:i], \" -> \", getWordsByMultiPinYin(model, ss[:i])) \n",
    "    else:\n",
    "        print('请输入字符：')"
   ],
   "metadata": {
    "collapsed": false,
    "pycharm": {
     "name": "#%%\n",
     "is_executing": false
    }
   }
  },
  {
   "cell_type": "markdown",
   "source": [
    "### 测试下效果如何:"
   ],
   "metadata": {
    "collapsed": false,
    "pycharm": {
     "name": "#%% md\n",
     "is_executing": false
    }
   }
  },
  {
   "cell_type": "code",
   "execution_count": 25,
   "outputs": [
    {
     "name": "stdout",
     "text": [
      "g  ->  [('个', 1, 0.981337969072337), ('国', 1, 0.9800727642512006), ('更', 1, 0.9758578704375518), ('给', 1, 0.9716010667072138), ('过', 1, 0.9699203856157784)]\n",
      "go  ->  [('见哦', 0.5, 0.0), ('具哦', 0.5, 0.0)]\n",
      "gon  ->  [('共', 0.85, 0.9595933855832637), ('供', 0.85, 0.9398818469500805), ('攻', 0.85, 0.8934908937201158), ('功', 0.85, 0.8356717418736479), ('工', 0.85, 0.8303302666950797)]\n",
      "gong  ->  [('共', 1, 0.9595933855832637), ('供', 1, 0.9398818469500805), ('攻', 1, 0.8934908937201158), ('功', 1, 0.8356717418736479), ('工', 1, 0.8303302666950797)]\n",
      "gongc  ->  [('共存', 1, 0.7568765757160878), ('公厕', 1, 0.7177991109602764), ('干脆', 0.85, 0.7676956619821345), ('工程', 0.6, 0.9578308675627025), ('干草', 0.85, 0.6646122008943989)]\n",
      "gongch  ->  [('工程', 1, 0.9578308675627025), ('工厂', 1, 0.9233029184650147), ('工场', 1, 0.7732869168220209), ('功臣', 1, 0.7568765757160878), ('公车', 1, 0.7507602260262025)]\n",
      "gongche  ->  [('公车', 1, 0.7507602260262025), ('公交车', 0.5, 0.8684174324172392), ('公厕', 0.6, 0.7177991109602764), ('赶车', 0.85, 0.1493885769715095), ('公测', 0.6, 0.1493885769715095)]\n",
      "gongchen  ->  [('工程', 0.85, 0.9578308675627025), ('功臣', 1, 0.7568765757160878), ('恭城', 0.85, 0.5385137890525523), ('功成', 0.85, 0.5284885481028014), ('供称', 0.85, 0.42316816351625514)]\n",
      "gongcheng  ->  [('工程', 1, 0.9578308675627025), ('功臣', 0.85, 0.7568765757160878), ('恭城', 1, 0.5385137890525523), ('功成', 1, 0.5284885481028014), ('供称', 1, 0.42316816351625514)]\n",
      "gongchengs  ->  [('工程师', 0.6, 0.8754395537002694), ('工程商', 0.6, 0.0), ('弓成山', 0.6, 0.0)]\n",
      "gongchengsh  ->  [('工程师', 1, 0.8754395537002694), ('工程商', 1, 0.0), ('弓成山', 1, 0.0)]\n",
      "gongchengshi  ->  [('工程师', 1, 0.8754395537002694)]\n",
      "gongchengshic  ->  [('工程师从', 1, 0.8564219916764159), ('工程师次', 1, 0.8535969186081349), ('工程师曾', 1, 0.8389500533434261), ('工程师才', 1, 0.8385389724918814), ('工程师此', 1, 0.8367543624928429)]\n"
     ],
     "output_type": "stream"
    }
   ],
   "source": [
    "printTypeWordPro('gongchengshic')"
   ],
   "metadata": {
    "collapsed": false,
    "pycharm": {
     "name": "#%%\n",
     "is_executing": false
    }
   }
  },
  {
   "cell_type": "code",
   "execution_count": 26,
   "outputs": [
    {
     "name": "stdout",
     "text": [
      "w  ->  [('万', 1, 0.9761894806120561), ('完', 1, 0.9731541903674766), ('往', 1, 0.9392943224003882), ('晚', 1, 0.9389127298815608), ('文', 1, 0.9249517189486189)]\n",
      "wo  ->  [('我', 1, 0.9751174553099092), ('握', 1, 0.787019687130521), ('窝', 1, 0.7161372833172567), ('卧', 1, 0.6444451887786965), ('沃', 1, 0.6142274341736114)]\n",
      "wom  ->  [('我们', 1, 0.9732131463137518), ('沃姆', 1, 0.0)]\n",
      "wome  ->  [('我么', 1, 0.9416754896272045), ('我名额', 1, 0.8324308598102647), ('握么', 1, 0.7600285946982076), ('窝么', 1, 0.6915771256435438), ('握名额', 1, 0.671856986333457)]\n",
      "women  ->  [('我们', 1, 0.9732131463137518)]\n",
      "womeng  ->  [('我们', 0.85, 0.9732131463137518)]\n",
      "womengs  ->  [('我们仨', 0.85, 0.1493885769715095)]\n",
      "womengsi  ->  [('我们公司', 1, 0.9485316254344253), ('我们四', 0.85, 0.9375832469663621), ('我们死', 0.85, 0.8904469017116198), ('我们斯', 0.85, 0.8617834153439382), ('我们高斯', 1, 0.7131109473477626)]\n",
      "womengsih  ->  [('我们公司很', 1, 0.9188398911636012), ('我们公司韩', 1, 0.8694358084234272), ('我们公司换', 1, 0.8669714364758696), ('我们公司皇', 1, 0.8638669979001281), ('我们公司环', 1, 0.8638366442128135)]\n",
      "womengsiha  ->  [('我们公司哈', 1, 0.9057504914589152), ('我们四哈', 0.85, 0.8952959120730305), ('我们死哈', 0.85, 0.8502855331512879), ('我们斯哈', 0.85, 0.8229148412646964), ('我们高斯哈', 1, 0.680947871115154)]\n",
      "womengsihao  ->  [('我们公司好', 1, 0.9236987017754147), ('我们公司好', 1, 0.9236987017754146), ('我们公司号', 1, 0.9118381141997728), ('我们公司号', 1, 0.9118381141997727), ('我们公司好', 1, 0.8933559922261262)]\n",
      "womengsihaor  ->  [('我们公司好人', 1, 0.9061236023310292), ('我们公司好人', 1, 0.9061236023310292), ('我们公司好人', 1, 0.9061236023310291), ('我们公司好让', 1, 0.8985720986932083), ('我们公司好让', 1, 0.8985720986932082)]\n",
      "womengsihaore  ->  [('我们公司好热', 1, 0.8438797128488496), ('我们公司好热', 1, 0.8438797128488496), ('我们公司好热', 1, 0.8438797128488496), ('我们公司好热', 1, 0.8438797128488496), ('我们公司好热', 1, 0.8438797128488496)]\n",
      "womengsihaoren  ->  [('我们公司好人', 1, 0.9061236023310292), ('我们公司好人', 1, 0.9061236023310292), ('我们公司好人', 1, 0.9061236023310291), ('我们公司号人', 1, 0.8944886846688668), ('我们公司号人', 1, 0.8944886846688667)]\n"
     ],
     "output_type": "stream"
    }
   ],
   "source": [
    "printTypeWordPro('womengsihaoren')"
   ],
   "metadata": {
    "collapsed": false,
    "pycharm": {
     "name": "#%%\n",
     "is_executing": false
    }
   }
  },
  {
   "cell_type": "markdown",
   "source": [
    "感觉效果还不错!\n"
   ],
   "metadata": {
    "collapsed": false,
    "pycharm": {
     "name": "#%% md\n"
    }
   }
  }
 ],
 "metadata": {
  "kernelspec": {
   "display_name": "Python 3",
   "language": "python",
   "name": "python3"
  },
  "language_info": {
   "codemirror_mode": {
    "name": "ipython",
    "version": 2
   },
   "file_extension": ".py",
   "mimetype": "text/x-python",
   "name": "python",
   "nbconvert_exporter": "python",
   "pygments_lexer": "ipython2",
   "version": "2.7.6"
  },
  "pycharm": {
   "stem_cell": {
    "cell_type": "raw",
    "source": [],
    "metadata": {
     "collapsed": false
    }
   }
  }
 },
 "nbformat": 4,
 "nbformat_minor": 0
}