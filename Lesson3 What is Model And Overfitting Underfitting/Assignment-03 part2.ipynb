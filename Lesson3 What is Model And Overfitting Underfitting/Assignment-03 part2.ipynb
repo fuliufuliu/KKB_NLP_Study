{
 "cells": [
  {
   "cell_type": "markdown",
   "metadata": {},
   "source": [
    "## Part-2 Question and Answer 问答"
   ]
  },
  {
   "cell_type": "markdown",
   "metadata": {},
   "source": [
    "#### 1. What's the *model*? why  all the models are wrong, but some are useful? (5 points) "
   ]
  },
  {
   "cell_type": "markdown",
   "metadata": {},
   "source": [
    "Ans: 为了解决某一特定问题，观察到了一些特征输入和输出，人为总结塑造出来的一个东西，通过这个东西，给定一些输入特征，它能\n",
    "输出一些结果，这个东西就是model。\n",
    "    model 给定输入后，可能输出正确或错误的预测结果，或者输出具有一定误差的预测结果，所以它有时候很有用。为什么说它是错的呢?\n",
    "model 是人为创造的，往往考虑的特征是比较片面的，或者说只考虑了比较重要的特征，忽略了一些一定程度上没必要的特征，这样的model\n",
    "可能适用于某些领域，超出了范围，可能就是错的。"
   ]
  },
  {
   "cell_type": "markdown",
   "metadata": {},
   "source": [
    "<评阅点>\n",
    "> + 对模型的理解是否正确,对模型的抽象性是否正确(5')"
   ]
  },
  {
   "cell_type": "markdown",
   "metadata": {},
   "source": [
    "#### 2. What's the underfitting and overfitting? List the reasons that could make model overfitting or underfitting. (10 points)"
   ]
  },
  {
   "cell_type": "markdown",
   "metadata": {},
   "source": [
    "Ans: \n",
    "underfitting：欠拟合 在训练集和测试集上都表现糟糕。\n",
    "overfitting：过拟合 在训练集上表现良好，在测试集上表现糟糕\n",
    "\n",
    "欠拟合产生原因：\n",
    "模型不够好，考虑的特征量少，复杂度小\n",
    "过拟合产生原因：\n",
    "训练数据少，训练数据噪点多，考虑的特征量太多，模型过于复杂，训练数据和测试数据特征分布不一致\n",
    "\n",
    "可参考：https://blog.csdn.net/u012019029/article/details/80023898"
   ]
  },
  {
   "cell_type": "markdown",
   "metadata": {},
   "source": [
    "<评阅点>\n",
    "> + 对过拟合和欠拟合的理解是否正确 (3')\n",
    "+ 对欠拟合产生的原因是否理解正确(2')\n",
    "+ 对过拟合产生的原因是否理解正确(5')"
   ]
  },
  {
   "cell_type": "markdown",
   "metadata": {},
   "source": [
    "#### 3. What's the precision, recall, AUC, F1, F2score. What are they mainly target on? (12')"
   ]
  },
  {
   "cell_type": "markdown",
   "metadata": {},
   "source": [
    "Ans: 它们用来评价分类模型的好坏。\n",
    "\n",
    "precision ：精确率 即在预测结果中，正确预测的正类数 / 预测为正类的数量， 精确率 = 正对的数量/（正对的数量 + 正错的数量）。\n",
    "\n",
    "recall：召回率 即在预测结果中，正确预测的正类数 / 原本即为正类的数量 ，召回率 = 正对的数量/ (正对的数量 + 反错的数量)\n",
    "\n",
    "准确率（Accuracy）：（题目种没说，但还是写一下，方便以后翻阅。）在预测结果种所有正例和负例都预测正确的数量\n",
    "\n",
    "准确率 = （正对的数量 + 负对的数量）/ 所有样本数量 = （正对的数量 + 负对的数量）/（正对的数量 + 负对的数量 + 负错的数量 + 正错的数量）\n",
    "\n",
    "AUC(Area under Curve) Curve指的是ROC曲线，AUC即Roc曲线下的面积，介于0.1和1之间。AUC作为数值可以直观的评价分类器的好坏，值越大越好。\n",
    "（参考： https://zhuanlan.zhihu.com/p/83782315 ）\n",
    "\n",
    "F1 score = 2 * Recall * Precision/ （Recall + Precision）既考虑了Recall又考虑了Presision，它是精确率和召回率的调和平均数，最大为1，最小为0。\n",
    "\n",
    "还有F2 score 和 F0.5 score。F1分数认为召回率和精确率同等重要，F2分数认为召回率的重要程度是精确率的2倍，而F0.5分数认为召回率的重要程度是精确率的一半。\n",
    "计算公式为：\n",
    "$$ F_{\\beta }=\\left (1+\\beta ^{2} \\right )\\cdot \\frac{precision\\cdot recall}{\\left (\\beta ^{2}\\cdot precision \\right )+recall} $$\n",
    "\n",
    "（参考：https://blog.csdn.net/qq_14997473/article/details/82684300 )\n",
    "\n"
   ]
  },
  {
   "cell_type": "markdown",
   "metadata": {},
   "source": [
    "<评阅点>\n",
    "> + 对precision, recall, AUC, F1, F2 理解是否正确(6‘)\n",
    "+ 对precision, recall, AUC, F1, F2的使用侧重点是否理解正确 (6’)"
   ]
  },
  {
   "cell_type": "markdown",
   "metadata": {},
   "source": [
    "#### 4. Based on our course and yourself mind, what's the machine learning?  (8')"
   ]
  },
  {
   "cell_type": "markdown",
   "metadata": {},
   "source": [
    "Ans: 我的理解是：让机器能够学习，根据以往的数据不断地学习成长，变得越来越像人或越有用。与其他Ai比起来，它体现在成长性上。"
   ]
  },
  {
   "cell_type": "markdown",
   "metadata": {},
   "source": [
    "<评阅点> 开放式问题，是否能说出来机器学习这种思维方式和传统的分析式编程的区别（8'）"
   ]
  },
  {
   "cell_type": "markdown",
   "metadata": {},
   "source": [
    "#### 5. \"正确定义了机器学习模型的评价标准(evaluation)， 问题基本上就已经解决一半\". 这句话是否正确？你是怎么看待的？ (8‘)"
   ]
  },
  {
   "cell_type": "markdown",
   "metadata": {},
   "source": [
    "Ans: 这句话一定程度上是正确的，因为可能对于一些模型来说，到底怎么正确地去评价机器学习模型的好坏很考究，有时不是模型本身的问题，而是数据集预处理问题，也有时是数据集的正例和负例分布情况不理想等等导致评价机器学习不能正确地评价。然而定义正确的评价指标是必须的一步。"
   ]
  },
  {
   "cell_type": "markdown",
   "metadata": {},
   "source": [
    "<评阅点> 开放式问题，主要看能理解评价指标对机器学习模型的重要性."
   ]
  },
  {
   "cell_type": "markdown",
   "metadata": {},
   "source": [
    "## Part-03 Programming Practice 编程练习"
   ]
  },
  {
   "cell_type": "markdown",
   "metadata": {},
   "source": [
    "1. In our course and previous practice, we complete some importance components of Decision Tree. In this problem, you need to build a **completed** Decision Tree Model. You show finish a `predicate()` function, which accepts three parameters **<gender, income, family_number>**, and outputs the predicated 'bought': 1 or 0.  (20 points)"
   ]
  },
  {
   "cell_type": "code",
   "execution_count": 1,
   "metadata": {
    "pycharm": {
     "name": "#%%\n"
    }
   },
   "outputs": [],
   "source": [
    "import pandas\n",
    "import random\n",
    "import math\n",
    "from collections import Counter"
   ]
  },
  {
   "cell_type": "code",
   "execution_count": 2,
   "metadata": {
    "pycharm": {
     "name": "#%%\n"
    }
   },
   "outputs": [
    {
     "data": {
      "text/html": [
       "<div>\n",
       "<style scoped>\n",
       "    .dataframe tbody tr th:only-of-type {\n",
       "        vertical-align: middle;\n",
       "    }\n",
       "\n",
       "    .dataframe tbody tr th {\n",
       "        vertical-align: top;\n",
       "    }\n",
       "\n",
       "    .dataframe thead th {\n",
       "        text-align: right;\n",
       "    }\n",
       "</style>\n",
       "<table border=\"1\" class=\"dataframe\">\n",
       "  <thead>\n",
       "    <tr style=\"text-align: right;\">\n",
       "      <th></th>\n",
       "      <th>gender</th>\n",
       "      <th>income</th>\n",
       "      <th>family_number</th>\n",
       "      <th>bought</th>\n",
       "    </tr>\n",
       "  </thead>\n",
       "  <tbody>\n",
       "    <tr>\n",
       "      <td>0</td>\n",
       "      <td>F</td>\n",
       "      <td>+10</td>\n",
       "      <td>1</td>\n",
       "      <td>1</td>\n",
       "    </tr>\n",
       "    <tr>\n",
       "      <td>1</td>\n",
       "      <td>F</td>\n",
       "      <td>-10</td>\n",
       "      <td>1</td>\n",
       "      <td>1</td>\n",
       "    </tr>\n",
       "    <tr>\n",
       "      <td>2</td>\n",
       "      <td>F</td>\n",
       "      <td>+10</td>\n",
       "      <td>2</td>\n",
       "      <td>1</td>\n",
       "    </tr>\n",
       "    <tr>\n",
       "      <td>3</td>\n",
       "      <td>F</td>\n",
       "      <td>+10</td>\n",
       "      <td>1</td>\n",
       "      <td>0</td>\n",
       "    </tr>\n",
       "    <tr>\n",
       "      <td>4</td>\n",
       "      <td>M</td>\n",
       "      <td>+10</td>\n",
       "      <td>1</td>\n",
       "      <td>0</td>\n",
       "    </tr>\n",
       "    <tr>\n",
       "      <td>5</td>\n",
       "      <td>M</td>\n",
       "      <td>+10</td>\n",
       "      <td>1</td>\n",
       "      <td>0</td>\n",
       "    </tr>\n",
       "    <tr>\n",
       "      <td>6</td>\n",
       "      <td>M</td>\n",
       "      <td>-10</td>\n",
       "      <td>2</td>\n",
       "      <td>1</td>\n",
       "    </tr>\n",
       "    <tr>\n",
       "      <td>7</td>\n",
       "      <td>F</td>\n",
       "      <td>-10</td>\n",
       "      <td>2</td>\n",
       "      <td>2</td>\n",
       "    </tr>\n",
       "  </tbody>\n",
       "</table>\n",
       "</div>"
      ],
      "text/plain": [
       "  gender income  family_number  bought\n",
       "0      F    +10              1       1\n",
       "1      F    -10              1       1\n",
       "2      F    +10              2       1\n",
       "3      F    +10              1       0\n",
       "4      M    +10              1       0\n",
       "5      M    +10              1       0\n",
       "6      M    -10              2       1\n",
       "7      F    -10              2       2"
      ]
     },
     "execution_count": 2,
     "metadata": {},
     "output_type": "execute_result"
    }
   ],
   "source": [
    "mock_data = {\n",
    "    'gender':        ['F',  'F',    'F',   'F',   'M',   'M',    'M',   'F'],\n",
    "    'income':        ['+10', '-10', '+10', '+10', '+10', '+10', '-10', '-10'],\n",
    "    'family_number': [1,     1,     2,      1,     1,     1,     2,    2],\n",
    "    # 'pet': [1, 1, 1, 0, 0, 0, 1],\n",
    "    'bought': [1, 1, 1, 0, 0, 0, 1, 2],\n",
    "}\n",
    "\n",
    "mock_df = pandas.DataFrame.from_dict(mock_data)\n",
    "mock_df"
   ]
  },
  {
   "cell_type": "code",
   "execution_count": 3,
   "metadata": {
    "pycharm": {
     "name": "#%%\n"
    }
   },
   "outputs": [],
   "source": [
    "def entropy(one_array):\n",
    "    counter = Counter(one_array)\n",
    "    one_set = set(one_array)\n",
    "    probs = [ counter[element]/len(one_array)  for element in one_set]\n",
    "#     ic(one_set)\n",
    "#     ic(probs)\n",
    "#     ic(counter)\n",
    "    return -sum([p * math.log(p) for p in probs])\n",
    "\n",
    "def get_optimal_spliter(data_frame:pandas.core.frame.DataFrame, target_column_name):\n",
    "    \"\"\"\n",
    "    要建立一棵决策树时，求一个表格中，那一列最适合作为分割列，计算方法是：找到非目标列中哪一列各种可能性对应的目标列\n",
    "    的信息熵之和最小\n",
    "    :param data_frame: 表格数据\n",
    "    :param target_column_name: 目标列的表头\n",
    "    :return: 最适合做分割列的表头 和 信息熵之和\n",
    "    \"\"\"\n",
    "    column_set = set(data_frame.columns) - {target_column_name}\n",
    "    \n",
    "    spliter = \"\"\n",
    "    min_entropy = float('inf')\n",
    "    for columan_name in column_set:\n",
    "        values = set(data_frame[columan_name])\n",
    "        for value in values:\n",
    "            equal_value_target_datas = data_frame[data_frame[columan_name] == value][target_column_name]\n",
    "            equal_value_target_entropy = entropy(equal_value_target_datas.tolist())\n",
    "#             ic(equal_value_target_entropy)\n",
    "            unequal_value_target_datas = data_frame[data_frame[columan_name] != value][target_column_name]\n",
    "            unequal_value_target_entropy = entropy(unequal_value_target_datas.tolist())\n",
    "#             ic(unequal_value_target_entropy)\n",
    "            value_target_entropy = equal_value_target_entropy + unequal_value_target_entropy\n",
    "#             ic(value_target_entropy)\n",
    "            if value_target_entropy < min_entropy:\n",
    "                min_entropy = value_target_entropy\n",
    "                spliter = columan_name\n",
    "    return spliter, min_entropy\n",
    "            "
   ]
  },
  {
   "cell_type": "code",
   "execution_count": 4,
   "metadata": {
    "pycharm": {
     "name": "#%%\n"
    }
   },
   "outputs": [],
   "source": [
    "# you code here\n",
    "\n",
    "class MockDecisionTreeNode:\n",
    "    \"\"\"\n",
    "    决策树节点\n",
    "    \"\"\"\n",
    "    def __init__(self):\n",
    "        self.layer = 0          # 第几层的节点\n",
    "        self.column:str = ''    # 表格中的某列的表头\n",
    "        self.value = None       # 好像没用到（打印出来可以看看是这个决策树节点由什么值生成的）\n",
    "        self.target = None      # 可取的目标值的集合list，如果要优化，存储为 Counter 可节省空间，这里未优化\n",
    "        self.children = {}      # 存储子节点, key 是各种可能性的取值，value 是各种可能的取值对应的子节点, \n",
    "                                # 若key是取值范围的话，可能就不适合了。\n",
    "    \n",
    "    def __str__(self):\n",
    "        s = \", \".join([str(self.column), str(self.value), str(self.target), '\\n']) \n",
    "        for value, node in self.children.items():\n",
    "            s += \"---\" * node.layer + node.__str__()\n",
    "        return s\n",
    "    \n",
    "    def predicate(self, data:pandas.Series):\n",
    "        \"\"\"\n",
    "        预测一行数据的目标值\n",
    "        :param data: 一行数据\n",
    "        :return: 目标值，如果没有数据则返回空\n",
    "        \"\"\"\n",
    "        if self.target != None:\n",
    "            # 从存储的目标值中随机一个\n",
    "            print(\" self.target \",self.target)\n",
    "            return random.choice(self.target)\n",
    "        \n",
    "        if self.column in data:\n",
    "            if data[self.column] in self.children:\n",
    "                # 调用子节点的判断，这里存储为字典，所以判断就是直接取值，并进入下一个节点, 取代if-else\n",
    "                child = self.children[data[self.column]]\n",
    "                return child.predicate(data)\n",
    "            else:\n",
    "                print(self.column, str(data.tolist()), \" # 没数据\") \n",
    "        else:\n",
    "            print(self.column, str(data.tolist()), \" # 测试数据格式与原数据不匹配\")"
   ]
  },
  {
   "cell_type": "code",
   "execution_count": 5,
   "metadata": {
    "pycharm": {
     "name": "#%%\n"
    }
   },
   "outputs": [],
   "source": [
    "class mock_decision_tree:\n",
    "    \"\"\"\n",
    "    决策树\n",
    "    \"\"\"\n",
    "    def __init__(self, mock_data:pandas.core.frame.DataFrame, target_name:str):\n",
    "        \"\"\"\n",
    "        :param mock_data: DataFrame类型的数据\n",
    "        :param target_name: 把 target_name 对于的列作为目标，即待预测的值所在的列\n",
    "        \"\"\"\n",
    "        self.mock_data = mock_data\n",
    "        self.target_name = target_name\n",
    "        self.root = MockDecisionTreeNode()\n",
    "        # 构建一棵决策树\n",
    "        self.create_decision_node(mock_data, 0, self.root)\n",
    "        \n",
    "    def create_decision_node(self, mock_data: pandas.core.frame.DataFrame, layer = 0,\n",
    "                             myNode:MockDecisionTreeNode = None):\n",
    "        temp_data = mock_data\n",
    "        # 预防有空\n",
    "        if myNode == None:\n",
    "            myNode = MockDecisionTreeNode()\n",
    "        # 遇到最底层，把最底层的可能的值都存储起来，可优化为Counter或存储各个取值的概率\n",
    "        if len(set(temp_data.columns)) <= 1:\n",
    "            myNode.layer = layer\n",
    "            myNode.target = temp_data[self.target_name].tolist()\n",
    "            return  \n",
    "        # 找最优的分割列\n",
    "        optimal_spliter, _ = get_optimal_spliter(temp_data, self.target_name)\n",
    "        \n",
    "        myNode.column = optimal_spliter\n",
    "        myNode.layer = layer\n",
    "        # ic(myNode.column)\n",
    "        \n",
    "        # 按照分割列里的所有可能的取值去遍历，并建立子节点\n",
    "        for value in set(temp_data[optimal_spliter]):\n",
    "            sub_temp_data = temp_data[temp_data[optimal_spliter] == value].drop(columns=[optimal_spliter])\n",
    "            child = MockDecisionTreeNode()\n",
    "            myNode.children[value] = child\n",
    "            child.parent = myNode\n",
    "            self.create_decision_node(sub_temp_data, layer + 1, child)\n",
    "            child.value = value\n",
    "            child.layer = layer + 1\n",
    "            # ic(child.value)\n",
    "        # return myNode\n",
    "    \n",
    "    def __str__(self):\n",
    "        return str(self.root)\n",
    "    \n",
    "    def predicate(self, datas:pandas.core.frame.DataFrame):\n",
    "        for index, row in datas.iterrows():\n",
    "            predicate_value = self.root.predicate(row)\n",
    "            if predicate_value == None:\n",
    "                datas.loc[index, self.target_name] = random.choice(self.mock_data[self.target_name].tolist())\n",
    "            else:\n",
    "                datas.loc[index, self.target_name] = predicate_value\n",
    "            "
   ]
  },
  {
   "cell_type": "code",
   "execution_count": 6,
   "metadata": {
    "pycharm": {
     "name": "#%%\n"
    }
   },
   "outputs": [
    {
     "data": {
      "text/html": [
       "<div>\n",
       "<style scoped>\n",
       "    .dataframe tbody tr th:only-of-type {\n",
       "        vertical-align: middle;\n",
       "    }\n",
       "\n",
       "    .dataframe tbody tr th {\n",
       "        vertical-align: top;\n",
       "    }\n",
       "\n",
       "    .dataframe thead th {\n",
       "        text-align: right;\n",
       "    }\n",
       "</style>\n",
       "<table border=\"1\" class=\"dataframe\">\n",
       "  <thead>\n",
       "    <tr style=\"text-align: right;\">\n",
       "      <th></th>\n",
       "      <th>gender</th>\n",
       "      <th>income</th>\n",
       "      <th>family_number</th>\n",
       "      <th>bought</th>\n",
       "    </tr>\n",
       "  </thead>\n",
       "  <tbody>\n",
       "    <tr>\n",
       "      <td>0</td>\n",
       "      <td>F</td>\n",
       "      <td>+10</td>\n",
       "      <td>1</td>\n",
       "      <td>1</td>\n",
       "    </tr>\n",
       "    <tr>\n",
       "      <td>1</td>\n",
       "      <td>F</td>\n",
       "      <td>-10</td>\n",
       "      <td>1</td>\n",
       "      <td>1</td>\n",
       "    </tr>\n",
       "    <tr>\n",
       "      <td>2</td>\n",
       "      <td>F</td>\n",
       "      <td>+10</td>\n",
       "      <td>2</td>\n",
       "      <td>1</td>\n",
       "    </tr>\n",
       "    <tr>\n",
       "      <td>3</td>\n",
       "      <td>F</td>\n",
       "      <td>+10</td>\n",
       "      <td>1</td>\n",
       "      <td>0</td>\n",
       "    </tr>\n",
       "    <tr>\n",
       "      <td>4</td>\n",
       "      <td>M</td>\n",
       "      <td>+10</td>\n",
       "      <td>1</td>\n",
       "      <td>0</td>\n",
       "    </tr>\n",
       "    <tr>\n",
       "      <td>5</td>\n",
       "      <td>M</td>\n",
       "      <td>+10</td>\n",
       "      <td>1</td>\n",
       "      <td>0</td>\n",
       "    </tr>\n",
       "    <tr>\n",
       "      <td>6</td>\n",
       "      <td>M</td>\n",
       "      <td>-10</td>\n",
       "      <td>2</td>\n",
       "      <td>1</td>\n",
       "    </tr>\n",
       "    <tr>\n",
       "      <td>7</td>\n",
       "      <td>F</td>\n",
       "      <td>-10</td>\n",
       "      <td>2</td>\n",
       "      <td>2</td>\n",
       "    </tr>\n",
       "  </tbody>\n",
       "</table>\n",
       "</div>"
      ],
      "text/plain": [
       "  gender income  family_number  bought\n",
       "0      F    +10              1       1\n",
       "1      F    -10              1       1\n",
       "2      F    +10              2       1\n",
       "3      F    +10              1       0\n",
       "4      M    +10              1       0\n",
       "5      M    +10              1       0\n",
       "6      M    -10              2       1\n",
       "7      F    -10              2       2"
      ]
     },
     "execution_count": 6,
     "metadata": {},
     "output_type": "execute_result"
    }
   ],
   "source": [
    "mock_df"
   ]
  },
  {
   "cell_type": "code",
   "execution_count": 7,
   "metadata": {
    "pycharm": {
     "name": "#%%\n"
    }
   },
   "outputs": [
    {
     "name": "stdout",
     "output_type": "stream",
     "text": [
      "income, None, None, \n",
      "---family_number, +10, None, \n",
      "------gender, 1, None, \n",
      "---------, M, [0, 0], \n",
      "---------, F, [1, 0], \n",
      "------gender, 2, None, \n",
      "---------, F, [1], \n",
      "---gender, -10, None, \n",
      "------family_number, M, None, \n",
      "---------, 2, [1], \n",
      "------family_number, F, None, \n",
      "---------, 1, [1], \n",
      "---------, 2, [2], \n",
      "\n"
     ]
    }
   ],
   "source": [
    "tree = mock_decision_tree(mock_df, 'bought')\n",
    "print(tree)"
   ]
  },
  {
   "cell_type": "code",
   "execution_count": 8,
   "metadata": {
    "pycharm": {
     "name": "#%%\n"
    }
   },
   "outputs": [
    {
     "data": {
      "text/html": [
       "<div>\n",
       "<style scoped>\n",
       "    .dataframe tbody tr th:only-of-type {\n",
       "        vertical-align: middle;\n",
       "    }\n",
       "\n",
       "    .dataframe tbody tr th {\n",
       "        vertical-align: top;\n",
       "    }\n",
       "\n",
       "    .dataframe thead th {\n",
       "        text-align: right;\n",
       "    }\n",
       "</style>\n",
       "<table border=\"1\" class=\"dataframe\">\n",
       "  <thead>\n",
       "    <tr style=\"text-align: right;\">\n",
       "      <th></th>\n",
       "      <th>gender</th>\n",
       "      <th>income</th>\n",
       "      <th>family_number</th>\n",
       "      <th>bought</th>\n",
       "    </tr>\n",
       "  </thead>\n",
       "  <tbody>\n",
       "    <tr>\n",
       "      <td>0</td>\n",
       "      <td>F</td>\n",
       "      <td>+10</td>\n",
       "      <td>1</td>\n",
       "      <td>-1</td>\n",
       "    </tr>\n",
       "    <tr>\n",
       "      <td>1</td>\n",
       "      <td>F</td>\n",
       "      <td>-10</td>\n",
       "      <td>2</td>\n",
       "      <td>-1</td>\n",
       "    </tr>\n",
       "    <tr>\n",
       "      <td>2</td>\n",
       "      <td>M</td>\n",
       "      <td>-10</td>\n",
       "      <td>1</td>\n",
       "      <td>-1</td>\n",
       "    </tr>\n",
       "  </tbody>\n",
       "</table>\n",
       "</div>"
      ],
      "text/plain": [
       "  gender income  family_number  bought\n",
       "0      F    +10              1      -1\n",
       "1      F    -10              2      -1\n",
       "2      M    -10              1      -1"
      ]
     },
     "execution_count": 8,
     "metadata": {},
     "output_type": "execute_result"
    }
   ],
   "source": [
    "mock_predicate_data = pandas.DataFrame.from_dict({\n",
    "    'gender':['F', 'F', 'M'],\n",
    "    'income': ['+10', '-10', '-10'],\n",
    "    'family_number': [ 1,  2, 1],\n",
    "    'bought': [-1, -1, -1],  # 待预测的值，这里随便填个数\n",
    "})\n",
    "\n",
    "mock_predicate_data"
   ]
  },
  {
   "cell_type": "code",
   "execution_count": 9,
   "metadata": {
    "pycharm": {
     "name": "#%%\n"
    }
   },
   "outputs": [
    {
     "name": "stdout",
     "output_type": "stream",
     "text": [
      " self.target  [1, 0]\n",
      " self.target  [2]\n",
      "family_number ['M', '-10', 1, -1]  # 没数据\n"
     ]
    },
    {
     "data": {
      "text/html": [
       "<div>\n",
       "<style scoped>\n",
       "    .dataframe tbody tr th:only-of-type {\n",
       "        vertical-align: middle;\n",
       "    }\n",
       "\n",
       "    .dataframe tbody tr th {\n",
       "        vertical-align: top;\n",
       "    }\n",
       "\n",
       "    .dataframe thead th {\n",
       "        text-align: right;\n",
       "    }\n",
       "</style>\n",
       "<table border=\"1\" class=\"dataframe\">\n",
       "  <thead>\n",
       "    <tr style=\"text-align: right;\">\n",
       "      <th></th>\n",
       "      <th>gender</th>\n",
       "      <th>income</th>\n",
       "      <th>family_number</th>\n",
       "      <th>bought</th>\n",
       "    </tr>\n",
       "  </thead>\n",
       "  <tbody>\n",
       "    <tr>\n",
       "      <td>0</td>\n",
       "      <td>F</td>\n",
       "      <td>+10</td>\n",
       "      <td>1</td>\n",
       "      <td>1</td>\n",
       "    </tr>\n",
       "    <tr>\n",
       "      <td>1</td>\n",
       "      <td>F</td>\n",
       "      <td>-10</td>\n",
       "      <td>2</td>\n",
       "      <td>2</td>\n",
       "    </tr>\n",
       "    <tr>\n",
       "      <td>2</td>\n",
       "      <td>M</td>\n",
       "      <td>-10</td>\n",
       "      <td>1</td>\n",
       "      <td>0</td>\n",
       "    </tr>\n",
       "  </tbody>\n",
       "</table>\n",
       "</div>"
      ],
      "text/plain": [
       "  gender income  family_number  bought\n",
       "0      F    +10              1       1\n",
       "1      F    -10              2       2\n",
       "2      M    -10              1       0"
      ]
     },
     "execution_count": 9,
     "metadata": {},
     "output_type": "execute_result"
    }
   ],
   "source": [
    "tree.predicate(mock_predicate_data)\n",
    "mock_predicate_data\n"
   ]
  },
  {
   "cell_type": "markdown",
   "metadata": {
    "pycharm": {
     "name": "#%% md\n"
    }
   },
   "source": [
    "<评阅点>\n",
    "> + 是否将之前的决策树模型的部分进行合并组装， predicate函数能够顺利运行(8')\n",
    "+ 是够能够输入未曾见过的X变量，例如gender, income, family_number 分别是： <M, -10, 1>, 模型能够预测出结果 (12')\n"
   ]
  }
 ],
 "metadata": {
  "kernelspec": {
   "display_name": "Python 3",
   "language": "python",
   "name": "python3"
  },
  "language_info": {
   "codemirror_mode": {
    "name": "ipython",
    "version": 3
   },
   "file_extension": ".py",
   "mimetype": "text/x-python",
   "name": "python",
   "nbconvert_exporter": "python",
   "pygments_lexer": "ipython3",
   "version": "3.7.4"
  },
  "pycharm": {
   "stem_cell": {
    "cell_type": "raw",
    "metadata": {
     "collapsed": false
    },
    "source": []
   }
  }
 },
 "nbformat": 4,
 "nbformat_minor": 1
}
