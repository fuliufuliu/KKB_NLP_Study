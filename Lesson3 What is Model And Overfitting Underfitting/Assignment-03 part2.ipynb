{
 "cells": [
  {
   "cell_type": "markdown",
   "metadata": {
    "collapsed": true,
    "pycharm": {
     "name": "#%% md\n"
    }
   },
   "source": [
    "2. 将上一节课(第二节课)的线性回归问题中的Loss函数改成\"绝对值\"，并且改变其偏导的求值方式，观察其结果的变化。(19 point)\n"
   ]
  },
  {
   "cell_type": "code",
   "execution_count": 1,
   "outputs": [],
   "source": [
    "import matplotlib.pyplot as plt\n",
    "import matplotlib\n",
    "import random\n",
    "import time\n",
    "matplotlib.rcParams['figure.figsize']=(16,8)"
   ],
   "metadata": {
    "collapsed": false,
    "pycharm": {
     "name": "#%%\n",
     "is_executing": false
    }
   }
  },
  {
   "cell_type": "code",
   "execution_count": 2,
   "outputs": [],
   "source": [
    "def get_random():\n",
    "    return random.random() * 2 - 1"
   ],
   "metadata": {
    "collapsed": false,
    "pycharm": {
     "name": "#%%\n",
     "is_executing": false
    }
   }
  },
  {
   "cell_type": "code",
   "execution_count": 3,
   "outputs": [],
   "source": [
    "# y = ax + b\n",
    "def data_create_function(x, a = -2.5, b = 6, random_factor = 1):\n",
    "    return a * (x + get_random() * random_factor) + b + get_random() * random_factor"
   ],
   "metadata": {
    "collapsed": false,
    "pycharm": {
     "name": "#%%\n",
     "is_executing": false
    }
   }
  },
  {
   "cell_type": "code",
   "execution_count": 4,
   "outputs": [],
   "source": [
    "#define target function\n",
    "def price(x, k, b):\n",
    "    return k * x + b\n"
   ],
   "metadata": {
    "collapsed": false,
    "pycharm": {
     "name": "#%%\n",
     "is_executing": false
    }
   }
  },
  {
   "cell_type": "markdown",
   "source": [
    "$$ loss = \\frac{1}{n} \\sum^n_i{|y_i - \\hat{y_i}|} = \\frac{1}{n}\\sum^n_i{|y_i - k * x_i - b|} $$"
   ],
   "metadata": {
    "collapsed": false
   }
  },
  {
   "cell_type": "markdown",
   "source": [
    "$$ \\frac{\\partial{loss}}{\\partial{k}} =    \\frac{1}{n}\\sum^n_i{    \\frac{   x_i, 当 k >= \\frac{y_i - b}{x_i}时  }{ - x_i, 当 k < \\frac{y_i - b}{x_i}时 } }                                 $$\n",
    "\n",
    "\n",
    "$$ \\frac{\\partial{loss}}{\\partial{b}} =     \\frac{1}{n}\\sum^n_i{    \\frac{  1, 当 \\hat y_i > y_i 时  }{  -1, 当 \\hat y_i <= y_i 时 } }                                 $$\n",
    "\n",
    "注：式中右边中间的横线不是除号，而是行分隔符"
   ],
   "metadata": {
    "collapsed": false
   }
  },
  {
   "cell_type": "markdown",
   "source": [
    "$$ \\hat y_i = k * x_i + b $$\n",
    "\n",
    "$$ \\frac{y_i - b}{x_i} = \\frac{ y_i - \\hat y_i + k * x_i} {x_i}  $$"
   ],
   "metadata": {
    "collapsed": false
   }
  },
  {
   "cell_type": "code",
   "execution_count": 5,
   "outputs": [],
   "source": [
    "# you code here\n",
    "\n",
    "# 定义平均绝对误差\n",
    "def MAE_loss(y,y_hat):\n",
    "    sum_value = sum(abs(y_i - y_hat_i) for y_i, y_hat_i in zip(list(y),list(y_hat))) \n",
    "    return sum_value / len(list(y))#%%\n",
    "\n",
    "# define partial derivative \n",
    "def MAE_partial_derivative_k(x, y, y_hat, k): \n",
    "    n = len(y)\n",
    "    gradient = 0\n",
    "    for x_i, y_i, y_hat_i in zip(list(x),list(y),list(y_hat)):\n",
    "        gradient += (x_i if k >= (y_i - y_hat_i + k * x_i) / x_i else -x_i)\n",
    "    return 1/n * gradient\n",
    "\n",
    "def MAE_partial_derivative_b(x, y, y_hat, b):\n",
    "    n = len(y)\n",
    "    gradient = 0\n",
    "    for x_i, y_i, y_hat_i in zip(list(x),list(y),list(y_hat)):\n",
    "        gradient += (1 if y_hat_i > y_i  else -1)\n",
    "    return -2 / n * gradient"
   ],
   "metadata": {
    "collapsed": false,
    "pycharm": {
     "name": "#%%\n",
     "is_executing": false
    }
   }
  },
  {
   "cell_type": "code",
   "execution_count": 6,
   "outputs": [
    {
     "name": "stdout",
     "text": [
      "0.11414282656757391 -0.23086425023490453\n",
      "X [-10.05, -9.95, -9.85, -9.75, -9.65, -9.55, -9.45, -9.35, -9.25, -9.15, -9.05, -8.95, -8.85, -8.75, -8.65, -8.55, -8.45, -8.35, -8.25, -8.15, -8.05, -7.95, -7.85, -7.75, -7.65, -7.55, -7.45, -7.35, -7.25, -7.15, -7.05, -6.95, -6.85, -6.75, -6.65, -6.55, -6.45, -6.35, -6.25, -6.15, -6.05, -5.95, -5.85, -5.75, -5.65, -5.55, -5.45, -5.35, -5.25, -5.15, -5.05, -4.95, -4.85, -4.75, -4.65, -4.55, -4.45, -4.35, -4.25, -4.15, -4.05, -3.95, -3.85, -3.75, -3.65, -3.55, -3.45, -3.35, -3.25, -3.15, -3.05, -2.95, -2.85, -2.75, -2.65, -2.55, -2.45, -2.35, -2.25, -2.15, -2.05, -1.95, -1.85, -1.75, -1.65, -1.55, -1.45, -1.35, -1.25, -1.15, -1.05, -0.95, -0.85, -0.75, -0.65, -0.55, -0.45, -0.35, -0.25, -0.15, -0.05, 0.05, 0.15, 0.25, 0.35, 0.45, 0.55, 0.65, 0.75, 0.85, 0.95, 1.05, 1.15, 1.25, 1.35, 1.45, 1.55, 1.65, 1.75, 1.85, 1.95, 2.05, 2.15, 2.25, 2.35, 2.45, 2.55, 2.65, 2.75, 2.85, 2.95, 3.05, 3.15, 3.25, 3.35, 3.45, 3.55, 3.65, 3.75, 3.85, 3.95, 4.05, 4.15, 4.25, 4.35, 4.45, 4.55, 4.65, 4.75, 4.85, 4.95, 5.05, 5.15, 5.25, 5.35, 5.45, 5.55, 5.65, 5.75, 5.85, 5.95, 6.05, 6.15, 6.25, 6.35, 6.45, 6.55, 6.65, 6.75, 6.85, 6.95, 7.05, 7.15, 7.25, 7.35, 7.45, 7.55, 7.65, 7.75, 7.85, 7.95, 8.05, 8.15, 8.25, 8.35, 8.45, 8.55, 8.65, 8.75, 8.85, 8.95, 9.05, 9.15, 9.25, 9.35, 9.45, 9.55, 9.65, 9.75, 9.85]\n",
      "Y [-1.5971654356623166, -1.6517618671008965, -1.4087887946626476, -1.10460955886249, -1.1543835405068066, -1.3487101520734237, -1.0628085446715811, -1.656790961281136, -1.3221223786556164, -1.5004760383017288, -1.3380718955501296, -1.6091385837896557, -1.1227803388678392, -1.0692666286179233, -1.1881626891448187, -1.4147402575022703, -1.1335690100466767, -0.8178425975692487, -1.5233356480271438, -0.9891768203058147, -1.0746945554123826, -1.1975450388818942, -0.8941722001273377, -0.9117093275414829, -1.2134478504557795, -1.0579865172043499, -1.100178605594217, -0.9525849562121663, -1.3567025924912115, -1.2459408288111067, -0.9740775784422191, -1.0223488080512833, -0.9257168261046864, -1.098117047281874, -1.2258501410545062, -0.5917248561289562, -0.5626973320232233, -0.7120356656520139, -1.1773582443153532, -0.6669500667526098, -1.004016833804034, -1.1481573842691208, -0.6956293411503773, -1.1597850781415686, -0.5385788395009785, -0.9667060218251093, -0.5812843088416113, -0.49727048517684425, -0.5116601832520128, -0.7047887692014599, -1.034002262376154, -0.5557006624152818, -0.7919706654985075, -1.0072830706068299, -0.9737271537794567, -0.3883823582687018, -0.8614218478005129, -0.947755614091679, -1.0856358221532139, -0.8553520930320841, -0.3471186371375886, -0.5319537543163517, -1.041616546791198, -0.5403129781448507, -0.929529538115458, -0.9735198182828773, -0.6359352050269474, -0.8316271272874238, -0.9975991924706198, -0.28642378331975893, -0.7702271222382535, -0.9480491279426306, -0.2275445916991885, -0.4827878444473552, -0.6061379200198647, -0.31894769977494897, -0.3379496254152027, -0.8288943976295104, -0.5238548490216955, -0.23157415169410012, -0.6435914297054138, -0.5301894737449389, -0.4500202012132577, -0.1588713816293647, -0.026958020292298157, -0.6388527034060723, -0.15263677434972323, -0.44298604840093575, -0.08799974916700287, -0.641261828832256, 0.03557462026397257, -0.6002890718274729, -0.1331409695402439, -0.016285728075463246, -0.052974088839896016, -0.3161207679124217, -0.29256061665621047, -0.32162868665292094, -0.5901486707194367, -0.11802019921184576, -0.0469135935173014, -0.16449331908886144, -0.38702364114294097, -0.11347256692825905, -0.42180595414280664, 0.1102218332720496, -0.08120949644570231, -0.06411666409190063, 0.08623300301143208, -0.4818712139463803, -0.35405335498370155, -0.2895100733734802, -0.10910347141260449, -0.2650446936713975, -0.02175745459244964, 0.015154845026112689, -0.03267525178243527, -0.3185926038211789, -0.16198433885451238, 0.32318739325329676, -0.0054084542097629085, -0.19450275300145767, 0.15071551808521422, -0.3727536653319999, 0.1141714377138986, 0.16163373536628234, -0.17480925179889517, 0.270092511196405, 0.3708442316309408, -0.1140444571576617, 0.20527880319155936, 0.17843660995599764, 0.08889635853535409, 0.3047499068600287, 0.33696453759590683, -0.07088691952071413, -0.06667425538237653, 0.33154969719436733, 0.30131234752742586, -0.02360279079258984, 0.08271199666708579, 0.22534007452072619, -0.11714662911084167, 0.18842109979697788, 0.5708998789011555, 0.4122034970126916, 0.48020004381832865, 0.31860473107515824, 0.27306614075290403, 0.38027703392286116, 0.38438800879858226, 0.7053116805506605, 0.13720642006776662, 0.37485805626435187, -0.011095274000279154, 0.012680418051262965, 0.6084936987523812, 0.7552176016808241, 0.08375722655306272, 0.5283308889568867, 0.15659561738444838, 0.12458980858708113, 0.5190598465013667, 0.6457865139315302, 0.5129945411771109, 0.41976955101324137, 0.7044780417379813, 0.38484777089680094, 0.7711620909384171, 0.8714367755313452, 0.6208615795820661, 0.6606508344443758, 0.6832239174247267, 0.8603788345583976, 0.4852938347751865, 0.5584804510045898, 0.3694137776652057, 0.7545078025578974, 0.30627601494573364, 0.9231086526631255, 0.615799529154348, 0.942312349839801, 0.6976341051864973, 0.9254075597732769, 0.7225031191077682, 0.9430031701218666, 1.1528494626767367, 0.9472178271836498, 1.0679076632775057, 1.0939315513414511, 0.48357328165789926, 0.8113570022846355, 0.9960887523202642, 1.215636933595167, 0.6229898831478557, 0.9147889337371607, 1.019408373685061, 0.8680484162087054, 0.9082194675842474, 1.2731833896292344]\n"
     ],
     "output_type": "stream"
    },
    {
     "data": {
      "text/plain": "<Figure size 432x288 with 1 Axes>",
      "image/png": "[encoded data removed]"
     },
     "metadata": {
      "needs_background": "light"
     },
     "output_type": "display_data"
    }
   ],
   "source": [
    "# 随机一堆直线数据，用于训练\n",
    "\n",
    "X = [(i - 100.5)/10 for i in range(200)]\n",
    "_k = random.random() * 2 - 1\n",
    "_b = random.random() * 2 - 1\n",
    "print(_k, _b)\n",
    "Y = [data_create_function(x, _k , _b ,  random_factor=0.4) for x in X]\n",
    "print(\"X\",X)\n",
    "print(\"Y\",Y)\n",
    "\n",
    "plt.scatter(X, Y)\n",
    "\n",
    "X_rm = X\n",
    "y = Y"
   ],
   "metadata": {
    "collapsed": false,
    "pycharm": {
     "name": "#%%\n",
     "is_executing": false
    }
   }
  },
  {
   "cell_type": "code",
   "execution_count": 7,
   "outputs": [
    {
     "name": "stdout",
     "text": [
      "X_rm [6.575 6.421 7.185 6.998 7.147 6.43  6.012 6.172 5.631 6.004 6.377 6.009\n",
      " 5.889 5.949 6.096 5.834 5.935 5.99  5.456 5.727 5.57  5.965 6.142 5.813\n",
      " 5.924 5.599 5.813 6.047 6.495 6.674 5.713 6.072 5.95  5.701 6.096 5.933\n",
      " 5.841 5.85  5.966 6.595 7.024 6.77  6.169 6.211 6.069 5.682 5.786 6.03\n",
      " 5.399 5.602 5.963 6.115 6.511 5.998 5.888 7.249 6.383 6.816 6.145 5.927\n",
      " 5.741 5.966 6.456 6.762 7.104 6.29  5.787 5.878 5.594 5.885 6.417 5.961\n",
      " 6.065 6.245 6.273 6.286 6.279 6.14  6.232 5.874 6.727 6.619 6.302 6.167\n",
      " 6.389 6.63  6.015 6.121 7.007 7.079 6.417 6.405 6.442 6.211 6.249 6.625\n",
      " 6.163 8.069 7.82  7.416 6.727 6.781 6.405 6.137 6.167 5.851 5.836 6.127\n",
      " 6.474 6.229 6.195 6.715 5.913 6.092 6.254 5.928 6.176 6.021 5.872 5.731\n",
      " 5.87  6.004 5.961 5.856 5.879 5.986 5.613 5.693 6.431 5.637 6.458 6.326\n",
      " 6.372 5.822 5.757 6.335 5.942 6.454 5.857 6.151 6.174 5.019 5.403 5.468\n",
      " 4.903 6.13  5.628 4.926 5.186 5.597 6.122 5.404 5.012 5.709 6.129 6.152\n",
      " 5.272 6.943 6.066 6.51  6.25  7.489 7.802 8.375 5.854 6.101 7.929 5.877\n",
      " 6.319 6.402 5.875 5.88  5.572 6.416 5.859 6.546 6.02  6.315 6.86  6.98\n",
      " 7.765 6.144 7.155 6.563 5.604 6.153 7.831 6.782 6.556 7.185 6.951 6.739\n",
      " 7.178 6.8   6.604 7.875 7.287 7.107 7.274 6.975 7.135 6.162 7.61  7.853\n",
      " 8.034 5.891 6.326 5.783 6.064 5.344 5.96  5.404 5.807 6.375 5.412 6.182\n",
      " 5.888 6.642 5.951 6.373 6.951 6.164 6.879 6.618 8.266 8.725 8.04  7.163\n",
      " 7.686 6.552 5.981 7.412 8.337 8.247 6.726 6.086 6.631 7.358 6.481 6.606\n",
      " 6.897 6.095 6.358 6.393 5.593 5.605 6.108 6.226 6.433 6.718 6.487 6.438\n",
      " 6.957 8.259 6.108 5.876 7.454 8.704 7.333 6.842 7.203 7.52  8.398 7.327\n",
      " 7.206 5.56  7.014 8.297 7.47  5.92  5.856 6.24  6.538 7.691 6.758 6.854\n",
      " 7.267 6.826 6.482 6.812 7.82  6.968 7.645 7.923 7.088 6.453 6.23  6.209\n",
      " 6.315 6.565 6.861 7.148 6.63  6.127 6.009 6.678 6.549 5.79  6.345 7.041\n",
      " 6.871 6.59  6.495 6.982 7.236 6.616 7.42  6.849 6.635 5.972 4.973 6.122\n",
      " 6.023 6.266 6.567 5.705 5.914 5.782 6.382 6.113 6.426 6.376 6.041 5.708\n",
      " 6.415 6.431 6.312 6.083 5.868 6.333 6.144 5.706 6.031 6.316 6.31  6.037\n",
      " 5.869 5.895 6.059 5.985 5.968 7.241 6.54  6.696 6.874 6.014 5.898 6.516\n",
      " 6.635 6.939 6.49  6.579 5.884 6.728 5.663 5.936 6.212 6.395 6.127 6.112\n",
      " 6.398 6.251 5.362 5.803 8.78  3.561 4.963 3.863 4.97  6.683 7.016 6.216\n",
      " 5.875 4.906 4.138 7.313 6.649 6.794 6.38  6.223 6.968 6.545 5.536 5.52\n",
      " 4.368 5.277 4.652 5.    4.88  5.39  5.713 6.051 5.036 6.193 5.887 6.471\n",
      " 6.405 5.747 5.453 5.852 5.987 6.343 6.404 5.349 5.531 5.683 4.138 5.608\n",
      " 5.617 6.852 5.757 6.657 4.628 5.155 4.519 6.434 6.782 5.304 5.957 6.824\n",
      " 6.411 6.006 5.648 6.103 5.565 5.896 5.837 6.202 6.193 6.38  6.348 6.833\n",
      " 6.425 6.436 6.208 6.629 6.461 6.152 5.935 5.627 5.818 6.406 6.219 6.485\n",
      " 5.854 6.459 6.341 6.251 6.185 6.417 6.749 6.655 6.297 7.393 6.728 6.525\n",
      " 5.976 5.936 6.301 6.081 6.701 6.376 6.317 6.513 6.209 5.759 5.952 6.003\n",
      " 5.926 5.713 6.167 6.229 6.437 6.98  5.427 6.162 6.484 5.304 6.185 6.229\n",
      " 6.242 6.75  7.061 5.762 5.871 6.312 6.114 5.905 5.454 5.414 5.093 5.983\n",
      " 5.983 5.707 5.926 5.67  5.39  5.794 6.019 5.569 6.027 6.593 6.12  6.976\n",
      " 6.794 6.03 ]\n",
      "y [24.  21.6 34.7 33.4 36.2 28.7 22.9 27.1 16.5 18.9 15.  18.9 21.7 20.4\n",
      " 18.2 19.9 23.1 17.5 20.2 18.2 13.6 19.6 15.2 14.5 15.6 13.9 16.6 14.8\n",
      " 18.4 21.  12.7 14.5 13.2 13.1 13.5 18.9 20.  21.  24.7 30.8 34.9 26.6\n",
      " 25.3 24.7 21.2 19.3 20.  16.6 14.4 19.4 19.7 20.5 25.  23.4 18.9 35.4\n",
      " 24.7 31.6 23.3 19.6 18.7 16.  22.2 25.  33.  23.5 19.4 22.  17.4 20.9\n",
      " 24.2 21.7 22.8 23.4 24.1 21.4 20.  20.8 21.2 20.3 28.  23.9 24.8 22.9\n",
      " 23.9 26.6 22.5 22.2 23.6 28.7 22.6 22.  22.9 25.  20.6 28.4 21.4 38.7\n",
      " 43.8 33.2 27.5 26.5 18.6 19.3 20.1 19.5 19.5 20.4 19.8 19.4 21.7 22.8\n",
      " 18.8 18.7 18.5 18.3 21.2 19.2 20.4 19.3 22.  20.3 20.5 17.3 18.8 21.4\n",
      " 15.7 16.2 18.  14.3 19.2 19.6 23.  18.4 15.6 18.1 17.4 17.1 13.3 17.8\n",
      " 14.  14.4 13.4 15.6 11.8 13.8 15.6 14.6 17.8 15.4 21.5 19.6 15.3 19.4\n",
      " 17.  15.6 13.1 41.3 24.3 23.3 27.  50.  50.  50.  22.7 25.  50.  23.8\n",
      " 23.8 22.3 17.4 19.1 23.1 23.6 22.6 29.4 23.2 24.6 29.9 37.2 39.8 36.2\n",
      " 37.9 32.5 26.4 29.6 50.  32.  29.8 34.9 37.  30.5 36.4 31.1 29.1 50.\n",
      " 33.3 30.3 34.6 34.9 32.9 24.1 42.3 48.5 50.  22.6 24.4 22.5 24.4 20.\n",
      " 21.7 19.3 22.4 28.1 23.7 25.  23.3 28.7 21.5 23.  26.7 21.7 27.5 30.1\n",
      " 44.8 50.  37.6 31.6 46.7 31.5 24.3 31.7 41.7 48.3 29.  24.  25.1 31.5\n",
      " 23.7 23.3 22.  20.1 22.2 23.7 17.6 18.5 24.3 20.5 24.5 26.2 24.4 24.8\n",
      " 29.6 42.8 21.9 20.9 44.  50.  36.  30.1 33.8 43.1 48.8 31.  36.5 22.8\n",
      " 30.7 50.  43.5 20.7 21.1 25.2 24.4 35.2 32.4 32.  33.2 33.1 29.1 35.1\n",
      " 45.4 35.4 46.  50.  32.2 22.  20.1 23.2 22.3 24.8 28.5 37.3 27.9 23.9\n",
      " 21.7 28.6 27.1 20.3 22.5 29.  24.8 22.  26.4 33.1 36.1 28.4 33.4 28.2\n",
      " 22.8 20.3 16.1 22.1 19.4 21.6 23.8 16.2 17.8 19.8 23.1 21.  23.8 23.1\n",
      " 20.4 18.5 25.  24.6 23.  22.2 19.3 22.6 19.8 17.1 19.4 22.2 20.7 21.1\n",
      " 19.5 18.5 20.6 19.  18.7 32.7 16.5 23.9 31.2 17.5 17.2 23.1 24.5 26.6\n",
      " 22.9 24.1 18.6 30.1 18.2 20.6 17.8 21.7 22.7 22.6 25.  19.9 20.8 16.8\n",
      " 21.9 27.5 21.9 23.1 50.  50.  50.  50.  50.  13.8 13.8 15.  13.9 13.3\n",
      " 13.1 10.2 10.4 10.9 11.3 12.3  8.8  7.2 10.5  7.4 10.2 11.5 15.1 23.2\n",
      "  9.7 13.8 12.7 13.1 12.5  8.5  5.   6.3  5.6  7.2 12.1  8.3  8.5  5.\n",
      " 11.9 27.9 17.2 27.5 15.  17.2 17.9 16.3  7.   7.2  7.5 10.4  8.8  8.4\n",
      " 16.7 14.2 20.8 13.4 11.7  8.3 10.2 10.9 11.   9.5 14.5 14.1 16.1 14.3\n",
      " 11.7 13.4  9.6  8.7  8.4 12.8 10.5 17.1 18.4 15.4 10.8 11.8 14.9 12.6\n",
      " 14.1 13.  13.4 15.2 16.1 17.8 14.9 14.1 12.7 13.5 14.9 20.  16.4 17.7\n",
      " 19.5 20.2 21.4 19.9 19.  19.1 19.1 20.1 19.9 19.6 23.2 29.8 13.8 13.3\n",
      " 16.7 12.  14.6 21.4 23.  23.7 25.  21.8 20.6 21.2 19.1 20.6 15.2  7.\n",
      "  8.1 13.6 20.1 21.8 24.5 23.1 19.7 18.3 21.2 17.5 16.8 22.4 20.6 23.9\n",
      " 22.  11.9]\n"
     ],
     "output_type": "stream"
    }
   ],
   "source": [
    "# 运行这将覆盖上一层生成的训练数据\n",
    "# 用boston的数据来做训练\n",
    "\n",
    "from sklearn.datasets import load_boston\n",
    "dataset = load_boston()\n",
    "x,y=dataset['data'],dataset['target']\n",
    "X_rm = x[:,5]\n",
    "print(\"X_rm\",X_rm)\n",
    "print(\"y\",y)\n"
   ],
   "metadata": {
    "collapsed": false,
    "pycharm": {
     "name": "#%%\n",
     "is_executing": false
    }
   }
  },
  {
   "cell_type": "code",
   "execution_count": 8,
   "outputs": [
    {
     "name": "stdout",
     "text": [
      "-1.3826055508999584 -1.263136733563261 0.01\n",
      "3.856426978744386 -2.1542039272391067 5.321507493688584\n"
     ],
     "output_type": "stream"
    },
    {
     "data": {
      "text/plain": "[<matplotlib.lines.Line2D at 0x1aa03c2d088>]"
     },
     "metadata": {},
     "output_type": "execute_result",
     "execution_count": 8
    },
    {
     "data": {
      "text/plain": "<Figure size 432x288 with 1 Axes>",
      "image/png": "[encoded data removed]"
     },
     "metadata": {
      "needs_background": "light"
     },
     "output_type": "display_data"
    }
   ],
   "source": [
    "k = random.random() * 20 - 10  # -100 100\n",
    "b = random.random() * 20 - 10  # -100 100\n",
    "\n",
    "learning_rate = 1e-2\n",
    "print(k, b, learning_rate)\n",
    "iteration_num = 1000\n",
    "losses = []\n",
    "k_gradient = 0\n",
    "b_gradient = 0\n",
    "last_k_gradient = 1\n",
    "last_b_gradient = 1\n",
    "for i in range(iteration_num):\n",
    "    \n",
    "    price_use_current_parameters = [price(r, k, b) for r in X_rm]  # \\hat{y}\n",
    "    \n",
    "    current_loss = MAE_loss(y, price_use_current_parameters)\n",
    "    losses.append(current_loss)\n",
    "    # print(\"----loss: {}, k : {} b: {}\".format(current_loss,k,b))\n",
    "    \n",
    "    k_gradient = MAE_partial_derivative_k(X_rm, y, price_use_current_parameters, k)\n",
    "    b_gradient = MAE_partial_derivative_b(X_rm, y, price_use_current_parameters, b)\n",
    "    # print(\"current_loss {}, k_gradient {}, b_gradient: {}\".format(int(current_loss), k_gradient,b_gradient))\n",
    "    k = k - k_gradient * learning_rate\n",
    "    b = b - b_gradient * learning_rate\n",
    "    # print(k, b)\n",
    "    \n",
    "    last_k_gradient = k_gradient\n",
    "    last_b_gradient = b_gradient\n",
    "    \n",
    "best_k = k\n",
    "best_b = b\n",
    "print(k, b, current_loss)\n",
    "\n",
    "plt.plot(list(range(iteration_num)),losses)"
   ],
   "metadata": {
    "collapsed": false,
    "pycharm": {
     "name": "#%%\n",
     "is_executing": false
    }
   }
  },
  {
   "cell_type": "code",
   "execution_count": 9,
   "outputs": [
    {
     "data": {
      "text/plain": "<matplotlib.collections.PathCollection at 0x1aa03c5ca08>"
     },
     "metadata": {},
     "output_type": "execute_result",
     "execution_count": 9
    },
    {
     "data": {
      "text/plain": "<Figure size 432x288 with 1 Axes>",
      "image/png": "[encoded data removed]"
     },
     "metadata": {
      "needs_background": "light"
     },
     "output_type": "display_data"
    }
   ],
   "source": [
    "price_use_best_parameters = [price(x, best_k, best_b) for x in X_rm]\n",
    "\n",
    "# price_use_best_parameters = [price(x, _k, _b) for x in X_rm]\n",
    " \n",
    "plt.scatter(X_rm,y,s= 5)\n",
    "plt.scatter(X_rm,price_use_best_parameters,  alpha= 0.5,s= 5)\n"
   ],
   "metadata": {
    "collapsed": false,
    "pycharm": {
     "name": "#%%\n",
     "is_executing": false
    }
   }
  },
  {
   "cell_type": "markdown",
   "source": [
    "上面的结果，虽然有时候收敛了，但效果不是很理想，下面尝试改进一下。若上述过程有错，还望老师多多指点。\n",
    "方法是写一个方法，从一堆 k, b 中挑出最优的组合。一开始随机k,b时随机一组值，并找出最优的k和b，解决初始化不太好的问题。\n",
    "随后迭代中，根据不同的学习率，找出最优的k，b，解决学习率太大或太小导致学习速度太慢或难以收敛的问题，也解决了局\n",
    "部最小值问题。\n",
    "用了这个方法后，就和梯度是否计算正确没有太直接的关系了。"
   ],
   "metadata": {
    "collapsed": false,
    "pycharm": {
     "name": "#%% md\n",
     "is_executing": false
    }
   }
  },
  {
   "cell_type": "code",
   "execution_count": 15,
   "outputs": [],
   "source": [
    "def get_optimal_k_b(K, B, Y, loss_func):\n",
    "    '''\n",
    "    从一堆 k, b 中挑出最优的组合\n",
    "    :param K: 一组k值\n",
    "    :param B: 一组b值\n",
    "    :param Y: 训练数据的Y，用于与预测值对比，并计算出误差\n",
    "    :param loss_func: 误差函数\n",
    "    :return: 返回最优的 k, b\n",
    "    '''\n",
    "    min_loss = float('inf')\n",
    "    optimal_k = 0\n",
    "    optimal_b = 0\n",
    "    for k in K:\n",
    "        for b in B:\n",
    "            prices = [price(r, k, b) for r in X_rm]\n",
    "            loss = loss_func(Y, prices)\n",
    "            if loss < min_loss:\n",
    "                min_loss = loss\n",
    "                optimal_b = b\n",
    "                optimal_k = k\n",
    "    return optimal_k, optimal_b"
   ],
   "metadata": {
    "collapsed": false,
    "pycharm": {
     "name": "#%%\n",
     "is_executing": false
    }
   }
  },
  {
   "cell_type": "code",
   "execution_count": 14,
   "outputs": [],
   "source": [
    "# 均方差\n",
    "# def loss(y,y_hat):\n",
    "#     return sum((y_i - y_hat_i)**2 for y_i, y_hat_i in zip(list(y),list(y_hat))) \\\n",
    "#            / len(list(y))\n"
   ],
   "metadata": {
    "collapsed": false,
    "pycharm": {
     "name": "#%%\n",
     "is_executing": false
    }
   }
  },
  {
   "cell_type": "code",
   "execution_count": 16,
   "outputs": [
    {
     "name": "stdout",
     "text": [
      "5.124605993337099 -9.777931364801232\n",
      "----loss: 5.023346321305158, k : 5.124605993337099 b: -9.777931364801232\n",
      "----loss: 4.696209489515659, k : 7.27427002495765 b: -24.007180376658937\n",
      "----loss: 4.6090895405417465, k : 7.4024002621118 b: -23.970026226461307\n",
      "----loss: 4.589936094369175, k : 7.560275756182948 b: -24.7605400604534\n",
      "----loss: 4.579353267619691, k : 7.6292540170525145 b: -25.392951127647077\n",
      "----loss: 4.576677701851026, k : 7.647252633653305 b: -25.40876140432692\n",
      "----loss: 4.564260206324502, k : 7.749535242348958 b: -26.199275238319014\n",
      "----loss: 4.56050443827416, k : 7.774054807566349 b: -26.23880093001862\n",
      "----loss: 4.559700880027395, k : 7.786719432072278 b: -26.23880093001862\n",
      "----loss: 4.554897578778804, k : 7.836251052625638 b: -26.47595508021625\n",
      "----loss: 4.552685478036092, k : 7.858921013099947 b: -26.950263380611506\n",
      "----loss: 4.546410431751591, k : 7.890398681084137 b: -26.956587491283443\n",
      "----loss: 4.5389969545396935, k : 7.98367338464145 b: -27.747101325275537\n",
      "----loss: 4.531919302412757, k : 8.01469571665726 b: -27.7407772146036\n",
      "----loss: 4.498685867514111, k : 9.405743147487309 b: -35.64591555452455\n",
      "----loss: 4.4405695682873, k : 9.311722791756084 b: -35.954215949781464\n",
      "----loss: 4.439042978077207, k : 9.334019036815373 b: -36.01745705650083\n",
      "----loss: 4.439017054531689, k : 9.335629115866757 b: -36.01745705650083\n",
      "----loss: 4.438991130986169, k : 9.33723919491814 b: -36.01745705650083\n",
      "----loss: 4.438977026308872, k : 9.338849273969524 b: -36.01745705650083\n",
      "----loss: 4.438883813112637, k : 9.344088404404307 b: -36.09650843990004\n",
      "----loss: 4.438807734709079, k : 9.348629708752133 b: -36.09650836084866\n",
      "----loss: 4.438781811163573, k : 9.350239787803517 b: -36.09650836084866\n",
      "----loss: 4.438755887618052, k : 9.3518498668549 b: -36.09650836084866\n",
      "----loss: 4.438753295263496, k : 9.352010874760039 b: -36.09650836084866\n",
      "----loss: 4.438750702908946, k : 9.352171882665177 b: -36.09650836084866\n",
      "----loss: 4.4387506769854, k : 9.352173492744228 b: -36.09650836084866\n",
      "----loss: 4.438750651061859, k : 9.35217510282328 b: -36.09650836084866\n",
      "----loss: 4.438750625138305, k : 9.352176712902331 b: -36.09650836084866\n",
      "----loss: 4.438750602725758, k : 9.352178322981382 b: -36.09650836084866\n",
      "----loss: 4.438625388521735, k : 9.359955002823279 b: -36.17555974424787\n",
      "----loss: 4.438599464976225, k : 9.361565081874662 b: -36.17555974424787\n",
      "----loss: 4.438573541430705, k : 9.363175160926046 b: -36.17555974424787\n",
      "----loss: 4.438547617885184, k : 9.36478523997743 b: -36.17555974424787\n",
      "----loss: 4.438545025530636, k : 9.364946247882568 b: -36.17555974424787\n",
      "----loss: 4.438542433176076, k : 9.365107255787706 b: -36.17555974424787\n",
      "----loss: 4.438539942942961, k : 9.365268263692844 b: -36.17555974424787\n",
      "----loss: 4.438414630128503, k : 9.37304494353474 b: -36.25461112764708\n",
      "----loss: 4.438388706582989, k : 9.374655022586124 b: -36.25461112764708\n",
      "----loss: 4.438362783037471, k : 9.376265101637507 b: -36.25461112764708\n",
      "----loss: 4.438336859491951, k : 9.377875180688891 b: -36.25461112764708\n",
      "----loss: 4.438334267137402, k : 9.378036188594029 b: -36.25461112764708\n",
      "----loss: 4.4383324793266095, k : 9.378197196499167 b: -36.25461112764708\n",
      "----loss: 4.438184062989975, k : 9.38736518068889 b: -36.33366251104629\n",
      "----loss: 4.438158139444461, k : 9.388975259740274 b: -36.33366251104629\n",
      "----loss: 4.438133597558423, k : 9.390585338791658 b: -36.33366251104629\n",
      "----loss: 4.4379846041060675, k : 9.39975332298138 b: -36.4127138944455\n",
      "----loss: 4.437958680560552, k : 9.401363402032764 b: -36.4127138944455\n",
      "----loss: 4.437934715790235, k : 9.402973481084148 b: -36.4127138944455\n",
      "----loss: 4.437785145222162, k : 9.412141465273871 b: -36.49176527784471\n",
      "----loss: 4.437759221676646, k : 9.413751544325255 b: -36.49176527784471\n",
      "----loss: 4.437735834022043, k : 9.415361623376638 b: -36.49176527784471\n",
      "----loss: 4.437590786895717, k : 9.424529607566361 b: -36.570816661243924\n",
      "----loss: 4.437523927396935, k : 9.42836537831735 b: -36.578721799583846\n",
      "----loss: 4.437521335042383, k : 9.428526386222488 b: -36.578721799583846\n",
      "----loss: 4.437518742687831, k : 9.428687394127627 b: -36.578721799583846\n",
      "----loss: 4.437516150333281, k : 9.428848402032765 b: -36.578721799583846\n",
      "----loss: 4.437515926540377, k : 9.428864502823279 b: -36.578721799583846\n",
      "----loss: 4.437418390609548, k : 9.438032487013002 b: -36.65777318298306\n",
      "----loss: 4.437281439104236, k : 9.443952052230394 b: -36.6735834596629\n",
      "----loss: 4.437273031607133, k : 9.44394820262565 b: -36.67516448733088\n",
      "----loss: 4.4372730290147775, k : 9.443948363633556 b: -36.67516448733088\n",
      "----loss: 4.437273026422425, k : 9.443948524641462 b: -36.67516448733088\n",
      "----loss: 4.437273023830068, k : 9.443948685649367 b: -36.67516448733088\n",
      "----loss: 4.4372730231718975, k : 9.443948846657273 b: -36.67516448733088\n",
      "----loss: 4.437258260058429, k : 9.444865645076245 b: -36.683069625670804\n",
      "----loss: 4.437255667703871, k : 9.445026652981383 b: -36.683069625670804\n",
      "----loss: 4.437254015699059, k : 9.445187660886521 b: -36.683069625670804\n",
      "----loss: 4.437252455532531, k : 9.445226156933952 b: -36.684650653338785\n",
      "----loss: 4.437250345825273, k : 9.44538716483909 b: -36.684650653338785\n",
      "----loss: 4.436586532472441, k : 9.577659892111818 b: -37.47516448733088\n",
      "----loss: 4.436584417563206, k : 9.578119773534743 b: -37.47516448733088\n",
      "----loss: 4.436582302653974, k : 9.578579654957668 b: -37.47516448733088\n",
      "----loss: 4.436580187744749, k : 9.579039536380593 b: -37.47516448733088\n",
      "----loss: 4.436578072835517, k : 9.579499417803518 b: -37.47516448733088\n",
      "----loss: 4.436575957926287, k : 9.579959299226443 b: -37.47516448733088\n",
      "----loss: 4.436574427139473, k : 9.580419180649368 b: -37.47516448733088\n",
      "----loss: 4.436572956427476, k : 9.580611967210633 b: -37.4830696256708\n",
      "----loss: 4.436570841518234, k : 9.581071848633558 b: -37.4830696256708\n",
      "----loss: 4.436568726609009, k : 9.581531730056483 b: -37.4830696256708\n",
      "----loss: 4.4365685151180845, k : 9.581577718198774 b: -37.4830696256708\n",
      "----loss: 4.436568303627162, k : 9.581623706341066 b: -37.4830696256708\n",
      "----loss: 4.43656809213624, k : 9.581669694483358 b: -37.4830696256708\n",
      "----loss: 4.436568070987147, k : 9.581674293297587 b: -37.4830696256708\n",
      "----loss: 4.43656804983806, k : 9.581678892111816 b: -37.4830696256708\n",
      "----loss: 4.436568028688963, k : 9.581683490926045 b: -37.4830696256708\n",
      "----loss: 4.4365680075398695, k : 9.581688089740274 b: -37.4830696256708\n",
      "----loss: 4.436567986390776, k : 9.581692688554503 b: -37.4830696256708\n",
      "----loss: 4.436567965241684, k : 9.581697287368732 b: -37.4830696256708\n",
      "----loss: 4.436567944092592, k : 9.58170188618296 b: -37.4830696256708\n",
      "----loss: 4.436567941977682, k : 9.581702346064384 b: -37.4830696256708\n",
      "----loss: 4.436567939862777, k : 9.581702805945808 b: -37.4830696256708\n",
      "----loss: 4.436567937747868, k : 9.581703265827231 b: -37.4830696256708\n",
      "----loss: 4.43656793785656, k : 9.581703311815374 b: -37.4830696256708\n",
      "----loss: 4.436567050946793, k : 9.581896098376639 b: -37.49097476401072\n",
      "----loss: 4.436564936037565, k : 9.582355979799564 b: -37.49097476401072\n",
      "----loss: 4.436562821128333, k : 9.582815861222489 b: -37.49097476401072\n",
      "----loss: 4.43656260963741, k : 9.58286184936478 b: -37.49097476401072\n",
      "----loss: 4.436562398146481, k : 9.582907837507072 b: -37.49097476401072\n",
      "----loss: 4.436562186655561, k : 9.582953825649364 b: -37.49097476401072\n",
      "9.582999813791655 -37.49097476401072 4.436562186655561\n"
     ],
     "output_type": "stream"
    },
    {
     "data": {
      "text/plain": "[<matplotlib.lines.Line2D at 0x1aa05b734c8>]"
     },
     "metadata": {},
     "output_type": "execute_result",
     "execution_count": 16
    },
    {
     "data": {
      "text/plain": "<Figure size 432x288 with 1 Axes>",
      "image/png": "[encoded data removed]"
     },
     "metadata": {
      "needs_background": "light"
     },
     "output_type": "display_data"
    }
   ],
   "source": [
    "K = [random.random() * 20 - 10 for i in range(100)]\n",
    "B = [random.random() * 20 - 10 for i in range(100)]\n",
    "\n",
    "learning_rates = [1e-5,1e-4,1e-3,1e-2,1e-1,1,1e1,1e2,1e3,1e4,1e5, -1e-5,-1e-4,-1e-3,-1e-2,-1e-1,-1,-1e1,-1e2,-1e3,-1e4,-1e5,]\n",
    "\n",
    "# my_loss = loss\n",
    "my_loss = MAE_loss\n",
    "\n",
    "k, b = get_optimal_k_b(K,B,y, my_loss)\n",
    "print(k ,b )\n",
    "\n",
    "iteration_num = 100\n",
    "losses = []\n",
    "k_gradient = 0\n",
    "b_gradient = 0\n",
    "last_k_gradient = 1\n",
    "last_b_gradient = 1\n",
    "for i in range(iteration_num):\n",
    "    \n",
    "    price_use_current_parameters = [price(r, k, b) for r in X_rm]  # \\hat{y}\n",
    "    \n",
    "    current_loss = my_loss(y, price_use_current_parameters)\n",
    "    losses.append(current_loss)\n",
    "    print(\"----loss: {}, k : {} b: {}\".format(current_loss,k,b))\n",
    "    \n",
    "    k_gradient = MAE_partial_derivative_k(X_rm, y, price_use_current_parameters, k)\n",
    "    b_gradient = MAE_partial_derivative_b(X_rm, y, price_use_current_parameters, b)\n",
    "    # print(\"current_loss {}, k_gradient {}, b_gradient: {}\".format(int(current_loss), k_gradient,b_gradient))\n",
    "    K = [k - k_gradient * l for l in learning_rates]\n",
    "    B = [b - b_gradient * l for l in learning_rates]\n",
    "    k, b = get_optimal_k_b(K,B,y, my_loss)\n",
    "    # print(k, b)\n",
    "    \n",
    "    last_k_gradient = k_gradient\n",
    "    last_b_gradient = b_gradient\n",
    "    \n",
    "best_k = k\n",
    "best_b = b\n",
    "print(k, b, current_loss)\n",
    "\n",
    "plt.plot(list(range(iteration_num)),losses)"
   ],
   "metadata": {
    "collapsed": false,
    "pycharm": {
     "name": "#%%\n",
     "is_executing": false
    }
   }
  },
  {
   "cell_type": "code",
   "execution_count": 17,
   "outputs": [
    {
     "data": {
      "text/plain": "<matplotlib.collections.PathCollection at 0x1aa05bcf908>"
     },
     "metadata": {},
     "output_type": "execute_result",
     "execution_count": 17
    },
    {
     "data": {
      "text/plain": "<Figure size 432x288 with 1 Axes>",
      "image/png": "[encoded data removed]"
     },
     "metadata": {
      "needs_background": "light"
     },
     "output_type": "display_data"
    }
   ],
   "source": [
    "price_use_best_parameters = [price(x, best_k, best_b) for x in X_rm]\n",
    "\n",
    "# price_use_best_parameters = [price(x, _k, _b) for x in X_rm]\n",
    " \n",
    "plt.scatter(X_rm,y,s= 5)\n",
    "plt.scatter(X_rm,price_use_best_parameters,  alpha= 0.5,s= 5)\n",
    "\n"
   ],
   "metadata": {
    "collapsed": false,
    "pycharm": {
     "name": "#%%\n",
     "is_executing": false
    }
   }
  },
  {
   "cell_type": "markdown",
   "source": [
    "这个方法很成功地解决了各种问题，给自己一个赞！这种方法不知道叫什么名字？请老师指点，感谢！\n"
   ],
   "metadata": {
    "collapsed": false,
    "pycharm": {
     "name": "#%% md\n"
    }
   }
  },
  {
   "cell_type": "markdown",
   "source": [
    "<评阅点>\n",
    "+ 是否将Loss改成了“绝对值”(3')\n",
    "+ 是否完成了偏导的重新定义(5')\n",
    "+ 新的模型Loss是否能够收敛 (11’)"
   ],
   "metadata": {
    "collapsed": false
   }
  },
  {
   "cell_type": "markdown",
   "source": [
    "\n"
   ],
   "metadata": {
    "collapsed": false
   }
  }
 ],
 "metadata": {
  "kernelspec": {
   "display_name": "Python 3",
   "language": "python",
   "name": "python3"
  },
  "language_info": {
   "codemirror_mode": {
    "name": "ipython",
    "version": 2
   },
   "file_extension": ".py",
   "mimetype": "text/x-python",
   "name": "python",
   "nbconvert_exporter": "python",
   "pygments_lexer": "ipython2",
   "version": "2.7.6"
  },
  "pycharm": {
   "stem_cell": {
    "cell_type": "raw",
    "source": [],
    "metadata": {
     "collapsed": false
    }
   }
  }
 },
 "nbformat": 4,
 "nbformat_minor": 0
}