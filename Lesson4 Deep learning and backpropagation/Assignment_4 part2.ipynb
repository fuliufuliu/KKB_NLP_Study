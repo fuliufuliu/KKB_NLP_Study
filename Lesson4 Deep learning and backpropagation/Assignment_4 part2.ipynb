{
 "cells": [
  {
   "cell_type": "markdown",
   "metadata": {
    "collapsed": true,
    "pycharm": {
     "name": "#%% md\n"
    }
   },
   "source": [
    "# Challenge ! ! !\n",
    "\n",
    "The original data have images labeled 0,1,2,3,4,5,6,7,8,9. In our logistic model, we only detect if the digit in the image is larger or smaller than 5. Now, Let's go for a more challenging problem. Try to use softmax function to build a model to recognize which digit (0,1,2,3,4,5,6,7,8,9) is in the image."
   ]
  },
  {
   "cell_type": "code",
   "execution_count": 3,
   "outputs": [],
   "source": [
    "import torch\n",
    "import torch.nn as nn\n",
    "import torch.nn.functional as functional\n",
    "from torch.autograd import Variable"
   ],
   "metadata": {
    "collapsed": false,
    "pycharm": {
     "name": "#%%\n",
     "is_executing": false
    }
   }
  },
  {
   "cell_type": "code",
   "execution_count": 4,
   "outputs": [],
   "source": [
    "class Net(torch.nn.Module):\n",
    "    def __init__(self, inpurtCount, hiddenCount, outputCount):\n",
    "        super(Net, self).__init__()\n",
    "        self.hiddenLayer = torch.nn.Linear(inpurtCount, hiddenCount)\n",
    "        self.outputLayer = torch.nn.Linear(hiddenCount, outputCount)\n",
    "        \n",
    "        \n",
    "    def forward(self, x, activationFunc1, activationFunc2):\n",
    "        return activationFunc2(self.outputLayer(activationFunc1(self.hiddenLayer(x))))\n",
    "    \n"
   ],
   "metadata": {
    "collapsed": false,
    "pycharm": {
     "name": "#%%\n",
     "is_executing": false
    }
   }
  },
  {
   "cell_type": "code",
   "execution_count": 18,
   "outputs": [],
   "source": [
    "from sklearn import datasets\n",
    "import matplotlib.pyplot as plt\n",
    "from sklearn.model_selection import train_test_split\n",
    "from collections import Counter\n",
    "import numpy"
   ],
   "metadata": {
    "collapsed": false,
    "pycharm": {
     "name": "#%%\n",
     "is_executing": false
    }
   }
  },
  {
   "cell_type": "code",
   "execution_count": 6,
   "outputs": [
    {
     "name": "stdout",
     "text": [
      "1797\n",
      "[ 0.  0.  5. 13.  9.  1.  0.  0.  0.  0. 13. 15. 10. 15.  5.  0.  0.  3.\n",
      " 15.  2.  0. 11.  8.  0.  0.  4. 12.  0.  0.  8.  8.  0.  0.  5.  8.  0.\n",
      "  0.  9.  8.  0.  0.  4. 11.  0.  1. 12.  7.  0.  0.  2. 14.  5. 10. 12.\n",
      "  0.  0.  0.  0.  6. 13. 10.  0.  0.  0.]\n"
     ],
     "output_type": "stream"
    },
    {
     "data": {
      "text/plain": "<matplotlib.image.AxesImage at 0xc1ab308>"
     },
     "metadata": {},
     "output_type": "execute_result",
     "execution_count": 6
    },
    {
     "data": {
      "text/plain": "<Figure size 432x288 with 1 Axes>",
      "image/png": "[encoded data removed]"
     },
     "metadata": {
      "needs_background": "light"
     },
     "output_type": "display_data"
    }
   ],
   "source": [
    "# Loading the data \n",
    "digits = datasets.load_digits()\n",
    "print(len(digits.data))\n",
    "print(digits.data[0])\n",
    "plt.imshow(digits.data[0].reshape([8,8]),cmap=plt.cm.gray_r)"
   ],
   "metadata": {
    "collapsed": false,
    "pycharm": {
     "name": "#%%\n",
     "is_executing": false
    }
   }
  },
  {
   "cell_type": "code",
   "execution_count": 32,
   "outputs": [
    {
     "name": "stdout",
     "text": [
      "1347\n",
      "450\n",
      "1347\n",
      "450\n",
      "tensor([8, 6, 8, 8, 7, 0, 5, 5, 4, 2, 5, 5, 5, 4, 3, 8, 0, 3, 7, 2, 4, 9, 9, 1,\n",
      "        9, 8, 8, 8, 6, 7, 6, 5, 2, 7, 3, 7, 7, 9, 8, 9, 2, 7, 9, 5, 4, 8, 4, 0,\n",
      "        8, 3, 0, 9, 8, 8, 7, 5, 1, 1, 1, 6, 1, 2, 4, 7, 2, 4, 4, 1, 3, 0, 9, 7,\n",
      "        7, 3, 4, 4, 4, 2, 0, 9, 9, 1, 1, 4, 9, 1, 2, 0, 8, 2, 6, 9, 5, 1, 3, 1,\n",
      "        8, 6, 5, 0, 7, 3, 7, 0, 9, 9, 7, 7, 8, 6, 2, 5, 6, 1, 9, 9, 6, 8, 1, 4,\n",
      "        9, 5, 9, 1, 3, 0, 9, 5, 5, 6, 3, 3, 3, 5, 5, 5, 9, 7, 7, 8, 0, 0, 1, 8,\n",
      "        2, 4, 4, 3, 1, 3, 2, 0, 4, 1, 5, 8, 7, 7, 0, 7, 8, 7, 3, 2, 3, 4, 1, 5,\n",
      "        2, 2, 9, 8, 2, 1, 7, 5, 4, 8, 6, 6, 1, 9, 4, 8, 8, 2, 7, 0, 2, 2, 9, 7,\n",
      "        7, 6, 3, 1, 9, 6, 6, 5, 4, 1, 6, 7, 7, 4, 2, 8, 2, 0, 5, 4, 4, 5, 9, 1,\n",
      "        8, 2, 6, 7, 5, 0, 7, 7, 1, 0, 3, 9, 3, 8, 9, 3, 5, 4, 8, 1, 7, 6, 0, 7,\n",
      "        7, 0, 0, 7, 9, 3, 3, 9, 6, 0, 8, 8, 9, 2, 5, 3, 1, 5, 0, 7, 5, 4, 5, 4,\n",
      "        5, 8, 8, 2, 9, 0, 0, 4, 5, 2, 9, 6, 6, 7, 7, 4, 4, 5, 9, 5, 1, 2, 8, 4,\n",
      "        9, 2, 9, 3, 4, 6, 8, 9, 5, 6, 0, 1, 2, 0, 3, 5, 6, 2, 1, 3, 4, 1, 8, 8,\n",
      "        3, 5, 4, 0, 1, 2, 2, 6, 9, 1, 7, 6, 9, 2, 9, 7, 5, 3, 3, 7, 1, 7, 2, 6,\n",
      "        0, 0, 9, 7, 8, 0, 2, 4, 0, 2, 4, 1, 9, 2, 1, 6, 9, 1, 1, 7, 1, 4, 3, 9,\n",
      "        2, 9, 8, 3, 0, 7, 9, 0, 8, 7, 5, 6, 8, 5, 2, 4, 8, 9, 9, 7, 4, 2, 5, 2,\n",
      "        9, 7, 4, 1, 5, 7, 1, 8, 6, 1, 8, 4, 4, 8, 6, 2, 0, 2, 8, 3, 1, 1, 2, 0,\n",
      "        1, 0, 5, 8, 8, 7, 6, 6, 8, 4, 8, 4, 3, 4, 5, 5, 5, 6, 9, 9, 5, 6, 3, 8,\n",
      "        3, 4, 4, 1, 1, 2, 0, 9, 6, 2, 9, 6, 2, 0, 3, 8, 5, 9])\n"
     ],
     "output_type": "stream"
    }
   ],
   "source": [
    "# Split the data into training set and test set \n",
    "X_train, X_test, y_train, y_test = train_test_split(digits.data, digits.target, test_size=0.25)\n",
    "\n",
    "print(len(X_train))\n",
    "print(len(X_test))\n",
    "print(len(y_train))\n",
    "print(len(y_test))\n",
    "\n",
    "def toVariable(x, type):\n",
    "    return Variable(torch.from_numpy(x).type(type))\n",
    "\n",
    "def toVariableY(y):\n",
    "    yTemp = []\n",
    "    for v in y:\n",
    "        temp = numpy.zeros(10, numpy.long)\n",
    "        temp[v] = 1\n",
    "        yTemp.append(temp)\n",
    "    return Variable(torch.tensor(yTemp).type(torch.long))\n",
    "\n",
    "X_train, X_test = toVariable(X_train, torch.float), toVariable(X_test, torch.float)\n",
    "# y_train, y_test = toVariableY(y_train), toVariableY(y_test)\n",
    "y_train, y_test = toVariable(y_train, torch.long), toVariable(y_test, torch.long)\n",
    "print(y_test)"
   ],
   "metadata": {
    "collapsed": false,
    "pycharm": {
     "name": "#%%\n",
     "is_executing": false
    }
   }
  },
  {
   "cell_type": "markdown",
   "source": [],
   "metadata": {
    "collapsed": false,
    "pycharm": {
     "name": "#%% md\n",
     "is_executing": false
    }
   }
  },
  {
   "cell_type": "code",
   "execution_count": 82,
   "outputs": [
    {
     "name": "stderr",
     "text": [
      "d:\\ProgramData\\Anaconda3\\lib\\site-packages\\ipykernel_launcher.py:9: UserWarning: Implicit dimension choice for softmax has been deprecated. Change the call to include dim=X as an argument.\n",
      "  if __name__ == '__main__':\n"
     ],
     "output_type": "stream"
    },
    {
     "name": "stdout",
     "text": [
      "2.3108091\n",
      "2.1565156\n",
      "1.9484537\n",
      "1.7684091\n",
      "1.6655005\n",
      "1.6273388\n",
      "1.6043718\n",
      "1.5563722\n",
      "1.5356281\n",
      "1.5220524\n",
      "1.5132582\n",
      "1.5068418\n",
      "1.5018146\n",
      "1.4978225\n",
      "1.4945536\n",
      "1.491725\n",
      "1.4892116\n",
      "1.4869578\n",
      "1.4849551\n",
      "1.483179\n",
      "1.4815646\n",
      "1.480039\n",
      "1.4785415\n",
      "1.4772501\n",
      "1.4761888\n",
      "1.4750158\n",
      "1.4741488\n",
      "1.4735136\n",
      "1.4729751\n",
      "1.472516\n",
      "1.4721109\n",
      "1.4717432\n",
      "1.4713916\n",
      "1.4710307\n",
      "1.4706633\n",
      "1.470345\n",
      "1.4700631\n",
      "1.4697775\n",
      "1.4694316\n",
      "1.4689902\n",
      "1.4686565\n",
      "1.4683847\n",
      "1.4681251\n",
      "1.467842\n",
      "1.4674622\n",
      "1.4671595\n",
      "1.4669704\n",
      "1.4668266\n",
      "1.466702\n",
      "1.4665941\n"
     ],
     "output_type": "stream"
    }
   ],
   "source": [
    "net  = Net(64, 64, 10)\n",
    "\n",
    "optimizer = torch.optim.Adam(net.parameters(), 0.001)\n",
    "lossObj = torch.nn.CrossEntropyLoss()\n",
    "\n",
    "losses = []\n",
    "\n",
    "for i in range(500):\n",
    "    predictData = net.forward(X_train, functional.relu, functional.softmax)\n",
    "        \n",
    "    loss = lossObj(predictData, y_train)\n",
    "    if i % 10 == 0:\n",
    "        print(loss.data.numpy())\n",
    "    losses.append(loss.data.numpy())\n",
    "    \n",
    "    optimizer.zero_grad()\n",
    "    loss.backward()\n",
    "    optimizer.step()\n",
    "    \n",
    "predictData = predictData.data.numpy()"
   ],
   "metadata": {
    "collapsed": false,
    "pycharm": {
     "name": "#%%\n",
     "is_executing": false
    }
   }
  },
  {
   "cell_type": "code",
   "execution_count": 83,
   "outputs": [
    {
     "data": {
      "text/plain": "[<matplotlib.lines.Line2D at 0x184d36c8>]"
     },
     "metadata": {},
     "output_type": "execute_result",
     "execution_count": 83
    },
    {
     "data": {
      "text/plain": "<Figure size 432x288 with 1 Axes>",
      "image/png": "[encoded data removed]"
     },
     "metadata": {
      "needs_background": "light"
     },
     "output_type": "display_data"
    }
   ],
   "source": [
    "plt.plot(numpy.arange(len(losses)), losses)"
   ],
   "metadata": {
    "collapsed": false,
    "pycharm": {
     "name": "#%%\n",
     "is_executing": false
    }
   }
  },
  {
   "cell_type": "code",
   "execution_count": 86,
   "outputs": [
    {
     "name": "stderr",
     "text": [
      "d:\\ProgramData\\Anaconda3\\lib\\site-packages\\ipykernel_launcher.py:9: UserWarning: Implicit dimension choice for softmax has been deprecated. Change the call to include dim=X as an argument.\n",
      "  if __name__ == '__main__':\n"
     ],
     "output_type": "stream"
    },
    {
     "name": "stdout",
     "text": [
      "Counter({True: 1342, False: 5})\n",
      "Counter({True: 436, False: 14})\n",
      "\n",
      "traing_accuracy: 0.9962880475129918 \n",
      "test_accuracy: 0.9688888888888889\n"
     ],
     "output_type": "stream"
    }
   ],
   "source": [
    "def see_result():\n",
    "    Y_prediction = net.forward(X_train, functional.relu, functional.softmax).data.numpy()\n",
    "    Y_Result = []\n",
    "    for i in range(Y_prediction.shape[0]):\n",
    "        Y_Result.append( numpy.argmax(Y_prediction[i]) )\n",
    "    Y_Result = numpy.array(Y_Result)\n",
    "    counter = Counter(list((Y_Result == y_train.data.numpy()).reshape(-1)))\n",
    "    print(counter)\n",
    "    traing_accuracy = counter[True]/len(y_train)\n",
    "    \n",
    "    Y_prediction = net.forward(X_test, functional.relu, functional.softmax).data.numpy()\n",
    "    Y_Result = []\n",
    "    for i in range(Y_prediction.shape[0]):\n",
    "        Y_Result.append( numpy.argmax(Y_prediction[i]) )\n",
    "    Y_Result = numpy.array(Y_Result)\n",
    "    counter = Counter(list((Y_Result == y_test.data.numpy()).reshape(-1)))\n",
    "    print(counter)\n",
    "    test_accuracy = counter[True]/len(y_test)\n",
    "    \n",
    "    print(\"\\ntraing_accuracy:\", traing_accuracy,\"\\ntest_accuracy:\",  test_accuracy)\n",
    "    \n",
    "see_result()"
   ],
   "metadata": {
    "collapsed": false,
    "pycharm": {
     "name": "#%%\n",
     "is_executing": false
    }
   }
  },
  {
   "cell_type": "markdown",
   "source": [
    "# Congratulations ! You have completed assigment 4. \n"
   ],
   "metadata": {
    "collapsed": false
   }
  }
 ],
 "metadata": {
  "kernelspec": {
   "display_name": "Python 3",
   "language": "python",
   "name": "python3"
  },
  "language_info": {
   "codemirror_mode": {
    "name": "ipython",
    "version": 2
   },
   "file_extension": ".py",
   "mimetype": "text/x-python",
   "name": "python",
   "nbconvert_exporter": "python",
   "pygments_lexer": "ipython2",
   "version": "2.7.6"
  },
  "pycharm": {
   "stem_cell": {
    "cell_type": "raw",
    "source": [],
    "metadata": {
     "collapsed": false
    }
   }
  }
 },
 "nbformat": 4,
 "nbformat_minor": 0
}