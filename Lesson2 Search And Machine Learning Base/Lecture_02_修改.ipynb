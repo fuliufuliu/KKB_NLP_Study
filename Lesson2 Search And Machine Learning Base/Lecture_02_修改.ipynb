{
 "cells": [
  {
   "cell_type": "markdown",
   "metadata": {},
   "source": [
    "# AI for NLP. Lecture 1 Part 1"
   ]
  },
  {
   "cell_type": "markdown",
   "metadata": {},
   "source": [
    "## Build Graph"
   ]
  },
  {
   "cell_type": "code",
   "execution_count": 1,
   "metadata": {
    "pycharm": {
     "is_executing": false
    }
   },
   "outputs": [],
   "source": [
    "coordination_source = \"\"\"\n",
    "{name:'兰州', geoCoord:[103.73, 36.03]},\n",
    "{name:'嘉峪关', geoCoord:[98.17, 39.47]},\n",
    "{name:'西宁', geoCoord:[101.74, 36.56]},\n",
    "{name:'成都', geoCoord:[104.06, 30.67]},\n",
    "{name:'石家庄', geoCoord:[114.48, 38.03]},\n",
    "{name:'拉萨', geoCoord:[102.73, 25.04]},\n",
    "{name:'贵阳', geoCoord:[106.71, 26.57]},\n",
    "{name:'武汉', geoCoord:[114.31, 30.52]},\n",
    "{name:'郑州', geoCoord:[113.65, 34.76]},\n",
    "{name:'济南', geoCoord:[117, 36.65]},\n",
    "{name:'南京', geoCoord:[118.78, 32.04]},\n",
    "{name:'合肥', geoCoord:[117.27, 31.86]},\n",
    "{name:'杭州', geoCoord:[120.19, 30.26]},\n",
    "{name:'南昌', geoCoord:[115.89, 28.68]},\n",
    "{name:'福州', geoCoord:[119.3, 26.08]},\n",
    "{name:'广州', geoCoord:[113.23, 23.16]},\n",
    "{name:'长沙', geoCoord:[113, 28.21]},\n",
    "//{name:'海口', geoCoord:[110.35, 20.02]},\n",
    "{name:'沈阳', geoCoord:[123.38, 41.8]},\n",
    "{name:'长春', geoCoord:[125.35, 43.88]},\n",
    "{name:'哈尔滨', geoCoord:[126.63, 45.75]},\n",
    "{name:'太原', geoCoord:[112.53, 37.87]},\n",
    "{name:'西安', geoCoord:[108.95, 34.27]},\n",
    "//{name:'台湾', geoCoord:[121.30, 25.03]},\n",
    "{name:'北京', geoCoord:[116.46, 39.92]},\n",
    "{name:'上海', geoCoord:[121.48, 31.22]},\n",
    "{name:'重庆', geoCoord:[106.54, 29.59]},\n",
    "{name:'天津', geoCoord:[117.2, 39.13]},\n",
    "{name:'呼和浩特', geoCoord:[111.65, 40.82]},\n",
    "{name:'南宁', geoCoord:[108.33, 22.84]},\n",
    "//{name:'西藏', geoCoord:[91.11, 29.97]},\n",
    "{name:'银川', geoCoord:[106.27, 38.47]},\n",
    "{name:'乌鲁木齐', geoCoord:[87.68, 43.77]},\n",
    "{name:'香港', geoCoord:[114.17, 22.28]},\n",
    "{name:'澳门', geoCoord:[113.54, 22.19]}\n",
    "\"\"\""
   ]
  },
  {
   "cell_type": "markdown",
   "metadata": {},
   "source": [
    "### Get data from source using regular expression"
   ]
  },
  {
   "cell_type": "code",
   "execution_count": 2,
   "metadata": {
    "pycharm": {
     "is_executing": false
    }
   },
   "outputs": [],
   "source": [
    "import re"
   ]
  },
  {
   "cell_type": "markdown",
   "metadata": {},
   "source": [
    "## regular expression"
   ]
  },
  {
   "cell_type": "markdown",
   "metadata": {},
   "source": [
    "[a-z]\n",
    "[A-Z]\n",
    "[^a]: negation\n",
    "colou?r:  ? zero or one of its previous character\n",
    "* : zero or more of its previous character\n",
    "+: one or more\n",
    ".:match any single character\n",
    "^:start of the line\n",
    "$:end of the line\n",
    "| [cat|dog] : cat or dog\n",
    "(da): make the string da like a character\n"
   ]
  },
  {
   "cell_type": "code",
   "execution_count": 3,
   "metadata": {
    "pycharm": {
     "is_executing": false
    }
   },
   "outputs": [],
   "source": [
    "l = \"color or colour\""
   ]
  },
  {
   "cell_type": "code",
   "execution_count": 4,
   "metadata": {
    "pycharm": {
     "is_executing": false
    }
   },
   "outputs": [
    {
     "data": {
      "text/plain": [
       "['color', 'colour']"
      ]
     },
     "execution_count": 4,
     "metadata": {},
     "output_type": "execute_result"
    }
   ],
   "source": [
    "pattern = re.compile(\"colou?r\")\n",
    "pattern.findall(l)"
   ]
  },
  {
   "cell_type": "code",
   "execution_count": 5,
   "metadata": {
    "pycharm": {
     "is_executing": false
    }
   },
   "outputs": [],
   "source": [
    "def get_city_info(city_coordination):\n",
    "    city_location = {}\n",
    "    for line in city_coordination.split(\"\\n\"):\n",
    "        if line.startswith(\"//\"): continue\n",
    "        if line.strip() == \"\":continue\n",
    "            \n",
    "        city = re.findall(\"name:'(\\w+)'\",line)[0]\n",
    "        x_y = re.findall(\"Coord:\\[(\\d+.\\d+),\\s(\\d+.\\d+)\\]\",line)[0]\n",
    "        x_y = tuple(map(float,x_y))\n",
    "        city_location[city] = x_y\n",
    "    return city_location"
   ]
  },
  {
   "cell_type": "code",
   "execution_count": 6,
   "metadata": {
    "pycharm": {
     "is_executing": false
    }
   },
   "outputs": [],
   "source": [
    "city_info = get_city_info(coordination_source)"
   ]
  },
  {
   "cell_type": "code",
   "execution_count": 7,
   "metadata": {
    "pycharm": {
     "is_executing": false
    }
   },
   "outputs": [
    {
     "data": {
      "text/plain": [
       "{'兰州': (103.73, 36.03),\n",
       " '嘉峪关': (98.17, 39.47),\n",
       " '西宁': (101.74, 36.56),\n",
       " '成都': (104.06, 30.67),\n",
       " '石家庄': (114.48, 38.03),\n",
       " '拉萨': (102.73, 25.04),\n",
       " '贵阳': (106.71, 26.57),\n",
       " '武汉': (114.31, 30.52),\n",
       " '郑州': (113.65, 34.76),\n",
       " '济南': (117.0, 36.65),\n",
       " '南京': (118.78, 32.04),\n",
       " '合肥': (117.27, 31.86),\n",
       " '杭州': (120.19, 30.26),\n",
       " '南昌': (115.89, 28.68),\n",
       " '福州': (119.3, 26.08),\n",
       " '广州': (113.23, 23.16),\n",
       " '长沙': (113.0, 28.21),\n",
       " '沈阳': (123.38, 41.8),\n",
       " '长春': (125.35, 43.88),\n",
       " '哈尔滨': (126.63, 45.75),\n",
       " '太原': (112.53, 37.87),\n",
       " '西安': (108.95, 34.27),\n",
       " '北京': (116.46, 39.92),\n",
       " '上海': (121.48, 31.22),\n",
       " '重庆': (106.54, 29.59),\n",
       " '天津': (117.2, 39.13),\n",
       " '呼和浩特': (111.65, 40.82),\n",
       " '南宁': (108.33, 22.84),\n",
       " '银川': (106.27, 38.47),\n",
       " '乌鲁木齐': (87.68, 43.77),\n",
       " '香港': (114.17, 22.28),\n",
       " '澳门': (113.54, 22.19)}"
      ]
     },
     "execution_count": 7,
     "metadata": {},
     "output_type": "execute_result"
    }
   ],
   "source": [
    "city_info"
   ]
  },
  {
   "cell_type": "markdown",
   "metadata": {},
   "source": [
    "### Compute distance between cities"
   ]
  },
  {
   "cell_type": "code",
   "execution_count": 8,
   "metadata": {
    "pycharm": {
     "is_executing": false
    }
   },
   "outputs": [],
   "source": [
    "import math\n",
    "\n",
    "def geo_distance(origin, destination):\n",
    "    \"\"\"\n",
    "    Calculate the Haversine distance.\n",
    "\n",
    "    Parameters\n",
    "    ----------\n",
    "    origin : tuple of float\n",
    "        (lat, long)\n",
    "    destination : tuple of float\n",
    "        (lat, long)\n",
    "\n",
    "    Returns\n",
    "    -------\n",
    "    distance_in_km : float\n",
    "\n",
    "    Examples\n",
    "    --------\n",
    "    >>> origin = (48.1372, 11.5756)  # Munich\n",
    "    >>> destination = (52.5186, 13.4083)  # Berlin\n",
    "    >>> round(distance(origin, destination), 1)\n",
    "    504.2\n",
    "    \"\"\"\n",
    "    lat1, lon1 = origin\n",
    "    lat2, lon2 = destination\n",
    "    radius = 6371  # km\n",
    "\n",
    "    dlat = math.radians(lat2 - lat1)\n",
    "    dlon = math.radians(lon2 - lon1)\n",
    "    a = (math.sin(dlat / 2) * math.sin(dlat / 2) +\n",
    "         math.cos(math.radians(lat1)) * math.cos(math.radians(lat2)) *\n",
    "         math.sin(dlon / 2) * math.sin(dlon / 2))\n",
    "    c = 2 * math.atan2(math.sqrt(a), math.sqrt(1 - a))\n",
    "    d = radius * c\n",
    "\n",
    "    return d"
   ]
  },
  {
   "cell_type": "code",
   "execution_count": 9,
   "metadata": {
    "pycharm": {
     "is_executing": false,
     "name": "#%%\n"
    }
   },
   "outputs": [
    {
     "data": {
      "text/plain": [
       "153.5185697155768"
      ]
     },
     "execution_count": 9,
     "metadata": {},
     "output_type": "execute_result"
    }
   ],
   "source": [
    "def get_city_distance(city1,city2):\n",
    "    return geo_distance(city_info[city1],city_info[city2])\n",
    "\n",
    "get_city_distance(\"杭州\",\"上海\")"
   ]
  },
  {
   "cell_type": "markdown",
   "metadata": {},
   "source": [
    "### Draw the graph"
   ]
  },
  {
   "cell_type": "code",
   "execution_count": 10,
   "metadata": {
    "pycharm": {
     "is_executing": false
    }
   },
   "outputs": [],
   "source": [
    "import networkx as nx\n",
    "import matplotlib.pyplot as plt\n",
    "#%matplotlib inline\n",
    "\n",
    "#plt.rcParams['font.sans-serif'] = ['SimHei']\n",
    "#plt.rcParams['axes.unicode_minus'] = False\n"
   ]
  },
  {
   "cell_type": "code",
   "execution_count": 11,
   "metadata": {
    "pycharm": {
     "is_executing": false
    }
   },
   "outputs": [
    {
     "data": {
      "text/plain": [
       "dict_keys(['兰州', '嘉峪关', '西宁', '成都', '石家庄', '拉萨', '贵阳', '武汉', '郑州', '济南', '南京', '合肥', '杭州', '南昌', '福州', '广州', '长沙', '沈阳', '长春', '哈尔滨', '太原', '西安', '北京', '上海', '重庆', '天津', '呼和浩特', '南宁', '银川', '乌鲁木齐', '香港', '澳门'])"
      ]
     },
     "execution_count": 11,
     "metadata": {},
     "output_type": "execute_result"
    }
   ],
   "source": [
    "city_info.keys()"
   ]
  },
  {
   "cell_type": "code",
   "execution_count": 12,
   "metadata": {
    "pycharm": {
     "is_executing": false
    }
   },
   "outputs": [],
   "source": [
    "city_graph = nx.Graph()\n",
    "\n",
    "city_graph.add_nodes_from(list(city_info.keys()))\n",
    "                        "
   ]
  },
  {
   "cell_type": "code",
   "execution_count": 13,
   "metadata": {
    "pycharm": {
     "is_executing": false
    }
   },
   "outputs": [
    {
     "data": {
      "image/png": "[encoded data removed]",
      "text/plain": [
       "<Figure size 432x288 with 1 Axes>"
      ]
     },
     "metadata": {},
     "output_type": "display_data"
    }
   ],
   "source": [
    "nx.draw(city_graph, city_info, with_labels=True, node_size=10)"
   ]
  },
  {
   "cell_type": "markdown",
   "metadata": {},
   "source": [
    "### Build connection between. Let's assume that two cities are connected if their distance is less than 700 km."
   ]
  },
  {
   "cell_type": "code",
   "execution_count": 14,
   "metadata": {
    "pycharm": {
     "is_executing": false
    }
   },
   "outputs": [],
   "source": [
    "threshold = 700   # defined the threshold"
   ]
  },
  {
   "cell_type": "code",
   "execution_count": 15,
   "metadata": {
    "pycharm": {
     "is_executing": false
    }
   },
   "outputs": [],
   "source": [
    "from collections import defaultdict"
   ]
  },
  {
   "cell_type": "code",
   "execution_count": 16,
   "metadata": {
    "pycharm": {
     "is_executing": false
    }
   },
   "outputs": [],
   "source": [
    "def build_connection(city_info):\n",
    "    cities_connection = defaultdict(list)\n",
    "    cities = list(city_info.keys())\n",
    "    for c1 in cities:\n",
    "        for c2 in cities:\n",
    "            if c1 == c2 : continue\n",
    "            \n",
    "            if get_city_distance(c1,c2) < threshold:\n",
    "                cities_connection[c1].append(c2)\n",
    "    return cities_connection\n",
    "\n",
    "cities_connection = build_connection(city_info)"
   ]
  },
  {
   "cell_type": "code",
   "execution_count": 17,
   "metadata": {
    "pycharm": {
     "is_executing": false
    }
   },
   "outputs": [
    {
     "data": {
      "text/plain": [
       "defaultdict(list,\n",
       "            {'兰州': ['嘉峪关', '西宁', '成都', '拉萨', '贵阳', '西安', '重庆', '南宁', '银川'],\n",
       "             '嘉峪关': ['兰州', '西宁', '成都', '拉萨'],\n",
       "             '西宁': ['兰州', '嘉峪关', '成都', '拉萨', '贵阳', '重庆', '银川'],\n",
       "             '成都': ['兰州', '嘉峪关', '西宁', '拉萨', '贵阳', '西安', '重庆', '南宁', '银川'],\n",
       "             '石家庄': ['武汉',\n",
       "              '郑州',\n",
       "              '济南',\n",
       "              '南京',\n",
       "              '合肥',\n",
       "              '南昌',\n",
       "              '广州',\n",
       "              '长沙',\n",
       "              '太原',\n",
       "              '西安',\n",
       "              '北京',\n",
       "              '天津',\n",
       "              '呼和浩特'],\n",
       "             '拉萨': ['兰州', '嘉峪关', '西宁', '成都', '贵阳', '重庆', '南宁', '银川'],\n",
       "             '贵阳': ['兰州', '西宁', '成都', '拉萨', '西安', '重庆', '南宁', '银川'],\n",
       "             '武汉': ['石家庄',\n",
       "              '郑州',\n",
       "              '济南',\n",
       "              '南京',\n",
       "              '合肥',\n",
       "              '杭州',\n",
       "              '南昌',\n",
       "              '福州',\n",
       "              '广州',\n",
       "              '长沙',\n",
       "              '太原',\n",
       "              '西安',\n",
       "              '北京',\n",
       "              '天津',\n",
       "              '呼和浩特',\n",
       "              '香港',\n",
       "              '澳门'],\n",
       "             '郑州': ['石家庄',\n",
       "              '武汉',\n",
       "              '济南',\n",
       "              '南京',\n",
       "              '合肥',\n",
       "              '南昌',\n",
       "              '广州',\n",
       "              '长沙',\n",
       "              '太原',\n",
       "              '西安',\n",
       "              '北京',\n",
       "              '天津',\n",
       "              '呼和浩特',\n",
       "              '香港',\n",
       "              '澳门'],\n",
       "             '济南': ['石家庄',\n",
       "              '武汉',\n",
       "              '郑州',\n",
       "              '南京',\n",
       "              '合肥',\n",
       "              '杭州',\n",
       "              '南昌',\n",
       "              '福州',\n",
       "              '长沙',\n",
       "              '太原',\n",
       "              '北京',\n",
       "              '上海',\n",
       "              '天津',\n",
       "              '呼和浩特'],\n",
       "             '南京': ['石家庄',\n",
       "              '武汉',\n",
       "              '郑州',\n",
       "              '济南',\n",
       "              '合肥',\n",
       "              '杭州',\n",
       "              '南昌',\n",
       "              '福州',\n",
       "              '长沙',\n",
       "              '北京',\n",
       "              '上海',\n",
       "              '天津'],\n",
       "             '合肥': ['石家庄',\n",
       "              '武汉',\n",
       "              '郑州',\n",
       "              '济南',\n",
       "              '南京',\n",
       "              '杭州',\n",
       "              '南昌',\n",
       "              '福州',\n",
       "              '广州',\n",
       "              '长沙',\n",
       "              '太原',\n",
       "              '北京',\n",
       "              '上海',\n",
       "              '天津',\n",
       "              '香港',\n",
       "              '澳门'],\n",
       "             '杭州': ['武汉', '济南', '南京', '合肥', '南昌', '福州', '北京', '上海', '天津'],\n",
       "             '南昌': ['石家庄',\n",
       "              '武汉',\n",
       "              '郑州',\n",
       "              '济南',\n",
       "              '南京',\n",
       "              '合肥',\n",
       "              '杭州',\n",
       "              '福州',\n",
       "              '广州',\n",
       "              '长沙',\n",
       "              '太原',\n",
       "              '北京',\n",
       "              '上海',\n",
       "              '天津',\n",
       "              '香港',\n",
       "              '澳门'],\n",
       "             '福州': ['武汉',\n",
       "              '济南',\n",
       "              '南京',\n",
       "              '合肥',\n",
       "              '杭州',\n",
       "              '南昌',\n",
       "              '广州',\n",
       "              '上海',\n",
       "              '香港',\n",
       "              '澳门'],\n",
       "             '广州': ['石家庄',\n",
       "              '武汉',\n",
       "              '郑州',\n",
       "              '合肥',\n",
       "              '南昌',\n",
       "              '福州',\n",
       "              '长沙',\n",
       "              '太原',\n",
       "              '西安',\n",
       "              '南宁',\n",
       "              '香港',\n",
       "              '澳门'],\n",
       "             '长沙': ['石家庄',\n",
       "              '武汉',\n",
       "              '郑州',\n",
       "              '济南',\n",
       "              '南京',\n",
       "              '合肥',\n",
       "              '南昌',\n",
       "              '广州',\n",
       "              '太原',\n",
       "              '西安',\n",
       "              '北京',\n",
       "              '天津',\n",
       "              '呼和浩特',\n",
       "              '南宁',\n",
       "              '香港',\n",
       "              '澳门'],\n",
       "             '沈阳': ['长春', '哈尔滨', '上海'],\n",
       "             '长春': ['沈阳', '哈尔滨'],\n",
       "             '哈尔滨': ['沈阳', '长春'],\n",
       "             '太原': ['石家庄',\n",
       "              '武汉',\n",
       "              '郑州',\n",
       "              '济南',\n",
       "              '合肥',\n",
       "              '南昌',\n",
       "              '广州',\n",
       "              '长沙',\n",
       "              '西安',\n",
       "              '北京',\n",
       "              '天津',\n",
       "              '呼和浩特',\n",
       "              '银川',\n",
       "              '澳门'],\n",
       "             '西安': ['兰州',\n",
       "              '成都',\n",
       "              '石家庄',\n",
       "              '贵阳',\n",
       "              '武汉',\n",
       "              '郑州',\n",
       "              '广州',\n",
       "              '长沙',\n",
       "              '太原',\n",
       "              '重庆',\n",
       "              '呼和浩特',\n",
       "              '南宁',\n",
       "              '银川'],\n",
       "             '北京': ['石家庄',\n",
       "              '武汉',\n",
       "              '郑州',\n",
       "              '济南',\n",
       "              '南京',\n",
       "              '合肥',\n",
       "              '杭州',\n",
       "              '南昌',\n",
       "              '长沙',\n",
       "              '太原',\n",
       "              '天津',\n",
       "              '呼和浩特'],\n",
       "             '上海': ['济南', '南京', '合肥', '杭州', '南昌', '福州', '沈阳', '天津'],\n",
       "             '重庆': ['兰州', '西宁', '成都', '拉萨', '贵阳', '西安', '呼和浩特', '南宁', '银川'],\n",
       "             '天津': ['石家庄',\n",
       "              '武汉',\n",
       "              '郑州',\n",
       "              '济南',\n",
       "              '南京',\n",
       "              '合肥',\n",
       "              '杭州',\n",
       "              '南昌',\n",
       "              '长沙',\n",
       "              '太原',\n",
       "              '北京',\n",
       "              '上海',\n",
       "              '呼和浩特'],\n",
       "             '呼和浩特': ['石家庄',\n",
       "              '武汉',\n",
       "              '郑州',\n",
       "              '济南',\n",
       "              '长沙',\n",
       "              '太原',\n",
       "              '西安',\n",
       "              '北京',\n",
       "              '重庆',\n",
       "              '天津',\n",
       "              '银川'],\n",
       "             '南宁': ['兰州',\n",
       "              '成都',\n",
       "              '拉萨',\n",
       "              '贵阳',\n",
       "              '广州',\n",
       "              '长沙',\n",
       "              '西安',\n",
       "              '重庆',\n",
       "              '银川',\n",
       "              '香港',\n",
       "              '澳门'],\n",
       "             '银川': ['兰州',\n",
       "              '西宁',\n",
       "              '成都',\n",
       "              '拉萨',\n",
       "              '贵阳',\n",
       "              '太原',\n",
       "              '西安',\n",
       "              '重庆',\n",
       "              '呼和浩特',\n",
       "              '南宁'],\n",
       "             '香港': ['武汉', '郑州', '合肥', '南昌', '福州', '广州', '长沙', '南宁', '澳门'],\n",
       "             '澳门': ['武汉',\n",
       "              '郑州',\n",
       "              '合肥',\n",
       "              '南昌',\n",
       "              '福州',\n",
       "              '广州',\n",
       "              '长沙',\n",
       "              '太原',\n",
       "              '南宁',\n",
       "              '香港']})"
      ]
     },
     "execution_count": 17,
     "metadata": {},
     "output_type": "execute_result"
    }
   ],
   "source": [
    "cities_connection"
   ]
  },
  {
   "cell_type": "markdown",
   "metadata": {},
   "source": [
    "### Draw connection graph"
   ]
  },
  {
   "cell_type": "code",
   "execution_count": 18,
   "metadata": {
    "pycharm": {
     "is_executing": false
    }
   },
   "outputs": [],
   "source": [
    "cities_connection_graph = nx.Graph(cities_connection)"
   ]
  },
  {
   "cell_type": "code",
   "execution_count": 19,
   "metadata": {
    "pycharm": {
     "is_executing": false
    }
   },
   "outputs": [
    {
     "name": "stderr",
     "output_type": "stream",
     "text": [
      "C:\\ProgramData\\Anaconda3\\lib\\site-packages\\networkx\\drawing\\nx_pylab.py:579: MatplotlibDeprecationWarning: \n",
      "The iterable function was deprecated in Matplotlib 3.1 and will be removed in 3.3. Use np.iterable instead.\n",
      "  if not cb.iterable(width):\n"
     ]
    },
    {
     "data": {
      "image/png": "[encoded data removed]",
      "text/plain": [
       "<Figure size 432x288 with 1 Axes>"
      ]
     },
     "metadata": {},
     "output_type": "display_data"
    }
   ],
   "source": [
    "nx.draw(cities_connection_graph,city_info,with_labels=True,node_size=10)"
   ]
  },
  {
   "cell_type": "markdown",
   "metadata": {},
   "source": [
    "### BFS 1 version"
   ]
  },
  {
   "cell_type": "code",
   "execution_count": 20,
   "metadata": {
    "pycharm": {
     "is_executing": false
    }
   },
   "outputs": [
    {
     "data": {
      "text/plain": [
       "['上海', '合肥', '香港']"
      ]
     },
     "execution_count": 20,
     "metadata": {},
     "output_type": "execute_result"
    }
   ],
   "source": [
    "def search_1(graph,start,destination):\n",
    "    pathes = [[start]]  # list 用来存储待搜索路径\n",
    "    visited = set() # set用来存储已搜索的节点\n",
    "    \n",
    "    while pathes:\n",
    "        path = pathes.pop(0)  #提取第一条路径\n",
    "        froniter = path[-1]   #提取即将要探索的节点\n",
    "        \n",
    "        if froniter in visited: continue  #检查如果该点已经探索过 则不用再探索\n",
    "            \n",
    "        successsors = graph[froniter]\n",
    "        \n",
    "        for city in successsors:      #遍历子节点\n",
    "            if city in path: continue  # check loop #检查会不会形成环\n",
    "            \n",
    "            new_path = path+[city]\n",
    "            \n",
    "            pathes.append(new_path)  #bfs     #将新路径加到list里面\n",
    "            #pathes = [new_path] + pathes #dfs\n",
    "            \n",
    "            if city == destination:  #检查目的地是不是已经搜索到了\n",
    "                return new_path\n",
    "        visited.add(froniter)\n",
    "\n",
    "search_1(cities_connection,\"上海\",\"香港\")"
   ]
  },
  {
   "cell_type": "code",
   "execution_count": null,
   "metadata": {
    "pycharm": {
     "is_executing": false
    }
   },
   "outputs": [],
   "source": []
  },
  {
   "cell_type": "markdown",
   "metadata": {},
   "source": [
    "### Optimal search using variation of BFS"
   ]
  },
  {
   "cell_type": "code",
   "execution_count": 21,
   "metadata": {
    "pycharm": {
     "is_executing": false
    }
   },
   "outputs": [],
   "source": [
    "def search_2(graph,start,destination,search_strategy):\n",
    "    pathes = [[start]]\n",
    "    visited = set()# ！\n",
    "    while pathes:\n",
    "        path = pathes.pop(0)\n",
    "        froniter = path[-1]\n",
    "        if froniter in visited : continue# ！\n",
    "            \n",
    "        if froniter == destination:# ！\n",
    "            return path# ！\n",
    "        \n",
    "        successsors = graph[froniter]\n",
    "        \n",
    "        for city in successsors:\n",
    "            if city in path: continue  # check loop\n",
    "            \n",
    "            new_path = path+[city]\n",
    "            \n",
    "            pathes.append(new_path)  #bfs\n",
    "            \n",
    "        pathes = search_strategy(pathes)\n",
    "        visited.add(froniter) # ！\n",
    "       # if pathes and (destination == pathes[0][-1]):\n",
    "       #     return pathes[0]  \n",
    "        "
   ]
  },
  {
   "cell_type": "code",
   "execution_count": 22,
   "metadata": {
    "pycharm": {
     "is_executing": false
    }
   },
   "outputs": [],
   "source": [
    "def sort_by_distance(pathes):\n",
    "    def get_distance_of_path(path):\n",
    "        distance = 0\n",
    "        for i,_ in enumerate(path[:-1]):\n",
    "            distance += get_city_distance(path[i],path[i+1])\n",
    "        return distance\n",
    "    return sorted(pathes,key=get_distance_of_path)\n"
   ]
  },
  {
   "cell_type": "code",
   "execution_count": 23,
   "metadata": {
    "pycharm": {
     "is_executing": false
    }
   },
   "outputs": [],
   "source": [
    "def get_distance_of_path(path):\n",
    "    distance = 0\n",
    "    for i,_ in enumerate(path[:-1]):\n",
    "        distance += get_city_distance(path[i],path[i+1])\n",
    "    return distance"
   ]
  },
  {
   "cell_type": "code",
   "execution_count": 24,
   "metadata": {
    "pycharm": {
     "is_executing": false
    }
   },
   "outputs": [
    {
     "data": {
      "text/plain": [
       "752.66259009181"
      ]
     },
     "execution_count": 24,
     "metadata": {},
     "output_type": "execute_result"
    }
   ],
   "source": [
    "get_distance_of_path([\"北京\",\"济南\",\"上海\"])"
   ]
  },
  {
   "cell_type": "code",
   "execution_count": 25,
   "metadata": {
    "pycharm": {
     "is_executing": false
    }
   },
   "outputs": [
    {
     "data": {
      "text/plain": [
       "732.5085345714293"
      ]
     },
     "execution_count": 25,
     "metadata": {},
     "output_type": "execute_result"
    }
   ],
   "source": [
    "get_distance_of_path([\"北京\",\"天津\",\"上海\"])"
   ]
  },
  {
   "cell_type": "code",
   "execution_count": 26,
   "metadata": {
    "pycharm": {
     "is_executing": false
    }
   },
   "outputs": [
    {
     "data": {
      "text/plain": [
       "['北京', '济南', '上海']"
      ]
     },
     "execution_count": 26,
     "metadata": {},
     "output_type": "execute_result"
    }
   ],
   "source": [
    "search_2(cities_connection,\"北京\",\"上海\",search_strategy=lambda x:x)"
   ]
  },
  {
   "cell_type": "code",
   "execution_count": 27,
   "metadata": {
    "pycharm": {
     "is_executing": false
    }
   },
   "outputs": [
    {
     "data": {
      "text/plain": [
       "['北京', '天津', '上海']"
      ]
     },
     "execution_count": 27,
     "metadata": {},
     "output_type": "execute_result"
    }
   ],
   "source": [
    "search_2(cities_connection,\"北京\",\"上海\",search_strategy=sort_by_distance)"
   ]
  },
  {
   "cell_type": "markdown",
   "metadata": {},
   "source": [
    "# AI for NLP Lecture 1 Part 2"
   ]
  },
  {
   "cell_type": "markdown",
   "metadata": {},
   "source": [
    "## Machine Learning"
   ]
  },
  {
   "cell_type": "code",
   "execution_count": 28,
   "metadata": {
    "pycharm": {
     "is_executing": false
    }
   },
   "outputs": [],
   "source": [
    "from sklearn.datasets import load_boston\n",
    "import random"
   ]
  },
  {
   "cell_type": "code",
   "execution_count": 29,
   "metadata": {
    "pycharm": {
     "is_executing": false
    }
   },
   "outputs": [],
   "source": [
    "dataset = load_boston()"
   ]
  },
  {
   "cell_type": "code",
   "execution_count": 30,
   "metadata": {
    "pycharm": {
     "is_executing": false
    }
   },
   "outputs": [],
   "source": [
    "#dataset"
   ]
  },
  {
   "cell_type": "code",
   "execution_count": 31,
   "metadata": {
    "pycharm": {
     "is_executing": false
    }
   },
   "outputs": [],
   "source": [
    "x,y=dataset['data'],dataset['target']"
   ]
  },
  {
   "cell_type": "code",
   "execution_count": 32,
   "metadata": {
    "pycharm": {
     "is_executing": false
    }
   },
   "outputs": [
    {
     "data": {
      "text/plain": [
       "(506, 13)"
      ]
     },
     "execution_count": 32,
     "metadata": {},
     "output_type": "execute_result"
    }
   ],
   "source": [
    "x.shape"
   ]
  },
  {
   "cell_type": "code",
   "execution_count": 33,
   "metadata": {
    "pycharm": {
     "is_executing": false
    }
   },
   "outputs": [
    {
     "data": {
      "text/plain": [
       "(506,)"
      ]
     },
     "execution_count": 33,
     "metadata": {},
     "output_type": "execute_result"
    }
   ],
   "source": [
    "y.shape"
   ]
  },
  {
   "cell_type": "code",
   "execution_count": 34,
   "metadata": {
    "pycharm": {
     "is_executing": false
    }
   },
   "outputs": [
    {
     "data": {
      "text/plain": [
       "array([2.7310e-02, 0.0000e+00, 7.0700e+00, 0.0000e+00, 4.6900e-01,\n",
       "       6.4210e+00, 7.8900e+01, 4.9671e+00, 2.0000e+00, 2.4200e+02,\n",
       "       1.7800e+01, 3.9690e+02, 9.1400e+00])"
      ]
     },
     "execution_count": 34,
     "metadata": {},
     "output_type": "execute_result"
    }
   ],
   "source": [
    "x[1].shape\n",
    "x[1]"
   ]
  },
  {
   "cell_type": "code",
   "execution_count": 35,
   "metadata": {
    "pycharm": {
     "is_executing": false
    }
   },
   "outputs": [
    {
     "data": {
      "text/plain": [
       "array(['CRIM', 'ZN', 'INDUS', 'CHAS', 'NOX', 'RM', 'AGE', 'DIS', 'RAD',\n",
       "       'TAX', 'PTRATIO', 'B', 'LSTAT'], dtype='<U7')"
      ]
     },
     "execution_count": 35,
     "metadata": {},
     "output_type": "execute_result"
    }
   ],
   "source": [
    "dataset.feature_names"
   ]
  },
  {
   "cell_type": "code",
   "execution_count": 36,
   "metadata": {
    "pycharm": {
     "is_executing": false
    }
   },
   "outputs": [
    {
     "data": {
      "text/plain": [
       "\".. _boston_dataset:\\n\\nBoston house prices dataset\\n---------------------------\\n\\n**Data Set Characteristics:**  \\n\\n    :Number of Instances: 506 \\n\\n    :Number of Attributes: 13 numeric/categorical predictive. Median Value (attribute 14) is usually the target.\\n\\n    :Attribute Information (in order):\\n        - CRIM     per capita crime rate by town\\n        - ZN       proportion of residential land zoned for lots over 25,000 sq.ft.\\n        - INDUS    proportion of non-retail business acres per town\\n        - CHAS     Charles River dummy variable (= 1 if tract bounds river; 0 otherwise)\\n        - NOX      nitric oxides concentration (parts per 10 million)\\n        - RM       average number of rooms per dwelling\\n        - AGE      proportion of owner-occupied units built prior to 1940\\n        - DIS      weighted distances to five Boston employment centres\\n        - RAD      index of accessibility to radial highways\\n        - TAX      full-value property-tax rate per $10,000\\n        - PTRATIO  pupil-teacher ratio by town\\n        - B        1000(Bk - 0.63)^2 where Bk is the proportion of blacks by town\\n        - LSTAT    % lower status of the population\\n        - MEDV     Median value of owner-occupied homes in $1000's\\n\\n    :Missing Attribute Values: None\\n\\n    :Creator: Harrison, D. and Rubinfeld, D.L.\\n\\nThis is a copy of UCI ML housing dataset.\\nhttps://archive.ics.uci.edu/ml/machine-learning-databases/housing/\\n\\n\\nThis dataset was taken from the StatLib library which is maintained at Carnegie Mellon University.\\n\\nThe Boston house-price data of Harrison, D. and Rubinfeld, D.L. 'Hedonic\\nprices and the demand for clean air', J. Environ. Economics & Management,\\nvol.5, 81-102, 1978.   Used in Belsley, Kuh & Welsch, 'Regression diagnostics\\n...', Wiley, 1980.   N.B. Various transformations are used in the table on\\npages 244-261 of the latter.\\n\\nThe Boston house-price data has been used in many machine learning papers that address regression\\nproblems.   \\n     \\n.. topic:: References\\n\\n   - Belsley, Kuh & Welsch, 'Regression diagnostics: Identifying Influential Data and Sources of Collinearity', Wiley, 1980. 244-261.\\n   - Quinlan,R. (1993). Combining Instance-Based and Model-Based Learning. In Proceedings on the Tenth International Conference of Machine Learning, 236-243, University of Massachusetts, Amherst. Morgan Kaufmann.\\n\""
      ]
     },
     "execution_count": 36,
     "metadata": {},
     "output_type": "execute_result"
    }
   ],
   "source": [
    "dataset['DESCR']"
   ]
  },
  {
   "cell_type": "code",
   "execution_count": 37,
   "metadata": {
    "pycharm": {
     "is_executing": false
    }
   },
   "outputs": [],
   "source": [
    "X_rm = x[:,5]"
   ]
  },
  {
   "cell_type": "code",
   "execution_count": 38,
   "metadata": {
    "pycharm": {
     "is_executing": false
    }
   },
   "outputs": [
    {
     "data": {
      "text/plain": [
       "<matplotlib.collections.PathCollection at 0x1be44f42a48>"
      ]
     },
     "execution_count": 38,
     "metadata": {},
     "output_type": "execute_result"
    },
    {
     "data": {
      "image/png": "[encoded data removed]",
      "text/plain": [
       "<Figure size 432x288 with 1 Axes>"
      ]
     },
     "metadata": {
      "needs_background": "light"
     },
     "output_type": "display_data"
    }
   ],
   "source": [
    "# plot the RM with respect to y\n",
    "plt.scatter(X_rm,y)"
   ]
  },
  {
   "cell_type": "markdown",
   "metadata": {},
   "source": [
    "### Gradient descent"
   ]
  },
  {
   "cell_type": "markdown",
   "metadata": {},
   "source": [
    "### Assume that the target funciton is a linear function\n",
    "$$ y = k*rm + b$$"
   ]
  },
  {
   "cell_type": "code",
   "execution_count": 39,
   "metadata": {
    "pycharm": {
     "is_executing": false
    }
   },
   "outputs": [],
   "source": [
    "#define target function\n",
    "def price(rm, k, b):\n",
    "    return k * rm + b"
   ]
  },
  {
   "cell_type": "markdown",
   "metadata": {},
   "source": [
    "### Define mean square loss"
   ]
  },
  {
   "cell_type": "markdown",
   "metadata": {},
   "source": [
    "$$ loss = \\frac{1}{n} \\sum{(y_i - \\hat{y_i})}^2$$"
   ]
  },
  {
   "cell_type": "markdown",
   "metadata": {},
   "source": [
    "$$ loss = \\frac{1}{n} \\sum{(y_i - (kx_i + b_i))}^2 $$"
   ]
  },
  {
   "cell_type": "code",
   "execution_count": 40,
   "metadata": {
    "pycharm": {
     "is_executing": false
    }
   },
   "outputs": [],
   "source": [
    "# define loss function \n",
    "def loss(y,y_hat):\n",
    "    return sum((y_i - y_hat_i)**2 for y_i, y_hat_i in zip(list(y),list(y_hat))) \\\n",
    "           / len(list(y))"
   ]
  },
  {
   "cell_type": "markdown",
   "metadata": {},
   "source": [
    "### Define partial derivatives"
   ]
  },
  {
   "cell_type": "markdown",
   "metadata": {},
   "source": [
    "$$ \\frac{\\partial{loss}}{\\partial{k}} = -\\frac{2}{n}\\sum(y_i - \\hat{y_i})x_i$$\n"
   ]
  },
  {
   "cell_type": "markdown",
   "metadata": {},
   "source": [
    "$$ \\frac{\\partial{loss}}{\\partial{b}} = -\\frac{2}{n}\\sum(y_i - \\hat{y_i})$$"
   ]
  },
  {
   "cell_type": "code",
   "execution_count": 41,
   "metadata": {
    "pycharm": {
     "is_executing": false
    }
   },
   "outputs": [],
   "source": [
    "# define partial derivative \n",
    "def partial_derivative_k(x, y, y_hat): \n",
    "    n = len(y)\n",
    "    gradient = 0\n",
    "    for x_i, y_i, y_hat_i in zip(list(x),list(y),list(y_hat)):\n",
    "        gradient += (y_i-y_hat_i) * x_i\n",
    "    return -2/n * gradient\n",
    "\n",
    "def partial_derivative_b(y, y_hat):\n",
    "    n = len(y)\n",
    "    gradient = 0\n",
    "    for y_i, y_hat_i in zip(list(y),list(y_hat)):\n",
    "        gradient += (y_i-y_hat_i)\n",
    "    return -2 / n * gradient"
   ]
  },
  {
   "cell_type": "code",
   "execution_count": 42,
   "metadata": {
    "pycharm": {
     "is_executing": false
    }
   },
   "outputs": [
    {
     "name": "stdout",
     "output_type": "stream",
     "text": [
      "Iteration 0, the loss is 174633.70539677897, parameters k is 73.69278621266957 and b is -25.226564693165642\n",
      "Iteration 1, the loss is 147189.42557785547, parameters k is 68.40820621770102 and b is -26.057310387794903\n",
      "Iteration 2, the loss is 124059.1847529764, parameters k is 63.55672165822608 and b is -26.819971284716722\n",
      "Iteration 3, the loss is 104564.84771272358, parameters k is 59.10283837021846 and b is -27.520127246460333\n",
      "Iteration 4, the loss is 88134.87711637914, parameters k is 55.01397109973694 and b is -28.162900840142328\n",
      "Iteration 5, the loss is 74287.5770907621, parameters k is 51.26020510435722 and b is -28.75299481493019\n",
      "Iteration 6, the loss is 62616.97081212194, parameters k is 47.81407729246339 and b is -29.294726508055206\n",
      "Iteration 7, the loss is 52780.89802831844, parameters k is 44.65037529918187 and b is -29.792059431094295\n",
      "Iteration 8, the loss is 44490.98356299783, parameters k is 41.745953028967044 and b is -30.248632267610684\n",
      "Iteration 9, the loss is 37504.182697151984, parameters k is 39.07956131532091 and b is -30.66778549430448\n",
      "Iteration 10, the loss is 31615.655554531473, parameters k is 36.63169245872804 and b is -31.052585820437425\n",
      "Iteration 11, the loss is 26652.761581278202, parameters k is 34.38443750542217 and b is -31.405848624334364\n",
      "Iteration 12, the loss is 22469.99804920174, parameters k is 32.32135522281467 and b is -31.730158551110122\n",
      "Iteration 13, the loss is 18944.73418912484, parameters k is 30.42735181298962 and b is -32.02788842231791\n",
      "Iteration 14, the loss is 15973.615887100155, parameters k is 28.688570484231555 and b is -32.30121659586498\n",
      "Iteration 15, the loss is 13469.53553594646, parameters k is 27.09229007267463 and b is -32.55214290320336\n",
      "Iteration 16, the loss is 11359.078203842988, parameters k is 25.62683197237424 and b is -32.782503280394415\n",
      "Iteration 17, the loss is 9580.369246442768, parameters k is 24.281474692887556 and b is -32.99398320009034\n",
      "Iteration 18, the loss is 8081.260258535782, parameters k is 23.046375419253526 and b is -33.188130002703005\n",
      "Iteration 19, the loss is 6817.800180771995, parameters k is 21.912498000493503 and b is -33.3663642169767\n",
      "Iteration 20, the loss is 5752.946737166035, parameters k is 20.871546839785655 and b is -33.52998995278788\n",
      "Iteration 21, the loss is 4855.480425151458, parameters k is 19.915906202643793 and b is -33.68020444220716\n",
      "Iteration 22, the loss is 4099.089218413172, parameters k is 19.038584499070264 and b is -33.81810679862734\n",
      "Iteration 23, the loss is 3461.5971477046746, parameters k is 18.23316313204282 and b is -33.94470605804058\n",
      "Iteration 24, the loss is 2924.3141430886053, parameters k is 17.49374953810338 and b is -34.06092856129594\n",
      "Iteration 25, the loss is 2471.4880761966447, parameters k is 16.814934076486665 and b is -34.16762473134689\n",
      "Iteration 26, the loss is 2089.842937417057, parameters k is 16.191750451383122 and b is -34.26557529507226\n",
      "Iteration 27, the loss is 1768.189608232685, parameters k is 15.61963937777954 and b is -34.35549699519026\n",
      "Iteration 28, the loss is 1497.0978172854332, parameters k is 15.094415225051238 and b is -34.43804783405491\n",
      "Iteration 29, the loss is 1268.619662535425, parameters k is 14.612235394265383 and b is -34.513831887699226\n",
      "Iteration 30, the loss is 1076.0565937037734, parameters k is 14.169572205155212 and b is -34.58340372534536\n",
      "Iteration 31, the loss is 913.7630233620605, parameters k is 13.763187087086113 and b is -34.64727246671561\n",
      "Iteration 32, the loss is 776.9808089144993, parameters k is 13.390106885190784 and b is -34.705905506828074\n",
      "Iteration 33, the loss is 661.6997527954936, parameters k is 13.047602108325673 and b is -34.759731935528166\n",
      "Iteration 34, the loss is 564.5400310104109, parameters k is 12.733166959707482 and b is -34.809145676773824\n",
      "Iteration 35, the loss is 482.6531030452637, parameters k is 12.44450100413091 and b is -34.854508370641796\n",
      "Iteration 36, the loss is 413.6381980099959, parameters k is 12.179492337642266 and b is -34.89615201914028\n",
      "Iteration 37, the loss is 355.4719285459805, parameters k is 11.936202136535785 and b is -34.93438141518505\n",
      "Iteration 38, the loss is 306.448968909719, parameters k is 11.712850472630802 and b is -34.96947637250977\n",
      "Iteration 39, the loss is 265.1320580256002, parameters k is 11.507803291052232 and b is -35.001693772824936\n",
      "Iteration 40, the loss is 230.30986169114595, parameters k is 11.31956045524188 and b is -35.03126944520272\n",
      "Iteration 41, the loss is 200.9614585337603, parameters k is 11.146744771736081 and b is -35.05841989143753\n",
      "Iteration 42, the loss is 176.2264085139439, parameters k is 10.98809191441332 and b is -35.08334387000541\n",
      "Iteration 43, the loss is 155.37952643972946, parameters k is 10.84244117449613 and b is -35.10622385021058\n",
      "Iteration 44, the loss is 137.80962089915323, parameters k is 10.708726968632913 and b is -35.1272273471581\n",
      "Iteration 45, the loss is 123.00157527621995, parameters k is 10.585971042931511 and b is -35.146508147319224\n",
      "Iteration 46, the loss is 110.52124549939647, parameters k is 10.473275315908129 and b is -35.1642074336562\n",
      "Iteration 47, the loss is 100.00273175300289, parameters k is 10.36981530798951 and b is -35.18045481853778\n",
      "Iteration 48, the loss is 91.13765098198057, parameters k is 10.274834109497661 and b is -35.19536929200264\n",
      "Iteration 49, the loss is 83.6660956800343, parameters k is 10.187636842985976 and b is -35.20906009230818\n",
      "Iteration 50, the loss is 77.36901388979959, parameters k is 10.107585579412401 and b is -35.2216275051339\n",
      "Iteration 51, the loss is 72.06178701095544, parameters k is 10.034094670955614 and b is -35.233163597286364\n",
      "Iteration 52, the loss is 67.58881712967985, parameters k is 9.966626466328382 and b is -35.24375289027363\n",
      "Iteration 53, the loss is 63.81896518011687, parameters k is 9.904687377240716 and b is -35.25347297867722\n",
      "Iteration 54, the loss is 60.64170619331824, parameters k is 9.84782426723447 and b is -35.2623950978456\n",
      "Iteration 55, the loss is 57.9638889127819, parameters k is 9.795621136469569 and b is -35.270584645062605\n",
      "Iteration 56, the loss is 55.70700477460124, parameters k is 9.747696078207245 and b is -35.27810165800371\n",
      "Iteration 57, the loss is 53.804886183855, parameters k is 9.703698484723498 and b is -35.285001253980596\n",
      "Iteration 58, the loss is 52.20176660502353, parameters k is 9.663306482210798 and b is -35.29133403318759\n",
      "Iteration 59, the loss is 50.85064559192835, parameters k is 9.626224575901395 and b is -35.297146448900236\n",
      "Iteration 60, the loss is 49.71191082294342, parameters k is 9.592181488183613 and b is -35.302481147334376\n",
      "Iteration 61, the loss is 48.75217674213923, parameters k is 9.560928173894467 and b is -35.3073772796522\n",
      "Iteration 62, the loss is 47.943305757499665, parameters k is 9.532235998268176 and b is -35.31187078839799\n",
      "Iteration 63, the loss is 47.26158329958213, parameters k is 9.505895064210183 and b is -35.31599467045911\n",
      "Iteration 64, the loss is 46.68702255489119, parameters k is 9.481712676658773 and b is -35.31977921847616\n",
      "Iteration 65, the loss is 46.2027784900528, parameters k is 9.459511932799316 and b is -35.32325224246842\n",
      "Iteration 66, the loss is 45.79465398708058, parameters k is 9.439130427816941 and b is -35.32643927329613\n",
      "Iteration 67, the loss is 45.450683610546406, parameters k is 9.420419066718738 and b is -35.32936374944803\n",
      "Iteration 68, the loss is 45.16078280349144, parameters k is 9.403240973532595 and b is -35.33204718852084\n",
      "Iteration 69, the loss is 44.91645222716072, parameters k is 9.387470489902219 and b is -35.33450934464521\n",
      "Iteration 70, the loss is 44.71052857635722, parameters k is 9.372992255751885 and b is -35.33676835300988\n",
      "Iteration 71, the loss is 44.53697456479029, parameters k is 9.359700365294962 and b is -35.3388408625414\n",
      "Iteration 72, the loss is 44.39070192318293, parameters k is 9.347497592211408 and b is -35.34074215771018\n",
      "Iteration 73, the loss is 44.26742222077505, parameters k is 9.336294678325537 and b is -35.34248627035394\n",
      "Iteration 74, the loss is 44.163521136590305, parameters k is 9.326009680579928 and b is -35.344086082336716\n",
      "Iteration 75, the loss is 44.075952494333954, parameters k is 9.316567371527814 and b is -35.34555341979452\n",
      "Iteration 76, the loss is 44.002148954226904, parameters k is 9.307898688957884 and b is -35.346899139657076\n",
      "Iteration 77, the loss is 43.93994674342598, parameters k is 9.29994023062487 and b is -35.34813320907876\n",
      "Iteration 78, the loss is 43.887522218269254, parameters k is 9.292633790389273 and b is -35.34926477835978\n",
      "Iteration 79, the loss is 43.84333839846922, parameters k is 9.285925932372592 and b is -35.350302247891136\n",
      "Iteration 80, the loss is 43.806099905738726, parameters k is 9.27976760001248 and b is -35.351253329613115\n",
      "Iteration 81, the loss is 43.7747149857323, parameters k is 9.27411375715763 and b is -35.35212510343701\n",
      "Iteration 82, the loss is 43.74826349986041, parameters k is 9.268923058576592 and b is -35.35292406904281\n",
      "Iteration 83, the loss is 43.725969948553875, parameters k is 9.264157547469896 and b is -35.353656193431796\n",
      "Iteration 84, the loss is 43.70718073507389, parameters k is 9.259782377772472 and b is -35.354326954582056\n",
      "Iteration 85, the loss is 43.69134500328302, parameters k is 9.25576555921464 and b is -35.35494138152616\n",
      "Iteration 86, the loss is 43.677998487578435, parameters k is 9.252077723276537 and b is -35.3555040911443\n",
      "Iteration 87, the loss is 43.666749901496274, parameters k is 9.248691908323659 and b is -35.3560193219421\n",
      "Iteration 88, the loss is 43.65726946592786, parameters k is 9.245583362351525 and b is -35.35649096506014\n",
      "Iteration 89, the loss is 43.64927924061538, parameters k is 9.242729361896327 and b is -35.35692259274212\n",
      "Iteration 90, the loss is 43.64254497546613, parameters k is 9.24010904578669 and b is -35.35731748446994\n",
      "Iteration 91, the loss is 43.63686924277943, parameters k is 9.237703262520236 and b is -35.35767865095684\n",
      "Iteration 92, the loss is 43.63208564903749, parameters k is 9.235494430148343 and b is -35.35800885617428\n",
      "Iteration 93, the loss is 43.62805395656013, parameters k is 9.233466407643986 and b is -35.358310637573524\n",
      "Iteration 94, the loss is 43.62465597199929, parameters k is 9.231604376811589 and b is -35.35858632465003\n",
      "Iteration 95, the loss is 43.62179208113219, parameters k is 9.229894733874893 and b is -35.35883805598638\n",
      "Iteration 96, the loss is 43.619378328359446, parameters k is 9.22832498994971 and b is -35.35906779489848\n",
      "Iteration 97, the loss is 43.61734395528456, parameters k is 9.226883679673383 and b is -35.359277343799455\n",
      "Iteration 98, the loss is 43.615629326210666, parameters k is 9.22556027732249 and b is -35.359468357386376\n",
      "Iteration 99, the loss is 43.614184179733925, parameters k is 9.22434511980508 and b is -35.35964235474628\n",
      "Iteration 100, the loss is 43.61296615517374, parameters k is 9.223229335964056 and b is -35.35980073047002\n",
      "Iteration 101, the loss is 43.61193955063699, parameters k is 9.222204781674474 and b is -35.35994476485532\n",
      "Iteration 102, the loss is 43.61107427630549, parameters k is 9.221263980259904 and b is -35.36007563327361\n",
      "Iteration 103, the loss is 43.61034497225948, parameters k is 9.220400067791958 and b is -35.36019441476922\n",
      "Iteration 104, the loss is 43.60973026497193, parameters k is 9.219606742872767 and b is -35.36030209995383\n",
      "Iteration 105, the loss is 43.60921214067714, parameters k is 9.218878220533016 and b is -35.360399598253935\n",
      "Iteration 106, the loss is 43.608775417240935, parameters k is 9.218209189908247 and b is -35.360487744564345\n",
      "Iteration 107, the loss is 43.60840729904904, parameters k is 9.217594775383787 and b is -35.3605673053564\n",
      "Iteration 108, the loss is 43.6080970018637, parameters k is 9.21703050092402 and b is -35.360638984285565\n",
      "Iteration 109, the loss is 43.60783543664983, parameters k is 9.216512257325048 and b is -35.36070342733953\n",
      "Iteration 110, the loss is 43.60761494310206, parameters k is 9.216036272151143 and b is -35.360761227564296\n",
      "Iteration 111, the loss is 43.60742906505866, parameters k is 9.215599082135045 and b is -35.36081292940303\n",
      "Iteration 112, the loss is 43.607272361218904, parameters k is 9.215197507840184 and b is -35.36085903267927\n",
      "Iteration 113, the loss is 43.60714024561468, parameters k is 9.214828630399449 and b is -35.360899996253714\n",
      "Iteration 114, the loss is 43.60702885315826, parameters k is 9.214489770160322 and b is -35.36093624138131\n",
      "Iteration 115, the loss is 43.60693492632532, parameters k is 9.214178467080137 and b is -35.36096815479323\n",
      "Iteration 116, the loss is 43.60685571965047, parameters k is 9.213892462728047 and b is -35.36099609152623\n",
      "Iteration 117, the loss is 43.606788919235214, parameters k is 9.21362968376201 and b is -35.361020377520205\n",
      "Iteration 118, the loss is 43.60673257490883, parameters k is 9.213388226759898 and b is -35.36104131200273\n",
      "Iteration 119, the loss is 43.60668504305325, parameters k is 9.213166344293793 and b is -35.36105916967834\n",
      "Iteration 120, the loss is 43.606644938414966, parameters k is 9.212962432145531 and b is -35.361074202738244\n",
      "Iteration 121, the loss is 43.60661109349212, parameters k is 9.212775017570014 and b is -35.36108664270543\n",
      "Iteration 122, the loss is 43.60658252430572, parameters k is 9.212602748520377 and b is -35.36109670212851\n",
      "Iteration 123, the loss is 43.606558401550856, parameters k is 9.212444383756221 and b is -35.36110457613676\n",
      "Iteration 124, the loss is 43.6065380262833, parameters k is 9.212298783762508 and b is -35.36111044386771\n",
      "Iteration 125, the loss is 43.60652080942781, parameters k is 9.212164902412702 and b is -35.36111446977774\n",
      "Iteration 126, the loss is 43.60650625450728, parameters k is 9.212041779315152 and b is -35.36111680484528\n",
      "Iteration 127, the loss is 43.60649394308731, parameters k is 9.211928532786722 and b is -35.36111758767538\n",
      "Iteration 128, the loss is 43.60648352250824, parameters k is 9.211824353402262 and b is -35.361116945513764\n",
      "Iteration 129, the loss is 43.60647469554589, parameters k is 9.211728498072745 and b is -35.361114995177786\n",
      "Iteration 130, the loss is 43.606467211697606, parameters k is 9.211640284608704 and b is -35.36111184391108\n",
      "Iteration 131, the loss is 43.606460859837746, parameters k is 9.21155908672924 and b is -35.361107590168174\n",
      "Iteration 132, the loss is 43.60645546202838, parameters k is 9.211484329480054 and b is -35.36110232433478\n",
      "Iteration 133, the loss is 43.60645086830186, parameters k is 9.211415485027002 and b is -35.3610961293891\n",
      "Iteration 134, the loss is 43.6064469522643, parameters k is 9.211352068794373 and b is -35.361089081508865\n",
      "Iteration 135, the loss is 43.60644360739023, parameters k is 9.211293635919665 and b is -35.36108125062872\n",
      "Iteration 136, the loss is 43.60644074389898, parameters k is 9.211239777998907 and b is -35.36107270095184\n",
      "Iteration 137, the loss is 43.606438286122994, parameters k is 9.211190120098713 and b is -35.36106349141962\n",
      "Iteration 138, the loss is 43.606436170288866, parameters k is 9.211144318013213 and b is -35.36105367614297\n",
      "Iteration 139, the loss is 43.606434342647944, parameters k is 9.211102055745792 and b is -35.36104330479816\n",
      "Iteration 140, the loss is 43.606432757900556, parameters k is 9.21106304319721 and b is -35.361032422990235\n",
      "Iteration 141, the loss is 43.606431377867835, parameters k is 9.211027014043198 and b is -35.361021072586716\n",
      "Iteration 142, the loss is 43.606430170372164, parameters k is 9.210993723785982 and b is -35.36100929202389\n",
      "Iteration 143, the loss is 43.6064291082941, parameters k is 9.210962947965509 and b is -35.36099711658799\n",
      "Iteration 144, the loss is 43.60642816877732, parameters k is 9.21093448051726 and b is -35.3609845786734\n",
      "Iteration 145, the loss is 43.60642733255822, parameters k is 9.210908132264649 and b is -35.36097170801964\n",
      "Iteration 146, the loss is 43.60642658340113, parameters k is 9.210883729534984 and b is -35.360958531928915\n",
      "Iteration 147, the loss is 43.606425907622864, parameters k is 9.21086111288885 and b is -35.36094507546591\n",
      "Iteration 148, the loss is 43.60642529369084, parameters k is 9.210840135953621 and b is -35.36093136164112\n",
      "Iteration 149, the loss is 43.60642473188546, parameters k is 9.210820664352587 and b is -35.360917411579244\n",
      "Iteration 150, the loss is 43.60642421401492, parameters k is 9.210802574721825 and b is -35.36090324467371\n",
      "Iteration 151, the loss is 43.606423733175134, parameters k is 9.210785753807652 and b is -35.36088887872855\n",
      "Iteration 152, the loss is 43.606423283547294, parameters k is 9.210770097638047 and b is -35.36087433008869\n",
      "Iteration 153, the loss is 43.606422860227156, parameters k is 9.210755510761974 and b is -35.36085961375951\n",
      "Iteration 154, the loss is 43.60642245908154, parameters k is 9.210741905551048 and b is -35.360844743516616\n",
      "Iteration 155, the loss is 43.60642207662696, parameters k is 9.210729201558435 and b is -35.36082973200666\n",
      "Iteration 156, the loss is 43.606421709927375, parameters k is 9.210717324930286 and b is -35.36081459083982\n",
      "Iteration 157, the loss is 43.6064213565084, parameters k is 9.21070620786542 and b is -35.36079933067479\n",
      "Iteration 158, the loss is 43.606421014284486, parameters k is 9.210695788119267 and b is -35.360783961296704\n",
      "Iteration 159, the loss is 43.606420681498015, parameters k is 9.210686008548493 and b is -35.36076849168879\n",
      "Iteration 160, the loss is 43.60642035666767, parameters k is 9.210676816692919 and b is -35.36075293009804\n",
      "Iteration 161, the loss is 43.60642003854495, parameters k is 9.210668164391722 and b is -35.36073728409556\n",
      "Iteration 162, the loss is 43.60641972607746, parameters k is 9.210660007431075 and b is -35.360721560631994\n",
      "Iteration 163, the loss is 43.60641941837851, parameters k is 9.210652305220684 and b is -35.36070576608832\n",
      "Iteration 164, the loss is 43.60641911470065, parameters k is 9.21064502049681 and b is -35.360689906322584\n",
      "Iteration 165, the loss is 43.60641881441384, parameters k is 9.210638119049655 and b is -35.360673986712726\n",
      "Iteration 166, the loss is 43.606418516987254, parameters k is 9.210631569473064 and b is -35.36065801219594\n",
      "Iteration 167, the loss is 43.606418221973335, parameters k is 9.210625342934767 and b is -35.3606419873048\n",
      "Iteration 168, the loss is 43.60641792899498, parameters k is 9.210619412965428 and b is -35.36062591620041\n"
     ]
    },
    {
     "name": "stdout",
     "output_type": "stream",
     "text": [
      "Iteration 169, the loss is 43.60641763773445, parameters k is 9.210613755264998 and b is -35.360609802702854\n",
      "Iteration 170, the loss is 43.606417347923696, parameters k is 9.210608347524921 and b is -35.36059365031913\n",
      "Iteration 171, the loss is 43.60641705933709, parameters k is 9.21060316926494 and b is -35.36057746226884\n",
      "Iteration 172, the loss is 43.60641677178426, parameters k is 9.210598201683244 and b is -35.36056124150771\n",
      "Iteration 173, the loss is 43.6064164851048, parameters k is 9.210593427518914 and b is -35.36054499074923\n",
      "Iteration 174, the loss is 43.60641619916369, parameters k is 9.210588830925646 and b is -35.360528712484516\n",
      "Iteration 175, the loss is 43.6064159138468, parameters k is 9.210584397355815 and b is -35.36051240900051\n",
      "Iteration 176, the loss is 43.60641562905837, parameters k is 9.210580113454037 and b is -35.36049608239675\n",
      "Iteration 177, the loss is 43.606415344717334, parameters k is 9.210575966959468 and b is -35.36047973460068\n",
      "Iteration 178, the loss is 43.60641506075543, parameters k is 9.210571946616088 and b is -35.3604633673818\n",
      "Iteration 179, the loss is 43.60641477711531, parameters k is 9.210568042090369 and b is -35.36044698236457\n",
      "Iteration 180, the loss is 43.60641449374849, parameters k is 9.210564243895657 and b is -35.36043058104035\n",
      "Iteration 181, the loss is 43.60641421061413, parameters k is 9.210560543322776 and b is -35.36041416477824\n",
      "Iteration 182, the loss is 43.60641392767783, parameters k is 9.210556932376305 and b is -35.36039773483517\n",
      "Iteration 183, the loss is 43.60641364491053, parameters k is 9.210553403716084 and b is -35.36038129236502\n",
      "Iteration 184, the loss is 43.60641336228797, parameters k is 9.210549950603513 and b is -35.36036483842714\n",
      "Iteration 185, the loss is 43.60641307978933, parameters k is 9.210546566852253 and b is -35.36034837399403\n",
      "Iteration 186, the loss is 43.60641279739729, parameters k is 9.210543246782963 and b is -35.36033189995851\n",
      "Iteration 187, the loss is 43.606412515097325, parameters k is 9.210539985181752 and b is -35.360315417140214\n",
      "Iteration 188, the loss is 43.606412232877034, parameters k is 9.210536777262025 and b is -35.36029892629161\n",
      "Iteration 189, the loss is 43.60641195072596, parameters k is 9.210533618629476 and b is -35.36028242810351\n",
      "Iteration 190, the loss is 43.60641166863554, parameters k is 9.210530505249933 and b is -35.36026592321008\n",
      "Iteration 191, the loss is 43.606411386598154, parameters k is 9.210527433419838 and b is -35.36024941219353\n",
      "Iteration 192, the loss is 43.60641110460775, parameters k is 9.210524399739159 and b is -35.36023289558836\n",
      "Iteration 193, the loss is 43.606410822658965, parameters k is 9.210521401086513 and b is -35.36021637388525\n",
      "Iteration 194, the loss is 43.60641054074747, parameters k is 9.21051843459633 and b is -35.36019984753467\n",
      "Iteration 195, the loss is 43.60641025886949, parameters k is 9.21051549763788 and b is -35.360183316950184\n",
      "Iteration 196, the loss is 43.60640997702187, parameters k is 9.21051258779604 and b is -35.36016678251145\n",
      "Iteration 197, the loss is 43.60640969520202, parameters k is 9.210509702853617 and b is -35.360150244567\n",
      "Iteration 198, the loss is 43.60640941340765, parameters k is 9.210506840775123 and b is -35.36013370343683\n",
      "Iteration 199, the loss is 43.60640913163692, parameters k is 9.21050399969189 and b is -35.360117159414685\n"
     ]
    }
   ],
   "source": [
    "#initialized parameters\n",
    "\n",
    "k = random.random() * 200 - 100  # -100 100\n",
    "b = random.random() * 200 - 100  # -100 100\n",
    "\n",
    "learning_rate = 1e-3\n",
    "\n",
    "iteration_num = 200 \n",
    "losses = []\n",
    "for i in range(iteration_num):\n",
    "    \n",
    "    price_use_current_parameters = [price(r, k, b) for r in X_rm]  # \\hat{y}\n",
    "    \n",
    "    current_loss = loss(y, price_use_current_parameters)\n",
    "    losses.append(current_loss)\n",
    "    print(\"Iteration {}, the loss is {}, parameters k is {} and b is {}\".format(i,current_loss,k,b))\n",
    "    \n",
    "    k_gradient = partial_derivative_k(X_rm, y, price_use_current_parameters)\n",
    "    b_gradient = partial_derivative_b(y, price_use_current_parameters)\n",
    "    \n",
    "    k = k + (-1 * k_gradient) * learning_rate\n",
    "    b = b + (-1 * b_gradient) * learning_rate\n",
    "best_k = k\n",
    "best_b = b"
   ]
  },
  {
   "cell_type": "code",
   "execution_count": 43,
   "metadata": {
    "pycharm": {
     "is_executing": false
    }
   },
   "outputs": [
    {
     "data": {
      "text/plain": [
       "[<matplotlib.lines.Line2D at 0x1be44fb0848>]"
      ]
     },
     "execution_count": 43,
     "metadata": {},
     "output_type": "execute_result"
    },
    {
     "data": {
      "image/png": "[encoded data removed]",
      "text/plain": [
       "<Figure size 432x288 with 1 Axes>"
      ]
     },
     "metadata": {
      "needs_background": "light"
     },
     "output_type": "display_data"
    }
   ],
   "source": [
    "plt.plot(list(range(iteration_num)),losses)"
   ]
  },
  {
   "cell_type": "code",
   "execution_count": 44,
   "metadata": {
    "pycharm": {
     "is_executing": false
    }
   },
   "outputs": [
    {
     "data": {
      "text/plain": [
       "<matplotlib.collections.PathCollection at 0x1be45030d88>"
      ]
     },
     "execution_count": 44,
     "metadata": {},
     "output_type": "execute_result"
    },
    {
     "data": {
      "image/png": "[encoded data removed]",
      "text/plain": [
       "<Figure size 432x288 with 1 Axes>"
      ]
     },
     "metadata": {
      "needs_background": "light"
     },
     "output_type": "display_data"
    }
   ],
   "source": [
    "price_use_best_parameters = [price(r, best_k, best_b) for r in X_rm]\n",
    "\n",
    "plt.scatter(X_rm,y)\n",
    "plt.scatter(X_rm,price_use_current_parameters)"
   ]
  },
  {
   "cell_type": "code",
   "execution_count": null,
   "metadata": {
    "pycharm": {
     "is_executing": false
    }
   },
   "outputs": [],
   "source": []
  },
  {
   "cell_type": "code",
   "execution_count": null,
   "metadata": {
    "pycharm": {
     "is_executing": false
    }
   },
   "outputs": [],
   "source": []
  }
 ],
 "metadata": {
  "kernelspec": {
   "display_name": "Python 3",
   "language": "python",
   "name": "python3"
  },
  "language_info": {
   "codemirror_mode": {
    "name": "ipython",
    "version": 3
   },
   "file_extension": ".py",
   "mimetype": "text/x-python",
   "name": "python",
   "nbconvert_exporter": "python",
   "pygments_lexer": "ipython3",
   "version": "3.7.4"
  },
  "pycharm": {
   "stem_cell": {
    "cell_type": "raw",
    "metadata": {
     "collapsed": false
    },
    "source": []
   }
  }
 },
 "nbformat": 4,
 "nbformat_minor": 2
}
