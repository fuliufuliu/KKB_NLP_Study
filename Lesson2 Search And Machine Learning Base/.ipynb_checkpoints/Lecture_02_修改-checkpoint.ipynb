{
 "cells": [
  {
   "cell_type": "markdown",
   "metadata": {},
   "source": [
    "# AI for NLP. Lecture 1 Part 1"
   ]
  },
  {
   "cell_type": "markdown",
   "metadata": {},
   "source": [
    "## Build Graph"
   ]
  },
  {
   "cell_type": "code",
   "execution_count": 1,
   "metadata": {
    "pycharm": {
     "is_executing": false
    }
   },
   "outputs": [],
   "source": [
    "coordination_source = \"\"\"\n",
    "{name:'兰州', geoCoord:[103.73, 36.03]},\n",
    "{name:'嘉峪关', geoCoord:[98.17, 39.47]},\n",
    "{name:'西宁', geoCoord:[101.74, 36.56]},\n",
    "{name:'成都', geoCoord:[104.06, 30.67]},\n",
    "{name:'石家庄', geoCoord:[114.48, 38.03]},\n",
    "{name:'拉萨', geoCoord:[102.73, 25.04]},\n",
    "{name:'贵阳', geoCoord:[106.71, 26.57]},\n",
    "{name:'武汉', geoCoord:[114.31, 30.52]},\n",
    "{name:'郑州', geoCoord:[113.65, 34.76]},\n",
    "{name:'济南', geoCoord:[117, 36.65]},\n",
    "{name:'南京', geoCoord:[118.78, 32.04]},\n",
    "{name:'合肥', geoCoord:[117.27, 31.86]},\n",
    "{name:'杭州', geoCoord:[120.19, 30.26]},\n",
    "{name:'南昌', geoCoord:[115.89, 28.68]},\n",
    "{name:'福州', geoCoord:[119.3, 26.08]},\n",
    "{name:'广州', geoCoord:[113.23, 23.16]},\n",
    "{name:'长沙', geoCoord:[113, 28.21]},\n",
    "//{name:'海口', geoCoord:[110.35, 20.02]},\n",
    "{name:'沈阳', geoCoord:[123.38, 41.8]},\n",
    "{name:'长春', geoCoord:[125.35, 43.88]},\n",
    "{name:'哈尔滨', geoCoord:[126.63, 45.75]},\n",
    "{name:'太原', geoCoord:[112.53, 37.87]},\n",
    "{name:'西安', geoCoord:[108.95, 34.27]},\n",
    "//{name:'台湾', geoCoord:[121.30, 25.03]},\n",
    "{name:'北京', geoCoord:[116.46, 39.92]},\n",
    "{name:'上海', geoCoord:[121.48, 31.22]},\n",
    "{name:'重庆', geoCoord:[106.54, 29.59]},\n",
    "{name:'天津', geoCoord:[117.2, 39.13]},\n",
    "{name:'呼和浩特', geoCoord:[111.65, 40.82]},\n",
    "{name:'南宁', geoCoord:[108.33, 22.84]},\n",
    "//{name:'西藏', geoCoord:[91.11, 29.97]},\n",
    "{name:'银川', geoCoord:[106.27, 38.47]},\n",
    "{name:'乌鲁木齐', geoCoord:[87.68, 43.77]},\n",
    "{name:'香港', geoCoord:[114.17, 22.28]},\n",
    "{name:'澳门', geoCoord:[113.54, 22.19]}\n",
    "\"\"\""
   ]
  },
  {
   "cell_type": "markdown",
   "metadata": {},
   "source": [
    "### Get data from source using regular expression"
   ]
  },
  {
   "cell_type": "code",
   "execution_count": 2,
   "metadata": {
    "pycharm": {
     "is_executing": false
    }
   },
   "outputs": [],
   "source": [
    "import re"
   ]
  },
  {
   "cell_type": "markdown",
   "metadata": {},
   "source": [
    "## regular expression"
   ]
  },
  {
   "cell_type": "markdown",
   "metadata": {},
   "source": [
    "[a-z]\n",
    "[A-Z]\n",
    "[^a]: negation\n",
    "colou?r:  ? zero or one of its previous character\n",
    "* : zero or more of its previous character\n",
    "+: one or more\n",
    ".:match any single character\n",
    "^:start of the line\n",
    "$:end of the line\n",
    "| [cat|dog] : cat or dog\n",
    "(da): make the string da like a character\n"
   ]
  },
  {
   "cell_type": "code",
   "execution_count": 3,
   "metadata": {
    "pycharm": {
     "is_executing": false
    }
   },
   "outputs": [],
   "source": [
    "l = \"color or colour\""
   ]
  },
  {
   "cell_type": "code",
   "execution_count": 4,
   "metadata": {
    "pycharm": {
     "is_executing": false
    }
   },
   "outputs": [
    {
     "data": {
      "text/plain": [
       "['color', 'colour']"
      ]
     },
     "execution_count": 4,
     "metadata": {},
     "output_type": "execute_result"
    }
   ],
   "source": [
    "pattern = re.compile(\"colou?r\")\n",
    "pattern.findall(l)"
   ]
  },
  {
   "cell_type": "code",
   "execution_count": 5,
   "metadata": {
    "pycharm": {
     "is_executing": false
    }
   },
   "outputs": [],
   "source": [
    "def get_city_info(city_coordination):\n",
    "    city_location = {}\n",
    "    for line in city_coordination.split(\"\\n\"):\n",
    "        if line.startswith(\"//\"): continue\n",
    "        if line.strip() == \"\":continue\n",
    "            \n",
    "        city = re.findall(\"name:'(\\w+)'\",line)[0]\n",
    "        x_y = re.findall(\"Coord:\\[(\\d+.\\d+),\\s(\\d+.\\d+)\\]\",line)[0]\n",
    "        x_y = tuple(map(float,x_y))\n",
    "        city_location[city] = x_y\n",
    "    return city_location"
   ]
  },
  {
   "cell_type": "code",
   "execution_count": 6,
   "metadata": {
    "pycharm": {
     "is_executing": false
    }
   },
   "outputs": [],
   "source": [
    "city_info = get_city_info(coordination_source)"
   ]
  },
  {
   "cell_type": "code",
   "execution_count": 7,
   "metadata": {
    "pycharm": {
     "is_executing": false
    }
   },
   "outputs": [
    {
     "data": {
      "text/plain": [
       "{'兰州': (103.73, 36.03),\n",
       " '嘉峪关': (98.17, 39.47),\n",
       " '西宁': (101.74, 36.56),\n",
       " '成都': (104.06, 30.67),\n",
       " '石家庄': (114.48, 38.03),\n",
       " '拉萨': (102.73, 25.04),\n",
       " '贵阳': (106.71, 26.57),\n",
       " '武汉': (114.31, 30.52),\n",
       " '郑州': (113.65, 34.76),\n",
       " '济南': (117.0, 36.65),\n",
       " '南京': (118.78, 32.04),\n",
       " '合肥': (117.27, 31.86),\n",
       " '杭州': (120.19, 30.26),\n",
       " '南昌': (115.89, 28.68),\n",
       " '福州': (119.3, 26.08),\n",
       " '广州': (113.23, 23.16),\n",
       " '长沙': (113.0, 28.21),\n",
       " '沈阳': (123.38, 41.8),\n",
       " '长春': (125.35, 43.88),\n",
       " '哈尔滨': (126.63, 45.75),\n",
       " '太原': (112.53, 37.87),\n",
       " '西安': (108.95, 34.27),\n",
       " '北京': (116.46, 39.92),\n",
       " '上海': (121.48, 31.22),\n",
       " '重庆': (106.54, 29.59),\n",
       " '天津': (117.2, 39.13),\n",
       " '呼和浩特': (111.65, 40.82),\n",
       " '南宁': (108.33, 22.84),\n",
       " '银川': (106.27, 38.47),\n",
       " '乌鲁木齐': (87.68, 43.77),\n",
       " '香港': (114.17, 22.28),\n",
       " '澳门': (113.54, 22.19)}"
      ]
     },
     "execution_count": 7,
     "metadata": {},
     "output_type": "execute_result"
    }
   ],
   "source": [
    "city_info"
   ]
  },
  {
   "cell_type": "markdown",
   "metadata": {},
   "source": [
    "### Compute distance between cities"
   ]
  },
  {
   "cell_type": "code",
   "execution_count": 8,
   "metadata": {
    "pycharm": {
     "is_executing": false
    }
   },
   "outputs": [],
   "source": [
    "import math\n",
    "\n",
    "def geo_distance(origin, destination):\n",
    "    \"\"\"\n",
    "    Calculate the Haversine distance.\n",
    "\n",
    "    Parameters\n",
    "    ----------\n",
    "    origin : tuple of float\n",
    "        (lat, long)\n",
    "    destination : tuple of float\n",
    "        (lat, long)\n",
    "\n",
    "    Returns\n",
    "    -------\n",
    "    distance_in_km : float\n",
    "\n",
    "    Examples\n",
    "    --------\n",
    "    >>> origin = (48.1372, 11.5756)  # Munich\n",
    "    >>> destination = (52.5186, 13.4083)  # Berlin\n",
    "    >>> round(distance(origin, destination), 1)\n",
    "    504.2\n",
    "    \"\"\"\n",
    "    lat1, lon1 = origin\n",
    "    lat2, lon2 = destination\n",
    "    radius = 6371  # km\n",
    "\n",
    "    dlat = math.radians(lat2 - lat1)\n",
    "    dlon = math.radians(lon2 - lon1)\n",
    "    a = (math.sin(dlat / 2) * math.sin(dlat / 2) +\n",
    "         math.cos(math.radians(lat1)) * math.cos(math.radians(lat2)) *\n",
    "         math.sin(dlon / 2) * math.sin(dlon / 2))\n",
    "    c = 2 * math.atan2(math.sqrt(a), math.sqrt(1 - a))\n",
    "    d = radius * c\n",
    "\n",
    "    return d"
   ]
  },
  {
   "cell_type": "code",
   "execution_count": 9,
   "metadata": {
    "pycharm": {
     "is_executing": false,
     "name": "#%%\n"
    }
   },
   "outputs": [
    {
     "data": {
      "text/plain": [
       "153.5185697155768"
      ]
     },
     "execution_count": 9,
     "metadata": {},
     "output_type": "execute_result"
    }
   ],
   "source": [
    "def get_city_distance(city1,city2):\n",
    "    return geo_distance(city_info[city1],city_info[city2])\n",
    "\n",
    "get_city_distance(\"杭州\",\"上海\")"
   ]
  },
  {
   "cell_type": "markdown",
   "metadata": {},
   "source": [
    "### Draw the graph"
   ]
  },
  {
   "cell_type": "code",
   "execution_count": 21,
   "metadata": {
    "pycharm": {
     "is_executing": false
    }
   },
   "outputs": [],
   "source": [
    "import networkx as nx\n",
    "import matplotlib.pyplot as plt\n",
    "#%matplotlib inline\n",
    "\n",
    "#plt.rcParams['font.sans-serif'] = ['SimHei']\n",
    "#plt.rcParams['axes.unicode_minus'] = False\n"
   ]
  },
  {
   "cell_type": "code",
   "execution_count": 22,
   "metadata": {
    "pycharm": {
     "is_executing": false
    }
   },
   "outputs": [
    {
     "data": {
      "text/plain": [
       "dict_keys(['兰州', '嘉峪关', '西宁', '成都', '石家庄', '拉萨', '贵阳', '武汉', '郑州', '济南', '南京', '合肥', '杭州', '南昌', '福州', '广州', '长沙', '沈阳', '长春', '哈尔滨', '太原', '西安', '北京', '上海', '重庆', '天津', '呼和浩特', '南宁', '银川', '乌鲁木齐', '香港', '澳门'])"
      ]
     },
     "execution_count": 22,
     "metadata": {},
     "output_type": "execute_result"
    }
   ],
   "source": [
    "city_info.keys()"
   ]
  },
  {
   "cell_type": "code",
   "execution_count": 23,
   "metadata": {
    "pycharm": {
     "is_executing": false
    }
   },
   "outputs": [],
   "source": [
    "city_graph = nx.Graph()\n",
    "\n",
    "city_graph.add_nodes_from(list(city_info.keys()))\n",
    "                        "
   ]
  },
  {
   "cell_type": "code",
   "execution_count": 24,
   "metadata": {
    "pycharm": {
     "is_executing": false
    }
   },
   "outputs": [
    {
     "name": "stderr",
     "output_type": "stream",
     "text": [
      "C:\\ProgramData\\Anaconda3\\lib\\site-packages\\matplotlib\\backends\\backend_agg.py:211: RuntimeWarning: Glyph 20044 missing from current font.\n",
      "  font.set_text(s, 0.0, flags=flags)\n",
      "C:\\ProgramData\\Anaconda3\\lib\\site-packages\\matplotlib\\backends\\backend_agg.py:211: RuntimeWarning: Glyph 40065 missing from current font.\n",
      "  font.set_text(s, 0.0, flags=flags)\n",
      "C:\\ProgramData\\Anaconda3\\lib\\site-packages\\matplotlib\\backends\\backend_agg.py:211: RuntimeWarning: Glyph 26408 missing from current font.\n",
      "  font.set_text(s, 0.0, flags=flags)\n",
      "C:\\ProgramData\\Anaconda3\\lib\\site-packages\\matplotlib\\backends\\backend_agg.py:211: RuntimeWarning: Glyph 40784 missing from current font.\n",
      "  font.set_text(s, 0.0, flags=flags)\n",
      "C:\\ProgramData\\Anaconda3\\lib\\site-packages\\matplotlib\\backends\\backend_agg.py:180: RuntimeWarning: Glyph 20044 missing from current font.\n",
      "  font.set_text(s, 0, flags=flags)\n",
      "C:\\ProgramData\\Anaconda3\\lib\\site-packages\\matplotlib\\backends\\backend_agg.py:180: RuntimeWarning: Glyph 40065 missing from current font.\n",
      "  font.set_text(s, 0, flags=flags)\n",
      "C:\\ProgramData\\Anaconda3\\lib\\site-packages\\matplotlib\\backends\\backend_agg.py:180: RuntimeWarning: Glyph 26408 missing from current font.\n",
      "  font.set_text(s, 0, flags=flags)\n",
      "C:\\ProgramData\\Anaconda3\\lib\\site-packages\\matplotlib\\backends\\backend_agg.py:180: RuntimeWarning: Glyph 40784 missing from current font.\n",
      "  font.set_text(s, 0, flags=flags)\n"
     ]
    },
    {
     "data": {
      "image/png": "[encoded data removed]",
      "text/plain": [
       "<Figure size 432x288 with 1 Axes>"
      ]
     },
     "metadata": {},
     "output_type": "display_data"
    }
   ],
   "source": [
    "nx.draw(city_graph, city_info, with_labels=True, node_size=10)"
   ]
  },
  {
   "cell_type": "markdown",
   "metadata": {},
   "source": [
    "### Build connection between. Let's assume that two cities are connected if their distance is less than 700 km."
   ]
  },
  {
   "cell_type": "code",
   "execution_count": 25,
   "metadata": {
    "pycharm": {
     "is_executing": false
    }
   },
   "outputs": [],
   "source": [
    "threshold = 700   # defined the threshold"
   ]
  },
  {
   "cell_type": "code",
   "execution_count": 26,
   "metadata": {
    "pycharm": {
     "is_executing": false
    }
   },
   "outputs": [],
   "source": [
    "from collections import defaultdict"
   ]
  },
  {
   "cell_type": "code",
   "execution_count": 27,
   "metadata": {
    "pycharm": {
     "is_executing": false
    }
   },
   "outputs": [],
   "source": [
    "def build_connection(city_info):\n",
    "    cities_connection = defaultdict(list)\n",
    "    cities = list(city_info.keys())\n",
    "    for c1 in cities:\n",
    "        for c2 in cities:\n",
    "            if c1 == c2 : continue\n",
    "            \n",
    "            if get_city_distance(c1,c2) < threshold:\n",
    "                cities_connection[c1].append(c2)\n",
    "    return cities_connection\n",
    "\n",
    "cities_connection = build_connection(city_info)"
   ]
  },
  {
   "cell_type": "code",
   "execution_count": 28,
   "metadata": {
    "pycharm": {
     "is_executing": false
    }
   },
   "outputs": [
    {
     "data": {
      "text/plain": [
       "defaultdict(list,\n",
       "            {'兰州': ['嘉峪关', '西宁', '成都', '拉萨', '贵阳', '西安', '重庆', '南宁', '银川'],\n",
       "             '嘉峪关': ['兰州', '西宁', '成都', '拉萨'],\n",
       "             '西宁': ['兰州', '嘉峪关', '成都', '拉萨', '贵阳', '重庆', '银川'],\n",
       "             '成都': ['兰州', '嘉峪关', '西宁', '拉萨', '贵阳', '西安', '重庆', '南宁', '银川'],\n",
       "             '石家庄': ['武汉',\n",
       "              '郑州',\n",
       "              '济南',\n",
       "              '南京',\n",
       "              '合肥',\n",
       "              '南昌',\n",
       "              '广州',\n",
       "              '长沙',\n",
       "              '太原',\n",
       "              '西安',\n",
       "              '北京',\n",
       "              '天津',\n",
       "              '呼和浩特'],\n",
       "             '拉萨': ['兰州', '嘉峪关', '西宁', '成都', '贵阳', '重庆', '南宁', '银川'],\n",
       "             '贵阳': ['兰州', '西宁', '成都', '拉萨', '西安', '重庆', '南宁', '银川'],\n",
       "             '武汉': ['石家庄',\n",
       "              '郑州',\n",
       "              '济南',\n",
       "              '南京',\n",
       "              '合肥',\n",
       "              '杭州',\n",
       "              '南昌',\n",
       "              '福州',\n",
       "              '广州',\n",
       "              '长沙',\n",
       "              '太原',\n",
       "              '西安',\n",
       "              '北京',\n",
       "              '天津',\n",
       "              '呼和浩特',\n",
       "              '香港',\n",
       "              '澳门'],\n",
       "             '郑州': ['石家庄',\n",
       "              '武汉',\n",
       "              '济南',\n",
       "              '南京',\n",
       "              '合肥',\n",
       "              '南昌',\n",
       "              '广州',\n",
       "              '长沙',\n",
       "              '太原',\n",
       "              '西安',\n",
       "              '北京',\n",
       "              '天津',\n",
       "              '呼和浩特',\n",
       "              '香港',\n",
       "              '澳门'],\n",
       "             '济南': ['石家庄',\n",
       "              '武汉',\n",
       "              '郑州',\n",
       "              '南京',\n",
       "              '合肥',\n",
       "              '杭州',\n",
       "              '南昌',\n",
       "              '福州',\n",
       "              '长沙',\n",
       "              '太原',\n",
       "              '北京',\n",
       "              '上海',\n",
       "              '天津',\n",
       "              '呼和浩特'],\n",
       "             '南京': ['石家庄',\n",
       "              '武汉',\n",
       "              '郑州',\n",
       "              '济南',\n",
       "              '合肥',\n",
       "              '杭州',\n",
       "              '南昌',\n",
       "              '福州',\n",
       "              '长沙',\n",
       "              '北京',\n",
       "              '上海',\n",
       "              '天津'],\n",
       "             '合肥': ['石家庄',\n",
       "              '武汉',\n",
       "              '郑州',\n",
       "              '济南',\n",
       "              '南京',\n",
       "              '杭州',\n",
       "              '南昌',\n",
       "              '福州',\n",
       "              '广州',\n",
       "              '长沙',\n",
       "              '太原',\n",
       "              '北京',\n",
       "              '上海',\n",
       "              '天津',\n",
       "              '香港',\n",
       "              '澳门'],\n",
       "             '杭州': ['武汉', '济南', '南京', '合肥', '南昌', '福州', '北京', '上海', '天津'],\n",
       "             '南昌': ['石家庄',\n",
       "              '武汉',\n",
       "              '郑州',\n",
       "              '济南',\n",
       "              '南京',\n",
       "              '合肥',\n",
       "              '杭州',\n",
       "              '福州',\n",
       "              '广州',\n",
       "              '长沙',\n",
       "              '太原',\n",
       "              '北京',\n",
       "              '上海',\n",
       "              '天津',\n",
       "              '香港',\n",
       "              '澳门'],\n",
       "             '福州': ['武汉',\n",
       "              '济南',\n",
       "              '南京',\n",
       "              '合肥',\n",
       "              '杭州',\n",
       "              '南昌',\n",
       "              '广州',\n",
       "              '上海',\n",
       "              '香港',\n",
       "              '澳门'],\n",
       "             '广州': ['石家庄',\n",
       "              '武汉',\n",
       "              '郑州',\n",
       "              '合肥',\n",
       "              '南昌',\n",
       "              '福州',\n",
       "              '长沙',\n",
       "              '太原',\n",
       "              '西安',\n",
       "              '南宁',\n",
       "              '香港',\n",
       "              '澳门'],\n",
       "             '长沙': ['石家庄',\n",
       "              '武汉',\n",
       "              '郑州',\n",
       "              '济南',\n",
       "              '南京',\n",
       "              '合肥',\n",
       "              '南昌',\n",
       "              '广州',\n",
       "              '太原',\n",
       "              '西安',\n",
       "              '北京',\n",
       "              '天津',\n",
       "              '呼和浩特',\n",
       "              '南宁',\n",
       "              '香港',\n",
       "              '澳门'],\n",
       "             '沈阳': ['长春', '哈尔滨', '上海'],\n",
       "             '长春': ['沈阳', '哈尔滨'],\n",
       "             '哈尔滨': ['沈阳', '长春'],\n",
       "             '太原': ['石家庄',\n",
       "              '武汉',\n",
       "              '郑州',\n",
       "              '济南',\n",
       "              '合肥',\n",
       "              '南昌',\n",
       "              '广州',\n",
       "              '长沙',\n",
       "              '西安',\n",
       "              '北京',\n",
       "              '天津',\n",
       "              '呼和浩特',\n",
       "              '银川',\n",
       "              '澳门'],\n",
       "             '西安': ['兰州',\n",
       "              '成都',\n",
       "              '石家庄',\n",
       "              '贵阳',\n",
       "              '武汉',\n",
       "              '郑州',\n",
       "              '广州',\n",
       "              '长沙',\n",
       "              '太原',\n",
       "              '重庆',\n",
       "              '呼和浩特',\n",
       "              '南宁',\n",
       "              '银川'],\n",
       "             '北京': ['石家庄',\n",
       "              '武汉',\n",
       "              '郑州',\n",
       "              '济南',\n",
       "              '南京',\n",
       "              '合肥',\n",
       "              '杭州',\n",
       "              '南昌',\n",
       "              '长沙',\n",
       "              '太原',\n",
       "              '天津',\n",
       "              '呼和浩特'],\n",
       "             '上海': ['济南', '南京', '合肥', '杭州', '南昌', '福州', '沈阳', '天津'],\n",
       "             '重庆': ['兰州', '西宁', '成都', '拉萨', '贵阳', '西安', '呼和浩特', '南宁', '银川'],\n",
       "             '天津': ['石家庄',\n",
       "              '武汉',\n",
       "              '郑州',\n",
       "              '济南',\n",
       "              '南京',\n",
       "              '合肥',\n",
       "              '杭州',\n",
       "              '南昌',\n",
       "              '长沙',\n",
       "              '太原',\n",
       "              '北京',\n",
       "              '上海',\n",
       "              '呼和浩特'],\n",
       "             '呼和浩特': ['石家庄',\n",
       "              '武汉',\n",
       "              '郑州',\n",
       "              '济南',\n",
       "              '长沙',\n",
       "              '太原',\n",
       "              '西安',\n",
       "              '北京',\n",
       "              '重庆',\n",
       "              '天津',\n",
       "              '银川'],\n",
       "             '南宁': ['兰州',\n",
       "              '成都',\n",
       "              '拉萨',\n",
       "              '贵阳',\n",
       "              '广州',\n",
       "              '长沙',\n",
       "              '西安',\n",
       "              '重庆',\n",
       "              '银川',\n",
       "              '香港',\n",
       "              '澳门'],\n",
       "             '银川': ['兰州',\n",
       "              '西宁',\n",
       "              '成都',\n",
       "              '拉萨',\n",
       "              '贵阳',\n",
       "              '太原',\n",
       "              '西安',\n",
       "              '重庆',\n",
       "              '呼和浩特',\n",
       "              '南宁'],\n",
       "             '香港': ['武汉', '郑州', '合肥', '南昌', '福州', '广州', '长沙', '南宁', '澳门'],\n",
       "             '澳门': ['武汉',\n",
       "              '郑州',\n",
       "              '合肥',\n",
       "              '南昌',\n",
       "              '福州',\n",
       "              '广州',\n",
       "              '长沙',\n",
       "              '太原',\n",
       "              '南宁',\n",
       "              '香港']})"
      ]
     },
     "execution_count": 28,
     "metadata": {},
     "output_type": "execute_result"
    }
   ],
   "source": [
    "cities_connection"
   ]
  },
  {
   "cell_type": "markdown",
   "metadata": {},
   "source": [
    "### Draw connection graph"
   ]
  },
  {
   "cell_type": "code",
   "execution_count": 29,
   "metadata": {
    "pycharm": {
     "is_executing": false
    }
   },
   "outputs": [],
   "source": [
    "cities_connection_graph = nx.Graph(cities_connection)"
   ]
  },
  {
   "cell_type": "code",
   "execution_count": 30,
   "metadata": {
    "pycharm": {
     "is_executing": false
    }
   },
   "outputs": [
    {
     "data": {
      "image/png": "[encoded data removed]",
      "text/plain": [
       "<Figure size 432x288 with 1 Axes>"
      ]
     },
     "metadata": {},
     "output_type": "display_data"
    }
   ],
   "source": [
    "nx.draw(cities_connection_graph,city_info,with_labels=True,node_size=10)"
   ]
  },
  {
   "cell_type": "markdown",
   "metadata": {},
   "source": [
    "### BFS 1 version"
   ]
  },
  {
   "cell_type": "code",
   "execution_count": 38,
   "metadata": {
    "pycharm": {
     "is_executing": false
    }
   },
   "outputs": [
    {
     "data": {
      "text/plain": [
       "['上海', '合肥', '香港']"
      ]
     },
     "execution_count": 38,
     "metadata": {},
     "output_type": "execute_result"
    }
   ],
   "source": [
    "def search_1(graph,start,destination):\n",
    "    pathes = [[start]]  # list 用来存储待搜索路径\n",
    "    visited = set() # set用来存储已搜索的节点\n",
    "    \n",
    "    while pathes:\n",
    "        path = pathes.pop(0)  #提取第一条路径\n",
    "        froniter = path[-1]   #提取即将要探索的节点\n",
    "        \n",
    "        if froniter in visited: continue  #检查如果该点已经探索过 则不用再探索\n",
    "            \n",
    "        successsors = graph[froniter]\n",
    "        \n",
    "        for city in successsors:      #遍历子节点\n",
    "            if city in path: continue  # check loop #检查会不会形成环\n",
    "            \n",
    "            new_path = path+[city]\n",
    "            \n",
    "            pathes.append(new_path)  #bfs     #将新路径加到list里面\n",
    "            #pathes = [new_path] + pathes #dfs\n",
    "            \n",
    "            if city == destination:  #检查目的地是不是已经搜索到了\n",
    "                return new_path\n",
    "        visited.add(froniter)\n",
    "\n",
    "search_1(cities_connection,\"上海\",\"香港\")"
   ]
  },
  {
   "cell_type": "code",
   "execution_count": 22,
   "metadata": {},
   "outputs": [
    {
     "data": {
      "text/plain": [
       "['上海', '合肥', '香港']"
      ]
     },
     "execution_count": 22,
     "metadata": {},
     "output_type": "execute_result"
    }
   ],
   "source": []
  },
  {
   "cell_type": "markdown",
   "metadata": {},
   "source": [
    "### Optimal search using variation of BFS"
   ]
  },
  {
   "cell_type": "code",
   "execution_count": 40,
   "metadata": {
    "pycharm": {
     "is_executing": false
    }
   },
   "outputs": [],
   "source": [
    "def search_2(graph,start,destination,search_strategy):\n",
    "    pathes = [[start]]\n",
    "    visited = set()# ！\n",
    "    while pathes:\n",
    "        path = pathes.pop(0)\n",
    "        froniter = path[-1]\n",
    "        if froniter in visited : continue# ！\n",
    "            \n",
    "        if froniter == destination:# ！\n",
    "            return path# ！\n",
    "        \n",
    "        successsors = graph[froniter]\n",
    "        \n",
    "        for city in successsors:\n",
    "            if city in path: continue  # check loop\n",
    "            \n",
    "            new_path = path+[city]\n",
    "            \n",
    "            pathes.append(new_path)  #bfs\n",
    "            \n",
    "        pathes = search_strategy(pathes)\n",
    "        visited.add(froniter) # ！\n",
    "       # if pathes and (destination == pathes[0][-1]):\n",
    "       #     return pathes[0]  \n",
    "        "
   ]
  },
  {
   "cell_type": "code",
   "execution_count": 41,
   "metadata": {
    "pycharm": {
     "is_executing": false
    }
   },
   "outputs": [],
   "source": [
    "def sort_by_distance(pathes):\n",
    "    def get_distance_of_path(path):\n",
    "        distance = 0\n",
    "        for i,_ in enumerate(path[:-1]):\n",
    "            distance += get_city_distance(path[i],path[i+1])\n",
    "        return distance\n",
    "    return sorted(pathes,key=get_distance_of_path)\n"
   ]
  },
  {
   "cell_type": "code",
   "execution_count": 42,
   "metadata": {
    "pycharm": {
     "is_executing": false
    }
   },
   "outputs": [],
   "source": [
    "def get_distance_of_path(path):\n",
    "    distance = 0\n",
    "    for i,_ in enumerate(path[:-1]):\n",
    "        distance += get_city_distance(path[i],path[i+1])\n",
    "    return distance"
   ]
  },
  {
   "cell_type": "code",
   "execution_count": 43,
   "metadata": {
    "pycharm": {
     "is_executing": false
    }
   },
   "outputs": [
    {
     "data": {
      "text/plain": [
       "752.66259009181"
      ]
     },
     "execution_count": 43,
     "metadata": {},
     "output_type": "execute_result"
    }
   ],
   "source": [
    "get_distance_of_path([\"北京\",\"济南\",\"上海\"])"
   ]
  },
  {
   "cell_type": "code",
   "execution_count": 44,
   "metadata": {
    "pycharm": {
     "is_executing": false
    }
   },
   "outputs": [
    {
     "data": {
      "text/plain": [
       "732.5085345714293"
      ]
     },
     "execution_count": 44,
     "metadata": {},
     "output_type": "execute_result"
    }
   ],
   "source": [
    "get_distance_of_path([\"北京\",\"天津\",\"上海\"])"
   ]
  },
  {
   "cell_type": "code",
   "execution_count": 45,
   "metadata": {
    "pycharm": {
     "is_executing": false
    }
   },
   "outputs": [
    {
     "data": {
      "text/plain": [
       "['北京', '济南', '上海']"
      ]
     },
     "execution_count": 45,
     "metadata": {},
     "output_type": "execute_result"
    }
   ],
   "source": [
    "search_2(cities_connection,\"北京\",\"上海\",search_strategy=lambda x:x)"
   ]
  },
  {
   "cell_type": "code",
   "execution_count": 46,
   "metadata": {
    "pycharm": {
     "is_executing": false
    }
   },
   "outputs": [
    {
     "data": {
      "text/plain": [
       "['北京', '天津', '上海']"
      ]
     },
     "execution_count": 46,
     "metadata": {},
     "output_type": "execute_result"
    }
   ],
   "source": [
    "search_2(cities_connection,\"北京\",\"上海\",search_strategy=sort_by_distance)"
   ]
  },
  {
   "cell_type": "markdown",
   "metadata": {},
   "source": [
    "# AI for NLP Lecture 1 Part 2"
   ]
  },
  {
   "cell_type": "markdown",
   "metadata": {},
   "source": [
    "## Machine Learning"
   ]
  },
  {
   "cell_type": "code",
   "execution_count": 47,
   "metadata": {
    "pycharm": {
     "is_executing": false
    }
   },
   "outputs": [],
   "source": [
    "from sklearn.datasets import load_boston\n",
    "import random"
   ]
  },
  {
   "cell_type": "code",
   "execution_count": 48,
   "metadata": {
    "pycharm": {
     "is_executing": false
    }
   },
   "outputs": [],
   "source": [
    "dataset = load_boston()"
   ]
  },
  {
   "cell_type": "code",
   "execution_count": 29,
   "metadata": {},
   "outputs": [],
   "source": [
    "#dataset"
   ]
  },
  {
   "cell_type": "code",
   "execution_count": 49,
   "metadata": {
    "pycharm": {
     "is_executing": false
    }
   },
   "outputs": [],
   "source": [
    "x,y=dataset['data'],dataset['target']"
   ]
  },
  {
   "cell_type": "code",
   "execution_count": 50,
   "metadata": {
    "pycharm": {
     "is_executing": false
    }
   },
   "outputs": [
    {
     "data": {
      "text/plain": [
       "(506, 13)"
      ]
     },
     "execution_count": 50,
     "metadata": {},
     "output_type": "execute_result"
    }
   ],
   "source": [
    "x.shape"
   ]
  },
  {
   "cell_type": "code",
   "execution_count": 51,
   "metadata": {
    "pycharm": {
     "is_executing": false
    }
   },
   "outputs": [
    {
     "data": {
      "text/plain": [
       "(506,)"
      ]
     },
     "execution_count": 51,
     "metadata": {},
     "output_type": "execute_result"
    }
   ],
   "source": [
    "y.shape"
   ]
  },
  {
   "cell_type": "code",
   "execution_count": 55,
   "metadata": {
    "pycharm": {
     "is_executing": false
    }
   },
   "outputs": [
    {
     "data": {
      "text/plain": [
       "array([2.7310e-02, 0.0000e+00, 7.0700e+00, 0.0000e+00, 4.6900e-01,\n",
       "       6.4210e+00, 7.8900e+01, 4.9671e+00, 2.0000e+00, 2.4200e+02,\n",
       "       1.7800e+01, 3.9690e+02, 9.1400e+00])"
      ]
     },
     "execution_count": 55,
     "metadata": {},
     "output_type": "execute_result"
    }
   ],
   "source": [
    "x[1].shape\n",
    "x[1]"
   ]
  },
  {
   "cell_type": "code",
   "execution_count": 56,
   "metadata": {
    "pycharm": {
     "is_executing": false
    }
   },
   "outputs": [
    {
     "data": {
      "text/plain": [
       "array(['CRIM', 'ZN', 'INDUS', 'CHAS', 'NOX', 'RM', 'AGE', 'DIS', 'RAD',\n",
       "       'TAX', 'PTRATIO', 'B', 'LSTAT'], dtype='<U7')"
      ]
     },
     "execution_count": 56,
     "metadata": {},
     "output_type": "execute_result"
    }
   ],
   "source": [
    "dataset.feature_names"
   ]
  },
  {
   "cell_type": "code",
   "execution_count": 57,
   "metadata": {
    "pycharm": {
     "is_executing": false
    }
   },
   "outputs": [
    {
     "data": {
      "text/plain": [
       "\".. _boston_dataset:\\n\\nBoston house prices dataset\\n---------------------------\\n\\n**Data Set Characteristics:**  \\n\\n    :Number of Instances: 506 \\n\\n    :Number of Attributes: 13 numeric/categorical predictive. Median Value (attribute 14) is usually the target.\\n\\n    :Attribute Information (in order):\\n        - CRIM     per capita crime rate by town\\n        - ZN       proportion of residential land zoned for lots over 25,000 sq.ft.\\n        - INDUS    proportion of non-retail business acres per town\\n        - CHAS     Charles River dummy variable (= 1 if tract bounds river; 0 otherwise)\\n        - NOX      nitric oxides concentration (parts per 10 million)\\n        - RM       average number of rooms per dwelling\\n        - AGE      proportion of owner-occupied units built prior to 1940\\n        - DIS      weighted distances to five Boston employment centres\\n        - RAD      index of accessibility to radial highways\\n        - TAX      full-value property-tax rate per $10,000\\n        - PTRATIO  pupil-teacher ratio by town\\n        - B        1000(Bk - 0.63)^2 where Bk is the proportion of blacks by town\\n        - LSTAT    % lower status of the population\\n        - MEDV     Median value of owner-occupied homes in $1000's\\n\\n    :Missing Attribute Values: None\\n\\n    :Creator: Harrison, D. and Rubinfeld, D.L.\\n\\nThis is a copy of UCI ML housing dataset.\\nhttps://archive.ics.uci.edu/ml/machine-learning-databases/housing/\\n\\n\\nThis dataset was taken from the StatLib library which is maintained at Carnegie Mellon University.\\n\\nThe Boston house-price data of Harrison, D. and Rubinfeld, D.L. 'Hedonic\\nprices and the demand for clean air', J. Environ. Economics & Management,\\nvol.5, 81-102, 1978.   Used in Belsley, Kuh & Welsch, 'Regression diagnostics\\n...', Wiley, 1980.   N.B. Various transformations are used in the table on\\npages 244-261 of the latter.\\n\\nThe Boston house-price data has been used in many machine learning papers that address regression\\nproblems.   \\n     \\n.. topic:: References\\n\\n   - Belsley, Kuh & Welsch, 'Regression diagnostics: Identifying Influential Data and Sources of Collinearity', Wiley, 1980. 244-261.\\n   - Quinlan,R. (1993). Combining Instance-Based and Model-Based Learning. In Proceedings on the Tenth International Conference of Machine Learning, 236-243, University of Massachusetts, Amherst. Morgan Kaufmann.\\n\""
      ]
     },
     "execution_count": 57,
     "metadata": {},
     "output_type": "execute_result"
    }
   ],
   "source": [
    "dataset['DESCR']"
   ]
  },
  {
   "cell_type": "code",
   "execution_count": 54,
   "metadata": {
    "pycharm": {
     "is_executing": false
    }
   },
   "outputs": [],
   "source": [
    "X_rm = x[:,5]"
   ]
  },
  {
   "cell_type": "code",
   "execution_count": 37,
   "metadata": {},
   "outputs": [
    {
     "data": {
      "text/plain": [
       "<matplotlib.collections.PathCollection at 0x1a21097470>"
      ]
     },
     "execution_count": 37,
     "metadata": {},
     "output_type": "execute_result"
    },
    {
     "name": "stderr",
     "output_type": "stream",
     "text": [
      "findfont: Font family ['sans-serif'] not found. Falling back to DejaVu Sans.\n"
     ]
    },
    {
     "data": {
      "image/png": "[encoded data removed]",
      "text/plain": [
       "<Figure size 432x288 with 1 Axes>"
      ]
     },
     "metadata": {
      "needs_background": "light"
     },
     "output_type": "display_data"
    }
   ],
   "source": [
    "# plot the RM with respect to y\n",
    "plt.scatter(X_rm,y)"
   ]
  },
  {
   "cell_type": "markdown",
   "metadata": {},
   "source": [
    "### Gradient descent"
   ]
  },
  {
   "cell_type": "markdown",
   "metadata": {},
   "source": [
    "### Assume that the target funciton is a linear function\n",
    "$$ y = k*rm + b$$"
   ]
  },
  {
   "cell_type": "code",
   "execution_count": 59,
   "metadata": {
    "pycharm": {
     "is_executing": false
    }
   },
   "outputs": [],
   "source": [
    "#define target function\n",
    "def price(rm, k, b):\n",
    "    return k * rm + b"
   ]
  },
  {
   "cell_type": "markdown",
   "metadata": {},
   "source": [
    "### Define mean square loss"
   ]
  },
  {
   "cell_type": "markdown",
   "metadata": {},
   "source": [
    "$$ loss = \\frac{1}{n} \\sum{(y_i - \\hat{y_i})}^2$$"
   ]
  },
  {
   "cell_type": "markdown",
   "metadata": {},
   "source": [
    "$$ loss = \\frac{1}{n} \\sum{(y_i - (kx_i + b_i))}^2 $$"
   ]
  },
  {
   "cell_type": "code",
   "execution_count": 62,
   "metadata": {
    "pycharm": {
     "is_executing": false
    }
   },
   "outputs": [],
   "source": [
    "# define loss function \n",
    "def loss(y,y_hat):\n",
    "    return sum((y_i - y_hat_i)**2 for y_i, y_hat_i in zip(list(y),list(y_hat))) \\\n",
    "           / len(list(y))"
   ]
  },
  {
   "cell_type": "markdown",
   "metadata": {},
   "source": [
    "### Define partial derivatives"
   ]
  },
  {
   "cell_type": "markdown",
   "metadata": {},
   "source": [
    "$$ \\frac{\\partial{loss}}{\\partial{k}} = -\\frac{2}{n}\\sum(y_i - \\hat{y_i})x_i$$\n"
   ]
  },
  {
   "cell_type": "markdown",
   "metadata": {},
   "source": [
    "$$ \\frac{\\partial{loss}}{\\partial{b}} = -\\frac{2}{n}\\sum(y_i - \\hat{y_i})$$"
   ]
  },
  {
   "cell_type": "code",
   "execution_count": 63,
   "metadata": {
    "pycharm": {
     "is_executing": false
    }
   },
   "outputs": [],
   "source": [
    "# define partial derivative \n",
    "def partial_derivative_k(x, y, y_hat): \n",
    "    n = len(y)\n",
    "    gradient = 0\n",
    "    for x_i, y_i, y_hat_i in zip(list(x),list(y),list(y_hat)):\n",
    "        gradient += (y_i-y_hat_i) * x_i\n",
    "    return -2/n * gradient\n",
    "\n",
    "def partial_derivative_b(y, y_hat):\n",
    "    n = len(y)\n",
    "    gradient = 0\n",
    "    for y_i, y_hat_i in zip(list(y),list(y_hat)):\n",
    "        gradient += (y_i-y_hat_i)\n",
    "    return -2 / n * gradient"
   ]
  },
  {
   "cell_type": "code",
   "execution_count": 64,
   "metadata": {
    "pycharm": {
     "is_executing": false
    }
   },
   "outputs": [
    {
     "name": "stdout",
     "output_type": "stream",
     "text": [
      "Iteration 0, the loss is 84043.62326991824, parameters k is 59.63104301096408 and b is -64.57725498658542\n",
      "Iteration 1, the loss is 70842.07892229679, parameters k is 55.96571164539997 and b is -65.15255347088474\n",
      "Iteration 2, the loss is 59715.72015021129, parameters k is 52.60075961259022 and b is -65.68063082313334\n",
      "Iteration 3, the loss is 50338.34303970471, parameters k is 49.51156944415365 and b is -66.16535703416307\n",
      "Iteration 4, the loss is 42435.02053356825, parameters k is 46.67554118653181 and b is -66.61028493124749\n",
      "Iteration 5, the loss is 35774.04208649123, parameters k is 44.071927056364686 and b is -67.01867617111503\n",
      "Iteration 6, the loss is 30160.120347154847, parameters k is 41.681679646619315 and b is -67.39352510271516\n",
      "Iteration 7, the loss is 25428.665699950605, parameters k is 39.4873125729247 and b is -67.73758067432095\n",
      "Iteration 8, the loss is 21440.96080664236, parameters k is 37.472772540580884 and b is -68.0533665452439\n",
      "Iteration 9, the loss is 18080.09367459794, parameters k is 35.62332189626536 and b is -68.34319954930109\n",
      "Iteration 10, the loss is 15247.530016791678, parameters k is 33.92543080516764 and b is -68.6092066451162\n",
      "Iteration 11, the loss is 12860.22441161122, parameters k is 32.36667826470389 and b is -68.8533404772655\n",
      "Iteration 12, the loss is 10848.18556710192, parameters k is 30.935661230613086 and b is -69.07739366211617\n",
      "Iteration 13, the loss is 9152.424307769445, parameters k is 29.621911190587877 and b is -69.28301190287446\n",
      "Iteration 14, the loss is 7723.224122769156, parameters k is 28.415817575080286 and b is -69.47170602979539\n",
      "Iteration 15, the loss is 6518.683571203515, parameters k is 27.308557444944352 and b is -69.6448630536417\n",
      "Iteration 16, the loss is 5503.487810589426, parameters k is 26.29203094150003 and b is -69.80375631326113\n",
      "Iteration 17, the loss is 4647.873232017701, parameters k is 25.35880202676142 and b is -69.94955479152293\n",
      "Iteration 18, the loss is 3926.7548470525603, parameters k is 24.50204408027599 and b is -70.08333166777052\n",
      "Iteration 19, the loss is 3318.9908429943653, parameters k is 23.715489954553195 and b is -70.20607216936138\n",
      "Iteration 20, the loss is 2806.762744647487, parameters k is 22.99338612368057 and b is -70.318680779737\n",
      "Iteration 21, the loss is 2375.053010100593, parameters k is 22.330450589671724 and b is -70.42198785575837\n",
      "Iteration 22, the loss is 2011.204744609216, parameters k is 21.721834238582854 and b is -70.51675570272046\n",
      "Iteration 23, the loss is 1704.5506242185813, parameters k is 21.163085363673332 and b is -70.60368415149111\n",
      "Iteration 24, the loss is 1446.1001498644432, parameters k is 20.650117096056533 and b is -70.68341567857792\n",
      "Iteration 25, the loss is 1228.2760628297567, parameters k is 20.179177504558744 and b is -70.75654010658198\n",
      "Iteration 26, the loss is 1044.6921937533975, parameters k is 19.746822146032212 and b is -70.82359891942785\n",
      "Iteration 27, the loss is 889.966232141326, parameters k is 19.34988886529636 and b is -70.88508922394053\n",
      "Iteration 28, the loss is 759.5619271338842, parameters k is 18.985474660339804 and b is -70.94146738675298\n",
      "Iteration 29, the loss is 649.6560931522154, parameters k is 18.65091444352551 and b is -70.99315237315238\n",
      "Iteration 30, the loss is 557.0265212791861, parameters k is 18.343761543412963 and b is -71.04052881229254\n",
      "Iteration 31, the loss is 478.9575101470408, parameters k is 18.061769804545694 and b is -71.08394981119795\n",
      "Iteration 32, the loss is 413.16024667491286, parameters k is 17.802877154243628 and b is -71.12373953814749\n",
      "Iteration 33, the loss is 357.70570236896555, parameters k is 17.565190516172414 and b is -71.1601955943377\n",
      "Iteration 34, the loss is 310.96807783075354, parameters k is 17.346971960315184 and b is -71.19359119117745\n",
      "Iteration 35, the loss is 271.5771373730221, parameters k is 17.146625988017842 and b is -71.22417714914332\n",
      "Iteration 36, the loss is 238.3780362834235, parameters k is 16.96268785908343 and b is -71.25218373281952\n",
      "Iteration 37, the loss is 210.3974629470031, parameters k is 16.79381287551482 and b is -71.27782233554788\n",
      "Iteration 38, the loss is 186.81510317807025, parameters k is 16.638766543504 and b is -71.30128702601299\n",
      "Iteration 39, the loss is 166.93959014928262, parameters k is 16.496415541691626 and b is -71.32275596807759\n",
      "Iteration 40, the loss is 150.18823481504631, parameters k is 16.36571942961925 and b is -71.34239272425593\n",
      "Iteration 41, the loss is 136.06994256331376, parameters k is 16.245723035712075 and b is -71.36034745236147\n",
      "Iteration 42, the loss is 124.1708152441099, parameters k is 16.135549469101516 and b is -71.37675800408378\n",
      "Iteration 43, the loss is 114.14201645330841, parameters k is 16.034393704161094 and b is -71.39175093353205\n",
      "Iteration 44, the loss is 105.68954430457181, parameters k is 15.941516690819114 and b is -71.40544242312379\n",
      "Iteration 45, the loss is 98.5656118463458, parameters k is 15.856239947558342 and b is -71.41793913359264\n",
      "Iteration 46, the loss is 92.56138241392128, parameters k is 15.777940597544221 and b is -71.42933898433428\n",
      "Iteration 47, the loss is 87.5008469307386, parameters k is 15.706046811565246 and b is -71.43973186979923\n",
      "Iteration 48, the loss is 83.23566365290628, parameters k is 15.640033624445326 and b is -71.44920031717405\n",
      "Iteration 49, the loss is 79.64080906793822, parameters k is 15.579419094320421 and b is -71.45782009016253\n",
      "Iteration 50, the loss is 76.61091244023335, parameters k is 15.523760776680124 and b is -71.46566074328425\n",
      "Iteration 51, the loss is 74.05716653905247, parameters k is 15.472652487377767 and b is -71.47278613074575\n",
      "Iteration 52, the loss is 71.90472397734241, parameters k is 15.425721330926741 and b is -71.47925487360747\n",
      "Iteration 53, the loss is 70.0905028269537, parameters k is 15.382624972341615 and b is -71.48512078866413\n",
      "Iteration 54, the loss is 68.5613371750103, parameters k is 15.34304913256442 and b is -71.49043328217641\n",
      "Iteration 55, the loss is 67.27241839921916, parameters k is 15.306705289152287 and b is -71.49523771133452\n",
      "Iteration 56, the loss is 66.18598146324095, parameters k is 15.273328565404302 and b is -71.49957571609816\n",
      "Iteration 57, the loss is 65.2701977167683, parameters k is 15.242675792484144 and b is -71.50348552384067\n",
      "Iteration 58, the loss is 64.4982417392906, parameters k is 15.214523730360675 and b is -71.50700222902617\n",
      "Iteration 59, the loss is 63.84750486915835, parameters k is 15.188667434550647 and b is -71.51015804996591\n",
      "Iteration 60, the loss is 63.29893236009511, parameters k is 15.164918756714355 and b is -71.51298256453221\n",
      "Iteration 61, the loss is 62.83646473183213, parameters k is 15.143104968134383 and b is -71.5155029265546\n",
      "Iteration 62, the loss is 62.44656693631591, parameters k is 15.123067496006588 and b is -71.5177440644813\n",
      "Iteration 63, the loss is 62.117831535525596, parameters k is 15.10466076329787 and b is -71.51972886375941\n",
      "Iteration 64, the loss is 61.84064425681988, parameters k is 15.087751123682928 and b is -71.52147833426828\n",
      "Iteration 65, the loss is 61.60690212052403, parameters k is 15.072215883767848 and b is -71.52301176403093\n",
      "Iteration 66, the loss is 61.4097758757881, parameters k is 15.05794240544697 and b is -71.52434686032808\n",
      "Iteration 67, the loss is 61.24350977978095, parameters k is 15.044827281825748 and b is -71.52549987924728\n",
      "Iteration 68, the loss is 61.103252850123106, parameters k is 15.032775580680509 and b is -71.52648574461482\n",
      "Iteration 69, the loss is 60.98491664319651, parameters k is 15.021700149920179 and b is -71.52731815718074\n",
      "Iteration 70, the loss is 60.88505538865771, parameters k is 15.011520979968614 and b is -71.52800969485551\n",
      "Iteration 71, the loss is 60.8007649659249, parameters k is 15.002164618402631 and b is -71.5285719047319\n",
      "Iteration 72, the loss is 60.72959776081784, parameters k is 14.993563632563143 and b is -71.52901538756527\n",
      "Iteration 73, the loss is 60.66949090610814, parameters k is 14.985656116207796 and b is -71.52934987533023\n",
      "Iteration 74, the loss is 60.618705802127685, parameters k is 14.978385236595678 and b is -71.52958430242124\n",
      "Iteration 75, the loss is 60.57577714429203, parameters k is 14.971698818690529 and b is -71.529726871018\n",
      "Iteration 76, the loss is 60.53946996312305, parameters k is 14.965548963440417 and b is -71.52978511109377\n",
      "Iteration 77, the loss is 60.508743417263666, parameters k is 14.959891697341137 and b is -71.52976593550584\n",
      "Iteration 78, the loss is 60.48272027796492, parameters k is 14.954686650719509 and b is -71.52967569057094\n",
      "Iteration 79, the loss is 60.46066121038655, parameters k is 14.949896762382847 and b is -71.52952020249595\n",
      "Iteration 80, the loss is 60.44194309768881, parameters k is 14.945488008473754 and b is -71.52930482000319\n",
      "Iteration 81, the loss is 60.42604077241707, parameters k is 14.941429153546514 and b is -71.52903445346257\n",
      "Iteration 82, the loss is 60.41251161957896, parameters k is 14.937691522043925 and b is -71.52871361081654\n",
      "Iteration 83, the loss is 60.40098260000393, parameters k is 14.93424878850266 and b is -71.52834643056086\n",
      "Iteration 84, the loss is 60.39113931353611, parameters k is 14.931076784952252 and b is -71.5279367120225\n",
      "Iteration 85, the loss is 60.38271678141185, parameters k is 14.928153324098624 and b is -71.52748794315603\n",
      "Iteration 86, the loss is 60.375491677580655, parameters k is 14.92545803699855 and b is -71.52700332606207\n",
      "Iteration 87, the loss is 60.36927578120481, parameters k is 14.922972224037435 and b is -71.52648580041432\n",
      "Iteration 88, the loss is 60.36391045837801, parameters k is 14.920678718120143 and b is -71.52593806496664\n",
      "Iteration 89, the loss is 60.35926201127717, parameters k is 14.918561759073983 and b is -71.52536259729753\n",
      "Iteration 90, the loss is 60.35521775839384, parameters k is 14.916606878344936 and b is -71.52476167193653\n",
      "Iteration 91, the loss is 60.35168273092386, parameters k is 14.914800793143566 and b is -71.52413737700495\n",
      "Iteration 92, the loss is 60.34857688846039, parameters k is 14.913131309266149 and b is -71.5234916294929\n",
      "Iteration 93, the loss is 60.3458327723598, parameters k is 14.911587231880064 and b is -71.5228261892843\n",
      "Iteration 94, the loss is 60.343393527980965, parameters k is 14.91015828362074 and b is -71.52214267203244\n",
      "Iteration 95, the loss is 60.341211237813845, parameters k is 14.908835029400919 and b is -71.52144256098036\n",
      "Iteration 96, the loss is 60.33924551662858, parameters k is 14.907608807382157 and b is -71.52072721781244\n",
      "Iteration 97, the loss is 60.337462327456045, parameters k is 14.90647166560353 and b is -71.51999789261671\n",
      "Iteration 98, the loss is 60.335832983688164, parameters k is 14.905416303803893 and b is -71.51925573303073\n",
      "Iteration 99, the loss is 60.33433330804046, parameters k is 14.904436020012097 and b is -71.5185017926378\n",
      "Iteration 100, the loss is 60.33294292371941, parameters k is 14.90352466151436 and b is -71.51773703867522\n",
      "Iteration 101, the loss is 60.33164465701341, parameters k is 14.902676579840106 and b is -71.51696235911065\n",
      "Iteration 102, the loss is 60.33042403379177, parameters k is 14.901886589436906 and b is -71.5161785691387\n",
      "Iteration 103, the loss is 60.329268855150275, parameters k is 14.901149929732211 and b is -71.51538641714498\n",
      "Iteration 104, the loss is 60.3281688397626, parameters k is 14.900462230304298 and b is -71.51458659018142\n",
      "Iteration 105, the loss is 60.32711532245103, parameters k is 14.899819478907604 and b is -71.51377971899285\n",
      "Iteration 106, the loss is 60.32610100013975, parameters k is 14.899217992118553 and b is -71.5129663826316\n",
      "Iteration 107, the loss is 60.32511971774234, parameters k is 14.89865438838707 and b is -71.51214711269395\n",
      "Iteration 108, the loss is 60.324166287706674, parameters k is 14.89812556329667 and b is -71.5113223972094\n",
      "Iteration 109, the loss is 60.32323633792522, parameters k is 14.897628666852073 and b is -71.51049268421112\n",
      "Iteration 110, the loss is 60.32232618355319, parameters k is 14.897161082628225 and b is -71.50965838501386\n",
      "Iteration 111, the loss is 60.32143271897646, parameters k is 14.896720408628138 and b is -71.50881987722322\n",
      "Iteration 112, the loss is 60.32055332675974, parameters k is 14.896304439709525 and b is -71.50797750749821\n",
      "Iteration 113, the loss is 60.319685800909475, parameters k is 14.895911151451648 and b is -71.50713159408751\n",
      "Iteration 114, the loss is 60.31882828219758, parameters k is 14.895538685344363 and b is -71.50628242915782\n",
      "Iteration 115, the loss is 60.317979203652634, parameters k is 14.895185335190975 and b is -71.50543028093138\n",
      "Iteration 116, the loss is 60.317137244619445, parameters k is 14.894849534625456 and b is -71.50457539564833\n",
      "Iteration 117, the loss is 60.31630129203972, parameters k is 14.894529845652672 and b is -71.50371799936829\n",
      "Iteration 118, the loss is 60.315470407819554, parameters k is 14.894224948127803 and b is -71.50285829962418\n",
      "Iteration 119, the loss is 60.314643801326035, parameters k is 14.893933630097969 and b is -71.50199648694063\n",
      "Iteration 120, the loss is 60.31382080620772, parameters k is 14.893654778935394 and b is -71.50113273622782\n",
      "Iteration 121, the loss is 60.31300086085856, parameters k is 14.893387373197266 and b is -71.50026720806123\n",
      "Iteration 122, the loss is 60.31218349195238, parameters k is 14.893130475152702 and b is -71.49940004985638\n",
      "Iteration 123, the loss is 60.3113683005661, parameters k is 14.892883223922178 and b is -71.49853139694737\n",
      "Iteration 124, the loss is 60.31055495048437, parameters k is 14.892644829179199 and b is -71.497661373577\n",
      "Iteration 125, the loss is 60.309743158341746, parameters k is 14.892414565368156 and b is -71.49679009380579\n",
      "Iteration 126, the loss is 60.30893268531572, parameters k is 14.892191766396058 and b is -71.49591766234637\n",
      "Iteration 127, the loss is 60.308123330124666, parameters k is 14.89197582075929 and b is -71.49504417532972\n",
      "Iteration 128, the loss is 60.3073149231265, parameters k is 14.891766167069767 and b is -71.49416972100835\n",
      "Iteration 129, the loss is 60.306507321345364, parameters k is 14.891562289947734 and b is -71.49329438040205\n",
      "Iteration 130, the loss is 60.305700404279904, parameters k is 14.891363716251174 and b is -71.49241822789061\n",
      "Iteration 131, the loss is 60.30489407037045, parameters k is 14.891170011614227 and b is -71.49154133175804\n",
      "Iteration 132, the loss is 60.30408823402136, parameters k is 14.89098077726931 and b is -71.4906637546921\n",
      "Iteration 133, the loss is 60.303282823091756, parameters k is 14.890795647129666 and b is -71.48978555424293\n",
      "Iteration 134, the loss is 60.30247777678053, parameters k is 14.890614285111035 and b is -71.48890678324418\n",
      "Iteration 135, the loss is 60.30167304384372, parameters k is 14.890436382672794 and b is -71.48802749019947\n",
      "Iteration 136, the loss is 60.30086858109223, parameters k is 14.890261656560643 and b is -71.48714771963729\n",
      "Iteration 137, the loss is 60.300064352125716, parameters k is 14.890089846734265 and b is -71.48626751243677\n",
      "Iteration 138, the loss is 60.299260326265355, parameters k is 14.889920714464838 and b is -71.48538690612676\n",
      "Iteration 139, the loss is 60.29845647765467, parameters k is 14.88975404058846 and b is -71.48450593516043\n",
      "Iteration 140, the loss is 60.29765278450112, parameters k is 14.889589623902713 and b is -71.48362463116727\n",
      "Iteration 141, the loss is 60.296849228437665, parameters k is 14.889427279694637 and b is -71.48274302318458\n",
      "Iteration 142, the loss is 60.29604579398405, parameters k is 14.889266838389338 and b is -71.48186113786987\n",
      "Iteration 143, the loss is 60.295242468093086, parameters k is 14.889108144309363 and b is -71.4809789996959\n",
      "Iteration 144, the loss is 60.29443923976842, parameters k is 14.888951054535736 and b is -71.48009663112974\n",
      "Iteration 145, the loss is 60.2936360997417, parameters k is 14.88879543786234 and b is -71.47921405279712\n",
      "Iteration 146, the loss is 60.29283304020135, parameters k is 14.888641173835998 and b is -71.47833128363338\n",
      "Iteration 147, the loss is 60.29203005456329, parameters k is 14.888488151875217 and b is -71.47744834102195\n",
      "Iteration 148, the loss is 60.29122713727823, parameters k is 14.888336270461162 and b is -71.4765652409216\n",
      "Iteration 149, the loss is 60.290424283668905, parameters k is 14.888185436394924 and b is -71.47568199798313\n",
      "Iteration 150, the loss is 60.28962148979297, parameters k is 14.88803556411567 and b is -71.47479862565662\n",
      "Iteration 151, the loss is 60.28881875232749, parameters k is 14.887886575074663 and b is -71.4739151362898\n",
      "Iteration 152, the loss is 60.28801606847137, parameters k is 14.88773839716059 and b is -71.47303154121842\n",
      "Iteration 153, the loss is 60.28721343586399, parameters k is 14.887590964171984 and b is -71.47214785084914\n",
      "Iteration 154, the loss is 60.28641085251512, parameters k is 14.88744421533289 and b is -71.47126407473574\n",
      "Iteration 155, the loss is 60.28560831674734, parameters k is 14.88729809484821 and b is -71.47038022164898\n",
      "Iteration 156, the loss is 60.28480582714634, parameters k is 14.887152551495513 and b is -71.46949629964074\n",
      "Iteration 157, the loss is 60.28400338252004, parameters k is 14.887007538250264 and b is -71.46861231610299\n",
      "Iteration 158, the loss is 60.28320098186344, parameters k is 14.88686301194181 and b is -71.46772827782186\n",
      "Iteration 159, the loss is 60.28239862432917, parameters k is 14.886718932937516 and b is -71.46684419102729\n",
      "Iteration 160, the loss is 60.281596309202854, parameters k is 14.886575264852821 and b is -71.46596006143858\n",
      "Iteration 161, the loss is 60.28079403588202, parameters k is 14.886431974285042 and b is -71.46507589430627\n",
      "Iteration 162, the loss is 60.27999180385861, parameters k is 14.886289030568989 and b is -71.46419169445056\n",
      "Iteration 163, the loss is 60.279189612704215, parameters k is 14.88614640555262 and b is -71.46330746629658\n",
      "Iteration 164, the loss is 60.27838746205741, parameters k is 14.886004073391076 and b is -71.46242321390675\n",
      "Iteration 165, the loss is 60.27758535161346, parameters k is 14.885862010357597 and b is -71.4615389410105\n",
      "Iteration 166, the loss is 60.276783281114824, parameters k is 14.885720194669934 and b is -71.46065465103159\n",
      "Iteration 167, the loss is 60.27598125034467, parameters k is 14.885578606330986 and b is -71.45977034711315\n",
      "Iteration 168, the loss is 60.27517925911959, parameters k is 14.8854372269825 and b is -71.45888603214065\n",
      "Iteration 169, the loss is 60.27437730728496, parameters k is 14.88529603977076 and b is -71.45800170876308\n",
      "Iteration 170, the loss is 60.27357539470989, parameters k is 14.88515502922328 and b is -71.45711737941224\n",
      "Iteration 171, the loss is 60.27277352128417, parameters k is 14.885014181135617 and b is -71.45623304632063\n",
      "Iteration 172, the loss is 60.27197168691412, parameters k is 14.88487348246743 and b is -71.45534871153774\n",
      "Iteration 173, the loss is 60.27116989152089, parameters k is 14.884732921247096 and b is -71.45446437694503\n",
      "Iteration 174, the loss is 60.27036813503764, parameters k is 14.884592486484111 and b is -71.45358004426974\n",
      "Iteration 175, the loss is 60.26956641740776, parameters k is 14.88445216808869 and b is -71.45269571509753\n",
      "Iteration 176, the loss is 60.26876473858299, parameters k is 14.884311956797939 and b is -71.45181139088405\n",
      "Iteration 177, the loss is 60.267963098522735, parameters k is 14.884171844108103 and b is -71.45092707296558\n",
      "Iteration 178, the loss is 60.26716149719235, parameters k is 14.884031822212336 and b is -71.4500427625689\n",
      "Iteration 179, the loss is 60.26635993456219, parameters k is 14.883891883943594 and b is -71.44915846082017\n",
      "Iteration 180, the loss is 60.265558410607184, parameters k is 14.883752022722199 and b is -71.44827416875323\n",
      "Iteration 181, the loss is 60.26475692530585, parameters k is 14.883612232507701 and b is -71.44738988731713\n",
      "Iteration 182, the loss is 60.263955478639836, parameters k is 14.883472507754687 and b is -71.44650561738312\n",
      "Iteration 183, the loss is 60.2631540705932, parameters k is 14.883332843372209 and b is -71.44562135975102\n",
      "Iteration 184, the loss is 60.262352701152466, parameters k is 14.883193234686539 and b is -71.44473711515501\n",
      "Iteration 185, the loss is 60.26155137030579, parameters k is 14.883053677406975 and b is -71.4438528842691\n",
      "Iteration 186, the loss is 60.260750078042946, parameters k is 14.882914167594453 and b is -71.44296866771201\n",
      "Iteration 187, the loss is 60.25994882435508, parameters k is 14.882774701632725 and b is -71.4420844660517\n",
      "Iteration 188, the loss is 60.25914760923443, parameters k is 14.882635276201905 and b is -71.44120027980955\n",
      "Iteration 189, the loss is 60.2583464326741, parameters k is 14.882495888254182 and b is -71.44031610946418\n",
      "Iteration 190, the loss is 60.257545294668084, parameters k is 14.882356534991517 and b is -71.43943195545492\n",
      "Iteration 191, the loss is 60.25674419521092, parameters k is 14.882217213845182 and b is -71.43854781818507\n",
      "Iteration 192, the loss is 60.25594313429774, parameters k is 14.882077922456958 and b is -71.43766369802482\n",
      "Iteration 193, the loss is 60.255142111924215, parameters k is 14.881938658661884 and b is -71.436779595314\n",
      "Iteration 194, the loss is 60.25434112808639, parameters k is 14.881799420472426 and b is -71.43589551036452\n",
      "Iteration 195, the loss is 60.25354018278054, parameters k is 14.881660206063927 and b is -71.43501144346271\n",
      "Iteration 196, the loss is 60.252739276003396, parameters k is 14.881521013761265 and b is -71.4341273948714\n",
      "Iteration 197, the loss is 60.25193840775178, parameters k is 14.881381842026595 and b is -71.4332433648318\n",
      "Iteration 198, the loss is 60.25113757802271, parameters k is 14.881242689448099 and b is -71.43235935356533\n",
      "Iteration 199, the loss is 60.250336786813556, parameters k is 14.881103554729654 and b is -71.43147536127525\n"
     ]
    }
   ],
   "source": [
    "#initialized parameters\n",
    "\n",
    "k = random.random() * 200 - 100  # -100 100\n",
    "b = random.random() * 200 - 100  # -100 100\n",
    "\n",
    "learning_rate = 1e-3\n",
    "\n",
    "iteration_num = 200 \n",
    "losses = []\n",
    "for i in range(iteration_num):\n",
    "    \n",
    "    price_use_current_parameters = [price(r, k, b) for r in X_rm]  # \\hat{y}\n",
    "    \n",
    "    current_loss = loss(y, price_use_current_parameters)\n",
    "    losses.append(current_loss)\n",
    "    print(\"Iteration {}, the loss is {}, parameters k is {} and b is {}\".format(i,current_loss,k,b))\n",
    "    \n",
    "    k_gradient = partial_derivative_k(X_rm, y, price_use_current_parameters)\n",
    "    b_gradient = partial_derivative_b(y, price_use_current_parameters)\n",
    "    \n",
    "    k = k + (-1 * k_gradient) * learning_rate\n",
    "    b = b + (-1 * b_gradient) * learning_rate\n",
    "best_k = k\n",
    "best_b = b"
   ]
  },
  {
   "cell_type": "code",
   "execution_count": 65,
   "metadata": {
    "pycharm": {
     "is_executing": false
    }
   },
   "outputs": [
    {
     "data": {
      "text/plain": [
       "[<matplotlib.lines.Line2D at 0x18d4db8cdc8>]"
      ]
     },
     "execution_count": 65,
     "metadata": {},
     "output_type": "execute_result"
    },
    {
     "data": {
      "image/png": "[encoded data removed]",
      "text/plain": [
       "<Figure size 432x288 with 1 Axes>"
      ]
     },
     "metadata": {
      "needs_background": "light"
     },
     "output_type": "display_data"
    }
   ],
   "source": [
    "plt.plot(list(range(iteration_num)),losses)"
   ]
  },
  {
   "cell_type": "code",
   "execution_count": 66,
   "metadata": {
    "pycharm": {
     "is_executing": false
    }
   },
   "outputs": [
    {
     "data": {
      "text/plain": [
       "<matplotlib.collections.PathCollection at 0x18d4dc3dd08>"
      ]
     },
     "execution_count": 66,
     "metadata": {},
     "output_type": "execute_result"
    },
    {
     "data": {
      "image/png": "[encoded data removed]",
      "text/plain": [
       "<Figure size 432x288 with 1 Axes>"
      ]
     },
     "metadata": {
      "needs_background": "light"
     },
     "output_type": "display_data"
    }
   ],
   "source": [
    "price_use_best_parameters = [price(r, best_k, best_b) for r in X_rm]\n",
    "\n",
    "plt.scatter(X_rm,y)\n",
    "plt.scatter(X_rm,price_use_current_parameters)"
   ]
  },
  {
   "cell_type": "code",
   "execution_count": null,
   "metadata": {},
   "outputs": [],
   "source": []
  },
  {
   "cell_type": "code",
   "execution_count": null,
   "metadata": {},
   "outputs": [],
   "source": []
  }
 ],
 "metadata": {
  "kernelspec": {
   "display_name": "Python 3",
   "language": "python",
   "name": "python3"
  },
  "language_info": {
   "codemirror_mode": {
    "name": "ipython",
    "version": 3
   },
   "file_extension": ".py",
   "mimetype": "text/x-python",
   "name": "python",
   "nbconvert_exporter": "python",
   "pygments_lexer": "ipython3",
   "version": "3.7.4"
  },
  "pycharm": {
   "stem_cell": {
    "cell_type": "raw",
    "metadata": {
     "collapsed": false
    },
    "source": []
   }
  }
 },
 "nbformat": 4,
 "nbformat_minor": 2
}
