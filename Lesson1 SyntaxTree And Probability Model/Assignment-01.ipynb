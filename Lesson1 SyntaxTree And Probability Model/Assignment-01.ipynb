{
 "cells": [
  {
   "cell_type": "markdown",
   "metadata": {},
   "source": [
    "## Lesson-01 Assignment"
   ]
  },
  {
   "cell_type": "markdown",
   "metadata": {},
   "source": [
    "#### 今天是2020年1月05日，今天世界上又多了一名AI工程师 :) "
   ]
  },
  {
   "cell_type": "markdown",
   "metadata": {},
   "source": [
    "`各位同学大家好，欢迎各位开始学习我们的人工智能课程。这门课程假设大家不具备机器学习和人工智能的知识，但是希望大家具备初级的Python编程能力。根据往期同学的实际反馈，我们课程的完结之后 能力能够超过80%的计算机人工智能/深度学习方向的硕士生的能力。`"
   ]
  },
  {
   "cell_type": "markdown",
   "metadata": {},
   "source": [
    "## 本次作业的内容"
   ]
  },
  {
   "cell_type": "markdown",
   "metadata": {},
   "source": [
    "#### 1. 复现课堂代码\n",
    "\n",
    "在本部分，你需要参照我们给大家的GitHub地址里边的课堂代码，结合课堂内容，复现内容。"
   ]
  },
  {
   "cell_type": "markdown",
   "metadata": {},
   "source": [
    "#### 2. 作业截止时间\n",
    "此次作业截止时间为 2020.01.12日"
   ]
  },
  {
   "cell_type": "markdown",
   "metadata": {},
   "source": [
    "#### 3. 完成以下问答和编程练习"
   ]
  },
  {
   "cell_type": "markdown",
   "metadata": {},
   "source": [
    ">"
   ]
  },
  {
   "cell_type": "markdown",
   "metadata": {},
   "source": [
    "## 基础理论部分"
   ]
  },
  {
   "cell_type": "markdown",
   "metadata": {},
   "source": [
    "> **评阅点**：每道题是否回答完整"
   ]
  },
  {
   "cell_type": "markdown",
   "metadata": {},
   "source": [
    "#### 0. Can you come up out 3 sceneraies which use AI methods? "
   ]
  },
  {
   "cell_type": "markdown",
   "metadata": {},
   "source": [
    "Ans: 大疆无人机/小爱语音聊天音响/特斯拉自动驾驶系统"
   ]
  },
  {
   "cell_type": "markdown",
   "metadata": {},
   "source": [
    "#### 1. How do we use Github; Why do we use Jupyter and Pycharm;"
   ]
  },
  {
   "cell_type": "markdown",
   "metadata": {},
   "source": [
    "Ans: 1.使用github分两类：一类是别人共享的代码库，使用git工具clone下来即可使用，非常方便。也可以下载压缩包。\n",
    "另一类是自己要共享代码，利用github提供的工具github desktop可以很方便地上传自己建立的git库。\n",
    "2. 使用 Jupyter 或者 Pycharm 来写python 代码，可以提高python的代码编写速度，提高效率。具体一点说，Jupyter\n",
    "能够代码和注释分开写，注释中分方便插入数学公式，目前未发现其他工具具有此功能。 Pycharm 是另一款提高python书写\n",
    "速度的App，能够自动补全变量/方法名，错误提示等，在Pycharm中使用Jupyter，可以断点调试Jupyter代码，非常方便。"
   ]
  },
  {
   "cell_type": "markdown",
   "metadata": {},
   "source": [
    "#### 2. What's the Probability Model?"
   ]
  },
  {
   "cell_type": "markdown",
   "metadata": {},
   "source": [
    "Ans: 利用概率统计来解决问题的模型方法，比如一定程度上解决语言测试语句是否通顺问题的模型。"
   ]
  },
  {
   "cell_type": "markdown",
   "metadata": {},
   "source": [
    "#### 3. Can you came up with some sceneraies at which we could use Probability Model?"
   ]
  },
  {
   "cell_type": "markdown",
   "metadata": {},
   "source": [
    "Ans: 比如：需要判断多个结构相同的语句，哪个更符合人类习惯；居于模式的聊天机器人；机器翻译"
   ]
  },
  {
   "cell_type": "markdown",
   "metadata": {},
   "source": [
    "#### 4. Why do we use probability and what's the difficult points for programming based on parsing and pattern match?"
   ]
  },
  {
   "cell_type": "markdown",
   "metadata": {},
   "source": [
    "Ans: 1. 居于模式匹配的情况下，与人类对话的情况比较简单，在某特定领域下比较容易建立概率模型，词的概率容易计算。\n",
    "     2. 难点在于居于模式匹配的方式在处理人类对话时太过依赖于模式的定义了。人类语言千变万化，要写出千变万化的模式显然工作量极大。\n",
    "     人类语言千变万化，体现在语言是人类逻辑思维的体现，词与词之间存在无数种可能，同样的意思，表达方式可能存在很多种。还有有时同\n",
    "     样一句话，在不同的上下文中，意思完全不一样。\n",
    "     "
   ]
  },
  {
   "cell_type": "markdown",
   "metadata": {},
   "source": [
    "#### 5. What's the Language Model;"
   ]
  },
  {
   "cell_type": "markdown",
   "metadata": {},
   "source": [
    "Ans: 解决人机接口的各种语言运用问题的模型。"
   ]
  },
  {
   "cell_type": "markdown",
   "metadata": {},
   "source": [
    "#### 6. Can you came up with some sceneraies at which we could use Language Model?\n"
   ]
  },
  {
   "cell_type": "markdown",
   "metadata": {},
   "source": [
    "Ans: 对话机器人/翻译"
   ]
  },
  {
   "cell_type": "markdown",
   "metadata": {},
   "source": [
    "#### 7. What's the 1-gram language model;"
   ]
  },
  {
   "cell_type": "markdown",
   "metadata": {},
   "source": [
    "Ans: 只统计单个词出现概率的统计语言模型"
   ]
  },
  {
   "cell_type": "markdown",
   "metadata": {},
   "source": [
    "#### 8. What's the disadvantages and advantages of 1-gram language model;"
   ]
  },
  {
   "cell_type": "markdown",
   "metadata": {},
   "source": [
    "Ans: 缺点：只统计单个词出现的概率，对语言的处理效果很差\n",
    "     优点：计算简单，很容易计算"
   ]
  },
  {
   "cell_type": "markdown",
   "metadata": {},
   "source": [
    "#### 9. What't the 2-gram models;"
   ]
  },
  {
   "cell_type": "markdown",
   "metadata": {},
   "source": [
    "Ans: 基于两个词连续出现的概率的语言统计模型"
   ]
  },
  {
   "cell_type": "markdown",
   "metadata": {},
   "source": [
    "## 编程实践部分"
   ]
  },
  {
   "cell_type": "markdown",
   "metadata": {},
   "source": [
    "#### 1. 设计你自己的句子生成器"
   ]
  },
  {
   "cell_type": "markdown",
   "metadata": {},
   "source": [
    "如何生成句子是一个很经典的问题，从1940s开始，图灵提出机器智能的时候，就使用的是人类能不能流畅和计算机进行对话。和计算机对话的一个前提是，计算机能够生成语言。\n",
    "\n",
    "计算机如何能生成语言是一个经典但是又很复杂的问题。 我们课程上为大家介绍的是一种基于规则（Rule Based）的生成方法。该方法虽然提出的时间早，但是现在依然在很多地方能够大显身手。值得说明的是，现在很多很实用的算法，都是很久之前提出的，例如，二分查找提出与1940s, Dijstra算法提出于1960s 等等。"
   ]
  },
  {
   "cell_type": "markdown",
   "metadata": {},
   "source": [
    "在著名的电视剧，电影《西部世界》中，这些机器人们语言生成的方法就是使用的SyntaxTree生成语言的方法。\n",
    "\n",
    "> \n",
    ">\n",
    "\n",
    "![WstWorld](https://timgsa.baidu.com/timg?image&quality=80&size=b9999_10000&sec=1569578233461&di=4adfa7597fb380e7cc0e67190bbd7605&imgtype=0&src=http%3A%2F%2Fs1.sinaimg.cn%2Flarge%2F006eYYfyzy76cmpG3Yb1f)\n",
    "\n",
    "> \n",
    ">"
   ]
  },
  {
   "cell_type": "markdown",
   "metadata": {},
   "source": [
    "在这一部分，需要各位同学首先定义自己的语言。 大家可以先想一个应用场景，然后在这个场景下，定义语法。例如：\n",
    "\n",
    "在西部世界里，一个”人类“的语言可以定义为：\n",
    "``` \n",
    "human = \"\"\"\n",
    "human = 自己 寻找 活动\n",
    "自己 = 我 | 俺 | 我们 \n",
    "寻找 = 看看 | 找找 | 想找点\n",
    "活动 = 乐子 | 玩的\n",
    "\"\"\"\n",
    "```\n",
    "\n",
    "一个“接待员”的语言可以定义为\n",
    "```\n",
    "host = \"\"\"\n",
    "host = 寒暄 报数 询问 业务相关 结尾 \n",
    "报数 = 我是 数字 号 ,\n",
    "数字 = 单个数字 | 数字 单个数字 \n",
    "单个数字 = 1 | 2 | 3 | 4 | 5 | 6 | 7 | 8 | 9 \n",
    "寒暄 = 称谓 打招呼 | 打招呼\n",
    "称谓 = 人称 ,\n",
    "人称 = 先生 | 女士 | 小朋友\n",
    "打招呼 = 你好 | 您好 \n",
    "询问 = 请问你要 | 您需要\n",
    "业务相关 = 玩玩 具体业务\n",
    "玩玩 = 耍一耍 | 玩一玩\n",
    "具体业务 = 喝酒 | 打牌 | 打猎 | 赌博\n",
    "结尾 = 吗？\"\"\"\n",
    "\n",
    "```\n",
    "\n",
    "\n"
   ]
  },
  {
   "cell_type": "markdown",
   "metadata": {},
   "source": [
    "请定义你自己的语法: "
   ]
  },
  {
   "cell_type": "markdown",
   "metadata": {},
   "source": [
    "第一个语法："
   ]
  },
  {
   "cell_type": "code",
   "execution_count": 2,
   "metadata": {
    "pycharm": {
     "is_executing": false
    }
   },
   "outputs": [],
   "source": [
    "you_need_replace_this_with_name_you_given = '''\n",
    "# you code here\n",
    "'''"
   ]
  },
  {
   "cell_type": "markdown",
   "metadata": {},
   "source": [
    "> **评阅点**： 是否提出了和课程上区别较大的语法结构"
   ]
  },
  {
   "cell_type": "markdown",
   "metadata": {},
   "source": [
    "第二个语法："
   ]
  },
  {
   "cell_type": "code",
   "execution_count": 3,
   "metadata": {
    "pycharm": {
     "is_executing": false
    }
   },
   "outputs": [
    {
     "data": {
      "text/plain": [
       "'\\nmyGammer = 谁要干嘛 大家要干嘛 惊讶 道歉  说明原因\\n谁要干嘛 = 谁 要 干嘛（讲） ，\\n大家要干嘛 = 大家 干嘛（做） ，\\n惊讶 = 哎呀！ | 卧槽！ | 我买噶！ | 天哪！\\n道歉 = 司咪吗斯诶， | I  Am  Sorry！ | 不好意思， | 对不起，\\n说明原因 = 谁 怎么了\\n谁 = 你 | 我 | 他 | 我们 | 他们 | 你们 | 老师\\n干嘛（讲） = 干 几个  什么\\n干 = 讲 | 唱 | 念\\n几个 = 数字 量词\\n数字 = 一 | 二 | 三 | 四 |  \\n什么 = 故事 | 笑话 | 文章 | 歌\\n量词 = 个 | 首 | 篇\\n干嘛（做） = 注意听 | 举手 | 别打电话 | 别吃零食\\n怎么了 = 放了一个P | 时间不够了 | 要上班去了\\n'"
      ]
     },
     "execution_count": 3,
     "metadata": {},
     "output_type": "execute_result"
    }
   ],
   "source": [
    "you_need_replace_this_with_name_you_given = myGammer = \"\"\"\n",
    "myGammer = 谁要干嘛 大家要干嘛 惊讶 道歉  说明原因\n",
    "谁要干嘛 = 谁 要 干嘛（讲） ，\n",
    "大家要干嘛 = 大家 干嘛（做） ，\n",
    "惊讶 = 哎呀！ | 卧槽！ | 我买噶！ | 天哪！\n",
    "道歉 = 司咪吗斯诶， | I  Am  Sorry！ | 不好意思， | 对不起，\n",
    "说明原因 = 谁 怎么了\n",
    "谁 = 你 | 我 | 他 | 我们 | 他们 | 你们 | 老师\n",
    "干嘛（讲） = 干 几个  什么\n",
    "干 = 讲 | 唱 | 念\n",
    "几个 = 数字 量词\n",
    "数字 = 一 | 二 | 三 | 四 |  \n",
    "什么 = 故事 | 笑话 | 文章 | 歌\n",
    "量词 = 个 | 首 | 篇\n",
    "干嘛（做） = 注意听 | 举手 | 别打电话 | 别吃零食\n",
    "怎么了 = 放了一个P | 时间不够了 | 要上班去了\n",
    "\"\"\"\n",
    "myGammer"
   ]
  },
  {
   "cell_type": "markdown",
   "metadata": {},
   "source": [
    "> **评阅点**：是否和上一个语法区别比较大"
   ]
  },
  {
   "cell_type": "markdown",
   "metadata": {},
   "source": [
    "TODO: 然后，使用自己之前定义的generate函数，使用此函数生成句子。"
   ]
  },
  {
   "cell_type": "code",
   "execution_count": 4,
   "metadata": {
    "pycharm": {
     "is_executing": false,
     "name": "#%%\n"
    }
   },
   "outputs": [],
   "source": [
    "import random\n",
    "\n",
    "def createGrammer(grammerStr: str, nodeContentSplit=\"=>\", lineSplit=\"\\n\"):\n",
    "    grammer = {}\n",
    "    lines = grammerStr.split(lineSplit)\n",
    "    for line in lines:\n",
    "        if line.strip() == \"\": continue\n",
    "        nodeAndContent = line.split(nodeContentSplit)\n",
    "        grammer[nodeAndContent[0].strip()] = [item.split() for item in nodeAndContent[1].split(\"|\")]\n",
    "    return grammer\n",
    "\n",
    "def generate(gram, target):\n",
    "    if target not in gram: return target\n",
    "\n",
    "    expaned = []\n",
    "    for t in random.choice(gram[target]):\n",
    "        # print(gram[target], t)\n",
    "        expaned.append(generate(gram, t))\n",
    "    return ''.join([\"\\n\" if e == \"/N\" else e for e in expaned if e != 'null'])"
   ]
  },
  {
   "cell_type": "markdown",
   "metadata": {
    "pycharm": {
     "name": "#%% md\n"
    }
   },
   "source": [
    "TODO: 然后，定义一个函数，generate_n，将generate扩展，使其能够生成n个句子:"
   ]
  },
  {
   "cell_type": "code",
   "execution_count": 5,
   "metadata": {
    "pycharm": {
     "is_executing": false,
     "name": "#%%\n"
    }
   },
   "outputs": [
    {
     "data": {
      "text/plain": [
       "['我们要念个歌，大家别吃零食，天哪！不好意思，老师要上班去了',\n",
       " '你们要讲首歌，大家别吃零食，卧槽！IAmSorry！我们放了一个P',\n",
       " '老师要讲一个文章，大家别打电话，天哪！不好意思，他放了一个P',\n",
       " '他们要唱三篇笑话，大家别打电话，哎呀！IAmSorry！我要上班去了',\n",
       " '他们要讲四篇文章，大家别打电话，天哪！司咪吗斯诶，老师放了一个P',\n",
       " '老师要讲二首笑话，大家注意听，天哪！不好意思，他时间不够了',\n",
       " '你们要念二篇歌，大家别打电话，哎呀！对不起，我们要上班去了',\n",
       " '他要讲二篇故事，大家别吃零食，我买噶！司咪吗斯诶，他们要上班去了',\n",
       " '他们要讲三个歌，大家举手，我买噶！不好意思，老师放了一个P',\n",
       " '他要唱四个笑话，大家别吃零食，我买噶！对不起，老师要上班去了',\n",
       " '你要讲三首歌，大家别吃零食，卧槽！司咪吗斯诶，我要上班去了',\n",
       " '他要念二个歌，大家别吃零食，卧槽！司咪吗斯诶，他放了一个P',\n",
       " '你们要讲四篇歌，大家别吃零食，哎呀！不好意思，你放了一个P',\n",
       " '我们要念三个文章，大家举手，卧槽！对不起，他们放了一个P',\n",
       " '我要唱首文章，大家举手，哎呀！不好意思，我要上班去了',\n",
       " '他要念三个文章，大家别打电话，天哪！不好意思，他们要上班去了',\n",
       " '他们要念一个歌，大家注意听，天哪！对不起，他们放了一个P',\n",
       " '他们要唱二个笑话，大家举手，我买噶！司咪吗斯诶，你们时间不够了',\n",
       " '老师要讲二个故事，大家注意听，卧槽！IAmSorry！我们要上班去了',\n",
       " '他们要念四个歌，大家别吃零食，哎呀！IAmSorry！他们放了一个P']"
      ]
     },
     "execution_count": 5,
     "metadata": {},
     "output_type": "execute_result"
    }
   ],
   "source": [
    "def generate_n(n, gammer, target):\n",
    "    # you code here \n",
    "    res = []\n",
    "    for i in range(n):\n",
    "        res.append(generate(gammer, target))\n",
    "        \n",
    "    return res\n",
    "\n",
    "generate_n(20, createGrammer(myGammer, \"=\"), \"myGammer\")\n",
    "    "
   ]
  },
  {
   "cell_type": "markdown",
   "metadata": {},
   "source": [
    "> **评阅点**; 运行代码，观察是否能够生成多个句子"
   ]
  },
  {
   "cell_type": "markdown",
   "metadata": {},
   "source": [
    "#### 2. 使用新数据源完成语言模型的训练"
   ]
  },
  {
   "cell_type": "markdown",
   "metadata": {},
   "source": [
    "按照我们上文中定义的`prob_2`函数，我们更换一个文本数据源，获得新的Language Model:\n",
    "\n",
    "1. 下载文本数据集（你可以在以下数据集中任选一个，也可以两个都使用）\n",
    "    + 可选数据集1，保险行业问询对话集： https://github.com/Computing-Intelligence/insuranceqa-corpus-zh/raw/release/corpus/pool/train.txt.gz\n",
    "    + 可选数据集2：豆瓣评论数据集：https://github.com/Computing-Intelligence/datasource/raw/master/movie_comments.csv\n",
    "2. 修改代码，获得新的**2-gram**语言模型\n",
    "    + 进行文本清洗，获得所有的纯文本\n",
    "    + 将这些文本进行切词\n",
    "    + 送入之前定义的语言模型中，判断文本的合理程度"
   ]
  },
  {
   "cell_type": "markdown",
   "metadata": {},
   "source": [
    "> **评阅点** 1. 是否使用了新的数据集； 2. csv(txt)数据是否正确解析"
   ]
  },
  {
   "cell_type": "markdown",
   "metadata": {},
   "source": [
    "#### 3. 获得最优质的的语言"
   ]
  },
  {
   "cell_type": "code",
   "execution_count": 6,
   "metadata": {
    "pycharm": {
     "is_executing": false,
     "name": "#%%\n"
    }
   },
   "outputs": [],
   "source": [
    "import re\n",
    "import jieba\n",
    "from collections import Counter\n",
    "import pandas as pd"
   ]
  },
  {
   "cell_type": "code",
   "execution_count": 7,
   "metadata": {
    "pycharm": {
     "is_executing": false,
     "name": "#%%\n"
    }
   },
   "outputs": [
    {
     "name": "stdout",
     "output_type": "stream",
     "text": [
      "0\n",
      "89611\n",
      "351108\n",
      "363997\n"
     ]
    },
    {
     "name": "stderr",
     "output_type": "stream",
     "text": [
      "C:\\ProgramData\\Anaconda3\\lib\\site-packages\\IPython\\core\\interactiveshell.py:3249: DtypeWarning: Columns (0,4) have mixed types. Specify dtype option on import or set low_memory=False.\n",
      "  if (await self.run_code(code, result,  async_=asy)):\n"
     ]
    }
   ],
   "source": [
    "# 上述两个数据集，我已经下载好解压放入同级目录下，方便访问\n",
    "\n",
    "def getCsvArticles(filename, contentColName, encoding='gb18030'):\n",
    "    content = pd.read_csv(filename, encoding=encoding)\n",
    "    articles = content[contentColName].tolist()\n",
    "    return articles\n",
    "\n",
    "def getTrainTxtArticles():\n",
    "    content = open(\"train.txt\", 'r', encoding='utf-8').read()\n",
    "    lines = content.split('\\n')\n",
    "    articles = [line.split(' ++$++ ')[2]  for line in lines if line.strip() != \"\"]\n",
    "    return articles\n",
    "\n",
    "\n",
    "articles1 = getCsvArticles('sqlResult_1558435.csv', 'content')\n",
    "articles2 = getCsvArticles('movie_comments.csv', 'comment', encoding='utf-8')\n",
    "articles3 = getTrainTxtArticles()\n",
    "articles = []\n",
    "print(len(articles))\n",
    "articles += articles1\n",
    "print(len(articles))\n",
    "articles += articles2\n",
    "print(len(articles))\n",
    "articles += articles3\n",
    "print(len(articles))\n"
   ]
  },
  {
   "cell_type": "code",
   "execution_count": 38,
   "metadata": {
    "pycharm": {
     "is_executing": false,
     "name": "#%%\n"
    }
   },
   "outputs": [],
   "source": [
    "# 写一个类，封装了2-gram的处理\n",
    "class ProbabilitySelector:\n",
    "    words = []\n",
    "    word2s = []\n",
    "    wordsCount: Counter = None\n",
    "    word2Counter: Counter = None\n",
    "\n",
    "    # articles 语料库，格式是 str[]\n",
    "    def __init__(self, articles:[] = None, words:[] = None, word2s:[] = None):\n",
    "        if articles != None :\n",
    "            for i, article in enumerate(articles):\n",
    "                if article != article:\n",
    "                    continue\n",
    "                try:\n",
    "                    self.words += jieba.cut(''.join(re.findall('\\w+', article)))\n",
    "                except UnicodeEncodeError as err:\n",
    "                    print(\"UnicodeEncodeError: \", article, err)\n",
    "                    continue\n",
    "                else:\n",
    "                    if i % 1000 == 0:\n",
    "                        print(i)\n",
    "            self.save(self.words, \"words.txt\")\n",
    "            self.wordsCount = Counter(self.words)\n",
    "\n",
    "            print(\"生成 WiWi+1 的词对数组。。。\")\n",
    "            self.word2s = [\"\".join(self.words[i:i + 2]) for i in range(len(self.words[0:-1]))]\n",
    "            self.save(self.word2s, \"word2s.txt\")\n",
    "            self.word2Counter = Counter(self.word2s)\n",
    "            print(\"初始化完成！\")\n",
    "        elif words != None and word2s != None:\n",
    "            self.words = words\n",
    "            self.word2s = word2s\n",
    "            self.wordsCount = Counter(words)\n",
    "            self.word2Counter = Counter(word2s)\n",
    "        else:\n",
    "            print(\"初始化必须提供articles 或者 words, word2s\")\n",
    "\n",
    "    def save(self, wordList, fileName):\n",
    "        with open(fileName, \"w\", encoding='utf-8') as f:\n",
    "            for a in wordList:\n",
    "                f.write(a+\"\\n\")\n",
    "\n",
    "    def independentProb(self, word):\n",
    "        return self.wordsCount[word] / len(self.words)\n",
    "    \n",
    "    # 出现 word2 后出现 word1的概率\n",
    "    def conditionProb(self, word1, word2):\n",
    "        ww = word1 + word2\n",
    "        if ww in self.word2Counter:\n",
    "            return self.word2Counter[ww] / self.wordsCount[word2]\n",
    "        else:\n",
    "            return 1 / len(self.word2s)\n",
    "    \n",
    "    \n",
    "    def sentenceProb(self, sentence):\n",
    "        prob = 1\n",
    "        words = [w for w in jieba.cut(''.join(re.findall('\\w+', sentence)))]\n",
    "        for i, word in enumerate(words[:-1]):\n",
    "            prob *= self.conditionProb(word, words[i+1])\n",
    "    \n",
    "        prob *= self.independentProb(words[-1])\n",
    "        return prob\n",
    "\n",
    "# probabilitySelector = ProbabilitySelector(articles2[261000:262000])"
   ]
  },
  {
   "cell_type": "markdown",
   "metadata": {
    "pycharm": {
     "name": "#%% md\n"
    }
   },
   "source": [
    "当我们能够生成随机的语言并且能判断之后，我们就可以生成更加合理的语言了。请定义 generate_best 函数，该函数输入一个语法 + 语言模型，能够生成**n**个句子，并能选择一个最合理的句子: \n",
    "\n"
   ]
  },
  {
   "cell_type": "markdown",
   "metadata": {},
   "source": [
    "提示，要实现这个函数，你需要Python的sorted函数"
   ]
  },
  {
   "cell_type": "code",
   "execution_count": 9,
   "metadata": {
    "pycharm": {
     "is_executing": false
    }
   },
   "outputs": [
    {
     "data": {
      "text/plain": [
       "[1, 2, 3, 5]"
      ]
     },
     "execution_count": 9,
     "metadata": {},
     "output_type": "execute_result"
    }
   ],
   "source": [
    "sorted([1, 3, 5, 2])"
   ]
  },
  {
   "cell_type": "markdown",
   "metadata": {},
   "source": [
    "这个函数接受一个参数key，这个参数接受一个函数作为输入，例如"
   ]
  },
  {
   "cell_type": "code",
   "execution_count": 10,
   "metadata": {
    "pycharm": {
     "is_executing": false
    }
   },
   "outputs": [
    {
     "data": {
      "text/plain": [
       "[(1, 4), (2, 5), (4, 4), (5, 0)]"
      ]
     },
     "execution_count": 10,
     "metadata": {},
     "output_type": "execute_result"
    }
   ],
   "source": [
    "sorted([(2, 5), (1, 4), (5, 0), (4, 4)], key=lambda x: x[0])"
   ]
  },
  {
   "cell_type": "markdown",
   "metadata": {},
   "source": [
    "能够让list按照第0个元素进行排序."
   ]
  },
  {
   "cell_type": "code",
   "execution_count": 11,
   "metadata": {
    "pycharm": {
     "is_executing": false,
     "name": "#%%\n"
    }
   },
   "outputs": [
    {
     "data": {
      "text/plain": [
       "[(5, 0), (1, 4), (4, 4), (2, 5)]"
      ]
     },
     "execution_count": 11,
     "metadata": {},
     "output_type": "execute_result"
    }
   ],
   "source": [
    "sorted([(2, 5), (1, 4), (5, 0), (4, 4)], key=lambda x: x[1])"
   ]
  },
  {
   "cell_type": "markdown",
   "metadata": {
    "pycharm": {
     "name": "#%% md\n"
    }
   },
   "source": [
    "能够让list按照第1个元素进行排序."
   ]
  },
  {
   "cell_type": "code",
   "execution_count": 12,
   "metadata": {
    "pycharm": {
     "is_executing": false,
     "name": "#%%\n"
    }
   },
   "outputs": [
    {
     "data": {
      "text/plain": [
       "[(2, 5), (1, 4), (4, 4), (5, 0)]"
      ]
     },
     "execution_count": 12,
     "metadata": {},
     "output_type": "execute_result"
    }
   ],
   "source": [
    "sorted([(2, 5), (1, 4), (5, 0), (4, 4)], key=lambda x: x[1], reverse=True)"
   ]
  },
  {
   "cell_type": "markdown",
   "metadata": {},
   "source": [
    "能够让list按照第1个元素进行排序, 但是是递减的顺序。"
   ]
  },
  {
   "cell_type": "markdown",
   "metadata": {},
   "source": [
    ">"
   ]
  },
  {
   "cell_type": "code",
   "execution_count": 40,
   "metadata": {
    "pycharm": {
     "is_executing": false,
     "name": "#%%\n"
    }
   },
   "outputs": [],
   "source": [
    "import os\n",
    "\n",
    "# 使用 ProbabilitySelector 来处理, 先初始化\n",
    "\n",
    "if os.path.isfile(\"words.txt\") and os.path.isfile(\"word2s.txt\"):\n",
    "    words = []\n",
    "    word2s = []\n",
    "    for i, line in enumerate(open(\"words.txt\", 'r', encoding='utf-8')):\n",
    "        words.append(line.split('\\n')[0]) \n",
    "    for i, line in enumerate(open(\"word2s.txt\", 'r', encoding='utf-8')):\n",
    "        word2s.append(line.split('\\n')[0])\n",
    "    probabilitySelector = ProbabilitySelector(words=words, word2s=word2s)\n",
    "else:\n",
    "    probabilitySelector = ProbabilitySelector(articles)"
   ]
  },
  {
   "cell_type": "code",
   "execution_count": null,
   "outputs": [],
   "source": [
    "def generate_best(): # you code here\n",
    "    grammer = createGrammer(myGammer, \"=\")\n",
    "\n",
    "    for j in range(10):\n",
    "        sentences = []\n",
    "        maxI = 0\n",
    "        maxProb = 0\n",
    "        maxSentence = \"\"\n",
    "        for i in range(10):\n",
    "            sentence = generate(grammer, \"myGammer\")\n",
    "            sentences.append(sentence)\n",
    "            prob = probabilitySelector.sentenceProb(sentence)\n",
    "            # prob = sentenceProb(probabilitySelector, sentence)\n",
    "            print(\" ---------\", i, \"  \", sentence,\n",
    "                  \"   Prob : \", prob)\n",
    "            if prob > maxProb:\n",
    "                maxI = i\n",
    "                maxProb = prob\n",
    "                maxSentence = sentence\n",
    "        print(\" 选择--》\", maxI, \" \", maxSentence, \"   maxProb : \", maxProb)\n",
    "        \n",
    "generate_best()"
   ],
   "metadata": {
    "collapsed": false,
    "pycharm": {
     "name": "#%%\n"
    }
   }
  },
  {
   "cell_type": "markdown",
   "source": [
    "好了，现在我们实现了自己的第一个AI模型，这个模型能够生成比较接近于人类的语言。"
   ],
   "metadata": {
    "collapsed": false
   }
  },
  {
   "cell_type": "markdown",
   "source": [
    "> **评阅点**： 是否使用 lambda 语法进行排序"
   ],
   "metadata": {
    "collapsed": false
   }
  },
  {
   "cell_type": "markdown",
   "source": [
    "Q: 这个模型有什么问题？ 你准备如何提升？ "
   ],
   "metadata": {
    "collapsed": false
   }
  },
  {
   "cell_type": "markdown",
   "source": [
    "Ans: 这个模型处理语句是否合乎人类语言只是统计了两个词一起出现的概率，也就是说，整个句子的概率由两两相连的词的出现概率所决定。有些时候\n",
    "一个词与较“远”的词相关联，它就不能很好的处理。\n",
    "要提升它，惯性思维下：一个词出现的概率应该和前面或后面多个词相关联。这样效果会更好，但计算更复杂，需要的语料库更加丰富。"
   ],
   "metadata": {
    "collapsed": false
   }
  },
  {
   "cell_type": "code",
   "execution_count": 43,
   "metadata": {
    "pycharm": {
     "is_executing": false
    }
   },
   "outputs": [
    {
     "name": "stdout",
     "output_type": "stream",
     "text": [
      " --------- 0    我们要唱二个歌，大家别打电话，哎呀！司咪吗斯诶，我时间不够了    Prob :  5.911401624116458e-93\n",
      " --------- 1    我要讲二首笑话，大家别吃零食，卧槽！对不起，你时间不够了    Prob :  2.281984261976917e-67\n",
      " --------- 2    我们要念一首文章，大家别吃零食，哎呀！IAmSorry！老师放了一个P    Prob :  2.9816519331014843e-80\n",
      " --------- 3    你们要唱二首文章，大家别吃零食，哎呀！不好意思，他们时间不够了    Prob :  3.001141020282079e-77\n",
      " --------- 4    你们要念三个歌，大家别打电话，天哪！司咪吗斯诶，你放了一个P    Prob :  5.495725338435287e-107\n",
      " --------- 5    我们要念四篇笑话，大家举手，天哪！司咪吗斯诶，我们要上班去了    Prob :  6.366849022741842e-97\n",
      " --------- 6    他们要念三篇故事，大家别吃零食，卧槽！IAmSorry！我们要上班去了    Prob :  3.4374965691539265e-75\n",
      " --------- 7    他们要念一个文章，大家别吃零食，我买噶！对不起，他们时间不够了    Prob :  6.403262749200994e-75\n",
      " --------- 8    我要讲一个笑话，大家注意听，卧槽！不好意思，我们要上班去了    Prob :  1.187389597481855e-52\n",
      " --------- 9    你要讲二个歌，大家别吃零食，哎呀！IAmSorry！我们放了一个P    Prob :  3.5200769052755285e-77\n",
      " 选择--》 8   我要讲一个笑话，大家注意听，卧槽！不好意思，我们要上班去了    maxProb :  1.187389597481855e-52\n",
      " --------- 0    他要念一个歌，大家别打电话，卧槽！IAmSorry！他们放了一个P    Prob :  3.295157576524844e-74\n",
      " --------- 1    你要讲二篇文章，大家别吃零食，我买噶！不好意思，老师放了一个P    Prob :  9.782427878771605e-80\n",
      " --------- 2    你们要讲四篇笑话，大家注意听，哎呀！司咪吗斯诶，我时间不够了    Prob :  1.0409417968247719e-85\n",
      " --------- 3    他要念二篇歌，大家别吃零食，卧槽！司咪吗斯诶，我时间不够了    Prob :  3.122186477631503e-89\n",
      " --------- 4    他要唱篇故事，大家别吃零食，卧槽！对不起，我们放了一个P    Prob :  7.460366375169675e-68\n",
      " --------- 5    我们要讲首歌，大家注意听，天哪！IAmSorry！你们要上班去了    Prob :  6.09774336910266e-69\n",
      " --------- 6    他要念一篇文章，大家注意听，天哪！不好意思，你们时间不够了    Prob :  2.1750476716918383e-65\n",
      " --------- 7    我要念四个笑话，大家别吃零食，卧槽！不好意思，你们时间不够了    Prob :  9.261679006421248e-75\n",
      " --------- 8    我们要念二篇故事，大家举手，卧槽！不好意思，我要上班去了    Prob :  1.406093403997137e-71\n",
      " --------- 9    他们要讲三首文章，大家注意听，我买噶！司咪吗斯诶，你时间不够了    Prob :  3.586487271043334e-94\n",
      " 选择--》 6   他要念一篇文章，大家注意听，天哪！不好意思，你们时间不够了    maxProb :  2.1750476716918383e-65\n",
      " --------- 0    我要唱一个笑话，大家别打电话，哎呀！司咪吗斯诶，他要上班去了    Prob :  8.834180011468302e-89\n",
      " --------- 1    我要讲三个文章，大家举手，我买噶！司咪吗斯诶，你时间不够了    Prob :  7.656926845798866e-90\n",
      " --------- 2    他们要唱三首故事，大家注意听，我买噶！不好意思，我放了一个P    Prob :  2.2971852976040917e-71\n",
      " --------- 3    我要念四首笑话，大家举手，我买噶！对不起，老师放了一个P    Prob :  4.333213249473788e-72\n",
      " --------- 4    我们要讲四篇歌，大家别打电话，我买噶！对不起，他们要上班去了    Prob :  6.715024306594907e-73\n",
      " --------- 5    我们要念篇故事，大家别打电话，哎呀！IAmSorry！他们放了一个P    Prob :  1.5592493064228944e-70\n",
      " --------- 6    老师要讲一篇歌，大家注意听，我买噶！司咪吗斯诶，我要上班去了    Prob :  2.530393959791227e-94\n",
      " --------- 7    你要念三首笑话，大家注意听，哎呀！司咪吗斯诶，你要上班去了    Prob :  1.1004536504862375e-89\n",
      " --------- 8    老师要念三个文章，大家别吃零食，哎呀！IAmSorry！他们放了一个P    Prob :  1.4908259665507424e-81\n",
      " --------- 9    你要念二篇笑话，大家注意听，卧槽！IAmSorry！你时间不够了    Prob :  7.2240687805241095e-71\n",
      " 选择--》 5   我们要念篇故事，大家别打电话，哎呀！IAmSorry！他们放了一个P    maxProb :  1.5592493064228944e-70\n",
      " --------- 0    我要唱四个故事，大家别打电话，卧槽！对不起，他们时间不够了    Prob :  8.24805211623209e-68\n",
      " --------- 1    我们要念二篇文章，大家举手，卧槽！IAmSorry！他时间不够了    Prob :  2.4686102066421266e-71\n",
      " --------- 2    他们要讲一个文章，大家注意听，天哪！不好意思，你们时间不够了    Prob :  1.2389119666471735e-66\n",
      " --------- 3    你要唱二个歌，大家别打电话，天哪！IAmSorry！你们时间不够了    Prob :  1.2583730795431677e-80\n",
      " --------- 4    你们要讲四篇歌，大家举手，天哪！司咪吗斯诶，你们放了一个P    Prob :  1.0486395385605333e-100\n",
      " --------- 5    他要唱二篇故事，大家注意听，哎呀！IAmSorry！他时间不够了    Prob :  1.0862147726281925e-67\n",
      " --------- 6    你们要唱一首文章，大家举手，哎呀！司咪吗斯诶，你们放了一个P    Prob :  3.198402855281319e-88\n",
      " --------- 7    你要念一个歌，大家举手，天哪！对不起，他们放了一个P    Prob :  4.790111239106156e-72\n",
      " --------- 8    你要唱二个文章，大家别打电话，卧槽！IAmSorry！我们要上班去了    Prob :  1.456382563806999e-75\n",
      " --------- 9    你要讲四篇文章，大家别打电话，我买噶！不好意思，他们要上班去了    Prob :  2.3386818113896797e-72\n",
      " 选择--》 2   他们要讲一个文章，大家注意听，天哪！不好意思，你们时间不够了    maxProb :  1.2389119666471735e-66\n",
      " --------- 0    我要唱一首歌，大家举手，哎呀！司咪吗斯诶，他时间不够了    Prob :  5.053055193189352e-86\n",
      " --------- 1    你们要唱个歌，大家别吃零食，我买噶！司咪吗斯诶，老师放了一个P    Prob :  2.761272239043426e-102\n",
      " --------- 2    老师要念四篇歌，大家注意听，哎呀！IAmSorry！他要上班去了    Prob :  3.5677555151391967e-75\n",
      " --------- 3    你们要念三首笑话，大家别吃零食，我买噶！不好意思，我们放了一个P    Prob :  8.358176933635113e-77\n",
      " --------- 4    老师要唱二首歌，大家举手，哎呀！对不起，我们放了一个P    Prob :  7.835833530497088e-61\n",
      " --------- 5    你要唱一个文章，大家别吃零食，我买噶！不好意思，他放了一个P    Prob :  1.8610816849858869e-75\n",
      " --------- 6    我们要念首笑话，大家注意听，我买噶！IAmSorry！我们时间不够了    Prob :  2.492176027608242e-66\n",
      " --------- 7    我要念一个故事，大家举手，哎呀！对不起，他们时间不够了    Prob :  1.8419178559117769e-59\n",
      " --------- 8    我要唱一首歌，大家别吃零食，天哪！IAmSorry！我们时间不够了    Prob :  1.3873501603281205e-76\n",
      " --------- 9    我们要念三篇文章，大家注意听，卧槽！IAmSorry！他时间不够了    Prob :  8.689345564075907e-70\n",
      " 选择--》 7   我要念一个故事，大家举手，哎呀！对不起，他们时间不够了    maxProb :  1.8419178559117769e-59\n",
      " --------- 0    我要念一篇笑话，大家举手，天哪！IAmSorry！你放了一个P    Prob :  8.685473590154051e-71\n",
      " --------- 1    你要念三首笑话，大家别打电话，天哪！不好意思，他们放了一个P    Prob :  7.859126162730104e-79\n",
      " --------- 2    你要讲篇歌，大家别吃零食，卧槽！IAmSorry！老师要上班去了    Prob :  1.0426599320165143e-67\n",
      " --------- 3    他们要讲四个歌，大家注意听，哎呀！对不起，我时间不够了    Prob :  1.9510586919786262e-62\n",
      " --------- 4    我们要念三个文章，大家注意听，我买噶！对不起，他们放了一个P    Prob :  4.113576874419257e-73\n",
      " --------- 5    他要念四篇歌，大家举手，卧槽！不好意思，你们要上班去了    Prob :  1.1874527489494566e-61\n",
      " --------- 6    他要唱二篇歌，大家注意听，我买噶！对不起，我们放了一个P    Prob :  1.3472601293376865e-69\n",
      " --------- 7    你要唱四篇故事，大家举手，卧槽！对不起，我要上班去了    Prob :  2.8189458941925967e-68\n",
      " --------- 8    你要讲四篇文章，大家注意听，我买噶！对不起，我放了一个P    Prob :  1.1932330921398597e-69\n",
      " --------- 9    你要讲二个笑话，大家别吃零食，卧槽！不好意思，老师放了一个P    Prob :  1.3325438545842448e-72\n",
      " 选择--》 5   他要念四篇歌，大家举手，卧槽！不好意思，你们要上班去了    maxProb :  1.1874527489494566e-61\n",
      " --------- 0    你要讲四首歌，大家别吃零食，天哪！对不起，你要上班去了    Prob :  2.13625582622268e-65\n",
      " --------- 1    你们要念一篇歌，大家举手，卧槽！不好意思，老师放了一个P    Prob :  6.590315153049688e-73\n",
      " --------- 2    我要念三个笑话，大家别吃零食，天哪！对不起，老师时间不够了    Prob :  5.940270436001372e-80\n",
      " --------- 3    你们要念四个故事，大家别吃零食，卧槽！对不起，你们要上班去了    Prob :  8.253834442341504e-68\n",
      " --------- 4    我们要念四篇歌，大家别打电话，我买噶！对不起，他们放了一个P    Prob :  1.6050151143065747e-78\n",
      " --------- 5    我要念三个歌，大家注意听，哎呀！对不起，你时间不够了    Prob :  8.059141455416317e-71\n",
      " --------- 6    我要念篇故事，大家别打电话，卧槽！不好意思，我们放了一个P    Prob :  1.329524339776456e-66\n",
      " --------- 7    他们要唱三个故事，大家别吃零食，卧槽！IAmSorry！你要上班去了    Prob :  6.0901534674456745e-68\n",
      " --------- 8    你要讲四个笑话，大家注意听，卧槽！对不起，他们时间不够了    Prob :  6.468723195605062e-60\n",
      " --------- 9    我要讲一首笑话，大家注意听，天哪！对不起，你们要上班去了    Prob :  2.822293653334646e-68\n",
      " 选择--》 8   你要讲四个笑话，大家注意听，卧槽！对不起，他们时间不够了    maxProb :  6.468723195605062e-60\n",
      " --------- 0    我要念首故事，大家注意听，天哪！IAmSorry！我放了一个P    Prob :  1.3174501307908825e-71\n",
      " --------- 1    老师要讲三首歌，大家别打电话，我买噶！司咪吗斯诶，你们时间不够了    Prob :  4.642729184021536e-101\n",
      " --------- 2    你要讲二篇笑话，大家别打电话，我买噶！不好意思，你们时间不够了    Prob :  1.8042870632864057e-71\n",
      " --------- 3    他要念一个文章，大家别打电话，卧槽！司咪吗斯诶，他们时间不够了    Prob :  7.228977386536981e-90\n",
      " --------- 4    你要讲三个故事，大家别吃零食，卧槽！IAmSorry！老师放了一个P    Prob :  1.390740445375676e-63\n",
      " --------- 5    我要讲个文章，大家举手，哎呀！司咪吗斯诶，我们时间不够了    Prob :  5.098115446671612e-90\n",
      " --------- 6    我们要唱个笑话，大家举手，天哪！不好意思，老师放了一个P    Prob :  7.678965821213697e-63\n",
      " --------- 7    他们要念一首文章，大家别吃零食，天哪！不好意思，老师要上班去了    Prob :  1.22005390697924e-81\n",
      " --------- 8    我们要讲首故事，大家别吃零食，天哪！不好意思，他要上班去了    Prob :  2.0619711858584005e-71\n",
      " --------- 9    你要讲篇歌，大家注意听，我买噶！IAmSorry！他时间不够了    Prob :  5.62142075299162e-61\n",
      " 选择--》 9   你要讲篇歌，大家注意听，我买噶！IAmSorry！他时间不够了    maxProb :  5.62142075299162e-61\n",
      " --------- 0    你们要念三篇笑话，大家举手，卧槽！IAmSorry！你们要上班去了    Prob :  5.854300529513174e-69\n",
      " --------- 1    老师要讲二篇歌，大家别打电话，哎呀！IAmSorry！我放了一个P    Prob :  3.743753492639988e-80\n",
      " --------- 2    你们要讲一首文章，大家举手，我买噶！司咪吗斯诶，老师要上班去了    Prob :  7.703185565724171e-100\n",
      " --------- 3    他们要唱一个歌，大家别打电话，哎呀！不好意思，他要上班去了    Prob :  3.546205951734683e-74\n",
      " --------- 4    老师要讲四首笑话，大家别打电话，卧槽！对不起，我要上班去了    Prob :  3.781434641941586e-76\n",
      " --------- 5    我们要念四个文章，大家别吃零食，天哪！对不起，他们时间不够了    Prob :  2.7059604335442505e-77\n",
      " --------- 6    我们要讲篇歌，大家注意听，我买噶！IAmSorry！你们要上班去了    Prob :  2.940407460135533e-62\n",
      " --------- 7    他要讲二首文章，大家注意听，天哪！司咪吗斯诶，你时间不够了    Prob :  1.4324667031402766e-94\n",
      " --------- 8    你们要念三篇笑话，大家别吃零食，天哪！IAmSorry！你们要上班去了    Prob :  1.4753794106708134e-77\n",
      " --------- 9    他要唱一篇文章，大家举手，天哪！对不起，你们时间不够了    Prob :  2.42895402102438e-63\n",
      " 选择--》 6   我们要讲篇歌，大家注意听，我买噶！IAmSorry！你们要上班去了    maxProb :  2.940407460135533e-62\n",
      " --------- 0    他要唱二篇歌，大家注意听，哎呀！不好意思，他们要上班去了    Prob :  1.3004838579770621e-72\n",
      " --------- 1    老师要唱二首歌，大家别吃零食，我买噶！IAmSorry！他们放了一个P    Prob :  2.888615521097544e-75\n",
      " --------- 2    他们要唱二个故事，大家别吃零食，卧槽！IAmSorry！我放了一个P    Prob :  2.172675292189297e-76\n",
      " --------- 3    他要念四个文章，大家举手，哎呀！对不起，你们放了一个P    Prob :  2.530153504590742e-62\n",
      " --------- 4    你要讲三首歌，大家别吃零食，哎呀！司咪吗斯诶，老师放了一个P    Prob :  7.265875603742872e-93\n",
      " --------- 5    你们要讲一首歌，大家别吃零食，卧槽！不好意思，你时间不够了    Prob :  5.498867955135068e-66\n",
      " --------- 6    我们要念四个笑话，大家别打电话，天哪！对不起，你放了一个P    Prob :  4.148781270673061e-74\n",
      " --------- 7    他们要唱篇笑话，大家别吃零食，我买噶！IAmSorry！老师放了一个P    Prob :  7.146126553774938e-77\n",
      " --------- 8    老师要讲一篇笑话，大家别吃零食，天哪！IAmSorry！你们要上班去了    Prob :  4.3849575105220644e-75\n",
      " --------- 9    老师要讲三个歌，大家别打电话，哎呀！司咪吗斯诶，你们放了一个P    Prob :  1.688422325464183e-96\n",
      " 选择--》 3   他要念四个文章，大家举手，哎呀！对不起，你们放了一个P    maxProb :  2.530153504590742e-62\n"
     ]
    }
   ],
   "source": [
    ">**评阅点**: 是否提出了比较实际的问题，例如OOV问题，例如数据量，例如变成 3-gram问题。"
   ]
  },
  {
   "cell_type": "markdown",
   "metadata": {},
   "source": [
    "好了，现在我们实现了自己的第一个AI模型，这个模型能够生成比较接近于人类的语言。"
   ]
  },
  {
   "cell_type": "markdown",
   "metadata": {},
   "source": [
    "> **评阅点**： 是否使用 lambda 语法进行排序"
   ]
  },
  {
   "cell_type": "markdown",
   "metadata": {},
   "source": [
    "Q: 这个模型有什么问题？ 你准备如何提升？ "
   ]
  },
  {
   "cell_type": "markdown",
   "metadata": {},
   "source": [
    "Ans: 这个模型处理语句是否合乎人类语言只是统计了两个词一起出现的概率，也就是说，整个句子的概率由两两相连的词的出现概率所决定。有些时候\n",
    "一个词与较“远”的词相关联，它就不能很好的处理。\n",
    "要提升它，惯性思维下：一个词出现的概率应该和前面或后面多个词相关联。这样效果会更好，但计算更复杂，需要的语料库更加丰富。"
   ]
  },
  {
   "cell_type": "markdown",
   "metadata": {},
   "source": [
    ">**评阅点**: 是否提出了比较实际的问题，例如OOV问题，例如数据量，例如变成 3-gram问题。"
   ]
  },
  {
   "cell_type": "markdown",
   "metadata": {},
   "source": [
    "##### 以下内容为可选部分，对于绝大多数同学，能完成以上的项目已经很优秀了，下边的内容如果你还有精力可以试试，但不是必须的。"
   ]
  },
  {
   "cell_type": "markdown",
   "metadata": {},
   "source": [
    "#### 4. (Optional) 完成基于Pattern Match的语句问答\n",
    "> 我们的GitHub仓库中，有一个assignment-01-optional-pattern-match，这个难度较大，感兴趣的同学可以挑战一下。"
   ]
  },
  {
   "cell_type": "markdown",
   "metadata": {},
   "source": [
    "\n",
    "#### 5. (Optional) 完成阿兰图灵机器智能原始论文的阅读\n",
    "1. 请阅读阿兰图灵关于机器智能的原始论文：https://github.com/Computing-Intelligence/References/blob/master/AI%20%26%20Machine%20Learning/Computer%20Machinery%20and%20Intelligence.pdf \n",
    "2. 并按照GitHub仓库中的论文阅读模板，填写完毕后发送给我: mqgao@kaikeba.com 谢谢"
   ]
  },
  {
   "cell_type": "markdown",
   "metadata": {},
   "source": [
    "> "
   ]
  },
  {
   "cell_type": "markdown",
   "metadata": {},
   "source": [
    "各位同学，我们已经完成了自己的第一个AI模型，大家对人工智能可能已经有了一些感觉，人工智能的核心就是，我们如何设计一个模型、程序，在外部的输入变化的时候，我们的程序不变，依然能够解决问题。人工智能是一个很大的领域，目前大家所熟知的深度学习只是其中一小部分，之后也肯定会有更多的方法提出来，但是大家知道人工智能的目标，就知道了之后进步的方向。"
   ]
  },
  {
   "cell_type": "markdown",
   "metadata": {},
   "source": [
    "然后，希望大家对AI不要有恐惧感，这个并不难，大家加油！"
   ]
  },
  {
   "cell_type": "markdown",
   "metadata": {},
   "source": [
    ">"
   ]
  },
  {
   "cell_type": "markdown",
   "metadata": {},
   "source": [
    "![](https://timgsa.baidu.com/timg?image&quality=80&size=b9999_10000&sec=1561828422005&di=48d19c16afb6acc9180183a6116088ac&imgtype=0&src=http%3A%2F%2Fb-ssl.duitang.com%2Fuploads%2Fitem%2F201807%2F28%2F20180728150843_BECNF.thumb.224_0.jpeg)"
   ]
  }
 ],
 "metadata": {
  "kernelspec": {
   "display_name": "Python 3",
   "language": "python",
   "name": "python3"
  },
  "language_info": {
   "codemirror_mode": {
    "name": "ipython",
    "version": 3
   },
   "file_extension": ".py",
   "mimetype": "text/x-python",
   "name": "python",
   "nbconvert_exporter": "python",
   "pygments_lexer": "ipython3",
   "version": "3.7.4"
  },
  "pycharm": {
   "stem_cell": {
    "cell_type": "raw",
    "source": [],
    "metadata": {
     "collapsed": false
    }
   }
  }
 },
 "nbformat": 4,
 "nbformat_minor": 2
}