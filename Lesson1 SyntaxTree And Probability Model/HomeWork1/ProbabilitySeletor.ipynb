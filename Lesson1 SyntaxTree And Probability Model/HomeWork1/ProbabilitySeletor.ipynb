{
 "cells": [
  {
   "cell_type": "code",
   "execution_count": 1,
   "metadata": {
    "pycharm": {
     "is_executing": false
    }
   },
   "outputs": [],
   "source": [
    "import random\n",
    "import re\n",
    "import jieba\n",
    "from collections import Counter\n",
    "import pandas as pd"
   ]
  },
  {
   "cell_type": "markdown",
   "metadata": {},
   "source": [
    "## 读取表格文件内容，数据存入pandas的DataFrame中"
   ]
  },
  {
   "cell_type": "code",
   "execution_count": 2,
   "metadata": {
    "pycharm": {
     "is_executing": false
    }
   },
   "outputs": [],
   "source": [
    "filename = \"sqlResult_1558435.csv\"\n",
    "content = pd.read_csv(filename, encoding= 'gb18030') # 'gb18030'\n"
   ]
  },
  {
   "cell_type": "code",
   "execution_count": 6,
   "metadata": {},
   "outputs": [
    {
     "name": "stdout",
     "output_type": "stream",
     "text": [
      "      id      author                    source  \\\n",
      "0  89617         NaN    快科技@http://www.kkj.cn/   \n",
      "1  89616         NaN    快科技@http://www.kkj.cn/   \n",
      "2  89615         NaN    快科技@http://www.kkj.cn/   \n",
      "3  89614         NaN                       新华社   \n",
      "4  89613  胡淑丽_MN7479                     深圳大件事   \n",
      "5  89612          张怡                 中国证券报?中证网   \n",
      "6  89611         NaN  威锋网@http://www.feng.com/   \n",
      "7  89610      申玉彬 整理                 中国证券报?中证网   \n",
      "8  89609  李杭_BJS4645                 荆楚网-楚天都市报   \n",
      "9  89608          吴瞬                 中国证券报?中证网   \n",
      "\n",
      "                                             content  \\\n",
      "0  此外，自本周（6月12日）起，除小米手机6等15款机型外，其余机型已暂停更新发布（含开发版/...   \n",
      "1  骁龙835作为唯一通过Windows 10桌面平台认证的ARM处理器，高通强调，不会因为只考...   \n",
      "2  此前的一加3T搭载的是3400mAh电池，DashCharge快充规格为5V/4A。\\r\\n...   \n",
      "3    这是6月18日在葡萄牙中部大佩德罗冈地区拍摄的被森林大火烧毁的汽车。新华社记者张立云摄\\r\\n   \n",
      "4  （原标题：44岁女子跑深圳约会网友被拒，暴雨中裸身奔走……）\\r\\n@深圳交警微博称：昨日清...   \n",
      "5  　　受到A股被纳入MSCI指数的利好消息刺激，A股市场从周三开始再度上演龙马行情，周四上午金...   \n",
      "6  虽然至今夏普智能手机在市场上无法排得上号，已经完全没落，并于 2013 年退出中国市场，但是...   \n",
      "7  　　沙漠雄鹰：震荡有利消化套牢筹码\\r\\n　　周四开盘上证50在银行券商大蓝筹带动下一度涨近...   \n",
      "8  （原标题：武汉警方一下子抓了808人，还都是俊男靓女！原来他们每天偷偷摸摸干这事！）\\r\\n...   \n",
      "9  　　6月21日，A股纳入MSCI指数尘埃落定，但当天被寄予厚望的券商股并未扛起反弹大旗。22...   \n",
      "\n",
      "                                             feature  \\\n",
      "0  {\"type\":\"科技\",\"site\":\"cnbeta\",\"commentNum\":\"37\"...   \n",
      "1  {\"type\":\"科技\",\"site\":\"cnbeta\",\"commentNum\":\"15\"...   \n",
      "2  {\"type\":\"科技\",\"site\":\"cnbeta\",\"commentNum\":\"18\"...   \n",
      "3  {\"type\":\"国际新闻\",\"site\":\"环球\",\"commentNum\":\"0\",\"j...   \n",
      "4  {\"type\":\"新闻\",\"site\":\"网易热门\",\"commentNum\":\"978\",...   \n",
      "5  {\"type\":\"市场\",\"site\":\"中证网\",\"commentNum\":\"0\",\"jo...   \n",
      "6  {\"type\":\"科技\",\"site\":\"cnbeta\",\"commentNum\":\"21\"...   \n",
      "7  {\"type\":\"市场\",\"site\":\"中证网\",\"commentNum\":\"0\",\"jo...   \n",
      "8  {\"type\":\"新闻\",\"site\":\"网易热门\",\"commentNum\":\"1600\"...   \n",
      "9  {\"type\":\"市场\",\"site\":\"中证网\",\"commentNum\":\"0\",\"jo...   \n",
      "\n",
      "                           title  \\\n",
      "0           小米MIUI 9首批机型曝光：共计15款   \n",
      "1     骁龙835在Windows 10上的性能表现有望改善   \n",
      "2      一加手机5细节曝光：3300mAh、充半小时用1天   \n",
      "3  葡森林火灾造成至少62人死亡 政府宣布进入紧急状态（组图）   \n",
      "4       44岁女子约网友被拒暴雨中裸奔 交警为其披衣相随   \n",
      "5                 金融股一枝独秀 配置价值犹存   \n",
      "6            配骁龙660 全面屏鼻祖夏普新机酝酿中   \n",
      "7                博友早评：震荡有利消化套牢筹码   \n",
      "8       武汉千余警察出动 抓获808名俊男靓女全是诈骗犯   \n",
      "9            纳入MSCI指数 A股长期配置价值提升   \n",
      "\n",
      "                                                 url  \n",
      "0     http://www.cnbeta.com/articles/tech/623597.htm  \n",
      "1     http://www.cnbeta.com/articles/tech/623599.htm  \n",
      "2     http://www.cnbeta.com/articles/tech/623601.htm  \n",
      "3  http://world.huanqiu.com/hot/2017-06/10866126....  \n",
      "4  http://news.163.com/17/0618/00/CN617P3Q0001875...  \n",
      "5  http://www.cs.com.cn/gppd/201706/t20170623_533...  \n",
      "6     http://www.cnbeta.com/articles/tech/623603.htm  \n",
      "7  http://www.cs.com.cn/gppd/201706/t20170623_533...  \n",
      "8  http://news.163.com/17/0614/14/CMT9N8G80001899...  \n",
      "9  http://www.cs.com.cn/gppd/201706/t20170623_533...  \n"
     ]
    }
   ],
   "source": [
    "type(content.head(10))\n",
    "print(content.head(10))"
   ]
  },
  {
   "cell_type": "markdown",
   "metadata": {},
   "source": [
    "## 提取文章"
   ]
  },
  {
   "cell_type": "code",
   "execution_count": 4,
   "metadata": {},
   "outputs": [
    {
     "data": {
      "text/plain": [
       "'\\u3000\\u3000中国证券网讯（记者 费天元）沪深两市周五临近午盘出现快速跳水，沪指连续跌穿5日、10日及20日均线。截至午间收盘，上证指数报3124.23点，下跌0.74%；深证成指报10219.41点，下跌0.45%；创业板指报1780.20点，下跌1.01%。\\r\\n\\u3000\\u3000盘面上，部分地产板块权重股早盘异动，万科A上涨6.58%，保利地产上涨2.50%。石墨烯板块表现强势，碳元科技涨停，中科电气上涨8.39%。钛白粉板块同样涨幅靠前。\\r\\n\\u3000\\u3000跌幅方面，可燃冰概念领跌，恒泰艾普下跌8.90%，石化机械、潜能恒信跌逾6%。网络游戏板块深度回调，天沃科技下跌8.34%，天润数娱下跌6.49%。雄安概念重挫，中持股份、京汉股份等跌逾7%。粤港澳、上海国资板块同样跌幅靠前。\\r\\n'"
      ]
     },
     "execution_count": 4,
     "metadata": {},
     "output_type": "execute_result"
    }
   ],
   "source": [
    "articles = content['content'].tolist()\n",
    "articles[15]"
   ]
  },
  {
   "cell_type": "markdown",
   "metadata": {},
   "source": [
    "## 课中老师把所有的字符去掉再去算概率，而我想尝试下有数字，有字符的情况能不能正常处理"
   ]
  },
  {
   "cell_type": "markdown",
   "metadata": {},
   "source": [
    "分词"
   ]
  },
  {
   "cell_type": "code",
   "execution_count": 5,
   "metadata": {},
   "outputs": [],
   "source": [
    "words = jieba.cut(articles[5])\n",
    "wordsCount = Counter(words)"
   ]
  },
  {
   "cell_type": "code",
   "execution_count": 49,
   "metadata": {},
   "outputs": [
    {
     "ename": "IndentationError",
     "evalue": "expected an indented block (<ipython-input-49-915a1d10ff0e>, line 12)",
     "output_type": "error",
     "traceback": [
      "\u001b[1;36m  File \u001b[1;32m\"<ipython-input-49-915a1d10ff0e>\"\u001b[1;36m, line \u001b[1;32m12\u001b[0m\n\u001b[1;33m    except AttributeError as e:\u001b[0m\n\u001b[1;37m         ^\u001b[0m\n\u001b[1;31mIndentationError\u001b[0m\u001b[1;31m:\u001b[0m expected an indented block\n"
     ]
    }
   ],
   "source": [
    "words = []\n",
    "for i, article in enumerate(articles):\n",
    "    try:\n",
    "#         words += jieba.cut(''.join(str(re.findall('\\w+',article))))\n",
    "        words += jieba.cut(article)\n",
    "    except TypeError as e:...\n",
    "    except AttributeError as e:...\n",
    "    \n",
    "wordsCount = Counter(words)"
   ]
  },
  {
   "cell_type": "code",
   "execution_count": 27,
   "metadata": {},
   "outputs": [
    {
     "data": {
      "text/plain": [
       "<function _operator.mul(a, b, /)>"
      ]
     },
     "execution_count": 27,
     "metadata": {},
     "output_type": "execute_result"
    }
   ],
   "source": [
    "from functools import reduce\n",
    "from operator import add, mul\n",
    "mul"
   ]
  },
  {
   "cell_type": "code",
   "execution_count": 31,
   "metadata": {},
   "outputs": [
    {
     "data": {
      "text/plain": [
       "[('，', 1360799),\n",
       " ('的', 703820),\n",
       " ('\\\\', 669896),\n",
       " ('。', 636522),\n",
       " ('n', 614636),\n",
       " ('\\u3000', 408918),\n",
       " ('、', 296644),\n",
       " ('在', 264633),\n",
       " ('“', 239982),\n",
       " ('”', 239981)]"
      ]
     },
     "execution_count": 31,
     "metadata": {},
     "output_type": "execute_result"
    }
   ],
   "source": [
    "wordsCount.most_common(10)"
   ]
  },
  {
   "cell_type": "code",
   "execution_count": 34,
   "metadata": {},
   "outputs": [
    {
     "data": {
      "text/plain": [
       "[1360799,\n",
       " 703820,\n",
       " 669896,\n",
       " 636522,\n",
       " 614636,\n",
       " 408918,\n",
       " 296644,\n",
       " 264633,\n",
       " 239982,\n",
       " 239981]"
      ]
     },
     "execution_count": 34,
     "metadata": {},
     "output_type": "execute_result"
    }
   ],
   "source": [
    "frequencies = [count for word, count in wordsCount.most_common(10)]\n",
    "frequencies"
   ]
  },
  {
   "cell_type": "markdown",
   "metadata": {},
   "source": []
  },
  {
   "cell_type": "markdown",
   "metadata": {},
   "source": [
    "统计"
   ]
  },
  {
   "cell_type": "code",
   "execution_count": 5,
   "metadata": {},
   "outputs": [],
   "source": [
    "import matplotlib.pyplot as plt\n",
    "import numpy\n"
   ]
  },
  {
   "cell_type": "code",
   "execution_count": null,
   "metadata": {},
   "outputs": [],
   "source": [
    "x = [x for x in range(100)]\n",
    "frequencies = [count for word, count in wordsCount.most_common(100)]\n",
    "plt.plot(x, frequencies)"
   ]
  },
  {
   "cell_type": "code",
   "execution_count": 47,
   "metadata": {},
   "outputs": [
    {
     "data": {
      "text/plain": [
       "[<matplotlib.lines.Line2D at 0x1ce83aa3148>]"
      ]
     },
     "execution_count": 47,
     "metadata": {},
     "output_type": "execute_result"
    },
    {
     "data": {
      "image/png": "[encoded data removed]",
      "text/plain": [
       "<Figure size 432x288 with 1 Axes>"
      ]
     },
     "metadata": {
      "needs_background": "light"
     },
     "output_type": "display_data"
    }
   ],
   "source": [
    "x = [x for x in range(1000)]\n",
    "frequencies = [count for word, count in wordsCount.most_common(1000)]\n",
    "plt.plot(x, numpy.log(frequencies))"
   ]
  },
  {
   "cell_type": "markdown",
   "metadata": {},
   "source": [
    "概率计算"
   ]
  },
  {
   "cell_type": "markdown",
   "metadata": {},
   "source": [
    "Prob（sentence） = Prob（w1,w2,w3,...,wn） = Prob(w1|w2,...,wn) * Prob(w2|w3,...wn) * Prob(w3|...wn) * ... * Prob(wn)\n",
    "\n",
    "                ~ Prob(w1|w2) * Prob(w2|w3) * Prob(w3|w4) * ... * Prob(wn)\n",
    "                \n",
    "                = Cw1_2/Cw2 * Cw2_3/Cw3 * Cw3_4/ Cw4 * ... * Cwn/C_all"
   ]
  },
  {
   "cell_type": "code",
   "execution_count": 52,
   "metadata": {},
   "outputs": [
    {
     "name": "stdout",
     "output_type": "stream",
     "text": [
      "7.617066966814964e-05\n"
     ]
    }
   ],
   "source": [
    "def independentProb(word):\n",
    "    return wordsCount[word] / len(words)\n",
    "print(independentProb(\"其实\"))"
   ]
  },
  {
   "cell_type": "markdown",
   "metadata": {},
   "source": [
    "条件概率"
   ]
  },
  {
   "cell_type": "code",
   "execution_count": 82,
   "metadata": {},
   "outputs": [
    {
     "data": {
      "text/plain": [
       "9"
      ]
     },
     "execution_count": 82,
     "metadata": {},
     "output_type": "execute_result"
    }
   ],
   "source": [
    "aaa = [1,3,4,5,6,8,9]\n",
    "len(aaa[0:-2])\n",
    "# [''.join([str(aaa[i]),str(aaa[i+1])]) for i in range(len(aaa[0:-1]))]\n",
    "aaa[-1]"
   ]
  },
  {
   "cell_type": "code",
   "execution_count": 62,
   "metadata": {},
   "outputs": [],
   "source": [
    "word2s = [\"\".join(words[i:i+2]) for i in range(len(words[0:-1]))]\n",
    "word2Counter = Counter(word2s)"
   ]
  },
  {
   "cell_type": "code",
   "execution_count": 63,
   "metadata": {},
   "outputs": [
    {
     "data": {
      "text/plain": [
       "[('\\\\n', 614616),\n",
       " ('。\\\\', 251805),\n",
       " ('\\u3000\\u3000', 199410),\n",
       " ('n\\\\', 131916),\n",
       " ('n\\u3000', 129788),\n",
       " ('n新华社', 73788),\n",
       " ('2017年', 62300),\n",
       " ('日，', 61560),\n",
       " ('外代二线', 61385),\n",
       " ('。\\r\\n', 59824)]"
      ]
     },
     "execution_count": 63,
     "metadata": {},
     "output_type": "execute_result"
    }
   ],
   "source": []
  },
  {
   "cell_type": "code",
   "execution_count": 65,
   "metadata": {},
   "outputs": [
    {
     "data": {
      "text/plain": [
       "[('\\\\n', 614616),\n",
       " ('。\\\\', 251805),\n",
       " ('\\u3000\\u3000', 199410),\n",
       " ('n\\\\', 131916),\n",
       " ('n\\u3000', 129788),\n",
       " ('n新华社', 73788),\n",
       " ('2017年', 62300),\n",
       " ('日，', 61560),\n",
       " ('外代二线', 61385),\n",
       " ('。\\r\\n', 59824)]"
      ]
     },
     "execution_count": 65,
     "metadata": {},
     "output_type": "execute_result"
    }
   ],
   "source": [
    "word2Counter.most_common(10)"
   ]
  },
  {
   "cell_type": "code",
   "execution_count": 91,
   "metadata": {},
   "outputs": [],
   "source": [
    "# 出现 word2 后出现 word1的概率\n",
    "def conditionProb(word1, word2):\n",
    "    return (word2Counter[''.join([word1,word2])] + 1) / (wordsCount[word2] + 1)"
   ]
  },
  {
   "cell_type": "code",
   "execution_count": 75,
   "metadata": {},
   "outputs": [
    {
     "name": "stdout",
     "output_type": "stream",
     "text": [
      "0.030529863739087174\n",
      "0.0009418529330891418\n",
      "0.0038686501174411644\n",
      "0.0033289761586769344\n"
     ]
    }
   ],
   "source": [
    "print(independentProb(\"的\"))\n",
    "print(independentProb(\"我\"))\n",
    "print(conditionProb(\"的\",\"我\"))\n",
    "print(conditionProb(\"我\",\"的\"))"
   ]
  },
  {
   "cell_type": "markdown",
   "metadata": {},
   "source": [
    "使用"
   ]
  },
  {
   "cell_type": "markdown",
   "metadata": {},
   "source": [
    "$$\n",
    "Pro(sentence) = Pro(W_1W_2W_3W_4 ...W_n) = \\prod_i^n \\frac{\\#(W_iW_{i+1})}{\\#W_i} * Pro(W_n)\n",
    "$$"
   ]
  },
  {
   "cell_type": "markdown",
   "metadata": {},
   "source": [
    "Prob（sentence） = Prob（w1,w2,w3,...,wn） = Prob(w1|w2,...,wn) * Prob(w2|w3,...wn) * Prob(w3|...wn) * ... * Prob(wn)\n",
    "\n",
    "                ~ Prob(w1|w2) * Prob(w2|w3) * Prob(w3|w4) * ... * Prob(wn)\n",
    "                \n",
    "                = Cw1_2/Cw2 * Cw2_3/Cw3 * Cw3_4/ Cw4 * ... * Cwn/C_all"
   ]
  },
  {
   "cell_type": "code",
   "execution_count": 89,
   "metadata": {},
   "outputs": [
    {
     "data": {
      "text/plain": [
       "1.548017762280513e-23"
      ]
     },
     "execution_count": 89,
     "metadata": {},
     "output_type": "execute_result"
    }
   ],
   "source": [
    "def sentenceProb(sentence):\n",
    "    sentenceWords = jieba.cut(sentence)\n",
    "    p = 1;\n",
    "    sentenceWords = [w for w in sentenceWords]\n",
    "    for i in range(len(sentenceWords) - 1):\n",
    "        p *= conditionProb(sentenceWords[i+1], sentenceWords[i])\n",
    "    \n",
    "    p *= independentProb(sentenceWords[-1])\n",
    "    return p\n",
    "        \n",
    "sentenceProb(\"我们的中国拥有美丽的大地\")"
   ]
  },
  {
   "cell_type": "code",
   "execution_count": 93,
   "metadata": {},
   "outputs": [
    {
     "name": "stdout",
     "output_type": "stream",
     "text": [
      "明天晚上请你吃大餐，我们一起吃苹果 is more possible\n",
      "---- 今天晚上请你吃大餐，我们一起吃日料 with probility 1.783831084332856e-41\n",
      "---- 明天晚上请你吃大餐，我们一起吃苹果 with probility 1.3336168544382796e-37\n",
      "真是一只好看的小猫 is more possible\n",
      "---- 真事一只好看的小猫 with probility 2.3197712696149224e-23\n",
      "---- 真是一只好看的小猫 with probility 1.0482305329345374e-19\n",
      "今晚火锅去吃我 is more possible\n",
      "---- 今晚我去吃火锅 with probility 4.239069121977485e-16\n",
      "---- 今晚火锅去吃我 with probility 5.993612837805949e-14\n",
      "养乐多绿来一杯 is more possible\n",
      "---- 洋葱奶昔来一杯 with probility 8.365365467770974e-13\n",
      "---- 养乐多绿来一杯 with probility 4.077473205470425e-06\n"
     ]
    }
   ],
   "source": [
    "need_compared = [\n",
    "    \"今天晚上请你吃大餐，我们一起吃日料 明天晚上请你吃大餐，我们一起吃苹果\",\n",
    "    \"真事一只好看的小猫 真是一只好看的小猫\",\n",
    "    \"今晚我去吃火锅 今晚火锅去吃我\",\n",
    "    \"洋葱奶昔来一杯 养乐多绿来一杯\"\n",
    "]\n",
    "\n",
    "for s in need_compared:\n",
    "    s1, s2 = s.split()\n",
    "    p1, p2 = sentenceProb(s1), sentenceProb(s2)\n",
    "    \n",
    "    better = s1 if p1 > p2 else s2\n",
    "    \n",
    "    print('{} is more possible'.format(better))\n",
    "    print('-'*4 + ' {} with probility {}'.format(s1, p1))\n",
    "    print('-'*4 + ' {} with probility {}'.format(s2, p2))"
   ]
  },
  {
   "cell_type": "markdown",
   "metadata": {},
   "source": [
    "## 上述答案和课程上的答案相差太大，不确定是哪出了问题，首先怀疑没有对特殊符号做处理导致结果不对，所以接下来，再次重写课堂上的方法"
   ]
  },
  {
   "cell_type": "code",
   "execution_count": 102,
   "metadata": {},
   "outputs": [
    {
     "name": "stdout",
     "output_type": "stream",
     "text": [
      "<class 'float'>\n",
      "nan\n",
      "True\n",
      "False\n",
      "True\n",
      "True\n",
      "False\n",
      "False\n",
      "nan\n",
      "inf\n"
     ]
    }
   ],
   "source": [
    "print(type(articles[100]))\n",
    "\n",
    "print(float('nan'))\n",
    "print(articles[100] != articles[100])\n",
    "a = float('nan')\n",
    "b = float('inf')\n",
    "_inf = -float('inf')\n",
    "print(100.1 != 100.1)\n",
    "print(a != a)\n",
    "print(b == b +100)\n",
    "print(b == -b * 2)\n",
    "print(_inf == b)\n",
    "print(str(float('nan')))\n",
    "print(str(float('inf')))"
   ]
  },
  {
   "cell_type": "code",
   "execution_count": 98,
   "metadata": {},
   "outputs": [],
   "source": [
    "# [word for word in jieba.cut(''.join(re.findall('\\w+',articles[10])))]\n",
    "# re.findall('\\w+',articles[10])"
   ]
  },
  {
   "cell_type": "code",
   "execution_count": 99,
   "metadata": {},
   "outputs": [
    {
     "name": "stdout",
     "output_type": "stream",
     "text": [
      "错误数量： 0\n"
     ]
    }
   ],
   "source": [
    "wordsW = []\n",
    "count = 0\n",
    "\n",
    "for i, article in enumerate(articles):\n",
    "    if article != article:\n",
    "        continue\n",
    "    try:\n",
    "#         wordsW += jieba.cut(''.join(re.findall('\\w+',str(article))))\n",
    "        wordsW += jieba.cut(''.join(re.findall('\\w+',(article))))\n",
    "    except TypeError as e:\n",
    "        print(i, article, e)\n",
    "        count+=1\n",
    "        break\n",
    "    except AttributeError as e:\n",
    "        print(i, article, e)\n",
    "        count+=1\n",
    "        break\n",
    "        \n",
    "        \n",
    "print(\"错误数量：\",count)\n"
   ]
  },
  {
   "cell_type": "code",
   "execution_count": 103,
   "metadata": {},
   "outputs": [],
   "source": [
    "wordsCountW = Counter(wordsW)"
   ]
  },
  {
   "cell_type": "code",
   "execution_count": 104,
   "metadata": {},
   "outputs": [
    {
     "data": {
      "text/plain": [
       "[('的', 703716),\n",
       " ('n', 382020),\n",
       " ('在', 263597),\n",
       " ('月', 189330),\n",
       " ('日', 166300),\n",
       " ('新华社', 142462),\n",
       " ('和', 134061),\n",
       " ('年', 123106),\n",
       " ('了', 121938),\n",
       " ('是', 100909)]"
      ]
     },
     "execution_count": 104,
     "metadata": {},
     "output_type": "execute_result"
    }
   ],
   "source": [
    "wordsCountW.most_common(10)"
   ]
  },
  {
   "cell_type": "code",
   "execution_count": 105,
   "metadata": {},
   "outputs": [
    {
     "data": {
      "text/plain": [
       "17526086"
      ]
     },
     "execution_count": 105,
     "metadata": {},
     "output_type": "execute_result"
    }
   ],
   "source": [
    "frequenciesW = [count for word, count in wordsCountW.most_common(10)]\n",
    "len(wordsW)"
   ]
  },
  {
   "cell_type": "code",
   "execution_count": 54,
   "metadata": {},
   "outputs": [
    {
     "name": "stdout",
     "output_type": "stream",
     "text": [
      "1756\n",
      "0.00010017889006011475\n"
     ]
    }
   ],
   "source": [
    "def independentProbW(word):\n",
    "    return wordsCountW[word] / len(wordsW)\n",
    "print(wordsCountW[\"其实\"])\n",
    "print(independentProbW(\"其实\"))"
   ]
  },
  {
   "cell_type": "code",
   "execution_count": 55,
   "metadata": {},
   "outputs": [],
   "source": [
    "word2sW = [\"\".join(wordsW[i:i+2]) for i in range(len(wordsW[0:-1]))]\n",
    "word2CounterW = Counter(word2sW)"
   ]
  },
  {
   "cell_type": "code",
   "execution_count": null,
   "metadata": {},
   "outputs": [],
   "source": [
    "\n",
    "# TOKEN = [str(t) for t in TOKEN]\n",
    "# TOKEN_2_GRAM = [''.join(TOKEN[i:i+2]) for i in range(len(TOKEN[:-2]))]\n",
    "# def prob_1(word): return words_count[word] / len(TOKEN)\n",
    "# def prob_2(word1, word2):\n",
    "#     if word1 + word2 in words_count_2:\n",
    "#         return words_count_2[word1+word2] / len(TOKEN_2_GRAM)\n",
    "#     else:\n",
    "#         return 1 / len(TOKEN_2_GRAM)"
   ]
  },
  {
   "cell_type": "code",
   "execution_count": 56,
   "metadata": {},
   "outputs": [
    {
     "data": {
      "text/plain": [
       "17528642"
      ]
     },
     "execution_count": 56,
     "metadata": {},
     "output_type": "execute_result"
    }
   ],
   "source": [
    "word2sW[:10]\n",
    "len(word2sW)"
   ]
  },
  {
   "cell_type": "code",
   "execution_count": 131,
   "metadata": {},
   "outputs": [],
   "source": [
    "# 出现 word2 后出现 word1的概率\n",
    "def conditionProbW(word1, word2):\n",
    "#     return (word2CounterW[''.join([word1,word2])] + 1) / (wordsCountW[word2] + 1)\n",
    "    word_ = word1 + word2\n",
    "    if word_ in word2CounterW:\n",
    "#         return word2CounterW[word_] / len(word2CounterW)\n",
    "        return word2CounterW[word_] / wordsCountW[word2]\n",
    "    else :\n",
    "#         return 1 / len(word2CounterW)\n",
    "        return 1 / len(wordsCountW)\n"
   ]
  },
  {
   "cell_type": "code",
   "execution_count": 141,
   "metadata": {},
   "outputs": [
    {
     "name": "stdout",
     "output_type": "stream",
     "text": [
      "我们的\n",
      "的中国\n",
      "中国拥有\n",
      "拥有美丽\n",
      "美丽的\n",
      "的大地\n",
      "小明今天\n",
      "今天抽奖\n",
      "抽奖抽到\n",
      "抽到一架\n",
      "一架波音\n",
      "波音飞机\n"
     ]
    },
    {
     "data": {
      "text/plain": [
       "8.723827741529556e-30"
      ]
     },
     "execution_count": 141,
     "metadata": {},
     "output_type": "execute_result"
    }
   ],
   "source": [
    "def sentenceProbW(sentence):\n",
    "    sentenceWordsW = jieba.cut(sentence)\n",
    "    p = 1.0;\n",
    "    sentenceWordsW = [w for w in sentenceWordsW]\n",
    "    for i in range(len(sentenceWordsW) - 1):\n",
    "        print(sentenceWordsW[i] + sentenceWordsW[i+1])\n",
    "        p *= conditionProbW(sentenceWordsW[i], sentenceWordsW[i+1])\n",
    "    \n",
    "    p *= independentProbW(sentenceWordsW[-1])\n",
    "    return p\n",
    "        \n",
    "sentenceProbW(\"我们的中国拥有美丽的大地\")\n",
    "sentenceProbW(\"小明今天抽奖抽到一架波音飞机\")\n"
   ]
  },
  {
   "cell_type": "code",
   "execution_count": 138,
   "metadata": {},
   "outputs": [
    {
     "name": "stdout",
     "output_type": "stream",
     "text": [
      "明天晚上请你吃大餐，我们一起吃苹果 is more possible\n",
      "---- 今天晚上请你吃大餐，我们一起吃日料 with probility 1.5987608083974104e-45\n",
      "---- 明天晚上请你吃大餐，我们一起吃苹果 with probility 6.6892152223347666e-43\n",
      "明天晚上请你吃大餐，我们一起吃苹果 is more possible\n",
      "---- 明天晚上请你吃大餐，我们一起吃苹果 with probility 6.6892152223347666e-43\n",
      "---- 明天晚上请你吃大餐，我们一起吃小米 with probility 1.747897308407804e-46\n",
      "真是一只好看的小猫 is more possible\n",
      "---- 真事一只好看的小猫 with probility 3.0393657370775383e-27\n",
      "---- 真是一只好看的小猫 with probility 8.316646860022639e-22\n",
      "今晚我去吃火锅 is more possible\n",
      "---- 今晚我去吃火锅 with probility 1.741646625652248e-18\n",
      "---- 今晚火锅去吃我 with probility 1.4930931102957797e-20\n",
      "养乐多绿来一杯 is more possible\n",
      "---- 洋葱奶昔来一杯 with probility 7.620517528317306e-19\n",
      "---- 养乐多绿来一杯 with probility 7.163286476618268e-17\n"
     ]
    }
   ],
   "source": [
    "need_compared = [\n",
    "    \"今天晚上请你吃大餐，我们一起吃日料 明天晚上请你吃大餐，我们一起吃苹果\",\n",
    "    \"明天晚上请你吃大餐，我们一起吃苹果 明天晚上请你吃大餐，我们一起吃小米\",\n",
    "    \"真事一只好看的小猫 真是一只好看的小猫\",\n",
    "    \"今晚我去吃火锅 今晚火锅去吃我\",\n",
    "    \"洋葱奶昔来一杯 养乐多绿来一杯\"\n",
    "]\n",
    "\n",
    "for s in need_compared:\n",
    "    s1, s2 = s.split()\n",
    "    p1, p2 = sentenceProbW(s1), sentenceProbW(s2)\n",
    "    \n",
    "    better = s1 if p1 > p2 else s2\n",
    "    \n",
    "    print('{} is more possible'.format(better))\n",
    "    print('-'*4 + ' {} with probility {}'.format(s1, p1))\n",
    "    print('-'*4 + ' {} with probility {}'.format(s2, p2))"
   ]
  },
  {
   "cell_type": "code",
   "execution_count": 139,
   "metadata": {},
   "outputs": [
    {
     "name": "stdout",
     "output_type": "stream",
     "text": [
      "2\n",
      "286\n",
      "1103\n",
      "1.1411561029656023e-07\n",
      "6.293475907855296e-05\n",
      "3.6545566840014473e-06\n",
      "0.003626473254759746\n",
      "2529\n",
      "374\n",
      "0.0001442991892200004\n",
      "2.133961912545676e-05\n",
      "0.004780114722753346\n",
      "3.6545566840014473e-06\n",
      "1.9935084433948304e-15\n",
      "8.340839327163971e-13\n"
     ]
    }
   ],
   "source": [
    "print(wordsCountW[\"日料\"])\n",
    "print(wordsCountW[\"小米\"])\n",
    "print(wordsCountW[\"苹果\"])\n",
    "print(independentProbW(\"日料\"))\n",
    "print(independentProbW(\"苹果\"))\n",
    "print(conditionProbW(\"吃\",\"日料\"))\n",
    "print(conditionProbW(\"吃\",\"苹果\"))\n",
    "\n",
    "print(wordsCountW[\"今天\"])\n",
    "print(wordsCountW[\"明天\"])\n",
    "print(independentProbW(\"今天\"))\n",
    "print(independentProbW(\"明天\"))\n",
    "print(conditionProbW(\"今天\",\"晚上\"))\n",
    "print(conditionProbW(\"明天\",\"晚上\"))\n",
    "\n",
    "print(conditionProbW(\"吃\",\"日料\") * conditionProbW(\"今天\",\"晚上\") * independentProbW(\"日料\"))\n",
    "print(conditionProbW(\"吃\",\"苹果\") * conditionProbW(\"明天\",\"晚上\") * independentProbW(\"苹果\"))"
   ]
  },
  {
   "cell_type": "markdown",
   "metadata": {},
   "source": [
    "## 结论： 上课的时候，我还感觉这个数据集已经很大了，训练后这个模型应该很强大! 可是实践过后发现，这概率结果跟语料偏向某一知识领域有很大关系，导致这个方法很不准确，至少一阶概率模型是这样。\n",
    "## 但它还是有一些作用的，至少可以过滤掉好多不合理的句子。"
   ]
  },
  {
   "cell_type": "code",
   "execution_count": null,
   "metadata": {},
   "outputs": [],
   "source": []
  }
 ],
 "metadata": {
  "kernelspec": {
   "display_name": "Python 3",
   "language": "python",
   "name": "python3"
  },
  "language_info": {
   "codemirror_mode": {
    "name": "ipython",
    "version": 3
   },
   "file_extension": ".py",
   "mimetype": "text/x-python",
   "name": "python",
   "nbconvert_exporter": "python",
   "pygments_lexer": "ipython3",
   "version": "3.7.4"
  }
 },
 "nbformat": 4,
 "nbformat_minor": 4
}